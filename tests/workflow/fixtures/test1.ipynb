{
 "cells": [
  {
   "cell_type": "code",
   "execution_count": 1,
   "metadata": {
    "execution": {
     "iopub.execute_input": "2023-11-26T06:45:16.738655Z",
     "iopub.status.busy": "2023-11-26T06:45:16.738233Z",
     "iopub.status.idle": "2023-11-26T06:45:16.750141Z",
     "shell.execute_reply": "2023-11-26T06:45:16.749558Z"
    }
   },
   "outputs": [],
   "source": [
    "import time"
   ]
  },
  {
   "cell_type": "code",
   "execution_count": 2,
   "metadata": {
    "execution": {
     "iopub.execute_input": "2023-11-26T06:45:16.755287Z",
     "iopub.status.busy": "2023-11-26T06:45:16.754857Z",
     "iopub.status.idle": "2023-11-26T06:45:16.859681Z",
     "shell.execute_reply": "2023-11-26T06:45:16.858702Z"
    }
   },
   "outputs": [
    {
     "name": "stdout",
     "output_type": "stream",
     "text": [
      "Hello from test1\n"
     ]
    }
   ],
   "source": [
    "print('Hello from test1')\n",
    "time.sleep(0.1)"
   ]
  },
  {
   "cell_type": "code",
   "execution_count": 3,
   "metadata": {
    "execution": {
     "iopub.execute_input": "2023-11-26T06:45:16.919633Z",
     "iopub.status.busy": "2023-11-26T06:45:16.918988Z",
     "iopub.status.idle": "2023-11-26T06:45:16.924385Z",
     "shell.execute_reply": "2023-11-26T06:45:16.923304Z"
    }
   },
   "outputs": [
    {
     "name": "stdout",
     "output_type": "stream",
     "text": [
      "1.1\n"
     ]
    }
   ],
   "source": [
    "print(1+0.1)"
   ]
  },
  {
   "cell_type": "code",
   "execution_count": 4,
   "metadata": {
    "execution": {
     "iopub.execute_input": "2023-11-26T06:45:16.929518Z",
     "iopub.status.busy": "2023-11-26T06:45:16.929133Z",
     "iopub.status.idle": "2023-11-26T06:45:16.934149Z",
     "shell.execute_reply": "2023-11-26T06:45:16.933061Z"
    }
   },
   "outputs": [
    {
     "name": "stdout",
     "output_type": "stream",
     "text": [
      "28\n"
     ]
    }
   ],
   "source": [
    "print(2*14)"
   ]
  }
 ],
 "metadata": {
  "kernelspec": {
   "display_name": ".venv",
   "language": "python",
   "name": "python3"
  },
  "language_info": {
   "codemirror_mode": {
    "name": "ipython",
    "version": 3
   },
   "file_extension": ".py",
   "mimetype": "text/x-python",
   "name": "python",
   "nbconvert_exporter": "python",
   "pygments_lexer": "ipython3",
   "version": "3.11.2"
  }
 },
 "nbformat": 4,
 "nbformat_minor": 2
}
