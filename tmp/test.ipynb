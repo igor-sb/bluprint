{
 "cells": [
  {
   "cell_type": "markdown",
   "metadata": {},
   "source": [
    "Example notebook"
   ]
  },
  {
   "cell_type": "markdown",
   "metadata": {},
   "source": [
    "To do: DATA CONFIG BUILDER\n",
    "\n",
    "Walk through a folder, collecting all the files into a provided filename e.g. data.yaml.\n",
    "\n",
    "```sh\n",
    "bluprint index <dirname> <config.yaml>\n",
    "```"
   ]
  },
  {
   "cell_type": "code",
   "execution_count": 7,
   "metadata": {},
   "outputs": [],
   "source": [
    "import os\n",
    "from pathlib import Path\n",
    "from omegaconf import OmegaConf"
   ]
  },
  {
   "cell_type": "code",
   "execution_count": 10,
   "metadata": {},
   "outputs": [
    {
     "name": "stdout",
     "output_type": "stream",
     "text": [
      "Root: ../demo/\n",
      "Dirs: ['data', 'project', 'conf', 'notebooks']\n",
      "- File: ../demo/.gitignore\n",
      "Root: ../demo/data\n",
      "Dirs: []\n",
      "- File: ../demo/data/example_data.csv\n",
      "Root: ../demo/project\n",
      "Dirs: []\n",
      "- File: ../demo/project/example.py\n",
      "Root: ../demo/conf\n",
      "Dirs: []\n",
      "- File: ../demo/conf/workflow.yaml\n",
      "- File: ../demo/conf/config.yaml\n",
      "Root: ../demo/notebooks\n",
      "Dirs: []\n",
      "- File: ../demo/notebooks/example_notebook.ipynb\n"
     ]
    }
   ],
   "source": [
    "cfg = {}\n",
    "\n",
    "for root, dirs, files in os.walk('../demo/'):\n",
    "\tprint(f'Root: {root}')\n",
    "\tprint(f'Dirs: {dirs}')\n",
    "\tfor file in files:\n",
    "\t\tfile_path = Path(root) / file\n",
    "\t\tprint(f'- File: {file_path}')"
   ]
  }
 ],
 "metadata": {
  "kernelspec": {
   "display_name": "bluprint-YlnStUWz-py3.11",
   "language": "python",
   "name": "python3"
  },
  "language_info": {
   "codemirror_mode": {
    "name": "ipython",
    "version": 3
   },
   "file_extension": ".py",
   "mimetype": "text/x-python",
   "name": "python",
   "nbconvert_exporter": "python",
   "pygments_lexer": "ipython3",
   "version": "3.11.2"
  }
 },
 "nbformat": 4,
 "nbformat_minor": 2
}
