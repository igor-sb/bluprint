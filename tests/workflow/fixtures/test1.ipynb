{
 "cells": [
  {
   "cell_type": "code",
   "execution_count": 1,
   "metadata": {
    "execution": {
     "iopub.execute_input": "2024-01-02T05:47:23.836219Z",
     "iopub.status.busy": "2024-01-02T05:47:23.835717Z",
     "iopub.status.idle": "2024-01-02T05:47:23.847219Z",
     "shell.execute_reply": "2024-01-02T05:47:23.846119Z"
    }
   },
   "outputs": [],
   "source": [
    "import time"
   ]
  },
  {
   "cell_type": "code",
   "execution_count": 2,
   "metadata": {
    "execution": {
     "iopub.execute_input": "2024-01-02T05:47:23.850566Z",
     "iopub.status.busy": "2024-01-02T05:47:23.850060Z",
     "iopub.status.idle": "2024-01-02T05:47:23.954881Z",
     "shell.execute_reply": "2024-01-02T05:47:23.953856Z"
    }
   },
   "outputs": [
    {
     "name": "stdout",
     "output_type": "stream",
     "text": [
      "Hello from test1\n"
     ]
    }
   ],
   "source": [
    "print('Hello from test1')\n",
    "time.sleep(0.1)"
   ]
  },
  {
   "cell_type": "code",
   "execution_count": 3,
   "metadata": {
    "execution": {
     "iopub.execute_input": "2024-01-02T05:47:23.998460Z",
     "iopub.status.busy": "2024-01-02T05:47:23.997882Z",
     "iopub.status.idle": "2024-01-02T05:47:24.003030Z",
     "shell.execute_reply": "2024-01-02T05:47:24.002004Z"
    }
   },
   "outputs": [
    {
     "name": "stdout",
     "output_type": "stream",
     "text": [
      "1.1\n"
     ]
    }
   ],
   "source": [
    "print(1+0.1)"
   ]
  },
  {
   "cell_type": "code",
   "execution_count": 4,
   "metadata": {
    "execution": {
     "iopub.execute_input": "2024-01-02T05:47:24.006030Z",
     "iopub.status.busy": "2024-01-02T05:47:24.005576Z",
     "iopub.status.idle": "2024-01-02T05:47:24.010617Z",
     "shell.execute_reply": "2024-01-02T05:47:24.009564Z"
    }
   },
   "outputs": [
    {
     "name": "stdout",
     "output_type": "stream",
     "text": [
      "28\n"
     ]
    }
   ],
   "source": [
    "print(2*14)"
   ]
  }
 ],
 "metadata": {
  "kernelspec": {
   "display_name": ".venv",
   "language": "python",
   "name": "python3"
  },
  "language_info": {
   "codemirror_mode": {
    "name": "ipython",
    "version": 3
   },
   "file_extension": ".py",
   "mimetype": "text/x-python",
   "name": "python",
   "nbconvert_exporter": "python",
   "pygments_lexer": "ipython3",
   "version": "3.11.2"
  }
 },
 "nbformat": 4,
 "nbformat_minor": 2
}
