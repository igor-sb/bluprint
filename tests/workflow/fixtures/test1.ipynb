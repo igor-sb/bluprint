{
 "cells": [
  {
   "cell_type": "code",
   "execution_count": 1,
   "metadata": {
    "execution": {
     "iopub.execute_input": "2024-08-29T20:39:56.519216Z",
     "iopub.status.busy": "2024-08-29T20:39:56.518672Z",
     "iopub.status.idle": "2024-08-29T20:39:56.527706Z",
     "shell.execute_reply": "2024-08-29T20:39:56.526665Z"
    }
   },
   "outputs": [],
   "source": [
    "import time"
   ]
  },
  {
   "cell_type": "code",
   "execution_count": 2,
   "metadata": {
    "execution": {
     "iopub.execute_input": "2024-08-29T20:39:56.532821Z",
     "iopub.status.busy": "2024-08-29T20:39:56.532286Z",
     "iopub.status.idle": "2024-08-29T20:39:56.637369Z",
     "shell.execute_reply": "2024-08-29T20:39:56.636265Z"
    }
   },
   "outputs": [
    {
     "name": "stdout",
     "output_type": "stream",
     "text": [
      "Hello from test1\n"
     ]
    }
   ],
   "source": [
    "print('Hello from test1')\n",
    "time.sleep(0.1)"
   ]
  },
  {
   "cell_type": "code",
   "execution_count": 3,
   "metadata": {
    "execution": {
     "iopub.execute_input": "2024-08-29T20:39:56.701398Z",
     "iopub.status.busy": "2024-08-29T20:39:56.701006Z",
     "iopub.status.idle": "2024-08-29T20:39:56.706220Z",
     "shell.execute_reply": "2024-08-29T20:39:56.705076Z"
    }
   },
   "outputs": [
    {
     "name": "stdout",
     "output_type": "stream",
     "text": [
      "1.1\n"
     ]
    }
   ],
   "source": [
    "print(1+0.1)"
   ]
  },
  {
   "cell_type": "code",
   "execution_count": 4,
   "metadata": {
    "execution": {
     "iopub.execute_input": "2024-08-29T20:39:56.710643Z",
     "iopub.status.busy": "2024-08-29T20:39:56.710125Z",
     "iopub.status.idle": "2024-08-29T20:39:56.715201Z",
     "shell.execute_reply": "2024-08-29T20:39:56.714143Z"
    }
   },
   "outputs": [
    {
     "name": "stdout",
     "output_type": "stream",
     "text": [
      "28\n"
     ]
    }
   ],
   "source": [
    "print(2*14)"
   ]
  }
 ],
 "metadata": {
  "kernelspec": {
   "display_name": ".venv",
   "language": "python",
   "name": "python3"
  },
  "language_info": {
   "codemirror_mode": {
    "name": "ipython",
    "version": 3
   },
   "file_extension": ".py",
   "mimetype": "text/x-python",
   "name": "python",
   "nbconvert_exporter": "python",
   "pygments_lexer": "ipython3",
   "version": "3.11.9"
  }
 },
 "nbformat": 4,
 "nbformat_minor": 2
}
