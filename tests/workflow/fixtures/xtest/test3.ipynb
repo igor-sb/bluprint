{
 "cells": [
  {
   "cell_type": "code",
   "execution_count": 1,
   "metadata": {
    "execution": {
     "iopub.execute_input": "2023-11-24T23:05:07.879803Z",
     "iopub.status.busy": "2023-11-24T23:05:07.879333Z",
     "iopub.status.idle": "2023-11-24T23:05:07.890159Z",
     "shell.execute_reply": "2023-11-24T23:05:07.888982Z"
    }
   },
   "outputs": [
    {
     "name": "stdout",
     "output_type": "stream",
     "text": [
      "Hello from test3!\n"
     ]
    }
   ],
   "source": [
    "print('Hello from test3!')"
   ]
  },
  {
   "cell_type": "code",
   "execution_count": 2,
   "metadata": {
    "execution": {
     "iopub.execute_input": "2023-11-24T23:05:07.936898Z",
     "iopub.status.busy": "2023-11-24T23:05:07.936430Z",
     "iopub.status.idle": "2023-11-24T23:05:07.941361Z",
     "shell.execute_reply": "2023-11-24T23:05:07.940369Z"
    }
   },
   "outputs": [
    {
     "name": "stdout",
     "output_type": "stream",
     "text": [
      "Hello again!\n"
     ]
    }
   ],
   "source": [
    "print('Hello again!')"
   ]
  }
 ],
 "metadata": {
  "kernelspec": {
   "display_name": ".venv",
   "language": "python",
   "name": "python3"
  },
  "language_info": {
   "codemirror_mode": {
    "name": "ipython",
    "version": 3
   },
   "file_extension": ".py",
   "mimetype": "text/x-python",
   "name": "python",
   "nbconvert_exporter": "python",
   "pygments_lexer": "ipython3",
   "version": "3.11.2"
  }
 },
 "nbformat": 4,
 "nbformat_minor": 2
}
