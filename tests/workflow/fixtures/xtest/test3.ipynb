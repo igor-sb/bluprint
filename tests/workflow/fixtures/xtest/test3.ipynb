{
 "cells": [
  {
   "cell_type": "code",
   "execution_count": 1,
   "metadata": {
    "execution": {
     "iopub.execute_input": "2024-08-24T00:23:25.202662Z",
     "iopub.status.busy": "2024-08-24T00:23:25.202184Z",
     "iopub.status.idle": "2024-08-24T00:23:25.210804Z",
     "shell.execute_reply": "2024-08-24T00:23:25.209884Z"
    }
   },
   "outputs": [
    {
     "name": "stdout",
     "output_type": "stream",
     "text": [
      "Hello from test3!\n"
     ]
    }
   ],
   "source": [
    "print('Hello from test3!')"
   ]
  },
  {
   "cell_type": "code",
   "execution_count": 2,
   "metadata": {
    "execution": {
     "iopub.execute_input": "2024-08-24T00:23:25.215120Z",
     "iopub.status.busy": "2024-08-24T00:23:25.214809Z",
     "iopub.status.idle": "2024-08-24T00:23:25.219201Z",
     "shell.execute_reply": "2024-08-24T00:23:25.218116Z"
    }
   },
   "outputs": [
    {
     "name": "stdout",
     "output_type": "stream",
     "text": [
      "Hello again!\n"
     ]
    }
   ],
   "source": [
    "print('Hello again!')"
   ]
  }
 ],
 "metadata": {
  "kernelspec": {
   "display_name": ".venv",
   "language": "python",
   "name": "python3"
  },
  "language_info": {
   "codemirror_mode": {
    "name": "ipython",
    "version": 3
   },
   "file_extension": ".py",
   "mimetype": "text/x-python",
   "name": "python",
   "nbconvert_exporter": "python",
   "pygments_lexer": "ipython3",
   "version": "3.11.9"
  }
 },
 "nbformat": 4,
 "nbformat_minor": 2
}
