{
 "cells": [
  {
   "cell_type": "markdown",
   "metadata": {},
   "source": [
    "Example notebook"
   ]
  },
  {
   "cell_type": "code",
   "execution_count": 1,
   "metadata": {},
   "outputs": [
    {
     "data": {
      "text/plain": [
       "{'groups': {'g1': {'opt11': 1, 'opt12': 'a'}, 'opt2': '/b/', 'opt3': ['c', 'd']}, 'list': ['1', '2', {'3': ['/a/3a', '3b/3b2', '3c', 's3://example-bucket/path/to/object']}]}"
      ]
     },
     "execution_count": 1,
     "metadata": {},
     "output_type": "execute_result"
    }
   ],
   "source": [
    "from omegaconf import OmegaConf\n",
    "from bluprint.config import add_prefix_to_nested_config, load_config_yaml, load_data_yaml\n",
    "from pprint import PrettyPrinter\n",
    "from importlib import resources\n",
    "from pathlib import Path, PurePath\n",
    "\n",
    "pp = PrettyPrinter(indent=4)\n",
    "\n",
    "test_conf = load_config_yaml('test.yaml', config_dir='tests/yaml/fixtures')\n",
    "test_conf"
   ]
  },
  {
   "cell_type": "code",
   "execution_count": 2,
   "metadata": {},
   "outputs": [],
   "source": [
    "def contains_uri_advanced(input_string):\n",
    "    # Use urlparse to check if the string contains a valid URI\n",
    "    try:\n",
    "        result = urlparse(input_string)\n",
    "        return all([result.scheme, result.netloc])\n",
    "    except ValueError:\n",
    "        return False"
   ]
  },
  {
   "cell_type": "code",
   "execution_count": 3,
   "metadata": {},
   "outputs": [
    {
     "data": {
      "text/plain": [
       "{'groups': {'g1': {'opt11': '/xyz/1', 'opt12': '/xyz/a'}, 'opt2': '/b/', 'opt3': ['/xyz/c', '/xyz/d']}, 'list': ['/xyz/1', '/xyz/2', {'3': ['/a/3a', '/xyz/3b/3b2', '/xyz/3c', 's3://example-bucket/path/to/object']}]}"
      ]
     },
     "execution_count": 3,
     "metadata": {},
     "output_type": "execute_result"
    }
   ],
   "source": [
    "x = add_prefix_to_nested_config(test_conf, '/xyz/')\n",
    "x"
   ]
  },
  {
   "cell_type": "code",
   "execution_count": 4,
   "metadata": {},
   "outputs": [
    {
     "name": "stdout",
     "output_type": "stream",
     "text": [
      "{   'groups': {'g1': {'opt11': '/xyz/1', 'opt12': '/xyz/a'}, 'opt2': '/b/', 'opt3': ['/xyz/c', '/xyz/d']},\n",
      "    'list': ['/xyz/1', '/xyz/2', {'3': ['/a/3a', '/xyz/3b/3b2', '/xyz/3c', 's3://example-bucket/path/to/object']}]}\n"
     ]
    }
   ],
   "source": [
    "pp.pprint(dict(x))"
   ]
  },
  {
   "cell_type": "code",
   "execution_count": 5,
   "metadata": {},
   "outputs": [
    {
     "data": {
      "text/plain": [
       "ParseResult(scheme='https', netloc='example.com', path='', params='', query='', fragment='')"
      ]
     },
     "execution_count": 5,
     "metadata": {},
     "output_type": "execute_result"
    }
   ],
   "source": [
    "from urllib.parse import urlparse\n",
    "\n",
    "urlparse('https://example.com')"
   ]
  },
  {
   "cell_type": "code",
   "execution_count": 6,
   "metadata": {},
   "outputs": [
    {
     "data": {
      "text/plain": [
       "ParseResult(scheme='file', netloc='example.com', path='', params='', query='', fragment='')"
      ]
     },
     "execution_count": 6,
     "metadata": {},
     "output_type": "execute_result"
    }
   ],
   "source": [
    "urlparse('file://example.com')"
   ]
  },
  {
   "cell_type": "code",
   "execution_count": 7,
   "metadata": {},
   "outputs": [
    {
     "data": {
      "text/plain": [
       "'/home/igor/repos/bluprint/tests'"
      ]
     },
     "execution_count": 7,
     "metadata": {},
     "output_type": "execute_result"
    }
   ],
   "source": [
    "str(resources.files('tests').joinpath(''))"
   ]
  },
  {
   "cell_type": "code",
   "execution_count": 13,
   "metadata": {},
   "outputs": [
    {
     "data": {
      "text/plain": [
       "PosixPath('tests')"
      ]
     },
     "execution_count": 13,
     "metadata": {},
     "output_type": "execute_result"
    }
   ],
   "source": [
    "Path(Path('tests'))"
   ]
  },
  {
   "cell_type": "code",
   "execution_count": 17,
   "metadata": {},
   "outputs": [],
   "source": [
    "x = (1, 2, 3)"
   ]
  },
  {
   "cell_type": "code",
   "execution_count": 20,
   "metadata": {},
   "outputs": [
    {
     "data": {
      "text/plain": [
       "tuple"
      ]
     },
     "execution_count": 20,
     "metadata": {},
     "output_type": "execute_result"
    }
   ],
   "source": [
    "type((*x, 4))"
   ]
  },
  {
   "cell_type": "code",
   "execution_count": 9,
   "metadata": {},
   "outputs": [
    {
     "data": {
      "text/plain": [
       "{'groups': {'g1': {'opt11': '/home/igor/repos/bluprint/tests/1', 'opt12': '/home/igor/repos/bluprint/tests/a'}, 'opt2': '/b/', 'opt3': ['/home/igor/repos/bluprint/tests/c', '/home/igor/repos/bluprint/tests/d']}, 'list': ['/home/igor/repos/bluprint/tests/1', '/home/igor/repos/bluprint/tests/2', {'3': ['/a/3a', '/home/igor/repos/bluprint/tests/3b/3b2', '/home/igor/repos/bluprint/tests/3c', 's3://example-bucket/path/to/object']}]}"
      ]
     },
     "execution_count": 9,
     "metadata": {},
     "output_type": "execute_result"
    }
   ],
   "source": [
    "load_data_yaml(\n",
    "        'test.yaml',\n",
    "        config_dir=Path('tests') / 'yaml' / 'fixtures',\n",
    "        data_dir='tests',\n",
    "    )"
   ]
  },
  {
   "cell_type": "code",
   "execution_count": 10,
   "metadata": {},
   "outputs": [],
   "source": [
    " x = load_config_yaml(\n",
    "        'prefixed_test.yaml',\n",
    "        config_dir=Path('tests') / 'yaml' / 'snapshots',\n",
    "    )"
   ]
  },
  {
   "cell_type": "code",
   "execution_count": 11,
   "metadata": {},
   "outputs": [
    {
     "data": {
      "text/plain": [
       "dict"
      ]
     },
     "execution_count": 11,
     "metadata": {},
     "output_type": "execute_result"
    }
   ],
   "source": [
    "type(dict(x))\n"
   ]
  },
  {
   "cell_type": "code",
   "execution_count": 22,
   "metadata": {},
   "outputs": [
    {
     "data": {
      "text/plain": [
       "PosixPath('/home/igor/repos/bluprint/demo')"
      ]
     },
     "execution_count": 22,
     "metadata": {},
     "output_type": "execute_result"
    }
   ],
   "source": [
    "Path(resources.files('demo').joinpath(''))"
   ]
  }
 ],
 "metadata": {
  "kernelspec": {
   "display_name": "bluprint-YlnStUWz-py3.11",
   "language": "python",
   "name": "python3"
  },
  "language_info": {
   "codemirror_mode": {
    "name": "ipython",
    "version": 3
   },
   "file_extension": ".py",
   "mimetype": "text/x-python",
   "name": "python",
   "nbconvert_exporter": "python",
   "pygments_lexer": "ipython3",
   "version": "3.11.2"
  }
 },
 "nbformat": 4,
 "nbformat_minor": 2
}
