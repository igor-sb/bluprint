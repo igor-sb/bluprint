{
 "cells": [
  {
   "cell_type": "code",
   "execution_count": 1,
   "metadata": {
    "execution": {
     "iopub.execute_input": "2023-12-04T07:14:23.183621Z",
     "iopub.status.busy": "2023-12-04T07:14:23.183250Z",
     "iopub.status.idle": "2023-12-04T07:14:23.191312Z",
     "shell.execute_reply": "2023-12-04T07:14:23.190342Z"
    }
   },
   "outputs": [],
   "source": [
    "import time"
   ]
  },
  {
   "cell_type": "code",
   "execution_count": 2,
   "metadata": {
    "execution": {
     "iopub.execute_input": "2023-12-04T07:14:23.195234Z",
     "iopub.status.busy": "2023-12-04T07:14:23.194779Z",
     "iopub.status.idle": "2023-12-04T07:14:23.300191Z",
     "shell.execute_reply": "2023-12-04T07:14:23.298847Z"
    }
   },
   "outputs": [
    {
     "name": "stdout",
     "output_type": "stream",
     "text": [
      "Hello from test1\n"
     ]
    }
   ],
   "source": [
    "print('Hello from test1')\n",
    "time.sleep(0.1)"
   ]
  },
  {
   "cell_type": "code",
   "execution_count": 3,
   "metadata": {
    "execution": {
     "iopub.execute_input": "2023-12-04T07:14:23.355982Z",
     "iopub.status.busy": "2023-12-04T07:14:23.355495Z",
     "iopub.status.idle": "2023-12-04T07:14:23.360558Z",
     "shell.execute_reply": "2023-12-04T07:14:23.359423Z"
    }
   },
   "outputs": [
    {
     "name": "stdout",
     "output_type": "stream",
     "text": [
      "1.1\n"
     ]
    }
   ],
   "source": [
    "print(1+0.1)"
   ]
  },
  {
   "cell_type": "code",
   "execution_count": 4,
   "metadata": {
    "execution": {
     "iopub.execute_input": "2023-12-04T07:14:23.365174Z",
     "iopub.status.busy": "2023-12-04T07:14:23.364543Z",
     "iopub.status.idle": "2023-12-04T07:14:23.369710Z",
     "shell.execute_reply": "2023-12-04T07:14:23.368565Z"
    }
   },
   "outputs": [
    {
     "name": "stdout",
     "output_type": "stream",
     "text": [
      "28\n"
     ]
    }
   ],
   "source": [
    "print(2*14)"
   ]
  }
 ],
 "metadata": {
  "kernelspec": {
   "display_name": ".venv",
   "language": "python",
   "name": "python3"
  },
  "language_info": {
   "codemirror_mode": {
    "name": "ipython",
    "version": 3
   },
   "file_extension": ".py",
   "mimetype": "text/x-python",
   "name": "python",
   "nbconvert_exporter": "python",
   "pygments_lexer": "ipython3",
   "version": "3.11.6"
  }
 },
 "nbformat": 4,
 "nbformat_minor": 2
}
