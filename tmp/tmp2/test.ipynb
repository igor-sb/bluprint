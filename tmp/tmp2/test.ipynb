{
 "cells": [
  {
   "cell_type": "markdown",
   "metadata": {},
   "source": [
    "Example notebook"
   ]
  },
  {
   "cell_type": "code",
   "execution_count": 6,
   "metadata": {},
   "outputs": [],
   "source": [
    "import pathlib\n",
    "import tempfile\n",
    "import importlib\n",
    "import shutil\n",
    "import pytest\n",
    "from unittest.mock import MagicMock, Mock, patch"
   ]
  },
  {
   "cell_type": "code",
   "execution_count": 1,
   "metadata": {},
   "outputs": [],
   "source": [
    "from bluprint.demo import copy_demo_files"
   ]
  },
  {
   "cell_type": "code",
   "execution_count": 11,
   "metadata": {},
   "outputs": [
    {
     "name": "stdout",
     "output_type": "stream",
     "text": [
      "*\n",
      "/Users/igor/repos/bluprint/data/a_and_b/a_and_b_transformed.csv\n",
      " dirs: []\n",
      " filename: a_and_b_transformed.csv\n",
      "/Users/igor/repos/bluprint/data/a_and_b/a_and_b_raw.csv\n",
      " dirs: []\n",
      " filename: a_and_b_raw.csv\n",
      "/Users/igor/repos/bluprint/data/a_and_b/a_and_b_summarized.csv\n",
      " dirs: []\n",
      " filename: a_and_b_summarized.csv\n",
      "*\n",
      "/Users/igor/repos/bluprint/data/transformed/table2.csv\n",
      " dirs: []\n",
      " filename: table2.csv\n",
      "*\n",
      "/Users/igor/repos/bluprint/data/raw/table1.csv\n",
      " dirs: []\n",
      " filename: table1.csv\n"
     ]
    }
   ],
   "source": [
    "\n",
    "for root, dirs, files in os.walk(data_files.joinpath('')):\n",
    "    if files:\n",
    "        print('*')\n",
    "        for filename in files:\n",
    "            print(os.path.join(root, filename))\n",
    "            print(f' dirs: {dirs}')\n",
    "            print(f' filename: {filename}')"
   ]
  },
  {
   "cell_type": "code",
   "execution_count": 1,
   "metadata": {},
   "outputs": [],
   "source": [
    "import logging\n",
    "\n",
    "# logging.basicConfig()"
   ]
  },
  {
   "cell_type": "code",
   "execution_count": 4,
   "metadata": {},
   "outputs": [],
   "source": [
    "import yaml"
   ]
  },
  {
   "cell_type": "code",
   "execution_count": 5,
   "metadata": {},
   "outputs": [],
   "source": [
    "with open('workflows.yaml') as yaml_file:\n",
    "\tx = yaml.safe_load(yaml_file)"
   ]
  },
  {
   "cell_type": "code",
   "execution_count": 6,
   "metadata": {},
   "outputs": [
    {
     "data": {
      "text/plain": [
       "{'test_workflow': ['test1.ipynb',\n",
       "  'test2.ipynb',\n",
       "  'samtools view somefile.bam\\n'],\n",
       " 'xtest_workflow': ['xtest1.ipynb', 'xtest2.ipynb']}"
      ]
     },
     "execution_count": 6,
     "metadata": {},
     "output_type": "execute_result"
    }
   ],
   "source": [
    "x"
   ]
  },
  {
   "cell_type": "code",
   "execution_count": 3,
   "metadata": {},
   "outputs": [],
   "source": [
    "logging.info('Workflow run: test_workflow')\n",
    "logging.info('- test1 (ipynb)')"
   ]
  },
  {
   "cell_type": "code",
   "execution_count": 1,
   "metadata": {},
   "outputs": [
    {
     "data": {
      "text/plain": [
       "{'test_workflow': ['/home/igor/repos/bluprint/tmp/tmp2/test1.ipynb', '/home/igor/repos/bluprint/tmp/tmp2/test2.ipynb'], 'xtest_workflow': ['/home/igor/repos/bluprint/tmp/tmp2/xtest1.ipynb', '/home/igor/repos/bluprint/tmp/tmp2/xtest2.ipynb']}"
      ]
     },
     "execution_count": 1,
     "metadata": {},
     "output_type": "execute_result"
    }
   ],
   "source": [
    "from bluprint.config import load_workflow_yaml\n",
    "\n",
    "workflow = load_workflow_yaml(config_dir='tmp.tmp2', notebook_dir='tmp.tmp2')\n",
    "workflow"
   ]
  },
  {
   "cell_type": "code",
   "execution_count": 2,
   "metadata": {},
   "outputs": [
    {
     "data": {
      "text/plain": [
       "{'test_workflow': \"/home/igor/repos/bluprint/tmp/tmp2['test1.ipynb', 'test2.ipynb']\", 'xtest_workflow': \"/home/igor/repos/bluprint/tmp/tmp2['xtest1.ipynb', 'xtest2.ipynb']\"}"
      ]
     },
     "execution_count": 2,
     "metadata": {},
     "output_type": "execute_result"
    }
   ],
   "source": []
  },
  {
   "cell_type": "code",
   "execution_count": 60,
   "metadata": {},
   "outputs": [
    {
     "name": "stdout",
     "output_type": "stream",
     "text": [
      "Error executing cell: \n",
      "Error executing cell: \n",
      "Error executing cell: \n"
     ]
    }
   ],
   "source": [
    "import nbformat\n",
    "from nbconvert.preprocessors import ExecutePreprocessor\n",
    "\n",
    "with open(workflow['test_workflow'][0], 'r') as f:\n",
    "    notebook = nbformat.read(f, as_version=4)\n",
    "\n",
    "# Create an ExecutePreprocessor\n",
    "executor = ExecutePreprocessor(timeout=-1, kernel_name='python3')  # Set timeout to -1 for no timeout\n",
    "\n",
    "for i, cell in enumerate(notebook['cells']):\n",
    "    if cell['cell_type'] == 'code':\n",
    "        # Execute code cells\n",
    "        try:\n",
    "            out = executor.preprocess_cell(cell, {'metadata': {'path': '.'}}, i)\n",
    "        except Exception as e:\n",
    "            print(f\"Error executing cell: {e}\")\n",
    "\n",
    "\n"
   ]
  },
  {
   "cell_type": "code",
   "execution_count": 61,
   "metadata": {},
   "outputs": [
    {
     "data": {
      "text/plain": [
       "{}"
      ]
     },
     "execution_count": 61,
     "metadata": {},
     "output_type": "execute_result"
    }
   ],
   "source": [
    "executor.nb"
   ]
  },
  {
   "cell_type": "code",
   "execution_count": 57,
   "metadata": {},
   "outputs": [],
   "source": [
    "executor = ExecutePreprocessor(timeout=-1, kernel_name='python3')"
   ]
  },
  {
   "cell_type": "code",
   "execution_count": 70,
   "metadata": {},
   "outputs": [
    {
     "ename": "ModuleNotFoundError",
     "evalue": "No module named 'tdqm'",
     "output_type": "error",
     "traceback": [
      "\u001b[0;31m---------------------------------------------------------------------------\u001b[0m",
      "\u001b[0;31mModuleNotFoundError\u001b[0m                       Traceback (most recent call last)",
      "\u001b[1;32m/home/igor/repos/bluprint/tmp/tmp2/test.ipynb Cell 15\u001b[0m line \u001b[0;36m5\n\u001b[1;32m      <a href='vscode-notebook-cell://wsl%2Bubuntu-20.04/home/igor/repos/bluprint/tmp/tmp2/test.ipynb#X45sdnNjb2RlLXJlbW90ZQ%3D%3D?line=2'>3</a>\u001b[0m \u001b[39mfrom\u001b[39;00m \u001b[39mjupyter_client\u001b[39;00m\u001b[39m.\u001b[39;00m\u001b[39mmanager\u001b[39;00m \u001b[39mimport\u001b[39;00m KernelManager\n\u001b[1;32m      <a href='vscode-notebook-cell://wsl%2Bubuntu-20.04/home/igor/repos/bluprint/tmp/tmp2/test.ipynb#X45sdnNjb2RlLXJlbW90ZQ%3D%3D?line=3'>4</a>\u001b[0m \u001b[39mimport\u001b[39;00m \u001b[39mtyping\u001b[39;00m \u001b[39mas\u001b[39;00m \u001b[39mt\u001b[39;00m\n\u001b[0;32m----> <a href='vscode-notebook-cell://wsl%2Bubuntu-20.04/home/igor/repos/bluprint/tmp/tmp2/test.ipynb#X45sdnNjb2RlLXJlbW90ZQ%3D%3D?line=4'>5</a>\u001b[0m \u001b[39mfrom\u001b[39;00m \u001b[39mtdqm\u001b[39;00m \u001b[39mimport\u001b[39;00m tdqm\n",
      "\u001b[0;31mModuleNotFoundError\u001b[0m: No module named 'tdqm'"
     ]
    }
   ],
   "source": [
    "from nbclient import NotebookClient\n",
    "from nbformat import NotebookNode\n",
    "from jupyter_client.manager import KernelManager\n",
    "import typing as t\n",
    "from tdqm import tdqm"
   ]
  },
  {
   "cell_type": "code",
   "execution_count": 67,
   "metadata": {},
   "outputs": [],
   "source": [
    "class NotebookExecutor(ExecutePreprocessor):\n",
    "      \n",
    "    def run_all_cells(self, nb: NotebookNode, resources: t.Any = None, km: KernelManager | None = None\n",
    "    ) -> tuple[NotebookNode, dict[str, t.Any]]:\n",
    "        NotebookClient.__init__(self, nb, km)\n",
    "        self.reset_execution_trackers()\n",
    "        self._check_assign_resources(resources)\n",
    "\n",
    "        with self.setup_kernel():\n",
    "            assert self.kc  # noqa\n",
    "            info_msg = self.wait_for_reply(self.kc.kernel_info())\n",
    "            assert info_msg  # noqa\n",
    "            self.nb.metadata[\"language_info\"] = info_msg[\"content\"][\"language_info\"]\n",
    "            for index, cell in enumerate(self.nb.cells):\n",
    "                self.preprocess_cell(cell, resources, index)\n",
    "        self.set_widgets_metadata()\n",
    "\n",
    "        return self.nb, self.resources"
   ]
  },
  {
   "cell_type": "code",
   "execution_count": 68,
   "metadata": {},
   "outputs": [],
   "source": [
    "executor = NotebookExecutor(timeout=-1, kernel_name='python3')"
   ]
  },
  {
   "cell_type": "code",
   "execution_count": 69,
   "metadata": {},
   "outputs": [
    {
     "name": "stderr",
     "output_type": "stream",
     "text": [
      "0.00s - Debugger warning: It seems that frozen modules are being used, which may\n",
      "0.00s - make the debugger miss breakpoints. Please pass -Xfrozen_modules=off\n",
      "0.00s - to python to disable frozen modules.\n",
      "0.00s - Note: Debugging will proceed. Set PYDEVD_DISABLE_FILE_VALIDATION=1 to disable this validation.\n"
     ]
    },
    {
     "data": {
      "text/plain": [
       "({'cells': [{'cell_type': 'code',\n",
       "    'execution_count': 1,\n",
       "    'metadata': {'execution': {'iopub.status.busy': '2023-11-20T07:12:43.657475Z',\n",
       "      'iopub.execute_input': '2023-11-20T07:12:43.658757Z',\n",
       "      'shell.execute_reply': '2023-11-20T07:12:43.668354Z',\n",
       "      'iopub.status.idle': '2023-11-20T07:12:43.669510Z'}},\n",
       "    'outputs': [{'output_type': 'stream',\n",
       "      'name': 'stdout',\n",
       "      'text': 'Hello from test1\\n'}],\n",
       "    'source': \"print('Hello from test1')\"},\n",
       "   {'cell_type': 'code',\n",
       "    'execution_count': 2,\n",
       "    'metadata': {'execution': {'iopub.status.busy': '2023-11-20T07:12:43.673183Z',\n",
       "      'iopub.execute_input': '2023-11-20T07:12:43.673505Z',\n",
       "      'shell.execute_reply': '2023-11-20T07:12:43.677137Z',\n",
       "      'iopub.status.idle': '2023-11-20T07:12:43.678436Z'}},\n",
       "    'outputs': [{'output_type': 'stream', 'name': 'stdout', 'text': '1.1\\n'}],\n",
       "    'source': 'print(1+0.1)'},\n",
       "   {'cell_type': 'code',\n",
       "    'execution_count': 3,\n",
       "    'metadata': {'execution': {'iopub.status.busy': '2023-11-20T07:12:43.681813Z',\n",
       "      'iopub.execute_input': '2023-11-20T07:12:43.682254Z',\n",
       "      'iopub.status.idle': '2023-11-20T07:12:43.687445Z',\n",
       "      'shell.execute_reply': '2023-11-20T07:12:43.686330Z'}},\n",
       "    'outputs': [{'output_type': 'stream', 'name': 'stdout', 'text': '28\\n'}],\n",
       "    'source': 'print(2*14)'}],\n",
       "  'metadata': {'kernelspec': {'display_name': '.venv',\n",
       "    'language': 'python',\n",
       "    'name': 'python3'},\n",
       "   'language_info': {'name': 'python',\n",
       "    'version': '3.11.2',\n",
       "    'mimetype': 'text/x-python',\n",
       "    'codemirror_mode': {'name': 'ipython', 'version': 3},\n",
       "    'pygments_lexer': 'ipython3',\n",
       "    'nbconvert_exporter': 'python',\n",
       "    'file_extension': '.py'}},\n",
       "  'nbformat': 4,\n",
       "  'nbformat_minor': 2},\n",
       " {'metadata': {'path': '.'}})"
      ]
     },
     "execution_count": 69,
     "metadata": {},
     "output_type": "execute_result"
    }
   ],
   "source": [
    "executor.run_all_cells(notebook, {'metadata': {'path': '.'}})"
   ]
  },
  {
   "cell_type": "code",
   "execution_count": 45,
   "metadata": {},
   "outputs": [],
   "source": [
    "from nbclient import NotebookClient"
   ]
  },
  {
   "cell_type": "code",
   "execution_count": 46,
   "metadata": {},
   "outputs": [],
   "source": [
    "with open(workflow['test_workflow'][0], 'r') as f:\n",
    "\tnotebook_content = f.read()\n",
    "\n",
    "client = NotebookClient(notebook_content)"
   ]
  },
  {
   "cell_type": "code",
   "execution_count": 42,
   "metadata": {},
   "outputs": [],
   "source": [
    "executor = ExecutePreprocessor(timeout=-1, kernel_name='python3')\n",
    "# executor.execute_cell(notebook, 0)"
   ]
  },
  {
   "cell_type": "code",
   "execution_count": 50,
   "metadata": {},
   "outputs": [
    {
     "name": "stdout",
     "output_type": "stream",
     "text": [
      "{'cell_type': 'code', 'execution_count': 1, 'metadata': {'execution': {'iopub.execute_input': '2023-11-18T18:52:10.833258Z', 'iopub.status.busy': '2023-11-18T18:52:10.832673Z', 'iopub.status.idle': '2023-11-18T18:52:10.843347Z', 'shell.execute_reply': '2023-11-18T18:52:10.842110Z'}}, 'outputs': [{'name': 'stdout', 'output_type': 'stream', 'text': 'Hello from test1\\n'}], 'source': \"print('Hello from test1')\"}\n"
     ]
    }
   ],
   "source": [
    "with open(workflow['test_workflow'][0], 'r') as f:\n",
    "\tnotebook = nbformat.read(f, as_version=4)\n",
    "\n",
    "print(notebook['cells'][0])\n",
    "\n",
    "# executor.preprocess_cell(notebook['cells'][0], )"
   ]
  },
  {
   "cell_type": "code",
   "execution_count": 52,
   "metadata": {},
   "outputs": [
    {
     "name": "stderr",
     "output_type": "stream",
     "text": [
      "0.00s - Debugger warning: It seems that frozen modules are being used, which may\n",
      "0.00s - make the debugger miss breakpoints. Please pass -Xfrozen_modules=off\n",
      "0.00s - to python to disable frozen modules.\n",
      "0.00s - Note: Debugging will proceed. Set PYDEVD_DISABLE_FILE_VALIDATION=1 to disable this validation.\n"
     ]
    },
    {
     "data": {
      "text/plain": [
       "({'cells': [{'cell_type': 'code',\n",
       "    'execution_count': 1,\n",
       "    'metadata': {'execution': {'iopub.status.busy': '2023-11-20T07:02:12.673569Z',\n",
       "      'iopub.execute_input': '2023-11-20T07:02:12.674140Z',\n",
       "      'iopub.status.idle': '2023-11-20T07:02:12.683552Z',\n",
       "      'shell.execute_reply': '2023-11-20T07:02:12.682556Z'}},\n",
       "    'outputs': [{'output_type': 'stream',\n",
       "      'name': 'stdout',\n",
       "      'text': 'Hello from test1\\n'}],\n",
       "    'source': \"print('Hello from test1')\"},\n",
       "   {'cell_type': 'code',\n",
       "    'execution_count': 2,\n",
       "    'metadata': {'execution': {'iopub.status.busy': '2023-11-20T07:02:12.730321Z',\n",
       "      'iopub.execute_input': '2023-11-20T07:02:12.730875Z',\n",
       "      'shell.execute_reply': '2023-11-20T07:02:12.734600Z',\n",
       "      'iopub.status.idle': '2023-11-20T07:02:12.735635Z'}},\n",
       "    'outputs': [{'output_type': 'stream', 'name': 'stdout', 'text': '1.1\\n'}],\n",
       "    'source': 'print(1+0.1)'},\n",
       "   {'cell_type': 'code',\n",
       "    'execution_count': 3,\n",
       "    'metadata': {'execution': {'iopub.status.busy': '2023-11-20T07:02:12.738507Z',\n",
       "      'iopub.execute_input': '2023-11-20T07:02:12.739077Z',\n",
       "      'shell.execute_reply': '2023-11-20T07:02:12.742458Z',\n",
       "      'iopub.status.idle': '2023-11-20T07:02:12.743408Z'}},\n",
       "    'outputs': [{'output_type': 'stream', 'name': 'stdout', 'text': '28\\n'}],\n",
       "    'source': 'print(2*14)'}],\n",
       "  'metadata': {'kernelspec': {'display_name': '.venv',\n",
       "    'language': 'python',\n",
       "    'name': 'python3'},\n",
       "   'language_info': {'name': 'python',\n",
       "    'version': '3.11.2',\n",
       "    'mimetype': 'text/x-python',\n",
       "    'codemirror_mode': {'name': 'ipython', 'version': 3},\n",
       "    'pygments_lexer': 'ipython3',\n",
       "    'nbconvert_exporter': 'python',\n",
       "    'file_extension': '.py'}},\n",
       "  'nbformat': 4,\n",
       "  'nbformat_minor': 2},\n",
       " {'metadata': {'path': '.'}})"
      ]
     },
     "execution_count": 52,
     "metadata": {},
     "output_type": "execute_result"
    }
   ],
   "source": [
    "executor.preprocess(notebook, {'metadata': {'path': '.'}})"
   ]
  },
  {
   "cell_type": "code",
   "execution_count": 55,
   "metadata": {},
   "outputs": [
    {
     "ename": "AssertionError",
     "evalue": "",
     "output_type": "error",
     "traceback": [
      "\u001b[0;31m---------------------------------------------------------------------------\u001b[0m",
      "\u001b[0;31mAssertionError\u001b[0m                            Traceback (most recent call last)",
      "\u001b[1;32m/home/igor/repos/bluprint/tmp/tmp2/test.ipynb Cell 19\u001b[0m line \u001b[0;36m1\n\u001b[0;32m----> <a href='vscode-notebook-cell://wsl%2Bubuntu-20.04/home/igor/repos/bluprint/tmp/tmp2/test.ipynb#X36sdnNjb2RlLXJlbW90ZQ%3D%3D?line=0'>1</a>\u001b[0m executor\u001b[39m.\u001b[39;49mpreprocess_cell(notebook, {\u001b[39m'\u001b[39;49m\u001b[39mmetadata\u001b[39;49m\u001b[39m'\u001b[39;49m: {\u001b[39m'\u001b[39;49m\u001b[39mpath\u001b[39;49m\u001b[39m'\u001b[39;49m: \u001b[39m'\u001b[39;49m\u001b[39m.\u001b[39;49m\u001b[39m'\u001b[39;49m}}, \u001b[39m0\u001b[39;49m)\n",
      "File \u001b[0;32m~/repos/bluprint/.venv/lib/python3.11/site-packages/nbconvert/preprocessors/execute.py:123\u001b[0m, in \u001b[0;36mExecutePreprocessor.preprocess_cell\u001b[0;34m(self, cell, resources, index)\u001b[0m\n\u001b[1;32m    108\u001b[0m \u001b[39m\u001b[39m\u001b[39m\"\"\"\u001b[39;00m\n\u001b[1;32m    109\u001b[0m \u001b[39mOverride if you want to apply some preprocessing to each cell.\u001b[39;00m\n\u001b[1;32m    110\u001b[0m \u001b[39mMust return modified cell and resource dictionary.\u001b[39;00m\n\u001b[0;32m   (...)\u001b[0m\n\u001b[1;32m    120\u001b[0m \u001b[39m    Index of the cell being processed\u001b[39;00m\n\u001b[1;32m    121\u001b[0m \u001b[39m\"\"\"\u001b[39;00m\n\u001b[1;32m    122\u001b[0m \u001b[39mself\u001b[39m\u001b[39m.\u001b[39m_check_assign_resources(resources)\n\u001b[0;32m--> 123\u001b[0m cell \u001b[39m=\u001b[39m \u001b[39mself\u001b[39;49m\u001b[39m.\u001b[39;49mexecute_cell(cell, index, store_history\u001b[39m=\u001b[39;49m\u001b[39mTrue\u001b[39;49;00m)\n\u001b[1;32m    124\u001b[0m \u001b[39mreturn\u001b[39;00m cell, \u001b[39mself\u001b[39m\u001b[39m.\u001b[39mresources\n",
      "File \u001b[0;32m~/repos/bluprint/.venv/lib/python3.11/site-packages/jupyter_core/utils/__init__.py:158\u001b[0m, in \u001b[0;36mrun_sync.<locals>.wrapped\u001b[0;34m(*args, **kwargs)\u001b[0m\n\u001b[1;32m    156\u001b[0m     \u001b[39mif\u001b[39;00m name \u001b[39mnot\u001b[39;00m \u001b[39min\u001b[39;00m _runner_map:\n\u001b[1;32m    157\u001b[0m         _runner_map[name] \u001b[39m=\u001b[39m _TaskRunner()\n\u001b[0;32m--> 158\u001b[0m     \u001b[39mreturn\u001b[39;00m _runner_map[name]\u001b[39m.\u001b[39;49mrun(inner)\n\u001b[1;32m    159\u001b[0m \u001b[39mexcept\u001b[39;00m \u001b[39mRuntimeError\u001b[39;00m:\n\u001b[1;32m    160\u001b[0m     \u001b[39mpass\u001b[39;00m\n",
      "File \u001b[0;32m~/repos/bluprint/.venv/lib/python3.11/site-packages/jupyter_core/utils/__init__.py:126\u001b[0m, in \u001b[0;36m_TaskRunner.run\u001b[0;34m(self, coro)\u001b[0m\n\u001b[1;32m    124\u001b[0m         \u001b[39mself\u001b[39m\u001b[39m.\u001b[39m__runner_thread\u001b[39m.\u001b[39mstart()\n\u001b[1;32m    125\u001b[0m fut \u001b[39m=\u001b[39m asyncio\u001b[39m.\u001b[39mrun_coroutine_threadsafe(coro, \u001b[39mself\u001b[39m\u001b[39m.\u001b[39m__io_loop)\n\u001b[0;32m--> 126\u001b[0m \u001b[39mreturn\u001b[39;00m fut\u001b[39m.\u001b[39;49mresult(\u001b[39mNone\u001b[39;49;00m)\n",
      "File \u001b[0;32m~/.pyenv/versions/3.11.2/lib/python3.11/concurrent/futures/_base.py:456\u001b[0m, in \u001b[0;36mFuture.result\u001b[0;34m(self, timeout)\u001b[0m\n\u001b[1;32m    454\u001b[0m     \u001b[39mraise\u001b[39;00m CancelledError()\n\u001b[1;32m    455\u001b[0m \u001b[39melif\u001b[39;00m \u001b[39mself\u001b[39m\u001b[39m.\u001b[39m_state \u001b[39m==\u001b[39m FINISHED:\n\u001b[0;32m--> 456\u001b[0m     \u001b[39mreturn\u001b[39;00m \u001b[39mself\u001b[39;49m\u001b[39m.\u001b[39;49m__get_result()\n\u001b[1;32m    457\u001b[0m \u001b[39melse\u001b[39;00m:\n\u001b[1;32m    458\u001b[0m     \u001b[39mraise\u001b[39;00m \u001b[39mTimeoutError\u001b[39;00m()\n",
      "File \u001b[0;32m~/.pyenv/versions/3.11.2/lib/python3.11/concurrent/futures/_base.py:401\u001b[0m, in \u001b[0;36mFuture.__get_result\u001b[0;34m(self)\u001b[0m\n\u001b[1;32m    399\u001b[0m \u001b[39mif\u001b[39;00m \u001b[39mself\u001b[39m\u001b[39m.\u001b[39m_exception:\n\u001b[1;32m    400\u001b[0m     \u001b[39mtry\u001b[39;00m:\n\u001b[0;32m--> 401\u001b[0m         \u001b[39mraise\u001b[39;00m \u001b[39mself\u001b[39m\u001b[39m.\u001b[39m_exception\n\u001b[1;32m    402\u001b[0m     \u001b[39mfinally\u001b[39;00m:\n\u001b[1;32m    403\u001b[0m         \u001b[39m# Break a reference cycle with the exception in self._exception\u001b[39;00m\n\u001b[1;32m    404\u001b[0m         \u001b[39mself\u001b[39m \u001b[39m=\u001b[39m \u001b[39mNone\u001b[39;00m\n",
      "File \u001b[0;32m~/repos/bluprint/.venv/lib/python3.11/site-packages/nbclient/client.py:956\u001b[0m, in \u001b[0;36mNotebookClient.async_execute_cell\u001b[0;34m(self, cell, cell_index, execution_count, store_history)\u001b[0m\n\u001b[1;32m    916\u001b[0m \u001b[39masync\u001b[39;00m \u001b[39mdef\u001b[39;00m \u001b[39masync_execute_cell\u001b[39m(\n\u001b[1;32m    917\u001b[0m     \u001b[39mself\u001b[39m,\n\u001b[1;32m    918\u001b[0m     cell: NotebookNode,\n\u001b[0;32m   (...)\u001b[0m\n\u001b[1;32m    921\u001b[0m     store_history: \u001b[39mbool\u001b[39m \u001b[39m=\u001b[39m \u001b[39mTrue\u001b[39;00m,\n\u001b[1;32m    922\u001b[0m ) \u001b[39m-\u001b[39m\u001b[39m>\u001b[39m NotebookNode:\n\u001b[1;32m    923\u001b[0m \u001b[39m    \u001b[39m\u001b[39m\"\"\"\u001b[39;00m\n\u001b[1;32m    924\u001b[0m \u001b[39m    Executes a single code cell.\u001b[39;00m\n\u001b[1;32m    925\u001b[0m \n\u001b[0;32m   (...)\u001b[0m\n\u001b[1;32m    954\u001b[0m \u001b[39m        The cell which was just processed.\u001b[39;00m\n\u001b[1;32m    955\u001b[0m \u001b[39m    \"\"\"\u001b[39;00m\n\u001b[0;32m--> 956\u001b[0m     \u001b[39massert\u001b[39;00m \u001b[39mself\u001b[39m\u001b[39m.\u001b[39mkc \u001b[39mis\u001b[39;00m \u001b[39mnot\u001b[39;00m \u001b[39mNone\u001b[39;00m\n\u001b[1;32m    958\u001b[0m     \u001b[39mawait\u001b[39;00m run_hook(\u001b[39mself\u001b[39m\u001b[39m.\u001b[39mon_cell_start, cell\u001b[39m=\u001b[39mcell, cell_index\u001b[39m=\u001b[39mcell_index)\n\u001b[1;32m    960\u001b[0m     \u001b[39mif\u001b[39;00m cell\u001b[39m.\u001b[39mcell_type \u001b[39m!=\u001b[39m \u001b[39m'\u001b[39m\u001b[39mcode\u001b[39m\u001b[39m'\u001b[39m \u001b[39mor\u001b[39;00m \u001b[39mnot\u001b[39;00m cell\u001b[39m.\u001b[39msource\u001b[39m.\u001b[39mstrip():\n",
      "\u001b[0;31mAssertionError\u001b[0m: "
     ]
    }
   ],
   "source": [
    "executor.preprocess_cell(notebook, {'metadata': {'path': '.'}}, 0)"
   ]
  },
  {
   "cell_type": "code",
   "execution_count": 18,
   "metadata": {},
   "outputs": [],
   "source": [
    "with open(workflow['test_workflow'][0], 'r') as f:\n",
    "    notebook = nbformat.read(f, as_version=4)"
   ]
  }
 ],
 "metadata": {
  "kernelspec": {
   "display_name": "bluprint-YlnStUWz-py3.11",
   "language": "python",
   "name": "python3"
  },
  "language_info": {
   "codemirror_mode": {
    "name": "ipython",
    "version": 3
   },
   "file_extension": ".py",
   "mimetype": "text/x-python",
   "name": "python",
   "nbconvert_exporter": "python",
   "pygments_lexer": "ipython3",
   "version": "3.11.2"
  }
 },
 "nbformat": 4,
 "nbformat_minor": 2
}
