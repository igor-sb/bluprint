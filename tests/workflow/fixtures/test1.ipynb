{
 "cells": [
  {
   "cell_type": "code",
   "execution_count": 1,
   "metadata": {
    "execution": {
     "iopub.execute_input": "2023-12-14T22:38:56.456942Z",
     "iopub.status.busy": "2023-12-14T22:38:56.456609Z",
     "iopub.status.idle": "2023-12-14T22:38:56.466672Z",
     "shell.execute_reply": "2023-12-14T22:38:56.465883Z"
    }
   },
   "outputs": [],
   "source": [
    "import time"
   ]
  },
  {
   "cell_type": "code",
   "execution_count": 2,
   "metadata": {
    "execution": {
     "iopub.execute_input": "2023-12-14T22:38:56.471432Z",
     "iopub.status.busy": "2023-12-14T22:38:56.471123Z",
     "iopub.status.idle": "2023-12-14T22:38:56.580546Z",
     "shell.execute_reply": "2023-12-14T22:38:56.579692Z"
    }
   },
   "outputs": [
    {
     "name": "stdout",
     "output_type": "stream",
     "text": [
      "Hello from test1\n"
     ]
    }
   ],
   "source": [
    "print('Hello from test1')\n",
    "time.sleep(0.1)"
   ]
  },
  {
   "cell_type": "code",
   "execution_count": 3,
   "metadata": {
    "execution": {
     "iopub.execute_input": "2023-12-14T22:38:56.644047Z",
     "iopub.status.busy": "2023-12-14T22:38:56.643727Z",
     "iopub.status.idle": "2023-12-14T22:38:56.647574Z",
     "shell.execute_reply": "2023-12-14T22:38:56.646893Z"
    }
   },
   "outputs": [
    {
     "name": "stdout",
     "output_type": "stream",
     "text": [
      "1.1\n"
     ]
    }
   ],
   "source": [
    "print(1+0.1)"
   ]
  },
  {
   "cell_type": "code",
   "execution_count": 4,
   "metadata": {
    "execution": {
     "iopub.execute_input": "2023-12-14T22:38:56.655035Z",
     "iopub.status.busy": "2023-12-14T22:38:56.654358Z",
     "iopub.status.idle": "2023-12-14T22:38:56.658648Z",
     "shell.execute_reply": "2023-12-14T22:38:56.657917Z"
    }
   },
   "outputs": [
    {
     "name": "stdout",
     "output_type": "stream",
     "text": [
      "28\n"
     ]
    }
   ],
   "source": [
    "print(2*14)"
   ]
  }
 ],
 "metadata": {
  "kernelspec": {
   "display_name": ".venv",
   "language": "python",
   "name": "python3"
  },
  "language_info": {
   "codemirror_mode": {
    "name": "ipython",
    "version": 3
   },
   "file_extension": ".py",
   "mimetype": "text/x-python",
   "name": "python",
   "nbconvert_exporter": "python",
   "pygments_lexer": "ipython3",
   "version": "3.11.4"
  }
 },
 "nbformat": 4,
 "nbformat_minor": 2
}
