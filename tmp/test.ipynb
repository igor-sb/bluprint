{
 "cells": [
  {
   "cell_type": "code",
   "execution_count": 1,
   "metadata": {},
   "outputs": [
    {
     "name": "stderr",
     "output_type": "stream",
     "text": [
      "\u001b[96m\u001b[1mBluprint\u001b[0m: creating Python project... "
     ]
    },
    {
     "name": "stdout",
     "output_type": "stream",
     "text": [
      "Python 3.11.6\n",
      "\n"
     ]
    },
    {
     "name": "stderr",
     "output_type": "stream",
     "text": [
      "Ok\n"
     ]
    }
   ],
   "source": [
    "import bluprint\n",
    "from bluprint import cli\n",
    "\n",
    "bp = cli.Bluprint()\n",
    "bp.create(\n",
    "\tproject_name='project',\n",
    "\t\tparent_dir='/home/igor/tmp',\n",
    ")"
   ]
  },
  {
   "cell_type": "code",
   "execution_count": 2,
   "metadata": {},
   "outputs": [
    {
     "name": "stdout",
     "output_type": "stream",
     "text": [
      "  system\n",
      "  3.9.8\n",
      "  3.10.10\n",
      "* 3.11.2 (set by /home/igor/.pyenv/version)\n",
      "  3.11.6\n",
      "  3.12.0\n",
      "  3.12.0a5\n",
      "  3.13.0a2\n"
     ]
    },
    {
     "data": {
      "text/plain": [
       "CompletedProcess(args='pyenv versions', returncode=0)"
      ]
     },
     "execution_count": 2,
     "metadata": {},
     "output_type": "execute_result"
    }
   ],
   "source": [
    "import subprocess\n",
    "\n",
    "subprocess.run('pyenv versions', shell=True, cwd='/home/igor/tmp')"
   ]
  },
  {
   "cell_type": "code",
   "execution_count": 4,
   "metadata": {},
   "outputs": [
    {
     "data": {
      "text/plain": [
       "CompletedProcess(args=['pyenv', 'global', '3.11.6'], returncode=0)"
      ]
     },
     "execution_count": 4,
     "metadata": {},
     "output_type": "execute_result"
    }
   ],
   "source": [
    "subprocess.run(['pyenv', 'global', '3.11.6'])"
   ]
  }
 ],
 "metadata": {
  "kernelspec": {
   "display_name": "bluprint-YlnStUWz-py3.11",
   "language": "python",
   "name": "python3"
  },
  "language_info": {
   "codemirror_mode": {
    "name": "ipython",
    "version": 3
   },
   "file_extension": ".py",
   "mimetype": "text/x-python",
   "name": "python",
   "nbconvert_exporter": "python",
   "pygments_lexer": "ipython3",
   "version": "3.11.6"
  }
 },
 "nbformat": 4,
 "nbformat_minor": 2
}
