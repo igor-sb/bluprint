{
 "cells": [
  {
   "cell_type": "markdown",
   "metadata": {},
   "source": [
    "Example notebook"
   ]
  },
  {
   "cell_type": "code",
   "execution_count": 6,
   "metadata": {
    "execution": {
     "iopub.execute_input": "2023-11-04T20:37:58.961452Z",
     "iopub.status.busy": "2023-11-04T20:37:58.961137Z",
     "iopub.status.idle": "2023-11-04T20:37:59.215188Z",
     "shell.execute_reply": "2023-11-04T20:37:59.214169Z"
    }
   },
   "outputs": [],
   "source": [
    "import importlib\n",
    "import os\n",
    "\n",
    "import pandas as pd\n",
    "\n",
    "import bluprint as bp"
   ]
  },
  {
   "cell_type": "code",
   "execution_count": 7,
   "metadata": {
    "execution": {
     "iopub.execute_input": "2023-11-04T20:37:59.218450Z",
     "iopub.status.busy": "2023-11-04T20:37:59.217929Z",
     "iopub.status.idle": "2023-11-04T20:37:59.225733Z",
     "shell.execute_reply": "2023-11-04T20:37:59.224767Z"
    }
   },
   "outputs": [
    {
     "name": "stdout",
     "output_type": "stream",
     "text": [
      "   index  name\n",
      "0      0  Igor\n",
      "1      1  Egor\n"
     ]
    }
   ],
   "source": [
    "df = pd.DataFrame({'index': [0, 1], 'name': ['Igor', 'Egor']})\n",
    "\n",
    "print(df)"
   ]
  },
  {
   "cell_type": "code",
   "execution_count": 8,
   "metadata": {},
   "outputs": [],
   "source": [
    "%%bash\n",
    "\n",
    "# samtools"
   ]
  },
  {
   "cell_type": "code",
   "execution_count": 10,
   "metadata": {},
   "outputs": [
    {
     "data": {
      "text/plain": [
       "MultiplexedPath('/Users/igor/repos/bluprint/data')"
      ]
     },
     "execution_count": 10,
     "metadata": {},
     "output_type": "execute_result"
    }
   ],
   "source": [
    "data_files = importlib.resources.files('data')\n",
    "\n",
    "data_files"
   ]
  },
  {
   "cell_type": "code",
   "execution_count": 11,
   "metadata": {},
   "outputs": [
    {
     "name": "stdout",
     "output_type": "stream",
     "text": [
      "*\n",
      "/Users/igor/repos/bluprint/data/a_and_b/a_and_b_transformed.csv\n",
      " dirs: []\n",
      " filename: a_and_b_transformed.csv\n",
      "/Users/igor/repos/bluprint/data/a_and_b/a_and_b_raw.csv\n",
      " dirs: []\n",
      " filename: a_and_b_raw.csv\n",
      "/Users/igor/repos/bluprint/data/a_and_b/a_and_b_summarized.csv\n",
      " dirs: []\n",
      " filename: a_and_b_summarized.csv\n",
      "*\n",
      "/Users/igor/repos/bluprint/data/transformed/table2.csv\n",
      " dirs: []\n",
      " filename: table2.csv\n",
      "*\n",
      "/Users/igor/repos/bluprint/data/raw/table1.csv\n",
      " dirs: []\n",
      " filename: table1.csv\n"
     ]
    }
   ],
   "source": [
    "\n",
    "for root, dirs, files in os.walk(data_files.joinpath('')):\n",
    "    if files:\n",
    "        print('*')\n",
    "        for filename in files:\n",
    "            print(os.path.join(root, filename))\n",
    "            print(f' dirs: {dirs}')\n",
    "            print(f' filename: {filename}')"
   ]
  },
  {
   "cell_type": "code",
   "execution_count": null,
   "metadata": {},
   "outputs": [
    {
     "data": {
      "text/plain": [
       "MultiplexedPath('/home/igor/repos/bluprint/data')"
      ]
     },
     "execution_count": 15,
     "metadata": {},
     "output_type": "execute_result"
    }
   ],
   "source": [
    "data_files"
   ]
  },
  {
   "cell_type": "markdown",
   "metadata": {},
   "source": [
    "```\n",
    "# importlib.resources.files('data')for x in .iterdir():\n",
    "# \tprint(x)\n",
    "# \tprint(type(x))\n",
    "# if files:\n",
    "# \tprint('*')\n",
    "# \tprint(root)\n",
    "# \tprint(dirs)\n",
    "# \tprint(files)\n",
    "```"
   ]
  },
  {
   "cell_type": "code",
   "execution_count": null,
   "metadata": {},
   "outputs": [],
   "source": [
    "import shutil"
   ]
  },
  {
   "cell_type": "code",
   "execution_count": null,
   "metadata": {},
   "outputs": [],
   "source": [
    "\"\"\"Wrapper for .\"\"\"\n",
    "\n",
    "from dataclasses import dataclass\n",
    "import subprocess  # noqa: S404\n",
    "\n",
    "@dataclass\n",
    "class Executable:\n",
    "\targs: list[str]\n",
    "\n",
    "\tdef run(self) -> str:\n",
    "\t\tcheck_if_executable_is_installed(self.args[0])\n",
    "\t\tout = subprocess.run(self.args, capture_output=True)\n",
    "\t\tif out.stderr != b'':\n",
    "\t\t\traise RuntimeError(out.stderr.decode('UTF-8'))\n",
    "\t\treturn out.stdout.decode('UTF-8')\n",
    "\n",
    "def check_if_executable_is_installed(executable: str) -> None:\n",
    "\tif not shutil.which(executable):\n",
    "\t\traise ValueError(f'Executable not found: {executable}')\n",
    "\t"
   ]
  },
  {
   "cell_type": "code",
   "execution_count": null,
   "metadata": {},
   "outputs": [
    {
     "name": "stdout",
     "output_type": "stream",
     "text": [
      "Poetry (version 1.5.1)\n",
      "\n"
     ]
    }
   ],
   "source": [
    "print(Executable(['poetry', '-V']).run())"
   ]
  },
  {
   "cell_type": "code",
   "execution_count": null,
   "metadata": {},
   "outputs": [],
   "source": [
    "import logging\n",
    "\n",
    "logging.basicConfig(format='%(levelname)s: %(message)s', level=logging.INFO)"
   ]
  },
  {
   "cell_type": "code",
   "execution_count": null,
   "metadata": {},
   "outputs": [
    {
     "name": "stderr",
     "output_type": "stream",
     "text": [
      "INFO: Found \"poetry\" executable.\n",
      "INFO: Found \"gh\" executable.\n",
      "INFO: Found \"git\" executable.\n"
     ]
    }
   ],
   "source": [
    "for exec in ['poetry', 'gh', 'git']:\n",
    "\tcheck_if_executable_is_installed(exec)\n",
    "\tlogging.info(f'Found \"{exec}\" executable.')"
   ]
  },
  {
   "cell_type": "code",
   "execution_count": null,
   "metadata": {},
   "outputs": [],
   "source": [
    "os.makedirs('tmp3/tmp4')"
   ]
  },
  {
   "cell_type": "code",
   "execution_count": null,
   "metadata": {},
   "outputs": [],
   "source": [
    "import yaml"
   ]
  },
  {
   "cell_type": "code",
   "execution_count": null,
   "metadata": {},
   "outputs": [
    {
     "data": {
      "text/plain": [
       "{'a_and_b': ['preprocess',\n",
       "  'preprocess -> summarize -> plot',\n",
       "  'preprocess -> plot']}"
      ]
     },
     "execution_count": 13,
     "metadata": {},
     "output_type": "execute_result"
    }
   ],
   "source": [
    "with open('workflow.yaml') as yaml_file:\n",
    "\td = yaml.safe_load(yaml_file)\n",
    "d"
   ]
  },
  {
   "cell_type": "code",
   "execution_count": 44,
   "metadata": {},
   "outputs": [],
   "source": [
    "from pathlib import PosixPath\n",
    "from omegaconf import DictConfig, OmegaConf\n",
    "from functools import reduce\n",
    "\n",
    "def add_prefix_to_nested_values(conf: DictConfig, prefix: str):\n",
    "    for key, value in conf.items():\n",
    "        if isinstance(value, DictConfig):\n",
    "            add_prefix_to_nested_values(value, prefix)\n",
    "        else:\n",
    "            conf[key] = f'{prefix}{value}'\n",
    "\n",
    "def load_config(config_file: str) -> DictConfig:\n",
    "\tabsolute_path: PosixPath = importlib.resources.files('conf')\n",
    "\tconf = OmegaConf.load(str(absolute_path.joinpath(config_file)))\n",
    "\tadd_prefix_to_nested_values(\n",
    "\t\tconf['data'],\n",
    "\t\tstr(importlib.resources.files('data').joinpath('')),\n",
    "\t)\n",
    "\treturn conf\n"
   ]
  },
  {
   "cell_type": "code",
   "execution_count": 68,
   "metadata": {},
   "outputs": [
    {
     "data": {
      "text/plain": [
       "'/Users/igor/repos/bluprint/data'"
      ]
     },
     "execution_count": 68,
     "metadata": {},
     "output_type": "execute_result"
    }
   ],
   "source": []
  },
  {
   "cell_type": "code",
   "execution_count": 24,
   "metadata": {},
   "outputs": [],
   "source": [
    "import pprint\n"
   ]
  },
  {
   "cell_type": "code",
   "execution_count": 59,
   "metadata": {},
   "outputs": [],
   "source": [
    "def iterate_recursively(d, prefix='//'):\n",
    "  for key, value in d.items():\n",
    "    if isinstance(value, dict):\n",
    "      for inner_key, inner_value in iterate_recursively(value):\n",
    "        yield (key, ) + inner_key, inner_value\n",
    "    else:\n",
    "      yield key, value\n",
    "      # d[key] = f'//{value}'\n",
    "\n",
    "dic = {\n",
    "    'resources': {\n",
    "        'info': {\n",
    "            'path': 'messi',\n",
    "        },\n",
    "        'peak': {\n",
    "            'file': 'igor',\n",
    "        },\n",
    "    },\n",
    "    'flat': 'something',\n",
    "}\n",
    "\n",
    "# for keys, values in iteritems_recursive(dic):\n",
    "#   print(f'{keys} -> {values}')"
   ]
  },
  {
   "cell_type": "code",
   "execution_count": 60,
   "metadata": {},
   "outputs": [
    {
     "data": {
      "text/plain": [
       "{'resources': {'info': {'path': '//messi'}, 'peak': {'file': '//igor'}},\n",
       " 'flat': '//something'}"
      ]
     },
     "execution_count": 60,
     "metadata": {},
     "output_type": "execute_result"
    }
   ],
   "source": [
    "def add_prefix_to_nested_values(dictionary, prefix):\n",
    "    for key, value in dictionary.items():\n",
    "        if isinstance(value, dict):\n",
    "            # Recursively call the function for nested dictionaries\n",
    "            add_prefix_to_nested_values(value, prefix)\n",
    "        else:\n",
    "            # Add the prefix to leaf nodes\n",
    "            dictionary[key] = prefix + str(value)\n",
    "\n",
    "add_prefix_to_nested_values(dic, '//')\n",
    "\n",
    "dic"
   ]
  },
  {
   "cell_type": "code",
   "execution_count": 57,
   "metadata": {},
   "outputs": [],
   "source": []
  },
  {
   "cell_type": "code",
   "execution_count": 58,
   "metadata": {},
   "outputs": [
    {
     "data": {
      "text/plain": [
       "{'resources': {'info': {'load': \"//('37', '17')\"},\n",
       "  'peak': {'load': \"//('0', '1')\"}},\n",
       " 'flat': '//something'}"
      ]
     },
     "execution_count": 58,
     "metadata": {},
     "output_type": "execute_result"
    }
   ],
   "source": [
    "dic"
   ]
  },
  {
   "cell_type": "code",
   "execution_count": 52,
   "metadata": {},
   "outputs": [],
   "source": [
    "x = ('resources', 'info', 'load')"
   ]
  },
  {
   "cell_type": "code",
   "execution_count": 53,
   "metadata": {},
   "outputs": [
    {
     "data": {
      "text/plain": [
       "('37', '17')"
      ]
     },
     "execution_count": 53,
     "metadata": {},
     "output_type": "execute_result"
    }
   ],
   "source": [
    "reduce(dict.get, x, dic)"
   ]
  },
  {
   "cell_type": "code",
   "execution_count": 49,
   "metadata": {},
   "outputs": [
    {
     "data": {
      "text/plain": [
       "<generator object iterate_recursively at 0x12555f040>"
      ]
     },
     "execution_count": 49,
     "metadata": {},
     "output_type": "execute_result"
    }
   ],
   "source": [
    "iterate_recursively(dic)"
   ]
  },
  {
   "cell_type": "code",
   "execution_count": null,
   "metadata": {},
   "outputs": [],
   "source": []
  },
  {
   "cell_type": "code",
   "execution_count": 45,
   "metadata": {},
   "outputs": [
    {
     "data": {
      "text/plain": [
       "{'resources': {'info': {'load': ('37', '17')}, 'peak': {'load': ('0', '1')}},\n",
       " 'flat': 'something'}"
      ]
     },
     "execution_count": 45,
     "metadata": {},
     "output_type": "execute_result"
    }
   ],
   "source": [
    "for key, value in dic.items():\n",
    "\tif isinstance(value, dict):\n",
    "\t\tfor inner_key, inner_value in iterate_recursively(value):\n",
    "\t\tyield (key, ) + inner_key, inner_value\n",
    "\telse:\n",
    "\t\t# yield key, value\n",
    "\t\t"
   ]
  },
  {
   "cell_type": "code",
   "execution_count": 42,
   "metadata": {},
   "outputs": [
    {
     "data": {
      "text/plain": [
       "('a', 'b')"
      ]
     },
     "execution_count": 42,
     "metadata": {},
     "output_type": "execute_result"
    }
   ],
   "source": [
    "x = ('a', 'b')\n",
    "x"
   ]
  },
  {
   "cell_type": "code",
   "execution_count": 43,
   "metadata": {},
   "outputs": [
    {
     "data": {
      "text/plain": [
       "('a', 'b', 'c')"
      ]
     },
     "execution_count": 43,
     "metadata": {},
     "output_type": "execute_result"
    }
   ],
   "source": [
    "x + ('c', )"
   ]
  },
  {
   "cell_type": "code",
   "execution_count": 41,
   "metadata": {},
   "outputs": [
    {
     "data": {
      "text/plain": [
       "('a', 'b', 'c')"
      ]
     },
     "execution_count": 41,
     "metadata": {},
     "output_type": "execute_result"
    }
   ],
   "source": [
    "x"
   ]
  },
  {
   "cell_type": "code",
   "execution_count": 23,
   "metadata": {},
   "outputs": [
    {
     "ename": "ScannerError",
     "evalue": "mapping values are not allowed here\n  in \"/Users/igor/repos/bluprint/conf/config.yaml\", line 3, column 5",
     "output_type": "error",
     "traceback": [
      "\u001b[0;31m---------------------------------------------------------------------------\u001b[0m",
      "\u001b[0;31mScannerError\u001b[0m                              Traceback (most recent call last)",
      "\u001b[1;32m/Users/igor/repos/bluprint/tmp/tmp2/test.ipynb Cell 18\u001b[0m line \u001b[0;36m1\n\u001b[0;32m----> <a href='vscode-notebook-cell:/Users/igor/repos/bluprint/tmp/tmp2/test.ipynb#X25sZmlsZQ%3D%3D?line=0'>1</a>\u001b[0m OmegaConf\u001b[39m.\u001b[39;49mload(\u001b[39mstr\u001b[39;49m(importlib\u001b[39m.\u001b[39;49mresources\u001b[39m.\u001b[39;49mfiles(\u001b[39m'\u001b[39;49m\u001b[39mconf\u001b[39;49m\u001b[39m'\u001b[39;49m)\u001b[39m.\u001b[39;49mjoinpath(\u001b[39m'\u001b[39;49m\u001b[39mconfig.yaml\u001b[39;49m\u001b[39m'\u001b[39;49m)))\n",
      "File \u001b[0;32m~/repos/bluprint/.venv/lib/python3.11/site-packages/omegaconf/omegaconf.py:190\u001b[0m, in \u001b[0;36mOmegaConf.load\u001b[0;34m(file_)\u001b[0m\n\u001b[1;32m    188\u001b[0m \u001b[39mif\u001b[39;00m \u001b[39misinstance\u001b[39m(file_, (\u001b[39mstr\u001b[39m, pathlib\u001b[39m.\u001b[39mPath)):\n\u001b[1;32m    189\u001b[0m     \u001b[39mwith\u001b[39;00m io\u001b[39m.\u001b[39mopen(os\u001b[39m.\u001b[39mpath\u001b[39m.\u001b[39mabspath(file_), \u001b[39m\"\u001b[39m\u001b[39mr\u001b[39m\u001b[39m\"\u001b[39m, encoding\u001b[39m=\u001b[39m\u001b[39m\"\u001b[39m\u001b[39mutf-8\u001b[39m\u001b[39m\"\u001b[39m) \u001b[39mas\u001b[39;00m f:\n\u001b[0;32m--> 190\u001b[0m         obj \u001b[39m=\u001b[39m yaml\u001b[39m.\u001b[39;49mload(f, Loader\u001b[39m=\u001b[39;49mget_yaml_loader())\n\u001b[1;32m    191\u001b[0m \u001b[39melif\u001b[39;00m \u001b[39mgetattr\u001b[39m(file_, \u001b[39m\"\u001b[39m\u001b[39mread\u001b[39m\u001b[39m\"\u001b[39m, \u001b[39mNone\u001b[39;00m):\n\u001b[1;32m    192\u001b[0m     obj \u001b[39m=\u001b[39m yaml\u001b[39m.\u001b[39mload(file_, Loader\u001b[39m=\u001b[39mget_yaml_loader())\n",
      "File \u001b[0;32m~/repos/bluprint/.venv/lib/python3.11/site-packages/yaml/__init__.py:81\u001b[0m, in \u001b[0;36mload\u001b[0;34m(stream, Loader)\u001b[0m\n\u001b[1;32m     79\u001b[0m loader \u001b[39m=\u001b[39m Loader(stream)\n\u001b[1;32m     80\u001b[0m \u001b[39mtry\u001b[39;00m:\n\u001b[0;32m---> 81\u001b[0m     \u001b[39mreturn\u001b[39;00m loader\u001b[39m.\u001b[39;49mget_single_data()\n\u001b[1;32m     82\u001b[0m \u001b[39mfinally\u001b[39;00m:\n\u001b[1;32m     83\u001b[0m     loader\u001b[39m.\u001b[39mdispose()\n",
      "File \u001b[0;32m~/repos/bluprint/.venv/lib/python3.11/site-packages/yaml/constructor.py:49\u001b[0m, in \u001b[0;36mBaseConstructor.get_single_data\u001b[0;34m(self)\u001b[0m\n\u001b[1;32m     47\u001b[0m \u001b[39mdef\u001b[39;00m \u001b[39mget_single_data\u001b[39m(\u001b[39mself\u001b[39m):\n\u001b[1;32m     48\u001b[0m     \u001b[39m# Ensure that the stream contains a single document and construct it.\u001b[39;00m\n\u001b[0;32m---> 49\u001b[0m     node \u001b[39m=\u001b[39m \u001b[39mself\u001b[39;49m\u001b[39m.\u001b[39;49mget_single_node()\n\u001b[1;32m     50\u001b[0m     \u001b[39mif\u001b[39;00m node \u001b[39mis\u001b[39;00m \u001b[39mnot\u001b[39;00m \u001b[39mNone\u001b[39;00m:\n\u001b[1;32m     51\u001b[0m         \u001b[39mreturn\u001b[39;00m \u001b[39mself\u001b[39m\u001b[39m.\u001b[39mconstruct_document(node)\n",
      "File \u001b[0;32m~/repos/bluprint/.venv/lib/python3.11/site-packages/yaml/composer.py:36\u001b[0m, in \u001b[0;36mComposer.get_single_node\u001b[0;34m(self)\u001b[0m\n\u001b[1;32m     34\u001b[0m document \u001b[39m=\u001b[39m \u001b[39mNone\u001b[39;00m\n\u001b[1;32m     35\u001b[0m \u001b[39mif\u001b[39;00m \u001b[39mnot\u001b[39;00m \u001b[39mself\u001b[39m\u001b[39m.\u001b[39mcheck_event(StreamEndEvent):\n\u001b[0;32m---> 36\u001b[0m     document \u001b[39m=\u001b[39m \u001b[39mself\u001b[39;49m\u001b[39m.\u001b[39;49mcompose_document()\n\u001b[1;32m     38\u001b[0m \u001b[39m# Ensure that the stream contains no more documents.\u001b[39;00m\n\u001b[1;32m     39\u001b[0m \u001b[39mif\u001b[39;00m \u001b[39mnot\u001b[39;00m \u001b[39mself\u001b[39m\u001b[39m.\u001b[39mcheck_event(StreamEndEvent):\n",
      "File \u001b[0;32m~/repos/bluprint/.venv/lib/python3.11/site-packages/yaml/composer.py:58\u001b[0m, in \u001b[0;36mComposer.compose_document\u001b[0;34m(self)\u001b[0m\n\u001b[1;32m     55\u001b[0m node \u001b[39m=\u001b[39m \u001b[39mself\u001b[39m\u001b[39m.\u001b[39mcompose_node(\u001b[39mNone\u001b[39;00m, \u001b[39mNone\u001b[39;00m)\n\u001b[1;32m     57\u001b[0m \u001b[39m# Drop the DOCUMENT-END event.\u001b[39;00m\n\u001b[0;32m---> 58\u001b[0m \u001b[39mself\u001b[39;49m\u001b[39m.\u001b[39;49mget_event()\n\u001b[1;32m     60\u001b[0m \u001b[39mself\u001b[39m\u001b[39m.\u001b[39manchors \u001b[39m=\u001b[39m {}\n\u001b[1;32m     61\u001b[0m \u001b[39mreturn\u001b[39;00m node\n",
      "File \u001b[0;32m~/repos/bluprint/.venv/lib/python3.11/site-packages/yaml/parser.py:118\u001b[0m, in \u001b[0;36mParser.get_event\u001b[0;34m(self)\u001b[0m\n\u001b[1;32m    116\u001b[0m \u001b[39mif\u001b[39;00m \u001b[39mself\u001b[39m\u001b[39m.\u001b[39mcurrent_event \u001b[39mis\u001b[39;00m \u001b[39mNone\u001b[39;00m:\n\u001b[1;32m    117\u001b[0m     \u001b[39mif\u001b[39;00m \u001b[39mself\u001b[39m\u001b[39m.\u001b[39mstate:\n\u001b[0;32m--> 118\u001b[0m         \u001b[39mself\u001b[39m\u001b[39m.\u001b[39mcurrent_event \u001b[39m=\u001b[39m \u001b[39mself\u001b[39;49m\u001b[39m.\u001b[39;49mstate()\n\u001b[1;32m    119\u001b[0m value \u001b[39m=\u001b[39m \u001b[39mself\u001b[39m\u001b[39m.\u001b[39mcurrent_event\n\u001b[1;32m    120\u001b[0m \u001b[39mself\u001b[39m\u001b[39m.\u001b[39mcurrent_event \u001b[39m=\u001b[39m \u001b[39mNone\u001b[39;00m\n",
      "File \u001b[0;32m~/repos/bluprint/.venv/lib/python3.11/site-packages/yaml/parser.py:193\u001b[0m, in \u001b[0;36mParser.parse_document_end\u001b[0;34m(self)\u001b[0m\n\u001b[1;32m    190\u001b[0m \u001b[39mdef\u001b[39;00m \u001b[39mparse_document_end\u001b[39m(\u001b[39mself\u001b[39m):\n\u001b[1;32m    191\u001b[0m \n\u001b[1;32m    192\u001b[0m     \u001b[39m# Parse the document end.\u001b[39;00m\n\u001b[0;32m--> 193\u001b[0m     token \u001b[39m=\u001b[39m \u001b[39mself\u001b[39;49m\u001b[39m.\u001b[39;49mpeek_token()\n\u001b[1;32m    194\u001b[0m     start_mark \u001b[39m=\u001b[39m end_mark \u001b[39m=\u001b[39m token\u001b[39m.\u001b[39mstart_mark\n\u001b[1;32m    195\u001b[0m     explicit \u001b[39m=\u001b[39m \u001b[39mFalse\u001b[39;00m\n",
      "File \u001b[0;32m~/repos/bluprint/.venv/lib/python3.11/site-packages/yaml/scanner.py:129\u001b[0m, in \u001b[0;36mScanner.peek_token\u001b[0;34m(self)\u001b[0m\n\u001b[1;32m    125\u001b[0m \u001b[39mdef\u001b[39;00m \u001b[39mpeek_token\u001b[39m(\u001b[39mself\u001b[39m):\n\u001b[1;32m    126\u001b[0m     \u001b[39m# Return the next token, but do not delete if from the queue.\u001b[39;00m\n\u001b[1;32m    127\u001b[0m     \u001b[39m# Return None if no more tokens.\u001b[39;00m\n\u001b[1;32m    128\u001b[0m     \u001b[39mwhile\u001b[39;00m \u001b[39mself\u001b[39m\u001b[39m.\u001b[39mneed_more_tokens():\n\u001b[0;32m--> 129\u001b[0m         \u001b[39mself\u001b[39;49m\u001b[39m.\u001b[39;49mfetch_more_tokens()\n\u001b[1;32m    130\u001b[0m     \u001b[39mif\u001b[39;00m \u001b[39mself\u001b[39m\u001b[39m.\u001b[39mtokens:\n\u001b[1;32m    131\u001b[0m         \u001b[39mreturn\u001b[39;00m \u001b[39mself\u001b[39m\u001b[39m.\u001b[39mtokens[\u001b[39m0\u001b[39m]\n",
      "File \u001b[0;32m~/repos/bluprint/.venv/lib/python3.11/site-packages/yaml/scanner.py:223\u001b[0m, in \u001b[0;36mScanner.fetch_more_tokens\u001b[0;34m(self)\u001b[0m\n\u001b[1;32m    221\u001b[0m \u001b[39m# Is it the value indicator?\u001b[39;00m\n\u001b[1;32m    222\u001b[0m \u001b[39mif\u001b[39;00m ch \u001b[39m==\u001b[39m \u001b[39m'\u001b[39m\u001b[39m:\u001b[39m\u001b[39m'\u001b[39m \u001b[39mand\u001b[39;00m \u001b[39mself\u001b[39m\u001b[39m.\u001b[39mcheck_value():\n\u001b[0;32m--> 223\u001b[0m     \u001b[39mreturn\u001b[39;00m \u001b[39mself\u001b[39;49m\u001b[39m.\u001b[39;49mfetch_value()\n\u001b[1;32m    225\u001b[0m \u001b[39m# Is it an alias?\u001b[39;00m\n\u001b[1;32m    226\u001b[0m \u001b[39mif\u001b[39;00m ch \u001b[39m==\u001b[39m \u001b[39m'\u001b[39m\u001b[39m*\u001b[39m\u001b[39m'\u001b[39m:\n",
      "File \u001b[0;32m~/repos/bluprint/.venv/lib/python3.11/site-packages/yaml/scanner.py:577\u001b[0m, in \u001b[0;36mScanner.fetch_value\u001b[0;34m(self)\u001b[0m\n\u001b[1;32m    572\u001b[0m \u001b[39mif\u001b[39;00m \u001b[39mnot\u001b[39;00m \u001b[39mself\u001b[39m\u001b[39m.\u001b[39mflow_level:\n\u001b[1;32m    573\u001b[0m \n\u001b[1;32m    574\u001b[0m     \u001b[39m# We are allowed to start a complex value if and only if\u001b[39;00m\n\u001b[1;32m    575\u001b[0m     \u001b[39m# we can start a simple key.\u001b[39;00m\n\u001b[1;32m    576\u001b[0m     \u001b[39mif\u001b[39;00m \u001b[39mnot\u001b[39;00m \u001b[39mself\u001b[39m\u001b[39m.\u001b[39mallow_simple_key:\n\u001b[0;32m--> 577\u001b[0m         \u001b[39mraise\u001b[39;00m ScannerError(\u001b[39mNone\u001b[39;00m, \u001b[39mNone\u001b[39;00m,\n\u001b[1;32m    578\u001b[0m                 \u001b[39m\"\u001b[39m\u001b[39mmapping values are not allowed here\u001b[39m\u001b[39m\"\u001b[39m,\n\u001b[1;32m    579\u001b[0m                 \u001b[39mself\u001b[39m\u001b[39m.\u001b[39mget_mark())\n\u001b[1;32m    581\u001b[0m \u001b[39m# If this value starts a new block mapping, we need to add\u001b[39;00m\n\u001b[1;32m    582\u001b[0m \u001b[39m# BLOCK-MAPPING-START.  It will be detected as an error later by\u001b[39;00m\n\u001b[1;32m    583\u001b[0m \u001b[39m# the parser.\u001b[39;00m\n\u001b[1;32m    584\u001b[0m \u001b[39mif\u001b[39;00m \u001b[39mnot\u001b[39;00m \u001b[39mself\u001b[39m\u001b[39m.\u001b[39mflow_level:\n",
      "\u001b[0;31mScannerError\u001b[0m: mapping values are not allowed here\n  in \"/Users/igor/repos/bluprint/conf/config.yaml\", line 3, column 5"
     ]
    }
   ],
   "source": [
    "OmegaConf.load(str(importlib.resources.files('conf').joinpath('config.yaml')))"
   ]
  },
  {
   "cell_type": "code",
   "execution_count": null,
   "metadata": {},
   "outputs": [],
   "source": [
    "OmegaConf.load()"
   ]
  },
  {
   "cell_type": "code",
   "execution_count": 22,
   "metadata": {},
   "outputs": [
    {
     "ename": "ScannerError",
     "evalue": "mapping values are not allowed here\n  in \"/Users/igor/repos/bluprint/conf/config.yaml\", line 3, column 5",
     "output_type": "error",
     "traceback": [
      "\u001b[0;31m---------------------------------------------------------------------------\u001b[0m",
      "\u001b[0;31mScannerError\u001b[0m                              Traceback (most recent call last)",
      "\u001b[1;32m/Users/igor/repos/bluprint/tmp/tmp2/test.ipynb Cell 20\u001b[0m line \u001b[0;36m1\n\u001b[0;32m----> <a href='vscode-notebook-cell:/Users/igor/repos/bluprint/tmp/tmp2/test.ipynb#X24sZmlsZQ%3D%3D?line=0'>1</a>\u001b[0m load_config(\u001b[39m'\u001b[39;49m\u001b[39mconfig.yaml\u001b[39;49m\u001b[39m'\u001b[39;49m)\n",
      "\u001b[1;32m/Users/igor/repos/bluprint/tmp/tmp2/test.ipynb Cell 20\u001b[0m line \u001b[0;36m6\n\u001b[1;32m      <a href='vscode-notebook-cell:/Users/igor/repos/bluprint/tmp/tmp2/test.ipynb#X24sZmlsZQ%3D%3D?line=3'>4</a>\u001b[0m \u001b[39mdef\u001b[39;00m \u001b[39mload_config\u001b[39m(config_file: \u001b[39mstr\u001b[39m) \u001b[39m-\u001b[39m\u001b[39m>\u001b[39m DictConfig:\n\u001b[1;32m      <a href='vscode-notebook-cell:/Users/igor/repos/bluprint/tmp/tmp2/test.ipynb#X24sZmlsZQ%3D%3D?line=4'>5</a>\u001b[0m \tabsolute_path: PosixPath \u001b[39m=\u001b[39m importlib\u001b[39m.\u001b[39mresources\u001b[39m.\u001b[39mfiles(\u001b[39m'\u001b[39m\u001b[39mconf\u001b[39m\u001b[39m'\u001b[39m)\n\u001b[0;32m----> <a href='vscode-notebook-cell:/Users/igor/repos/bluprint/tmp/tmp2/test.ipynb#X24sZmlsZQ%3D%3D?line=5'>6</a>\u001b[0m \t\u001b[39mreturn\u001b[39;00m OmegaConf\u001b[39m.\u001b[39;49mload(\u001b[39mstr\u001b[39;49m(absolute_path\u001b[39m.\u001b[39;49mjoinpath(config_file)))\n",
      "File \u001b[0;32m~/repos/bluprint/.venv/lib/python3.11/site-packages/omegaconf/omegaconf.py:190\u001b[0m, in \u001b[0;36mOmegaConf.load\u001b[0;34m(file_)\u001b[0m\n\u001b[1;32m    188\u001b[0m \u001b[39mif\u001b[39;00m \u001b[39misinstance\u001b[39m(file_, (\u001b[39mstr\u001b[39m, pathlib\u001b[39m.\u001b[39mPath)):\n\u001b[1;32m    189\u001b[0m     \u001b[39mwith\u001b[39;00m io\u001b[39m.\u001b[39mopen(os\u001b[39m.\u001b[39mpath\u001b[39m.\u001b[39mabspath(file_), \u001b[39m\"\u001b[39m\u001b[39mr\u001b[39m\u001b[39m\"\u001b[39m, encoding\u001b[39m=\u001b[39m\u001b[39m\"\u001b[39m\u001b[39mutf-8\u001b[39m\u001b[39m\"\u001b[39m) \u001b[39mas\u001b[39;00m f:\n\u001b[0;32m--> 190\u001b[0m         obj \u001b[39m=\u001b[39m yaml\u001b[39m.\u001b[39;49mload(f, Loader\u001b[39m=\u001b[39;49mget_yaml_loader())\n\u001b[1;32m    191\u001b[0m \u001b[39melif\u001b[39;00m \u001b[39mgetattr\u001b[39m(file_, \u001b[39m\"\u001b[39m\u001b[39mread\u001b[39m\u001b[39m\"\u001b[39m, \u001b[39mNone\u001b[39;00m):\n\u001b[1;32m    192\u001b[0m     obj \u001b[39m=\u001b[39m yaml\u001b[39m.\u001b[39mload(file_, Loader\u001b[39m=\u001b[39mget_yaml_loader())\n",
      "File \u001b[0;32m~/repos/bluprint/.venv/lib/python3.11/site-packages/yaml/__init__.py:81\u001b[0m, in \u001b[0;36mload\u001b[0;34m(stream, Loader)\u001b[0m\n\u001b[1;32m     79\u001b[0m loader \u001b[39m=\u001b[39m Loader(stream)\n\u001b[1;32m     80\u001b[0m \u001b[39mtry\u001b[39;00m:\n\u001b[0;32m---> 81\u001b[0m     \u001b[39mreturn\u001b[39;00m loader\u001b[39m.\u001b[39;49mget_single_data()\n\u001b[1;32m     82\u001b[0m \u001b[39mfinally\u001b[39;00m:\n\u001b[1;32m     83\u001b[0m     loader\u001b[39m.\u001b[39mdispose()\n",
      "File \u001b[0;32m~/repos/bluprint/.venv/lib/python3.11/site-packages/yaml/constructor.py:49\u001b[0m, in \u001b[0;36mBaseConstructor.get_single_data\u001b[0;34m(self)\u001b[0m\n\u001b[1;32m     47\u001b[0m \u001b[39mdef\u001b[39;00m \u001b[39mget_single_data\u001b[39m(\u001b[39mself\u001b[39m):\n\u001b[1;32m     48\u001b[0m     \u001b[39m# Ensure that the stream contains a single document and construct it.\u001b[39;00m\n\u001b[0;32m---> 49\u001b[0m     node \u001b[39m=\u001b[39m \u001b[39mself\u001b[39;49m\u001b[39m.\u001b[39;49mget_single_node()\n\u001b[1;32m     50\u001b[0m     \u001b[39mif\u001b[39;00m node \u001b[39mis\u001b[39;00m \u001b[39mnot\u001b[39;00m \u001b[39mNone\u001b[39;00m:\n\u001b[1;32m     51\u001b[0m         \u001b[39mreturn\u001b[39;00m \u001b[39mself\u001b[39m\u001b[39m.\u001b[39mconstruct_document(node)\n",
      "File \u001b[0;32m~/repos/bluprint/.venv/lib/python3.11/site-packages/yaml/composer.py:36\u001b[0m, in \u001b[0;36mComposer.get_single_node\u001b[0;34m(self)\u001b[0m\n\u001b[1;32m     34\u001b[0m document \u001b[39m=\u001b[39m \u001b[39mNone\u001b[39;00m\n\u001b[1;32m     35\u001b[0m \u001b[39mif\u001b[39;00m \u001b[39mnot\u001b[39;00m \u001b[39mself\u001b[39m\u001b[39m.\u001b[39mcheck_event(StreamEndEvent):\n\u001b[0;32m---> 36\u001b[0m     document \u001b[39m=\u001b[39m \u001b[39mself\u001b[39;49m\u001b[39m.\u001b[39;49mcompose_document()\n\u001b[1;32m     38\u001b[0m \u001b[39m# Ensure that the stream contains no more documents.\u001b[39;00m\n\u001b[1;32m     39\u001b[0m \u001b[39mif\u001b[39;00m \u001b[39mnot\u001b[39;00m \u001b[39mself\u001b[39m\u001b[39m.\u001b[39mcheck_event(StreamEndEvent):\n",
      "File \u001b[0;32m~/repos/bluprint/.venv/lib/python3.11/site-packages/yaml/composer.py:58\u001b[0m, in \u001b[0;36mComposer.compose_document\u001b[0;34m(self)\u001b[0m\n\u001b[1;32m     55\u001b[0m node \u001b[39m=\u001b[39m \u001b[39mself\u001b[39m\u001b[39m.\u001b[39mcompose_node(\u001b[39mNone\u001b[39;00m, \u001b[39mNone\u001b[39;00m)\n\u001b[1;32m     57\u001b[0m \u001b[39m# Drop the DOCUMENT-END event.\u001b[39;00m\n\u001b[0;32m---> 58\u001b[0m \u001b[39mself\u001b[39;49m\u001b[39m.\u001b[39;49mget_event()\n\u001b[1;32m     60\u001b[0m \u001b[39mself\u001b[39m\u001b[39m.\u001b[39manchors \u001b[39m=\u001b[39m {}\n\u001b[1;32m     61\u001b[0m \u001b[39mreturn\u001b[39;00m node\n",
      "File \u001b[0;32m~/repos/bluprint/.venv/lib/python3.11/site-packages/yaml/parser.py:118\u001b[0m, in \u001b[0;36mParser.get_event\u001b[0;34m(self)\u001b[0m\n\u001b[1;32m    116\u001b[0m \u001b[39mif\u001b[39;00m \u001b[39mself\u001b[39m\u001b[39m.\u001b[39mcurrent_event \u001b[39mis\u001b[39;00m \u001b[39mNone\u001b[39;00m:\n\u001b[1;32m    117\u001b[0m     \u001b[39mif\u001b[39;00m \u001b[39mself\u001b[39m\u001b[39m.\u001b[39mstate:\n\u001b[0;32m--> 118\u001b[0m         \u001b[39mself\u001b[39m\u001b[39m.\u001b[39mcurrent_event \u001b[39m=\u001b[39m \u001b[39mself\u001b[39;49m\u001b[39m.\u001b[39;49mstate()\n\u001b[1;32m    119\u001b[0m value \u001b[39m=\u001b[39m \u001b[39mself\u001b[39m\u001b[39m.\u001b[39mcurrent_event\n\u001b[1;32m    120\u001b[0m \u001b[39mself\u001b[39m\u001b[39m.\u001b[39mcurrent_event \u001b[39m=\u001b[39m \u001b[39mNone\u001b[39;00m\n",
      "File \u001b[0;32m~/repos/bluprint/.venv/lib/python3.11/site-packages/yaml/parser.py:193\u001b[0m, in \u001b[0;36mParser.parse_document_end\u001b[0;34m(self)\u001b[0m\n\u001b[1;32m    190\u001b[0m \u001b[39mdef\u001b[39;00m \u001b[39mparse_document_end\u001b[39m(\u001b[39mself\u001b[39m):\n\u001b[1;32m    191\u001b[0m \n\u001b[1;32m    192\u001b[0m     \u001b[39m# Parse the document end.\u001b[39;00m\n\u001b[0;32m--> 193\u001b[0m     token \u001b[39m=\u001b[39m \u001b[39mself\u001b[39;49m\u001b[39m.\u001b[39;49mpeek_token()\n\u001b[1;32m    194\u001b[0m     start_mark \u001b[39m=\u001b[39m end_mark \u001b[39m=\u001b[39m token\u001b[39m.\u001b[39mstart_mark\n\u001b[1;32m    195\u001b[0m     explicit \u001b[39m=\u001b[39m \u001b[39mFalse\u001b[39;00m\n",
      "File \u001b[0;32m~/repos/bluprint/.venv/lib/python3.11/site-packages/yaml/scanner.py:129\u001b[0m, in \u001b[0;36mScanner.peek_token\u001b[0;34m(self)\u001b[0m\n\u001b[1;32m    125\u001b[0m \u001b[39mdef\u001b[39;00m \u001b[39mpeek_token\u001b[39m(\u001b[39mself\u001b[39m):\n\u001b[1;32m    126\u001b[0m     \u001b[39m# Return the next token, but do not delete if from the queue.\u001b[39;00m\n\u001b[1;32m    127\u001b[0m     \u001b[39m# Return None if no more tokens.\u001b[39;00m\n\u001b[1;32m    128\u001b[0m     \u001b[39mwhile\u001b[39;00m \u001b[39mself\u001b[39m\u001b[39m.\u001b[39mneed_more_tokens():\n\u001b[0;32m--> 129\u001b[0m         \u001b[39mself\u001b[39;49m\u001b[39m.\u001b[39;49mfetch_more_tokens()\n\u001b[1;32m    130\u001b[0m     \u001b[39mif\u001b[39;00m \u001b[39mself\u001b[39m\u001b[39m.\u001b[39mtokens:\n\u001b[1;32m    131\u001b[0m         \u001b[39mreturn\u001b[39;00m \u001b[39mself\u001b[39m\u001b[39m.\u001b[39mtokens[\u001b[39m0\u001b[39m]\n",
      "File \u001b[0;32m~/repos/bluprint/.venv/lib/python3.11/site-packages/yaml/scanner.py:223\u001b[0m, in \u001b[0;36mScanner.fetch_more_tokens\u001b[0;34m(self)\u001b[0m\n\u001b[1;32m    221\u001b[0m \u001b[39m# Is it the value indicator?\u001b[39;00m\n\u001b[1;32m    222\u001b[0m \u001b[39mif\u001b[39;00m ch \u001b[39m==\u001b[39m \u001b[39m'\u001b[39m\u001b[39m:\u001b[39m\u001b[39m'\u001b[39m \u001b[39mand\u001b[39;00m \u001b[39mself\u001b[39m\u001b[39m.\u001b[39mcheck_value():\n\u001b[0;32m--> 223\u001b[0m     \u001b[39mreturn\u001b[39;00m \u001b[39mself\u001b[39;49m\u001b[39m.\u001b[39;49mfetch_value()\n\u001b[1;32m    225\u001b[0m \u001b[39m# Is it an alias?\u001b[39;00m\n\u001b[1;32m    226\u001b[0m \u001b[39mif\u001b[39;00m ch \u001b[39m==\u001b[39m \u001b[39m'\u001b[39m\u001b[39m*\u001b[39m\u001b[39m'\u001b[39m:\n",
      "File \u001b[0;32m~/repos/bluprint/.venv/lib/python3.11/site-packages/yaml/scanner.py:577\u001b[0m, in \u001b[0;36mScanner.fetch_value\u001b[0;34m(self)\u001b[0m\n\u001b[1;32m    572\u001b[0m \u001b[39mif\u001b[39;00m \u001b[39mnot\u001b[39;00m \u001b[39mself\u001b[39m\u001b[39m.\u001b[39mflow_level:\n\u001b[1;32m    573\u001b[0m \n\u001b[1;32m    574\u001b[0m     \u001b[39m# We are allowed to start a complex value if and only if\u001b[39;00m\n\u001b[1;32m    575\u001b[0m     \u001b[39m# we can start a simple key.\u001b[39;00m\n\u001b[1;32m    576\u001b[0m     \u001b[39mif\u001b[39;00m \u001b[39mnot\u001b[39;00m \u001b[39mself\u001b[39m\u001b[39m.\u001b[39mallow_simple_key:\n\u001b[0;32m--> 577\u001b[0m         \u001b[39mraise\u001b[39;00m ScannerError(\u001b[39mNone\u001b[39;00m, \u001b[39mNone\u001b[39;00m,\n\u001b[1;32m    578\u001b[0m                 \u001b[39m\"\u001b[39m\u001b[39mmapping values are not allowed here\u001b[39m\u001b[39m\"\u001b[39m,\n\u001b[1;32m    579\u001b[0m                 \u001b[39mself\u001b[39m\u001b[39m.\u001b[39mget_mark())\n\u001b[1;32m    581\u001b[0m \u001b[39m# If this value starts a new block mapping, we need to add\u001b[39;00m\n\u001b[1;32m    582\u001b[0m \u001b[39m# BLOCK-MAPPING-START.  It will be detected as an error later by\u001b[39;00m\n\u001b[1;32m    583\u001b[0m \u001b[39m# the parser.\u001b[39;00m\n\u001b[1;32m    584\u001b[0m \u001b[39mif\u001b[39;00m \u001b[39mnot\u001b[39;00m \u001b[39mself\u001b[39m\u001b[39m.\u001b[39mflow_level:\n",
      "\u001b[0;31mScannerError\u001b[0m: mapping values are not allowed here\n  in \"/Users/igor/repos/bluprint/conf/config.yaml\", line 3, column 5"
     ]
    }
   ],
   "source": [
    "load_config('config.yaml')"
   ]
  }
 ],
 "metadata": {
  "kernelspec": {
   "display_name": "bluprint-YlnStUWz-py3.11",
   "language": "python",
   "name": "python3"
  },
  "language_info": {
   "codemirror_mode": {
    "name": "ipython",
    "version": 3
   },
   "file_extension": ".py",
   "mimetype": "text/x-python",
   "name": "python",
   "nbconvert_exporter": "python",
   "pygments_lexer": "ipython3",
   "version": "3.11.4"
  }
 },
 "nbformat": 4,
 "nbformat_minor": 2
}
