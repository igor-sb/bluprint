{
 "cells": [
  {
   "cell_type": "code",
   "execution_count": 1,
   "metadata": {
    "execution": {
     "iopub.execute_input": "2023-12-05T00:44:03.875287Z",
     "iopub.status.busy": "2023-12-05T00:44:03.874675Z",
     "iopub.status.idle": "2023-12-05T00:44:03.882519Z",
     "shell.execute_reply": "2023-12-05T00:44:03.881516Z"
    }
   },
   "outputs": [],
   "source": [
    "import time"
   ]
  },
  {
   "cell_type": "code",
   "execution_count": 2,
   "metadata": {
    "execution": {
     "iopub.execute_input": "2023-12-05T00:44:03.886762Z",
     "iopub.status.busy": "2023-12-05T00:44:03.886251Z",
     "iopub.status.idle": "2023-12-05T00:44:03.991280Z",
     "shell.execute_reply": "2023-12-05T00:44:03.990217Z"
    }
   },
   "outputs": [
    {
     "name": "stdout",
     "output_type": "stream",
     "text": [
      "Hello from test1\n"
     ]
    }
   ],
   "source": [
    "print('Hello from test1')\n",
    "time.sleep(0.1)"
   ]
  },
  {
   "cell_type": "code",
   "execution_count": 3,
   "metadata": {
    "execution": {
     "iopub.execute_input": "2023-12-05T00:44:04.046640Z",
     "iopub.status.busy": "2023-12-05T00:44:04.045997Z",
     "iopub.status.idle": "2023-12-05T00:44:04.051463Z",
     "shell.execute_reply": "2023-12-05T00:44:04.050415Z"
    }
   },
   "outputs": [
    {
     "name": "stdout",
     "output_type": "stream",
     "text": [
      "1.1\n"
     ]
    }
   ],
   "source": [
    "print(1+0.1)"
   ]
  },
  {
   "cell_type": "code",
   "execution_count": 4,
   "metadata": {
    "execution": {
     "iopub.execute_input": "2023-12-05T00:44:04.055707Z",
     "iopub.status.busy": "2023-12-05T00:44:04.055231Z",
     "iopub.status.idle": "2023-12-05T00:44:04.060195Z",
     "shell.execute_reply": "2023-12-05T00:44:04.059156Z"
    }
   },
   "outputs": [
    {
     "name": "stdout",
     "output_type": "stream",
     "text": [
      "28\n"
     ]
    }
   ],
   "source": [
    "print(2*14)"
   ]
  }
 ],
 "metadata": {
  "kernelspec": {
   "display_name": ".venv",
   "language": "python",
   "name": "python3"
  },
  "language_info": {
   "codemirror_mode": {
    "name": "ipython",
    "version": 3
   },
   "file_extension": ".py",
   "mimetype": "text/x-python",
   "name": "python",
   "nbconvert_exporter": "python",
   "pygments_lexer": "ipython3",
   "version": "3.11.6"
  }
 },
 "nbformat": 4,
 "nbformat_minor": 2
}
