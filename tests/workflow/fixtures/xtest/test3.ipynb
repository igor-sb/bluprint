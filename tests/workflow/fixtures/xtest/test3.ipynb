{
 "cells": [
  {
   "cell_type": "code",
   "execution_count": 1,
   "metadata": {
    "execution": {
     "iopub.execute_input": "2023-12-05T00:44:10.540435Z",
     "iopub.status.busy": "2023-12-05T00:44:10.539450Z",
     "iopub.status.idle": "2023-12-05T00:44:10.549567Z",
     "shell.execute_reply": "2023-12-05T00:44:10.548384Z"
    }
   },
   "outputs": [
    {
     "name": "stdout",
     "output_type": "stream",
     "text": [
      "Hello from test3!\n"
     ]
    }
   ],
   "source": [
    "print('Hello from test3!')"
   ]
  },
  {
   "cell_type": "code",
   "execution_count": 2,
   "metadata": {
    "execution": {
     "iopub.execute_input": "2023-12-05T00:44:10.554838Z",
     "iopub.status.busy": "2023-12-05T00:44:10.553791Z",
     "iopub.status.idle": "2023-12-05T00:44:10.560002Z",
     "shell.execute_reply": "2023-12-05T00:44:10.558828Z"
    }
   },
   "outputs": [
    {
     "name": "stdout",
     "output_type": "stream",
     "text": [
      "Hello again!\n"
     ]
    }
   ],
   "source": [
    "print('Hello again!')"
   ]
  }
 ],
 "metadata": {
  "kernelspec": {
   "display_name": ".venv",
   "language": "python",
   "name": "python3"
  },
  "language_info": {
   "codemirror_mode": {
    "name": "ipython",
    "version": 3
   },
   "file_extension": ".py",
   "mimetype": "text/x-python",
   "name": "python",
   "nbconvert_exporter": "python",
   "pygments_lexer": "ipython3",
   "version": "3.11.6"
  }
 },
 "nbformat": 4,
 "nbformat_minor": 2
}
