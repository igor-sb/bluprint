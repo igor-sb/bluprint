{
 "cells": [
  {
   "cell_type": "markdown",
   "metadata": {},
   "source": [
    "Example notebook"
   ]
  },
  {
   "cell_type": "code",
   "execution_count": 6,
   "metadata": {},
   "outputs": [],
   "source": [
    "import pathlib\n",
    "import tempfile\n",
    "import importlib\n",
    "import shutil\n",
    "import pytest\n",
    "from unittest.mock import MagicMock, Mock, patch"
   ]
  },
  {
   "cell_type": "code",
   "execution_count": 1,
   "metadata": {},
   "outputs": [],
   "source": [
    "from bluprint.demo import copy_demo_files"
   ]
  },
  {
   "cell_type": "code",
   "execution_count": 11,
   "metadata": {},
   "outputs": [
    {
     "name": "stdout",
     "output_type": "stream",
     "text": [
      "*\n",
      "/Users/igor/repos/bluprint/data/a_and_b/a_and_b_transformed.csv\n",
      " dirs: []\n",
      " filename: a_and_b_transformed.csv\n",
      "/Users/igor/repos/bluprint/data/a_and_b/a_and_b_raw.csv\n",
      " dirs: []\n",
      " filename: a_and_b_raw.csv\n",
      "/Users/igor/repos/bluprint/data/a_and_b/a_and_b_summarized.csv\n",
      " dirs: []\n",
      " filename: a_and_b_summarized.csv\n",
      "*\n",
      "/Users/igor/repos/bluprint/data/transformed/table2.csv\n",
      " dirs: []\n",
      " filename: table2.csv\n",
      "*\n",
      "/Users/igor/repos/bluprint/data/raw/table1.csv\n",
      " dirs: []\n",
      " filename: table1.csv\n"
     ]
    }
   ],
   "source": [
    "\n",
    "for root, dirs, files in os.walk(data_files.joinpath('')):\n",
    "    if files:\n",
    "        print('*')\n",
    "        for filename in files:\n",
    "            print(os.path.join(root, filename))\n",
    "            print(f' dirs: {dirs}')\n",
    "            print(f' filename: {filename}')"
   ]
  },
  {
   "cell_type": "code",
   "execution_count": 1,
   "metadata": {},
   "outputs": [],
   "source": [
    "import logging\n",
    "\n",
    "# logging.basicConfig()"
   ]
  },
  {
   "cell_type": "code",
   "execution_count": 4,
   "metadata": {},
   "outputs": [],
   "source": [
    "import yaml"
   ]
  },
  {
   "cell_type": "code",
   "execution_count": 5,
   "metadata": {},
   "outputs": [],
   "source": [
    "with open('workflows.yaml') as yaml_file:\n",
    "\tx = yaml.safe_load(yaml_file)"
   ]
  },
  {
   "cell_type": "code",
   "execution_count": 6,
   "metadata": {},
   "outputs": [
    {
     "data": {
      "text/plain": [
       "{'test_workflow': ['test1.ipynb',\n",
       "  'test2.ipynb',\n",
       "  'samtools view somefile.bam\\n'],\n",
       " 'xtest_workflow': ['xtest1.ipynb', 'xtest2.ipynb']}"
      ]
     },
     "execution_count": 6,
     "metadata": {},
     "output_type": "execute_result"
    }
   ],
   "source": [
    "x"
   ]
  },
  {
   "cell_type": "code",
   "execution_count": 3,
   "metadata": {},
   "outputs": [],
   "source": [
    "logging.info('Workflow run: test_workflow')\n",
    "logging.info('- test1 (ipynb)')"
   ]
  }
 ],
 "metadata": {
  "kernelspec": {
   "display_name": "bluprint-YlnStUWz-py3.11",
   "language": "python",
   "name": "python3"
  },
  "language_info": {
   "codemirror_mode": {
    "name": "ipython",
    "version": 3
   },
   "file_extension": ".py",
   "mimetype": "text/x-python",
   "name": "python",
   "nbconvert_exporter": "python",
   "pygments_lexer": "ipython3",
   "version": "3.11.2"
  }
 },
 "nbformat": 4,
 "nbformat_minor": 2
}
