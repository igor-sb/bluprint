{
 "cells": [
  {
   "cell_type": "code",
   "execution_count": 1,
   "metadata": {
    "execution": {
     "iopub.execute_input": "2023-11-25T07:05:08.293683Z",
     "iopub.status.busy": "2023-11-25T07:05:08.292785Z",
     "iopub.status.idle": "2023-11-25T07:05:08.302667Z",
     "shell.execute_reply": "2023-11-25T07:05:08.301652Z"
    }
   },
   "outputs": [
    {
     "name": "stdout",
     "output_type": "stream",
     "text": [
      "Hello from test3!\n"
     ]
    }
   ],
   "source": [
    "print('Hello from test3!')"
   ]
  },
  {
   "cell_type": "code",
   "execution_count": 2,
   "metadata": {
    "execution": {
     "iopub.execute_input": "2023-11-25T07:05:08.306356Z",
     "iopub.status.busy": "2023-11-25T07:05:08.306044Z",
     "iopub.status.idle": "2023-11-25T07:05:08.310850Z",
     "shell.execute_reply": "2023-11-25T07:05:08.309775Z"
    }
   },
   "outputs": [
    {
     "name": "stdout",
     "output_type": "stream",
     "text": [
      "Hello again!\n"
     ]
    }
   ],
   "source": [
    "print('Hello again!')"
   ]
  }
 ],
 "metadata": {
  "kernelspec": {
   "display_name": ".venv",
   "language": "python",
   "name": "python3"
  },
  "language_info": {
   "codemirror_mode": {
    "name": "ipython",
    "version": 3
   },
   "file_extension": ".py",
   "mimetype": "text/x-python",
   "name": "python",
   "nbconvert_exporter": "python",
   "pygments_lexer": "ipython3",
   "version": "3.11.2"
  }
 },
 "nbformat": 4,
 "nbformat_minor": 2
}
