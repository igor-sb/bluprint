{
 "cells": [
  {
   "cell_type": "code",
   "execution_count": 1,
   "metadata": {
    "execution": {
     "iopub.execute_input": "2024-05-06T04:23:13.000495Z",
     "iopub.status.busy": "2024-05-06T04:23:13.000158Z",
     "iopub.status.idle": "2024-05-06T04:23:13.009472Z",
     "shell.execute_reply": "2024-05-06T04:23:13.008666Z"
    }
   },
   "outputs": [],
   "source": [
    "import time"
   ]
  },
  {
   "cell_type": "code",
   "execution_count": 2,
   "metadata": {
    "execution": {
     "iopub.execute_input": "2024-05-06T04:23:13.014536Z",
     "iopub.status.busy": "2024-05-06T04:23:13.014220Z",
     "iopub.status.idle": "2024-05-06T04:23:13.121418Z",
     "shell.execute_reply": "2024-05-06T04:23:13.120086Z"
    }
   },
   "outputs": [
    {
     "name": "stdout",
     "output_type": "stream",
     "text": [
      "Hello from test1\n"
     ]
    }
   ],
   "source": [
    "print('Hello from test1')\n",
    "time.sleep(0.1)"
   ]
  },
  {
   "cell_type": "code",
   "execution_count": 3,
   "metadata": {
    "execution": {
     "iopub.execute_input": "2024-05-06T04:23:13.181789Z",
     "iopub.status.busy": "2024-05-06T04:23:13.181518Z",
     "iopub.status.idle": "2024-05-06T04:23:13.184931Z",
     "shell.execute_reply": "2024-05-06T04:23:13.184267Z"
    }
   },
   "outputs": [
    {
     "name": "stdout",
     "output_type": "stream",
     "text": [
      "1.1\n"
     ]
    }
   ],
   "source": [
    "print(1+0.1)"
   ]
  },
  {
   "cell_type": "code",
   "execution_count": 4,
   "metadata": {
    "execution": {
     "iopub.execute_input": "2024-05-06T04:23:13.190418Z",
     "iopub.status.busy": "2024-05-06T04:23:13.190170Z",
     "iopub.status.idle": "2024-05-06T04:23:13.193446Z",
     "shell.execute_reply": "2024-05-06T04:23:13.192765Z"
    }
   },
   "outputs": [
    {
     "name": "stdout",
     "output_type": "stream",
     "text": [
      "28\n"
     ]
    }
   ],
   "source": [
    "print(2*14)"
   ]
  }
 ],
 "metadata": {
  "kernelspec": {
   "display_name": ".venv",
   "language": "python",
   "name": "python3"
  },
  "language_info": {
   "codemirror_mode": {
    "name": "ipython",
    "version": 3
   },
   "file_extension": ".py",
   "mimetype": "text/x-python",
   "name": "python",
   "nbconvert_exporter": "python",
   "pygments_lexer": "ipython3",
   "version": "3.11.4"
  }
 },
 "nbformat": 4,
 "nbformat_minor": 2
}
