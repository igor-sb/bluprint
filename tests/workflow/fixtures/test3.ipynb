{
 "cells": [
  {
   "cell_type": "code",
   "execution_count": 1,
   "metadata": {
    "execution": {
     "iopub.execute_input": "2023-11-24T05:58:29.533229Z",
     "iopub.status.busy": "2023-11-24T05:58:29.532708Z",
     "iopub.status.idle": "2023-11-24T05:58:30.542974Z",
     "shell.execute_reply": "2023-11-24T05:58:30.541923Z"
    }
   },
   "outputs": [
    {
     "name": "stdout",
     "output_type": "stream",
     "text": [
      "Hello from test3!\n"
     ]
    }
   ],
   "source": [
    "import time\n",
    "import random\n",
    "\n",
    "print('Hello from test3!')\n",
    "time.sleep(1)"
   ]
  },
  {
   "cell_type": "code",
   "execution_count": 2,
   "metadata": {
    "execution": {
     "iopub.execute_input": "2023-11-24T05:58:30.547379Z",
     "iopub.status.busy": "2023-11-24T05:58:30.546828Z",
     "iopub.status.idle": "2023-11-24T05:58:30.552159Z",
     "shell.execute_reply": "2023-11-24T05:58:30.551190Z"
    }
   },
   "outputs": [
    {
     "name": "stdout",
     "output_type": "stream",
     "text": [
      "Random number: 0.1950870626465292\n"
     ]
    }
   ],
   "source": [
    "print('Random number: {rnd}'.format(rnd=random.random()))"
   ]
  }
 ],
 "metadata": {
  "kernelspec": {
   "display_name": ".venv",
   "language": "python",
   "name": "python3"
  },
  "language_info": {
   "codemirror_mode": {
    "name": "ipython",
    "version": 3
   },
   "file_extension": ".py",
   "mimetype": "text/x-python",
   "name": "python",
   "nbconvert_exporter": "python",
   "pygments_lexer": "ipython3",
   "version": "3.11.2"
  }
 },
 "nbformat": 4,
 "nbformat_minor": 2
}
