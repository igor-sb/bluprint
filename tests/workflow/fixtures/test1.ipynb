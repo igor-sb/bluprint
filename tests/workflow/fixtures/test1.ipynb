{
 "cells": [
  {
   "cell_type": "code",
   "execution_count": 1,
   "metadata": {
    "execution": {
     "iopub.execute_input": "2023-12-05T02:26:48.378890Z",
     "iopub.status.busy": "2023-12-05T02:26:48.378405Z",
     "iopub.status.idle": "2023-12-05T02:26:48.387457Z",
     "shell.execute_reply": "2023-12-05T02:26:48.386339Z"
    }
   },
   "outputs": [],
   "source": [
    "import time"
   ]
  },
  {
   "cell_type": "code",
   "execution_count": 2,
   "metadata": {
    "execution": {
     "iopub.execute_input": "2023-12-05T02:26:48.391623Z",
     "iopub.status.busy": "2023-12-05T02:26:48.391181Z",
     "iopub.status.idle": "2023-12-05T02:26:48.496171Z",
     "shell.execute_reply": "2023-12-05T02:26:48.495063Z"
    }
   },
   "outputs": [
    {
     "name": "stdout",
     "output_type": "stream",
     "text": [
      "Hello from test1\n"
     ]
    }
   ],
   "source": [
    "print('Hello from test1')\n",
    "time.sleep(0.1)"
   ]
  },
  {
   "cell_type": "code",
   "execution_count": 3,
   "metadata": {
    "execution": {
     "iopub.execute_input": "2023-12-05T02:26:48.557685Z",
     "iopub.status.busy": "2023-12-05T02:26:48.557104Z",
     "iopub.status.idle": "2023-12-05T02:26:48.562243Z",
     "shell.execute_reply": "2023-12-05T02:26:48.561316Z"
    }
   },
   "outputs": [
    {
     "name": "stdout",
     "output_type": "stream",
     "text": [
      "1.1\n"
     ]
    }
   ],
   "source": [
    "print(1+0.1)"
   ]
  },
  {
   "cell_type": "code",
   "execution_count": 4,
   "metadata": {
    "execution": {
     "iopub.execute_input": "2023-12-05T02:26:48.566526Z",
     "iopub.status.busy": "2023-12-05T02:26:48.566009Z",
     "iopub.status.idle": "2023-12-05T02:26:48.571010Z",
     "shell.execute_reply": "2023-12-05T02:26:48.569944Z"
    }
   },
   "outputs": [
    {
     "name": "stdout",
     "output_type": "stream",
     "text": [
      "28\n"
     ]
    }
   ],
   "source": [
    "print(2*14)"
   ]
  }
 ],
 "metadata": {
  "kernelspec": {
   "display_name": ".venv",
   "language": "python",
   "name": "python3"
  },
  "language_info": {
   "codemirror_mode": {
    "name": "ipython",
    "version": 3
   },
   "file_extension": ".py",
   "mimetype": "text/x-python",
   "name": "python",
   "nbconvert_exporter": "python",
   "pygments_lexer": "ipython3",
   "version": "3.11.6"
  }
 },
 "nbformat": 4,
 "nbformat_minor": 2
}
