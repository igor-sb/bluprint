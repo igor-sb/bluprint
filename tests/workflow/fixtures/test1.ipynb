{
 "cells": [
  {
   "cell_type": "code",
   "execution_count": 1,
   "metadata": {
    "execution": {
     "iopub.execute_input": "2024-05-06T03:16:49.455689Z",
     "iopub.status.busy": "2024-05-06T03:16:49.455358Z",
     "iopub.status.idle": "2024-05-06T03:16:49.464605Z",
     "shell.execute_reply": "2024-05-06T03:16:49.463896Z"
    }
   },
   "outputs": [],
   "source": [
    "import time"
   ]
  },
  {
   "cell_type": "code",
   "execution_count": 2,
   "metadata": {
    "execution": {
     "iopub.execute_input": "2024-05-06T03:16:49.469128Z",
     "iopub.status.busy": "2024-05-06T03:16:49.468839Z",
     "iopub.status.idle": "2024-05-06T03:16:49.579240Z",
     "shell.execute_reply": "2024-05-06T03:16:49.577906Z"
    }
   },
   "outputs": [
    {
     "name": "stdout",
     "output_type": "stream",
     "text": [
      "Hello from test1\n"
     ]
    }
   ],
   "source": [
    "print('Hello from test1')\n",
    "time.sleep(0.1)"
   ]
  },
  {
   "cell_type": "code",
   "execution_count": 3,
   "metadata": {
    "execution": {
     "iopub.execute_input": "2024-05-06T03:16:49.638311Z",
     "iopub.status.busy": "2024-05-06T03:16:49.638030Z",
     "iopub.status.idle": "2024-05-06T03:16:49.641590Z",
     "shell.execute_reply": "2024-05-06T03:16:49.640963Z"
    }
   },
   "outputs": [
    {
     "name": "stdout",
     "output_type": "stream",
     "text": [
      "1.1\n"
     ]
    }
   ],
   "source": [
    "print(1+0.1)"
   ]
  },
  {
   "cell_type": "code",
   "execution_count": 4,
   "metadata": {
    "execution": {
     "iopub.execute_input": "2024-05-06T03:16:49.646646Z",
     "iopub.status.busy": "2024-05-06T03:16:49.646395Z",
     "iopub.status.idle": "2024-05-06T03:16:49.650050Z",
     "shell.execute_reply": "2024-05-06T03:16:49.649441Z"
    }
   },
   "outputs": [
    {
     "name": "stdout",
     "output_type": "stream",
     "text": [
      "28\n"
     ]
    }
   ],
   "source": [
    "print(2*14)"
   ]
  }
 ],
 "metadata": {
  "kernelspec": {
   "display_name": ".venv",
   "language": "python",
   "name": "python3"
  },
  "language_info": {
   "codemirror_mode": {
    "name": "ipython",
    "version": 3
   },
   "file_extension": ".py",
   "mimetype": "text/x-python",
   "name": "python",
   "nbconvert_exporter": "python",
   "pygments_lexer": "ipython3",
   "version": "3.11.4"
  }
 },
 "nbformat": 4,
 "nbformat_minor": 2
}
