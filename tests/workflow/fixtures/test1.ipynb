{
 "cells": [
  {
   "cell_type": "code",
   "execution_count": 1,
   "metadata": {
    "execution": {
     "iopub.execute_input": "2023-11-24T23:03:03.198869Z",
     "iopub.status.busy": "2023-11-24T23:03:03.198323Z",
     "iopub.status.idle": "2023-11-24T23:03:03.207550Z",
     "shell.execute_reply": "2023-11-24T23:03:03.206532Z"
    }
   },
   "outputs": [],
   "source": [
    "import time"
   ]
  },
  {
   "cell_type": "code",
   "execution_count": 2,
   "metadata": {
    "execution": {
     "iopub.execute_input": "2023-11-24T23:03:03.211830Z",
     "iopub.status.busy": "2023-11-24T23:03:03.211329Z",
     "iopub.status.idle": "2023-11-24T23:03:04.217796Z",
     "shell.execute_reply": "2023-11-24T23:03:04.216134Z"
    }
   },
   "outputs": [
    {
     "name": "stdout",
     "output_type": "stream",
     "text": [
      "Hello from test1\n"
     ]
    }
   ],
   "source": [
    "time.sleep(1)\n",
    "print('Hello from test1')"
   ]
  },
  {
   "cell_type": "code",
   "execution_count": 3,
   "metadata": {
    "execution": {
     "iopub.execute_input": "2023-11-24T23:03:04.285853Z",
     "iopub.status.busy": "2023-11-24T23:03:04.285148Z",
     "iopub.status.idle": "2023-11-24T23:03:04.291485Z",
     "shell.execute_reply": "2023-11-24T23:03:04.290260Z"
    }
   },
   "outputs": [
    {
     "name": "stdout",
     "output_type": "stream",
     "text": [
      "1.1\n"
     ]
    }
   ],
   "source": [
    "print(1+0.1)"
   ]
  },
  {
   "cell_type": "code",
   "execution_count": 4,
   "metadata": {
    "execution": {
     "iopub.execute_input": "2023-11-24T23:03:04.297066Z",
     "iopub.status.busy": "2023-11-24T23:03:04.296455Z",
     "iopub.status.idle": "2023-11-24T23:03:04.301870Z",
     "shell.execute_reply": "2023-11-24T23:03:04.300765Z"
    }
   },
   "outputs": [
    {
     "name": "stdout",
     "output_type": "stream",
     "text": [
      "28\n"
     ]
    }
   ],
   "source": [
    "print(2*14)"
   ]
  }
 ],
 "metadata": {
  "kernelspec": {
   "display_name": ".venv",
   "language": "python",
   "name": "python3"
  },
  "language_info": {
   "codemirror_mode": {
    "name": "ipython",
    "version": 3
   },
   "file_extension": ".py",
   "mimetype": "text/x-python",
   "name": "python",
   "nbconvert_exporter": "python",
   "pygments_lexer": "ipython3",
   "version": "3.11.2"
  }
 },
 "nbformat": 4,
 "nbformat_minor": 2
}
