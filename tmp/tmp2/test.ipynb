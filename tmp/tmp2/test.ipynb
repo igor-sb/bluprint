{
 "cells": [
  {
   "cell_type": "markdown",
   "metadata": {},
   "source": [
    "Example notebook"
   ]
  },
  {
   "cell_type": "code",
   "execution_count": 10,
   "metadata": {},
   "outputs": [],
   "source": [
    "\n",
    "import re\n",
    "import os\n",
    "import tempfile\n",
    "from pathlib import Path\n",
    "from bluprint.capture_output import capture_stderr\n",
    "import shutil\n",
    "\n",
    "from bluprint.workflow import run_workflow\n",
    "\n",
    "\n",
    "def test_run_workflow_cli():\n",
    "    fixture_path = 'tests/workflow/fixtures'\n",
    "    os.environ['JUPYTER_PLATFORM_DIRS'] = '1'\n",
    "    with tempfile.NamedTemporaryFile('w') as temp_file:\n",
    "        print(f'Log file: {temp_file.name}')\n",
    "        workflow_log = capture_stderr(\n",
    "            run_workflow,\n",
    "            yaml_dir=fixture_path,\n",
    "            notebook_dir=fixture_path,\n",
    "        )\n",
    "        print(workflow_log)\n",
    "        for line in workflow_log.split('\\n'):\n",
    "            temp_file.write(re.sub(' Elapsed:.*$', '', line))\n",
    "        temp_file.flush()\n",
    "        shutil.copy(temp_file.name, '/home/igor/repos/bluprint/test.log')"
   ]
  },
  {
   "cell_type": "code",
   "execution_count": 11,
   "metadata": {},
   "outputs": [
    {
     "name": "stderr",
     "output_type": "stream",
     "text": [
      "Running workflows:\n",
      "\u001b[95m\u001b[1mtest_workflow\u001b[0m\n"
     ]
    },
    {
     "name": "stdout",
     "output_type": "stream",
     "text": [
      "Log file: /tmp/tmpyeca0ozm\n"
     ]
    },
    {
     "name": "stderr",
     "output_type": "stream",
     "text": [
      "\u001b[95m\u001b[1mxtest_workflow\u001b[0m\n",
      "Done.\n"
     ]
    },
    {
     "name": "stdout",
     "output_type": "stream",
     "text": [
      "\u001b[96m\u001b[1m├─── test1.ipynb\u001b[0m 100% \u001b[96m─\u001b[0m 4/4 cells \u001b[96m─\u001b[0m Elapsed: 00:01\n",
      "\u001b[96m\u001b[1m└─── test2.ipynb\u001b[0m 100% \u001b[96m─\u001b[0m 1/1 cells \u001b[96m─\u001b[0m Elapsed: 00:00\n",
      "\u001b[96m\u001b[1m├─── test3.ipynb\u001b[0m 100% \u001b[96m─\u001b[0m 2/2 cells \u001b[96m─\u001b[0m Elapsed: 00:01\n",
      "\u001b[96m\u001b[1m└─── test4.ipynb\u001b[0m 100% \u001b[96m─\u001b[0m 1/1 cells \u001b[96m─\u001b[0m Elapsed: 00:01\n",
      "\n"
     ]
    }
   ],
   "source": [
    "test_run_workflow_cli()"
   ]
  },
  {
   "cell_type": "code",
   "execution_count": 12,
   "metadata": {},
   "outputs": [],
   "source": [
    "tmp = ['dfdsaaa', 'gfdgfdaaa', 'ggfnnn']"
   ]
  },
  {
   "cell_type": "code",
   "execution_count": 14,
   "metadata": {},
   "outputs": [
    {
     "data": {
      "text/plain": [
       "'Something something has  time'"
      ]
     },
     "execution_count": 14,
     "metadata": {},
     "output_type": "execute_result"
    }
   ],
   "source": [
    "re.sub('Elapsed [0-9:]+', '', 'Something something has Elapsed: 00:12:14 time')"
   ]
  },
  {
   "cell_type": "code",
   "execution_count": 16,
   "metadata": {},
   "outputs": [],
   "source": [
    "from omegaconf import OmegaConf"
   ]
  },
  {
   "cell_type": "code",
   "execution_count": 18,
   "metadata": {},
   "outputs": [
    {
     "name": "stdout",
     "output_type": "stream",
     "text": [
      "\u001b[0;31mSignature:\u001b[0m \u001b[0mOmegaConf\u001b[0m\u001b[0;34m.\u001b[0m\u001b[0mload\u001b[0m\u001b[0;34m(\u001b[0m\u001b[0mfile_\u001b[0m\u001b[0;34m:\u001b[0m \u001b[0mUnion\u001b[0m\u001b[0;34m[\u001b[0m\u001b[0mstr\u001b[0m\u001b[0;34m,\u001b[0m \u001b[0mpathlib\u001b[0m\u001b[0;34m.\u001b[0m\u001b[0mPath\u001b[0m\u001b[0;34m,\u001b[0m \u001b[0mIO\u001b[0m\u001b[0;34m[\u001b[0m\u001b[0mAny\u001b[0m\u001b[0;34m]\u001b[0m\u001b[0;34m]\u001b[0m\u001b[0;34m)\u001b[0m \u001b[0;34m->\u001b[0m \u001b[0mUnion\u001b[0m\u001b[0;34m[\u001b[0m\u001b[0momegaconf\u001b[0m\u001b[0;34m.\u001b[0m\u001b[0mdictconfig\u001b[0m\u001b[0;34m.\u001b[0m\u001b[0mDictConfig\u001b[0m\u001b[0;34m,\u001b[0m \u001b[0momegaconf\u001b[0m\u001b[0;34m.\u001b[0m\u001b[0mlistconfig\u001b[0m\u001b[0;34m.\u001b[0m\u001b[0mListConfig\u001b[0m\u001b[0;34m]\u001b[0m\u001b[0;34m\u001b[0m\u001b[0;34m\u001b[0m\u001b[0m\n",
      "\u001b[0;31mDocstring:\u001b[0m <no docstring>\n",
      "\u001b[0;31mFile:\u001b[0m      ~/repos/bluprint/.venv/lib/python3.11/site-packages/omegaconf/omegaconf.py\n",
      "\u001b[0;31mType:\u001b[0m      function"
     ]
    }
   ],
   "source": [
    "OmegaConf.load?"
   ]
  },
  {
   "cell_type": "code",
   "execution_count": 27,
   "metadata": {},
   "outputs": [
    {
     "data": {
      "text/plain": [
       "{'groups': {'g1': {'opt11': 1, 'opt12': 'a'}, 'opt2': 'b', 'opt3': ['c', 'd']}, 'list': [1, 2]}"
      ]
     },
     "execution_count": 27,
     "metadata": {},
     "output_type": "execute_result"
    }
   ],
   "source": [
    "test_conf = OmegaConf.load('test.yaml')\n",
    "test_conf"
   ]
  },
  {
   "cell_type": "code",
   "execution_count": 32,
   "metadata": {},
   "outputs": [
    {
     "name": "stdout",
     "output_type": "stream",
     "text": [
      "0\n",
      "1\n"
     ]
    }
   ],
   "source": [
    "for index, item in enumerate(test_conf.list):\n",
    "\tprint(index)"
   ]
  },
  {
   "cell_type": "code",
   "execution_count": 22,
   "metadata": {},
   "outputs": [
    {
     "data": {
      "text/plain": [
       "int"
      ]
     },
     "execution_count": 22,
     "metadata": {},
     "output_type": "execute_result"
    }
   ],
   "source": [
    "type(abc_conf.var1)"
   ]
  }
 ],
 "metadata": {
  "kernelspec": {
   "display_name": "bluprint-YlnStUWz-py3.11",
   "language": "python",
   "name": "python3"
  },
  "language_info": {
   "codemirror_mode": {
    "name": "ipython",
    "version": 3
   },
   "file_extension": ".py",
   "mimetype": "text/x-python",
   "name": "python",
   "nbconvert_exporter": "python",
   "pygments_lexer": "ipython3",
   "version": "3.11.2"
  }
 },
 "nbformat": 4,
 "nbformat_minor": 2
}
