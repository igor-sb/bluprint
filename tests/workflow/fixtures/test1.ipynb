{
 "cells": [
  {
   "cell_type": "code",
   "execution_count": 1,
   "metadata": {
    "execution": {
     "iopub.execute_input": "2024-08-26T03:16:05.497526Z",
     "iopub.status.busy": "2024-08-26T03:16:05.497018Z",
     "iopub.status.idle": "2024-08-26T03:16:05.505102Z",
     "shell.execute_reply": "2024-08-26T03:16:05.504117Z"
    }
   },
   "outputs": [],
   "source": [
    "import time"
   ]
  },
  {
   "cell_type": "code",
   "execution_count": 2,
   "metadata": {
    "execution": {
     "iopub.execute_input": "2024-08-26T03:16:05.509239Z",
     "iopub.status.busy": "2024-08-26T03:16:05.508764Z",
     "iopub.status.idle": "2024-08-26T03:16:05.613455Z",
     "shell.execute_reply": "2024-08-26T03:16:05.612458Z"
    }
   },
   "outputs": [
    {
     "name": "stdout",
     "output_type": "stream",
     "text": [
      "Hello from test1\n"
     ]
    }
   ],
   "source": [
    "print('Hello from test1')\n",
    "time.sleep(0.1)"
   ]
  },
  {
   "cell_type": "code",
   "execution_count": 3,
   "metadata": {
    "execution": {
     "iopub.execute_input": "2024-08-26T03:16:05.669464Z",
     "iopub.status.busy": "2024-08-26T03:16:05.668953Z",
     "iopub.status.idle": "2024-08-26T03:16:05.674285Z",
     "shell.execute_reply": "2024-08-26T03:16:05.673246Z"
    }
   },
   "outputs": [
    {
     "name": "stdout",
     "output_type": "stream",
     "text": [
      "1.1\n"
     ]
    }
   ],
   "source": [
    "print(1+0.1)"
   ]
  },
  {
   "cell_type": "code",
   "execution_count": 4,
   "metadata": {
    "execution": {
     "iopub.execute_input": "2024-08-26T03:16:05.678970Z",
     "iopub.status.busy": "2024-08-26T03:16:05.678530Z",
     "iopub.status.idle": "2024-08-26T03:16:05.683870Z",
     "shell.execute_reply": "2024-08-26T03:16:05.682763Z"
    }
   },
   "outputs": [
    {
     "name": "stdout",
     "output_type": "stream",
     "text": [
      "28\n"
     ]
    }
   ],
   "source": [
    "print(2*14)"
   ]
  }
 ],
 "metadata": {
  "kernelspec": {
   "display_name": ".venv",
   "language": "python",
   "name": "python3"
  },
  "language_info": {
   "codemirror_mode": {
    "name": "ipython",
    "version": 3
   },
   "file_extension": ".py",
   "mimetype": "text/x-python",
   "name": "python",
   "nbconvert_exporter": "python",
   "pygments_lexer": "ipython3",
   "version": "3.11.9"
  }
 },
 "nbformat": 4,
 "nbformat_minor": 2
}
