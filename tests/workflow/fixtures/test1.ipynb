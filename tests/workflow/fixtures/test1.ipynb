{
 "cells": [
  {
   "cell_type": "code",
   "execution_count": 1,
   "metadata": {
    "execution": {
     "iopub.execute_input": "2023-11-26T16:13:09.396446Z",
     "iopub.status.busy": "2023-11-26T16:13:09.395924Z",
     "iopub.status.idle": "2023-11-26T16:13:09.405412Z",
     "shell.execute_reply": "2023-11-26T16:13:09.404415Z"
    }
   },
   "outputs": [],
   "source": [
    "import time"
   ]
  },
  {
   "cell_type": "code",
   "execution_count": 2,
   "metadata": {
    "execution": {
     "iopub.execute_input": "2023-11-26T16:13:09.409929Z",
     "iopub.status.busy": "2023-11-26T16:13:09.409363Z",
     "iopub.status.idle": "2023-11-26T16:13:09.514953Z",
     "shell.execute_reply": "2023-11-26T16:13:09.513923Z"
    }
   },
   "outputs": [
    {
     "name": "stdout",
     "output_type": "stream",
     "text": [
      "Hello from test1\n"
     ]
    }
   ],
   "source": [
    "print('Hello from test1')\n",
    "time.sleep(0.1)"
   ]
  },
  {
   "cell_type": "code",
   "execution_count": 3,
   "metadata": {
    "execution": {
     "iopub.execute_input": "2023-11-26T16:13:09.571786Z",
     "iopub.status.busy": "2023-11-26T16:13:09.571241Z",
     "iopub.status.idle": "2023-11-26T16:13:09.576391Z",
     "shell.execute_reply": "2023-11-26T16:13:09.575346Z"
    }
   },
   "outputs": [
    {
     "name": "stdout",
     "output_type": "stream",
     "text": [
      "1.1\n"
     ]
    }
   ],
   "source": [
    "print(1+0.1)"
   ]
  },
  {
   "cell_type": "code",
   "execution_count": 4,
   "metadata": {
    "execution": {
     "iopub.execute_input": "2023-11-26T16:13:09.580414Z",
     "iopub.status.busy": "2023-11-26T16:13:09.579927Z",
     "iopub.status.idle": "2023-11-26T16:13:09.585313Z",
     "shell.execute_reply": "2023-11-26T16:13:09.584249Z"
    }
   },
   "outputs": [
    {
     "name": "stdout",
     "output_type": "stream",
     "text": [
      "28\n"
     ]
    }
   ],
   "source": [
    "print(2*14)"
   ]
  }
 ],
 "metadata": {
  "kernelspec": {
   "display_name": ".venv",
   "language": "python",
   "name": "python3"
  },
  "language_info": {
   "codemirror_mode": {
    "name": "ipython",
    "version": 3
   },
   "file_extension": ".py",
   "mimetype": "text/x-python",
   "name": "python",
   "nbconvert_exporter": "python",
   "pygments_lexer": "ipython3",
   "version": "3.11.2"
  }
 },
 "nbformat": 4,
 "nbformat_minor": 2
}
