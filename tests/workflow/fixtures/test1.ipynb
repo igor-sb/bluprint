{
 "cells": [
  {
   "cell_type": "code",
   "execution_count": 1,
   "metadata": {
    "execution": {
     "iopub.execute_input": "2023-11-26T23:41:14.323614Z",
     "iopub.status.busy": "2023-11-26T23:41:14.323114Z",
     "iopub.status.idle": "2023-11-26T23:41:14.331485Z",
     "shell.execute_reply": "2023-11-26T23:41:14.330859Z"
    }
   },
   "outputs": [],
   "source": [
    "import time"
   ]
  },
  {
   "cell_type": "code",
   "execution_count": 2,
   "metadata": {
    "execution": {
     "iopub.execute_input": "2023-11-26T23:41:14.335634Z",
     "iopub.status.busy": "2023-11-26T23:41:14.335343Z",
     "iopub.status.idle": "2023-11-26T23:41:14.443582Z",
     "shell.execute_reply": "2023-11-26T23:41:14.442754Z"
    }
   },
   "outputs": [
    {
     "name": "stdout",
     "output_type": "stream",
     "text": [
      "Hello from test1\n"
     ]
    }
   ],
   "source": [
    "print('Hello from test1')\n",
    "time.sleep(0.1)"
   ]
  },
  {
   "cell_type": "code",
   "execution_count": 3,
   "metadata": {
    "execution": {
     "iopub.execute_input": "2023-11-26T23:41:14.496931Z",
     "iopub.status.busy": "2023-11-26T23:41:14.496669Z",
     "iopub.status.idle": "2023-11-26T23:41:14.499935Z",
     "shell.execute_reply": "2023-11-26T23:41:14.499420Z"
    }
   },
   "outputs": [
    {
     "name": "stdout",
     "output_type": "stream",
     "text": [
      "1.1\n"
     ]
    }
   ],
   "source": [
    "print(1+0.1)"
   ]
  },
  {
   "cell_type": "code",
   "execution_count": 4,
   "metadata": {
    "execution": {
     "iopub.execute_input": "2023-11-26T23:41:14.505168Z",
     "iopub.status.busy": "2023-11-26T23:41:14.504917Z",
     "iopub.status.idle": "2023-11-26T23:41:14.508108Z",
     "shell.execute_reply": "2023-11-26T23:41:14.507592Z"
    }
   },
   "outputs": [
    {
     "name": "stdout",
     "output_type": "stream",
     "text": [
      "28\n"
     ]
    }
   ],
   "source": [
    "print(2*14)"
   ]
  }
 ],
 "metadata": {
  "kernelspec": {
   "display_name": ".venv",
   "language": "python",
   "name": "python3"
  },
  "language_info": {
   "codemirror_mode": {
    "name": "ipython",
    "version": 3
   },
   "file_extension": ".py",
   "mimetype": "text/x-python",
   "name": "python",
   "nbconvert_exporter": "python",
   "pygments_lexer": "ipython3",
   "version": "3.11.4"
  }
 },
 "nbformat": 4,
 "nbformat_minor": 2
}
