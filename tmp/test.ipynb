{
 "cells": [
  {
   "cell_type": "markdown",
   "metadata": {},
   "source": [
    "Example notebook"
   ]
  },
  {
   "cell_type": "code",
   "execution_count": 1,
   "metadata": {},
   "outputs": [
    {
     "name": "stdout",
     "output_type": "stream",
     "text": [
      "3\n"
     ]
    }
   ],
   "source": [
    "import subprocess\n",
    "import re\n",
    "\n",
    "r_cell_re = re.compile(r'^```\\{r[^\\}]+\\}')\n",
    "\n",
    "#def number_of_rmarkdown_cells(rmd_file: str) -> int:\n",
    "rmd_file = '../demo/notebooks/example_rmarkdown.Rmd'\n",
    "\n",
    "def number_of_r_cells_in_rmd(rmd_file: str) -> int:\n",
    "\tnumber_of_r_cells = 0\n",
    "\twith open(rmd_file) as rmd:\n",
    "\t\tfor rmd_line in rmd:\n",
    "\t\t\tif r_cell_re.match(rmd_line):\n",
    "\t\t\t\tnumber_of_r_cells += 1\n",
    "\treturn number_of_r_cells\n",
    "\n",
    "print(number_of_r_cells)"
   ]
  }
 ],
 "metadata": {
  "kernelspec": {
   "display_name": "bluprint-YlnStUWz-py3.11",
   "language": "python",
   "name": "python3"
  },
  "language_info": {
   "codemirror_mode": {
    "name": "ipython",
    "version": 3
   },
   "file_extension": ".py",
   "mimetype": "text/x-python",
   "name": "python",
   "nbconvert_exporter": "python",
   "pygments_lexer": "ipython3",
   "version": "3.11.2"
  }
 },
 "nbformat": 4,
 "nbformat_minor": 2
}
