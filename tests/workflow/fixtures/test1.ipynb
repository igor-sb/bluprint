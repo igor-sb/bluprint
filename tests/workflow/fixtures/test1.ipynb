{
 "cells": [
  {
   "cell_type": "code",
   "execution_count": 1,
   "metadata": {
    "execution": {
     "iopub.execute_input": "2024-08-24T00:23:15.470543Z",
     "iopub.status.busy": "2024-08-24T00:23:15.469920Z",
     "iopub.status.idle": "2024-08-24T00:23:15.479339Z",
     "shell.execute_reply": "2024-08-24T00:23:15.478201Z"
    }
   },
   "outputs": [],
   "source": [
    "import time"
   ]
  },
  {
   "cell_type": "code",
   "execution_count": 2,
   "metadata": {
    "execution": {
     "iopub.execute_input": "2024-08-24T00:23:15.484555Z",
     "iopub.status.busy": "2024-08-24T00:23:15.483521Z",
     "iopub.status.idle": "2024-08-24T00:23:15.590435Z",
     "shell.execute_reply": "2024-08-24T00:23:15.588710Z"
    }
   },
   "outputs": [
    {
     "name": "stdout",
     "output_type": "stream",
     "text": [
      "Hello from test1\n"
     ]
    }
   ],
   "source": [
    "print('Hello from test1')\n",
    "time.sleep(0.1)"
   ]
  },
  {
   "cell_type": "code",
   "execution_count": 3,
   "metadata": {
    "execution": {
     "iopub.execute_input": "2024-08-24T00:23:15.655586Z",
     "iopub.status.busy": "2024-08-24T00:23:15.655014Z",
     "iopub.status.idle": "2024-08-24T00:23:15.660272Z",
     "shell.execute_reply": "2024-08-24T00:23:15.659354Z"
    }
   },
   "outputs": [
    {
     "name": "stdout",
     "output_type": "stream",
     "text": [
      "1.1\n"
     ]
    }
   ],
   "source": [
    "print(1+0.1)"
   ]
  },
  {
   "cell_type": "code",
   "execution_count": 4,
   "metadata": {
    "execution": {
     "iopub.execute_input": "2024-08-24T00:23:15.664778Z",
     "iopub.status.busy": "2024-08-24T00:23:15.664096Z",
     "iopub.status.idle": "2024-08-24T00:23:15.669133Z",
     "shell.execute_reply": "2024-08-24T00:23:15.668162Z"
    }
   },
   "outputs": [
    {
     "name": "stdout",
     "output_type": "stream",
     "text": [
      "28\n"
     ]
    }
   ],
   "source": [
    "print(2*14)"
   ]
  }
 ],
 "metadata": {
  "kernelspec": {
   "display_name": ".venv",
   "language": "python",
   "name": "python3"
  },
  "language_info": {
   "codemirror_mode": {
    "name": "ipython",
    "version": 3
   },
   "file_extension": ".py",
   "mimetype": "text/x-python",
   "name": "python",
   "nbconvert_exporter": "python",
   "pygments_lexer": "ipython3",
   "version": "3.11.9"
  }
 },
 "nbformat": 4,
 "nbformat_minor": 2
}
