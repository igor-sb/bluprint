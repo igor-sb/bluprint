{
 "cells": [
  {
   "cell_type": "code",
   "execution_count": 1,
   "metadata": {
    "execution": {
     "iopub.execute_input": "2024-08-27T03:56:15.385443Z",
     "iopub.status.busy": "2024-08-27T03:56:15.385132Z",
     "iopub.status.idle": "2024-08-27T03:56:15.393403Z",
     "shell.execute_reply": "2024-08-27T03:56:15.392421Z"
    }
   },
   "outputs": [],
   "source": [
    "import time"
   ]
  },
  {
   "cell_type": "code",
   "execution_count": 2,
   "metadata": {
    "execution": {
     "iopub.execute_input": "2024-08-27T03:56:15.397471Z",
     "iopub.status.busy": "2024-08-27T03:56:15.397179Z",
     "iopub.status.idle": "2024-08-27T03:56:15.504037Z",
     "shell.execute_reply": "2024-08-27T03:56:15.503016Z"
    }
   },
   "outputs": [
    {
     "name": "stdout",
     "output_type": "stream",
     "text": [
      "Hello from test1\n"
     ]
    }
   ],
   "source": [
    "print('Hello from test1')\n",
    "time.sleep(0.1)"
   ]
  },
  {
   "cell_type": "code",
   "execution_count": 3,
   "metadata": {
    "execution": {
     "iopub.execute_input": "2024-08-27T03:56:15.559806Z",
     "iopub.status.busy": "2024-08-27T03:56:15.559302Z",
     "iopub.status.idle": "2024-08-27T03:56:15.564505Z",
     "shell.execute_reply": "2024-08-27T03:56:15.563507Z"
    }
   },
   "outputs": [
    {
     "name": "stdout",
     "output_type": "stream",
     "text": [
      "1.1\n"
     ]
    }
   ],
   "source": [
    "print(1+0.1)"
   ]
  },
  {
   "cell_type": "code",
   "execution_count": 4,
   "metadata": {
    "execution": {
     "iopub.execute_input": "2024-08-27T03:56:15.568557Z",
     "iopub.status.busy": "2024-08-27T03:56:15.568105Z",
     "iopub.status.idle": "2024-08-27T03:56:15.572933Z",
     "shell.execute_reply": "2024-08-27T03:56:15.571955Z"
    }
   },
   "outputs": [
    {
     "name": "stdout",
     "output_type": "stream",
     "text": [
      "28\n"
     ]
    }
   ],
   "source": [
    "print(2*14)"
   ]
  }
 ],
 "metadata": {
  "kernelspec": {
   "display_name": ".venv",
   "language": "python",
   "name": "python3"
  },
  "language_info": {
   "codemirror_mode": {
    "name": "ipython",
    "version": 3
   },
   "file_extension": ".py",
   "mimetype": "text/x-python",
   "name": "python",
   "nbconvert_exporter": "python",
   "pygments_lexer": "ipython3",
   "version": "3.11.9"
  }
 },
 "nbformat": 4,
 "nbformat_minor": 2
}
