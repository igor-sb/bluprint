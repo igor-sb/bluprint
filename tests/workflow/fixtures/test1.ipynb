{
 "cells": [
  {
   "cell_type": "code",
   "execution_count": 1,
   "metadata": {
    "execution": {
     "iopub.execute_input": "2023-12-02T05:56:55.755564Z",
     "iopub.status.busy": "2023-12-02T05:56:55.754821Z",
     "iopub.status.idle": "2023-12-02T05:56:55.763996Z",
     "shell.execute_reply": "2023-12-02T05:56:55.762819Z"
    }
   },
   "outputs": [],
   "source": [
    "import time"
   ]
  },
  {
   "cell_type": "code",
   "execution_count": 2,
   "metadata": {
    "execution": {
     "iopub.execute_input": "2023-12-02T05:56:55.768810Z",
     "iopub.status.busy": "2023-12-02T05:56:55.768249Z",
     "iopub.status.idle": "2023-12-02T05:56:55.873564Z",
     "shell.execute_reply": "2023-12-02T05:56:55.872394Z"
    }
   },
   "outputs": [
    {
     "name": "stdout",
     "output_type": "stream",
     "text": [
      "Hello from test1\n"
     ]
    }
   ],
   "source": [
    "print('Hello from test1')\n",
    "time.sleep(0.1)"
   ]
  },
  {
   "cell_type": "code",
   "execution_count": 3,
   "metadata": {
    "execution": {
     "iopub.execute_input": "2023-12-02T05:56:55.929572Z",
     "iopub.status.busy": "2023-12-02T05:56:55.929142Z",
     "iopub.status.idle": "2023-12-02T05:56:55.934561Z",
     "shell.execute_reply": "2023-12-02T05:56:55.933425Z"
    }
   },
   "outputs": [
    {
     "name": "stdout",
     "output_type": "stream",
     "text": [
      "1.1\n"
     ]
    }
   ],
   "source": [
    "print(1+0.1)"
   ]
  },
  {
   "cell_type": "code",
   "execution_count": 4,
   "metadata": {
    "execution": {
     "iopub.execute_input": "2023-12-02T05:56:55.940501Z",
     "iopub.status.busy": "2023-12-02T05:56:55.939940Z",
     "iopub.status.idle": "2023-12-02T05:56:55.945402Z",
     "shell.execute_reply": "2023-12-02T05:56:55.944204Z"
    }
   },
   "outputs": [
    {
     "name": "stdout",
     "output_type": "stream",
     "text": [
      "28\n"
     ]
    }
   ],
   "source": [
    "print(2*14)"
   ]
  }
 ],
 "metadata": {
  "kernelspec": {
   "display_name": ".venv",
   "language": "python",
   "name": "python3"
  },
  "language_info": {
   "codemirror_mode": {
    "name": "ipython",
    "version": 3
   },
   "file_extension": ".py",
   "mimetype": "text/x-python",
   "name": "python",
   "nbconvert_exporter": "python",
   "pygments_lexer": "ipython3",
   "version": "3.11.2"
  }
 },
 "nbformat": 4,
 "nbformat_minor": 2
}
