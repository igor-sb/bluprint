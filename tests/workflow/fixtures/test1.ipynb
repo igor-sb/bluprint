{
 "cells": [
  {
   "cell_type": "code",
   "execution_count": 1,
   "metadata": {
    "execution": {
     "iopub.execute_input": "2023-11-24T06:41:01.467382Z",
     "iopub.status.busy": "2023-11-24T06:41:01.466869Z",
     "iopub.status.idle": "2023-11-24T06:41:01.475967Z",
     "shell.execute_reply": "2023-11-24T06:41:01.474937Z"
    }
   },
   "outputs": [],
   "source": [
    "import time"
   ]
  },
  {
   "cell_type": "code",
   "execution_count": 2,
   "metadata": {
    "execution": {
     "iopub.execute_input": "2023-11-24T06:41:01.481062Z",
     "iopub.status.busy": "2023-11-24T06:41:01.480545Z",
     "iopub.status.idle": "2023-11-24T06:41:02.485535Z",
     "shell.execute_reply": "2023-11-24T06:41:02.484490Z"
    }
   },
   "outputs": [
    {
     "name": "stdout",
     "output_type": "stream",
     "text": [
      "Hello from test1\n"
     ]
    }
   ],
   "source": [
    "time.sleep(1)\n",
    "print('Hello from test1')"
   ]
  },
  {
   "cell_type": "code",
   "execution_count": 3,
   "metadata": {
    "execution": {
     "iopub.execute_input": "2023-11-24T06:41:02.544283Z",
     "iopub.status.busy": "2023-11-24T06:41:02.543758Z",
     "iopub.status.idle": "2023-11-24T06:41:02.548768Z",
     "shell.execute_reply": "2023-11-24T06:41:02.547804Z"
    }
   },
   "outputs": [
    {
     "name": "stdout",
     "output_type": "stream",
     "text": [
      "1.1\n"
     ]
    }
   ],
   "source": [
    "print(1+0.1)"
   ]
  },
  {
   "cell_type": "code",
   "execution_count": 4,
   "metadata": {
    "execution": {
     "iopub.execute_input": "2023-11-24T06:41:02.552896Z",
     "iopub.status.busy": "2023-11-24T06:41:02.552424Z",
     "iopub.status.idle": "2023-11-24T06:41:02.557349Z",
     "shell.execute_reply": "2023-11-24T06:41:02.556384Z"
    }
   },
   "outputs": [
    {
     "name": "stdout",
     "output_type": "stream",
     "text": [
      "28\n"
     ]
    }
   ],
   "source": [
    "print(2*14)"
   ]
  }
 ],
 "metadata": {
  "kernelspec": {
   "display_name": ".venv",
   "language": "python",
   "name": "python3"
  },
  "language_info": {
   "codemirror_mode": {
    "name": "ipython",
    "version": 3
   },
   "file_extension": ".py",
   "mimetype": "text/x-python",
   "name": "python",
   "nbconvert_exporter": "python",
   "pygments_lexer": "ipython3",
   "version": "3.11.2"
  }
 },
 "nbformat": 4,
 "nbformat_minor": 2
}
