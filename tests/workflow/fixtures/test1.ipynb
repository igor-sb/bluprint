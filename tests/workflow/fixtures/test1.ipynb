{
 "cells": [
  {
   "cell_type": "code",
   "execution_count": 1,
   "metadata": {
    "execution": {
     "iopub.execute_input": "2023-11-24T00:31:09.848193Z",
     "iopub.status.busy": "2023-11-24T00:31:09.847637Z",
     "iopub.status.idle": "2023-11-24T00:31:09.856841Z",
     "shell.execute_reply": "2023-11-24T00:31:09.855776Z"
    }
   },
   "outputs": [],
   "source": [
    "import time"
   ]
  },
  {
   "cell_type": "code",
   "execution_count": 2,
   "metadata": {
    "execution": {
     "iopub.execute_input": "2023-11-24T00:31:09.859891Z",
     "iopub.status.busy": "2023-11-24T00:31:09.859420Z",
     "iopub.status.idle": "2023-11-24T00:31:10.864477Z",
     "shell.execute_reply": "2023-11-24T00:31:10.863430Z"
    }
   },
   "outputs": [
    {
     "name": "stdout",
     "output_type": "stream",
     "text": [
      "Hello from test1\n"
     ]
    }
   ],
   "source": [
    "time.sleep(1)\n",
    "print('Hello from test1')"
   ]
  },
  {
   "cell_type": "code",
   "execution_count": 3,
   "metadata": {
    "execution": {
     "iopub.execute_input": "2023-11-24T00:31:10.910680Z",
     "iopub.status.busy": "2023-11-24T00:31:10.910105Z",
     "iopub.status.idle": "2023-11-24T00:31:10.915515Z",
     "shell.execute_reply": "2023-11-24T00:31:10.914298Z"
    }
   },
   "outputs": [
    {
     "name": "stdout",
     "output_type": "stream",
     "text": [
      "1.1\n"
     ]
    }
   ],
   "source": [
    "print(1+0.1)"
   ]
  },
  {
   "cell_type": "code",
   "execution_count": 4,
   "metadata": {
    "execution": {
     "iopub.execute_input": "2023-11-24T00:31:10.918547Z",
     "iopub.status.busy": "2023-11-24T00:31:10.918073Z",
     "iopub.status.idle": "2023-11-24T00:31:10.923102Z",
     "shell.execute_reply": "2023-11-24T00:31:10.922020Z"
    }
   },
   "outputs": [
    {
     "name": "stdout",
     "output_type": "stream",
     "text": [
      "28\n"
     ]
    }
   ],
   "source": [
    "print(2*14)"
   ]
  }
 ],
 "metadata": {
  "kernelspec": {
   "display_name": ".venv",
   "language": "python",
   "name": "python3"
  },
  "language_info": {
   "codemirror_mode": {
    "name": "ipython",
    "version": 3
   },
   "file_extension": ".py",
   "mimetype": "text/x-python",
   "name": "python",
   "nbconvert_exporter": "python",
   "pygments_lexer": "ipython3",
   "version": "3.11.2"
  }
 },
 "nbformat": 4,
 "nbformat_minor": 2
}
