{
 "cells": [
  {
   "cell_type": "code",
   "execution_count": 1,
   "metadata": {
    "execution": {
     "iopub.execute_input": "2023-11-24T00:31:14.021196Z",
     "iopub.status.busy": "2023-11-24T00:31:14.020651Z",
     "iopub.status.idle": "2023-11-24T00:31:15.031300Z",
     "shell.execute_reply": "2023-11-24T00:31:15.030221Z"
    }
   },
   "outputs": [
    {
     "name": "stdout",
     "output_type": "stream",
     "text": [
      "Hello from test3!\n"
     ]
    }
   ],
   "source": [
    "import time\n",
    "import random\n",
    "\n",
    "print('Hello from test3!')\n",
    "time.sleep(1)"
   ]
  },
  {
   "cell_type": "code",
   "execution_count": 2,
   "metadata": {
    "execution": {
     "iopub.execute_input": "2023-11-24T00:31:15.034569Z",
     "iopub.status.busy": "2023-11-24T00:31:15.034239Z",
     "iopub.status.idle": "2023-11-24T00:31:15.039472Z",
     "shell.execute_reply": "2023-11-24T00:31:15.038439Z"
    }
   },
   "outputs": [
    {
     "name": "stdout",
     "output_type": "stream",
     "text": [
      "Random number: 0.7955076579596321\n"
     ]
    }
   ],
   "source": [
    "print('Random number: {rnd}'.format(rnd=random.random()))"
   ]
  }
 ],
 "metadata": {
  "kernelspec": {
   "display_name": ".venv",
   "language": "python",
   "name": "python3"
  },
  "language_info": {
   "codemirror_mode": {
    "name": "ipython",
    "version": 3
   },
   "file_extension": ".py",
   "mimetype": "text/x-python",
   "name": "python",
   "nbconvert_exporter": "python",
   "pygments_lexer": "ipython3",
   "version": "3.11.2"
  }
 },
 "nbformat": 4,
 "nbformat_minor": 2
}
