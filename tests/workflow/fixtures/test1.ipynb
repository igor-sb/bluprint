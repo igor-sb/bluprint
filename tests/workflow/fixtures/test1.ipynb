{
 "cells": [
  {
   "cell_type": "code",
   "execution_count": 1,
   "metadata": {
    "execution": {
     "iopub.execute_input": "2023-11-30T19:50:27.717022Z",
     "iopub.status.busy": "2023-11-30T19:50:27.716697Z",
     "iopub.status.idle": "2023-11-30T19:50:27.725781Z",
     "shell.execute_reply": "2023-11-30T19:50:27.724817Z"
    }
   },
   "outputs": [],
   "source": [
    "import time"
   ]
  },
  {
   "cell_type": "code",
   "execution_count": 2,
   "metadata": {
    "execution": {
     "iopub.execute_input": "2023-11-30T19:50:27.730287Z",
     "iopub.status.busy": "2023-11-30T19:50:27.729610Z",
     "iopub.status.idle": "2023-11-30T19:50:27.834381Z",
     "shell.execute_reply": "2023-11-30T19:50:27.833445Z"
    }
   },
   "outputs": [
    {
     "name": "stdout",
     "output_type": "stream",
     "text": [
      "Hello from test1\n"
     ]
    }
   ],
   "source": [
    "print('Hello from test1')\n",
    "time.sleep(0.1)"
   ]
  },
  {
   "cell_type": "code",
   "execution_count": 3,
   "metadata": {
    "execution": {
     "iopub.execute_input": "2023-11-30T19:50:27.891262Z",
     "iopub.status.busy": "2023-11-30T19:50:27.890780Z",
     "iopub.status.idle": "2023-11-30T19:50:27.895625Z",
     "shell.execute_reply": "2023-11-30T19:50:27.894653Z"
    }
   },
   "outputs": [
    {
     "name": "stdout",
     "output_type": "stream",
     "text": [
      "1.1\n"
     ]
    }
   ],
   "source": [
    "print(1+0.1)"
   ]
  },
  {
   "cell_type": "code",
   "execution_count": 4,
   "metadata": {
    "execution": {
     "iopub.execute_input": "2023-11-30T19:50:27.899810Z",
     "iopub.status.busy": "2023-11-30T19:50:27.899235Z",
     "iopub.status.idle": "2023-11-30T19:50:27.904782Z",
     "shell.execute_reply": "2023-11-30T19:50:27.903793Z"
    }
   },
   "outputs": [
    {
     "name": "stdout",
     "output_type": "stream",
     "text": [
      "28\n"
     ]
    }
   ],
   "source": [
    "print(2*14)"
   ]
  }
 ],
 "metadata": {
  "kernelspec": {
   "display_name": ".venv",
   "language": "python",
   "name": "python3"
  },
  "language_info": {
   "codemirror_mode": {
    "name": "ipython",
    "version": 3
   },
   "file_extension": ".py",
   "mimetype": "text/x-python",
   "name": "python",
   "nbconvert_exporter": "python",
   "pygments_lexer": "ipython3",
   "version": "3.11.2"
  }
 },
 "nbformat": 4,
 "nbformat_minor": 2
}
