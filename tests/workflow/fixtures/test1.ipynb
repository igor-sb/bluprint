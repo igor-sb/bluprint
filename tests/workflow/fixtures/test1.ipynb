{
 "cells": [
  {
   "cell_type": "code",
   "execution_count": 1,
   "metadata": {
    "execution": {
     "iopub.execute_input": "2023-11-25T07:05:01.883421Z",
     "iopub.status.busy": "2023-11-25T07:05:01.882974Z",
     "iopub.status.idle": "2023-11-25T07:05:01.891735Z",
     "shell.execute_reply": "2023-11-25T07:05:01.890767Z"
    }
   },
   "outputs": [],
   "source": [
    "import time"
   ]
  },
  {
   "cell_type": "code",
   "execution_count": 2,
   "metadata": {
    "execution": {
     "iopub.execute_input": "2023-11-25T07:05:01.895763Z",
     "iopub.status.busy": "2023-11-25T07:05:01.895271Z",
     "iopub.status.idle": "2023-11-25T07:05:01.999844Z",
     "shell.execute_reply": "2023-11-25T07:05:01.998896Z"
    }
   },
   "outputs": [
    {
     "name": "stdout",
     "output_type": "stream",
     "text": [
      "Hello from test1\n"
     ]
    }
   ],
   "source": [
    "print('Hello from test1')\n",
    "time.sleep(0.1)"
   ]
  },
  {
   "cell_type": "code",
   "execution_count": 3,
   "metadata": {
    "execution": {
     "iopub.execute_input": "2023-11-25T07:05:02.053241Z",
     "iopub.status.busy": "2023-11-25T07:05:02.052668Z",
     "iopub.status.idle": "2023-11-25T07:05:02.057720Z",
     "shell.execute_reply": "2023-11-25T07:05:02.056772Z"
    }
   },
   "outputs": [
    {
     "name": "stdout",
     "output_type": "stream",
     "text": [
      "1.1\n"
     ]
    }
   ],
   "source": [
    "print(1+0.1)"
   ]
  },
  {
   "cell_type": "code",
   "execution_count": 4,
   "metadata": {
    "execution": {
     "iopub.execute_input": "2023-11-25T07:05:02.061723Z",
     "iopub.status.busy": "2023-11-25T07:05:02.061261Z",
     "iopub.status.idle": "2023-11-25T07:05:02.065924Z",
     "shell.execute_reply": "2023-11-25T07:05:02.064988Z"
    }
   },
   "outputs": [
    {
     "name": "stdout",
     "output_type": "stream",
     "text": [
      "28\n"
     ]
    }
   ],
   "source": [
    "print(2*14)"
   ]
  }
 ],
 "metadata": {
  "kernelspec": {
   "display_name": ".venv",
   "language": "python",
   "name": "python3"
  },
  "language_info": {
   "codemirror_mode": {
    "name": "ipython",
    "version": 3
   },
   "file_extension": ".py",
   "mimetype": "text/x-python",
   "name": "python",
   "nbconvert_exporter": "python",
   "pygments_lexer": "ipython3",
   "version": "3.11.2"
  }
 },
 "nbformat": 4,
 "nbformat_minor": 2
}
