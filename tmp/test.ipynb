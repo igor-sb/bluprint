{
 "cells": [
  {
   "cell_type": "markdown",
   "metadata": {},
   "source": [
    "Example notebook"
   ]
  },
  {
   "cell_type": "code",
   "execution_count": 1,
   "metadata": {},
   "outputs": [],
   "source": [
    "import subprocess\n",
    "import re\n",
    "\n",
    "r_cell_re = re.compile(r'^```\\{r[^\\}]+\\}')\n",
    "\n",
    "#def number_of_rmarkdown_cells(rmd_file: str) -> int:\n",
    "rmd_file = '../demo/notebooks/example_rmarkdown.Rmd'\n",
    "\n",
    "def number_of_r_cells_in_rmd(rmd_file: str) -> int:\n",
    "\tnumber_of_r_cells = 0\n",
    "\twith open(rmd_file) as rmd:\n",
    "\t\tfor rmd_line in rmd:\n",
    "\t\t\tif r_cell_re.match(rmd_line):\n",
    "\t\t\t\tnumber_of_r_cells += 1\n",
    "\treturn number_of_r_cells"
   ]
  },
  {
   "cell_type": "code",
   "execution_count": 5,
   "metadata": {},
   "outputs": [
    {
     "data": {
      "text/plain": [
       "'  |................................................................................                                                            |  57%'"
      ]
     },
     "execution_count": 5,
     "metadata": {},
     "output_type": "execute_result"
    }
   ],
   "source": [
    "x = '  |................................................................................                                                            |  57%'\n",
    "x\n"
   ]
  },
  {
   "cell_type": "code",
   "execution_count": 22,
   "metadata": {},
   "outputs": [],
   "source": [
    "percent_re = re.compile(r'^.*\\|[\\s]+([0-9]+)%.*$')"
   ]
  },
  {
   "cell_type": "code",
   "execution_count": 24,
   "metadata": {},
   "outputs": [
    {
     "data": {
      "text/plain": [
       "57"
      ]
     },
     "execution_count": 24,
     "metadata": {},
     "output_type": "execute_result"
    }
   ],
   "source": [
    "int(percent_re.sub(r'\\1', x))"
   ]
  },
  {
   "cell_type": "code",
   "execution_count": 44,
   "metadata": {},
   "outputs": [
    {
     "data": {
      "text/plain": [
       "'  |................................................................................                                                            |  57%'"
      ]
     },
     "execution_count": 44,
     "metadata": {},
     "output_type": "execute_result"
    }
   ],
   "source": [
    "x"
   ]
  },
  {
   "cell_type": "code",
   "execution_count": 53,
   "metadata": {},
   "outputs": [],
   "source": [
    "start_re = re.compile(r'^[\\s]*\\|[\\.\\s]*\\|[\\s]*([0-9]+)%$')"
   ]
  },
  {
   "cell_type": "code",
   "execution_count": 49,
   "metadata": {},
   "outputs": [
    {
     "data": {
      "text/plain": [
       "<re.Match object; span=(0, 2), match='  '>"
      ]
     },
     "execution_count": 49,
     "metadata": {},
     "output_type": "execute_result"
    }
   ],
   "source": [
    "start_re.match(x)"
   ]
  },
  {
   "cell_type": "code",
   "execution_count": 54,
   "metadata": {},
   "outputs": [
    {
     "data": {
      "text/plain": [
       "'57'"
      ]
     },
     "execution_count": 54,
     "metadata": {},
     "output_type": "execute_result"
    }
   ],
   "source": [
    "start_re.sub(r'\\1', x)"
   ]
  },
  {
   "cell_type": "code",
   "execution_count": 57,
   "metadata": {},
   "outputs": [],
   "source": [
    "from tqdm import tqdm\n",
    "import sys\n",
    "from bluprint.colors import Style"
   ]
  },
  {
   "cell_type": "code",
   "execution_count": 69,
   "metadata": {},
   "outputs": [],
   "source": [
    "def tqdm_format() -> str:\n",
    "    sep = f'{Style.cyan}─{Style.end}'\n",
    "    return (\n",
    "        '{desc} {percentage:3.0f}% '\n",
    "        + sep + ' Elapsed: {elapsed}'\n",
    "    )\n",
    "\n",
    "def execute_rmd(rmd_file: str) -> None:\n",
    "\tprogress_bar_re = re.compile(r'^[\\s]*\\|[\\.\\s]*\\|[\\s]*([0-9]+)%$')\n",
    "\twith tqdm(total=100, bar_format=tqdm_format()) as tqdm_progress:\n",
    "\t\trscript_cmd = f'rmarkdown::render(\"{rmd_file}\")'\n",
    "\t\trmd_out = subprocess.Popen(\n",
    "\t\t\t['Rscript', '-e', rscript_cmd],\n",
    "\t\t\tbufsize=1,\n",
    "\t\t\t# cwd='',\n",
    "\t\t\tuniversal_newlines=True,\n",
    "\t\t\tstdout=subprocess.PIPE,\n",
    "\t\t\tstderr=subprocess.PIPE,\n",
    "\t\t)\n",
    "\t\tlast_percent = 0\n",
    "\t\tfor line in rmd_out.stdout:\n",
    "\t\t\tif progress_bar_re.match(line):\n",
    "\t\t\t\tcurrent_percent = int(progress_bar_re.sub(r'\\1', line))\n",
    "\t\t\t\ttqdm_progress.update(current_percent - last_percent)\n",
    "\t\t\t\t# print(f'pct: {current_percent}')\n",
    "\t\t\t\tsys.stdout.flush()\n",
    "\t\t\t\tlast_percent = current_percent\n",
    "\t\trmd_out.stdout.close()"
   ]
  },
  {
   "cell_type": "code",
   "execution_count": 70,
   "metadata": {},
   "outputs": [
    {
     "name": "stderr",
     "output_type": "stream",
     "text": [
      " 100% \u001b[96m─\u001b[0m Elapsed: 00:01\n"
     ]
    }
   ],
   "source": [
    "execute_rmd('../demo/notebooks/example_rmarkdown.Rmd')"
   ]
  }
 ],
 "metadata": {
  "kernelspec": {
   "display_name": "bluprint-YlnStUWz-py3.11",
   "language": "python",
   "name": "python3"
  },
  "language_info": {
   "codemirror_mode": {
    "name": "ipython",
    "version": 3
   },
   "file_extension": ".py",
   "mimetype": "text/x-python",
   "name": "python",
   "nbconvert_exporter": "python",
   "pygments_lexer": "ipython3",
   "version": "3.11.4"
  }
 },
 "nbformat": 4,
 "nbformat_minor": 2
}
