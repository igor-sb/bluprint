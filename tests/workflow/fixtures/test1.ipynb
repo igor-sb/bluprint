{
 "cells": [
  {
   "cell_type": "code",
   "execution_count": 1,
   "metadata": {
    "execution": {
     "iopub.execute_input": "2023-11-26T06:59:32.058269Z",
     "iopub.status.busy": "2023-11-26T06:59:32.057772Z",
     "iopub.status.idle": "2023-11-26T06:59:32.066873Z",
     "shell.execute_reply": "2023-11-26T06:59:32.065752Z"
    }
   },
   "outputs": [],
   "source": [
    "import time"
   ]
  },
  {
   "cell_type": "code",
   "execution_count": 2,
   "metadata": {
    "execution": {
     "iopub.execute_input": "2023-11-26T06:59:32.070960Z",
     "iopub.status.busy": "2023-11-26T06:59:32.070489Z",
     "iopub.status.idle": "2023-11-26T06:59:32.175625Z",
     "shell.execute_reply": "2023-11-26T06:59:32.174565Z"
    }
   },
   "outputs": [
    {
     "name": "stdout",
     "output_type": "stream",
     "text": [
      "Hello from test1\n"
     ]
    }
   ],
   "source": [
    "print('Hello from test1')\n",
    "time.sleep(0.1)"
   ]
  },
  {
   "cell_type": "code",
   "execution_count": 3,
   "metadata": {
    "execution": {
     "iopub.execute_input": "2023-11-26T06:59:32.230531Z",
     "iopub.status.busy": "2023-11-26T06:59:32.229995Z",
     "iopub.status.idle": "2023-11-26T06:59:32.235301Z",
     "shell.execute_reply": "2023-11-26T06:59:32.234263Z"
    }
   },
   "outputs": [
    {
     "name": "stdout",
     "output_type": "stream",
     "text": [
      "1.1\n"
     ]
    }
   ],
   "source": [
    "print(1+0.1)"
   ]
  },
  {
   "cell_type": "code",
   "execution_count": 4,
   "metadata": {
    "execution": {
     "iopub.execute_input": "2023-11-26T06:59:32.239314Z",
     "iopub.status.busy": "2023-11-26T06:59:32.238648Z",
     "iopub.status.idle": "2023-11-26T06:59:32.243224Z",
     "shell.execute_reply": "2023-11-26T06:59:32.242341Z"
    }
   },
   "outputs": [
    {
     "name": "stdout",
     "output_type": "stream",
     "text": [
      "28\n"
     ]
    }
   ],
   "source": [
    "print(2*14)"
   ]
  }
 ],
 "metadata": {
  "kernelspec": {
   "display_name": ".venv",
   "language": "python",
   "name": "python3"
  },
  "language_info": {
   "codemirror_mode": {
    "name": "ipython",
    "version": 3
   },
   "file_extension": ".py",
   "mimetype": "text/x-python",
   "name": "python",
   "nbconvert_exporter": "python",
   "pygments_lexer": "ipython3",
   "version": "3.11.2"
  }
 },
 "nbformat": 4,
 "nbformat_minor": 2
}
