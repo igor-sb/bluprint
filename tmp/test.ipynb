{
 "cells": [
  {
   "cell_type": "code",
   "execution_count": 9,
   "metadata": {},
   "outputs": [],
   "source": [
    "import subprocess\n",
    "import shutil"
   ]
  },
  {
   "cell_type": "code",
   "execution_count": 10,
   "metadata": {},
   "outputs": [
    {
     "name": "stderr",
     "output_type": "stream",
     "text": [
      "A pyproject.toml file with a poetry section already exists.\n"
     ]
    },
    {
     "data": {
      "text/plain": [
       "CompletedProcess(args=['poetry', 'init', '-n', '--name', 'tmp2', '-C', '/home/igor/repos/bluprint/tmp/tmp2'], returncode=1)"
      ]
     },
     "execution_count": 10,
     "metadata": {},
     "output_type": "execute_result"
    }
   ],
   "source": [
    "subprocess.run(['poetry', 'init', '-n', '--name', 'tmp2', '-C', '/home/igor/repos/bluprint/tmp/tmp2'])"
   ]
  },
  {
   "cell_type": "code",
   "execution_count": 11,
   "metadata": {},
   "outputs": [
    {
     "name": "stdout",
     "output_type": "stream",
     "text": [
      "The following packages are already present in the pyproject.toml and will be skipped:\n",
      "\n",
      "  • numpy\n",
      "\n",
      "If you want to update it to the latest compatible version, you can use `poetry update package`.\n",
      "If you prefer to upgrade it to the latest available version, you can use `poetry add package@latest`.\n",
      "\n",
      "Nothing to add.\n"
     ]
    },
    {
     "data": {
      "text/plain": [
       "CompletedProcess(args=['poetry', 'add', 'numpy', '-C', '/home/igor/repos/bluprint/tmp/tmp2'], returncode=0)"
      ]
     },
     "execution_count": 11,
     "metadata": {},
     "output_type": "execute_result"
    }
   ],
   "source": [
    "subprocess.run(['poetry', 'add', 'numpy', '-C', '/home/igor/repos/bluprint/tmp/tmp2'])"
   ]
  },
  {
   "cell_type": "code",
   "execution_count": 12,
   "metadata": {},
   "outputs": [
    {
     "name": "stdout",
     "output_type": "stream",
     "text": [
      "Installing dependencies from lock file\n",
      "\n",
      "No dependencies to install or update\n",
      "\n",
      "Installing the current project: tmp2 (0.1.0)\n",
      "\n"
     ]
    },
    {
     "name": "stderr",
     "output_type": "stream",
     "text": [
      "The current project could not be installed: [Errno 2] No such file or directory: '/home/igor/repos/bluprint/tmp/tmp2/README.md'\n",
      "If you do not want to install the current project use --no-root\n"
     ]
    },
    {
     "data": {
      "text/plain": [
       "CompletedProcess(args=['/home/igor/.local/bin/poetry', 'install'], returncode=0)"
      ]
     },
     "execution_count": 12,
     "metadata": {},
     "output_type": "execute_result"
    }
   ],
   "source": [
    "subprocess.run(\n",
    "\t[shutil.which('poetry'), 'install'],\n",
    "\tcwd='/home/igor/repos/bluprint/tmp/tmp2',\n",
    ")"
   ]
  },
  {
   "cell_type": "code",
   "execution_count": 13,
   "metadata": {},
   "outputs": [],
   "source": [
    "import os"
   ]
  },
  {
   "cell_type": "code",
   "execution_count": 15,
   "metadata": {},
   "outputs": [
    {
     "name": "stdout",
     "output_type": "stream",
     "text": [
      "total 24K\n",
      "drwxr-xr-x 3 igor igor 4.0K Dec  5 22:53 .\n",
      "drwxr-xr-x 3 igor igor 4.0K Dec  5 22:51 ..\n",
      "drwxr-xr-x 2 igor igor 4.0K Dec  5 22:53 .venv\n",
      "-rw-r--r-- 1 igor igor 5.7K Dec  5 22:51 poetry.lock\n",
      "-rw-r--r-- 1 igor igor  255 Dec  5 22:51 pyproject.toml\n",
      "Installing dependencies from lock file\n",
      "\n",
      "No dependencies to install or update\n"
     ]
    },
    {
     "data": {
      "text/plain": [
       "0"
      ]
     },
     "execution_count": 15,
     "metadata": {},
     "output_type": "execute_result"
    }
   ],
   "source": [
    "os.system('cd /home/igor/repos/bluprint/tmp/tmp2; ls -lha; poetry add ')"
   ]
  },
  {
   "cell_type": "code",
   "execution_count": 24,
   "metadata": {},
   "outputs": [
    {
     "name": "stdout",
     "output_type": "stream",
     "text": [
      "Spawning shell within /home/igor/repos/bluprint/.venv\n"
     ]
    },
    {
     "name": "stderr",
     "output_type": "stream",
     "text": [
      "\n",
      "(25, 'Inappropriate ioctl for device')\n"
     ]
    },
    {
     "name": "stdout",
     "output_type": "stream",
     "text": [
      "Installing dependencies from lock file\n",
      "\n",
      "No dependencies to install or update\n"
     ]
    }
   ],
   "source": [
    "%%bash\n",
    "\n",
    "cd /home/igor/repos/bluprint/tmp/tmp2\n",
    "poetry shell\n",
    "poetry install --no-root"
   ]
  }
 ],
 "metadata": {
  "kernelspec": {
   "display_name": "bluprint-YlnStUWz-py3.11",
   "language": "python",
   "name": "python3"
  },
  "language_info": {
   "codemirror_mode": {
    "name": "ipython",
    "version": 3
   },
   "file_extension": ".py",
   "mimetype": "text/x-python",
   "name": "python",
   "nbconvert_exporter": "python",
   "pygments_lexer": "ipython3",
   "version": "3.11.6"
  }
 },
 "nbformat": 4,
 "nbformat_minor": 2
}
