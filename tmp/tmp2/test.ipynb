{
 "cells": [
  {
   "cell_type": "markdown",
   "metadata": {},
   "source": [
    "Example notebook"
   ]
  },
  {
   "cell_type": "code",
   "execution_count": 19,
   "metadata": {},
   "outputs": [
    {
     "data": {
      "text/plain": [
       "['Running workflows:',\n",
       " '\\x1b[95m\\x1b[1mtest_workflow\\x1b[0m',\n",
       " '',\n",
       " '\\x1b[96m\\x1b[1m├─── test1.ipynb\\x1b[0m   0% \\x1b[96m─\\x1b[0m 0/4 cells \\x1b[96m─\\x1b[0m',\n",
       " '\\x1b[96m\\x1b[1m├─── test1.ipynb\\x1b[0m  50% \\x1b[96m─\\x1b[0m 2/4 cells \\x1b[96m─\\x1b[0m',\n",
       " '\\x1b[96m\\x1b[1m├─── test1.ipynb\\x1b[0m  75% \\x1b[96m─\\x1b[0m 3/4 cells \\x1b[96m─\\x1b[0m',\n",
       " '\\x1b[96m\\x1b[1m├─── test1.ipynb\\x1b[0m 100% \\x1b[96m─\\x1b[0m 4/4 cells \\x1b[96m─\\x1b[0m',\n",
       " '\\x1b[96m\\x1b[1m├─── test1.ipynb\\x1b[0m 100% \\x1b[96m─\\x1b[0m 4/4 cells \\x1b[96m─\\x1b[0m',\n",
       " '',\n",
       " '\\x1b[96m\\x1b[1m└─── test2.ipynb\\x1b[0m   0% \\x1b[96m─\\x1b[0m 0/1 cells \\x1b[96m─\\x1b[0m',\n",
       " '\\x1b[96m\\x1b[1m└─── test2.ipynb\\x1b[0m 100% \\x1b[96m─\\x1b[0m 1/1 cells \\x1b[96m─\\x1b[0m',\n",
       " '\\x1b[95m\\x1b[1mxtest_workflow\\x1b[0m',\n",
       " '',\n",
       " '\\x1b[96m\\x1b[1m├─── test3.ipynb\\x1b[0m   0% \\x1b[96m─\\x1b[0m 0/2 cells \\x1b[96m─\\x1b[0m',\n",
       " '\\x1b[96m\\x1b[1m├─── test3.ipynb\\x1b[0m  50% \\x1b[96m─\\x1b[0m 1/2 cells \\x1b[96m─\\x1b[0m',\n",
       " '\\x1b[96m\\x1b[1m├─── test3.ipynb\\x1b[0m 100% \\x1b[96m─\\x1b[0m 2/2 cells \\x1b[96m─\\x1b[0m',\n",
       " '',\n",
       " '\\x1b[96m\\x1b[1m└─── test4.ipynb\\x1b[0m   0% \\x1b[96m─\\x1b[0m 0/1 cells \\x1b[96m─\\x1b[0m',\n",
       " '\\x1b[96m\\x1b[1m└─── test4.ipynb\\x1b[0m 100% \\x1b[96m─\\x1b[0m 1/1 cells \\x1b[96m─\\x1b[0m',\n",
       " '\\x1b[96m\\x1b[1m└─── test4.ipynb\\x1b[0m 100% \\x1b[96m─\\x1b[0m 1/1 cells \\x1b[96m─\\x1b[0m',\n",
       " 'Done.']"
      ]
     },
     "execution_count": 19,
     "metadata": {},
     "output_type": "execute_result"
    }
   ],
   "source": [
    "with open('../../test.log') as test_handle:\n",
    "\ttmp = [re.sub(' Elapsed:.*$', '', line.strip()) for line in test_handle]\n",
    "\n",
    "tmp"
   ]
  },
  {
   "cell_type": "code",
   "execution_count": 13,
   "metadata": {},
   "outputs": [],
   "source": [
    "import re"
   ]
  },
  {
   "cell_type": "code",
   "execution_count": 15,
   "metadata": {},
   "outputs": [
    {
     "data": {
      "text/plain": [
       "'Running workflows:\\n\\x1b[95m\\x1b[1mtest_workflow\\x1b[0m\\n\\n\\x1b[96m\\x1b[1m├─── test1.ipynb\\x1b[0m   0% \\x1b[96m─\\x1b[0m 0/4 cells \\x1b[96m─\\x1b[0m Elapsed: 00:00\\n\\x1b[96m\\x1b[1m├─── test1.ipynb\\x1b[0m  50% \\x1b[96m─\\x1b[0m 2/4 cells \\x1b[96m─\\x1b[0m Elapsed: 00:02\\n\\x1b[96m\\x1b[1m├─── test1.ipynb\\x1b[0m  75% \\x1b[96m─\\x1b[0m 3/4 cells \\x1b[96m─\\x1b[0m Elapsed: 00:05\\n\\x1b[96m\\x1b[1m├─── test1.ipynb\\x1b[0m 100% \\x1b[96m─\\x1b[0m 4/4 cells \\x1b[96m─\\x1b[0m Elapsed: 00:09\\n\\x1b[96m\\x1b[1m├─── test1.ipynb\\x1b[0m 100% \\x1b[96m─\\x1b[0m 4/4 cells \\x1b[96m─\\x1b[0m Elapsed: 00:09\\n\\n\\x1b[96m\\x1b[1m└─── test2.ipynb\\x1b[0m   0% \\x1b[96m─\\x1b[0m 0/1 cells \\x1b[96m─\\x1b[0m Elapsed: 00:00\\n\\x1b[96m\\x1b[1m└─── test2.ipynb\\x1b[0m 100% \\x1b[96m─\\x1b[0m 1/1 cells \\x1b[96m─\\x1b[0m Elapsed: 00:00\\n\\x1b[95m\\x1b[1mxtest_workflow\\x1b[0m\\n\\n\\x1b[96m\\x1b[1m├─── test3.ipynb\\x1b[0m   0% \\x1b[96m─\\x1b[0m 0/2 cells \\x1b[96m─\\x1b[0m Elapsed: 00:00\\n\\x1b[96m\\x1b[1m├─── test3.ipynb\\x1b[0m  50% \\x1b[96m─\\x1b[0m 1/2 cells \\x1b[96m─\\x1b[0m Elapsed: 00:01\\n\\x1b[96m\\x1b[1m├─── test3.ipynb\\x1b[0m 100% \\x1b[96m─\\x1b[0m 2/2 cells \\x1b[96m─\\x1b[0m Elapsed: 00:01\\n\\n\\x1b[96m\\x1b[1m└─── test4.ipynb\\x1b[0m   0% \\x1b[96m─\\x1b[0m 0/1 cells \\x1b[96m─\\x1b[0m Elapsed: 00:00\\n\\x1b[96m\\x1b[1m└─── test4.ipynb\\x1b[0m 100% \\x1b[96m─\\x1b[0m 1/1 cells \\x1b[96m─\\x1b[0m Elapsed: 00:01\\n\\x1b[96m\\x1b[1m└─── test4.ipynb\\x1b[0m 100% \\x1b[96m─\\x1b[0m 1/1 cells \\x1b[96m─\\x1b[0m Elapsed: 00:01\\nDone.\\n'"
      ]
     },
     "execution_count": 15,
     "metadata": {},
     "output_type": "execute_result"
    }
   ],
   "source": [
    "re.sub(r'Elapsed: Elapsed: [^\\n]+\\n', '', tmp)"
   ]
  },
  {
   "cell_type": "code",
   "execution_count": 20,
   "metadata": {},
   "outputs": [],
   "source": [
    "import logging\n",
    "import subprocess\n",
    "import os\n",
    "import tempfile\n",
    "from pathlib import Path\n",
    "from contextlib import redirect_stderr\n",
    "\n",
    "from bluprint.workflow import run_workflow\n",
    "\n",
    "\n",
    "def test_run_workflow_cli():\n",
    "    fixture_path = 'tests/workflow/fixtures'\n",
    "    with tempfile.NamedTemporaryFile(delete=False) as log, redirect_stderr(log):\n",
    "        print(f'Log file: {log.name}')\n",
    "        logging.basicConfig(\n",
    "            style='{',\n",
    "            format='{message}',\n",
    "            encoding='utf-8',\n",
    "            level=logging.INFO,\n",
    "        )        \n",
    "        run_workflow(yaml_dir=fixture_path, notebook_dir=fixture_path)"
   ]
  },
  {
   "cell_type": "code",
   "execution_count": 21,
   "metadata": {},
   "outputs": [
    {
     "name": "stdout",
     "output_type": "stream",
     "text": [
      "Log file: /tmp/tmpnxu8kkra\n"
     ]
    },
    {
     "ename": "TypeError",
     "evalue": "a bytes-like object is required, not 'str'",
     "output_type": "error",
     "traceback": [
      "\u001b[0;31m---------------------------------------------------------------------------\u001b[0m",
      "\u001b[0;31mTypeError\u001b[0m                                 Traceback (most recent call last)",
      "\u001b[1;32m/home/igor/repos/bluprint/tmp/tmp2/test.ipynb Cell 6\u001b[0m line \u001b[0;36m1\n\u001b[0;32m----> <a href='vscode-notebook-cell://wsl%2Bubuntu-20.04/home/igor/repos/bluprint/tmp/tmp2/test.ipynb#X41sdnNjb2RlLXJlbW90ZQ%3D%3D?line=0'>1</a>\u001b[0m test_run_workflow_cli()\n",
      "\u001b[1;32m/home/igor/repos/bluprint/tmp/tmp2/test.ipynb Cell 6\u001b[0m line \u001b[0;36m1\n\u001b[1;32m     <a href='vscode-notebook-cell://wsl%2Bubuntu-20.04/home/igor/repos/bluprint/tmp/tmp2/test.ipynb#X41sdnNjb2RlLXJlbW90ZQ%3D%3D?line=12'>13</a>\u001b[0m \u001b[39mwith\u001b[39;00m tempfile\u001b[39m.\u001b[39mNamedTemporaryFile(delete\u001b[39m=\u001b[39m\u001b[39mFalse\u001b[39;00m) \u001b[39mas\u001b[39;00m log, redirect_stderr(log):\n\u001b[1;32m     <a href='vscode-notebook-cell://wsl%2Bubuntu-20.04/home/igor/repos/bluprint/tmp/tmp2/test.ipynb#X41sdnNjb2RlLXJlbW90ZQ%3D%3D?line=13'>14</a>\u001b[0m     \u001b[39mprint\u001b[39m(\u001b[39mf\u001b[39m\u001b[39m'\u001b[39m\u001b[39mLog file: \u001b[39m\u001b[39m{\u001b[39;00mlog\u001b[39m.\u001b[39mname\u001b[39m}\u001b[39;00m\u001b[39m'\u001b[39m)\n\u001b[0;32m---> <a href='vscode-notebook-cell://wsl%2Bubuntu-20.04/home/igor/repos/bluprint/tmp/tmp2/test.ipynb#X41sdnNjb2RlLXJlbW90ZQ%3D%3D?line=14'>15</a>\u001b[0m     run_workflow(yaml_dir\u001b[39m=\u001b[39;49mfixture_path, notebook_dir\u001b[39m=\u001b[39;49mfixture_path)\n",
      "File \u001b[0;32m~/repos/bluprint/bluprint/workflow.py:31\u001b[0m, in \u001b[0;36mrun_workflow\u001b[0;34m(workflow_yaml, yaml_dir, notebook_dir)\u001b[0m\n\u001b[1;32m     29\u001b[0m     logging\u001b[39m.\u001b[39minfo(style_workflow(workflow_name))\n\u001b[1;32m     30\u001b[0m     \u001b[39mfor\u001b[39;00m nb_file, prefix \u001b[39min\u001b[39;00m \u001b[39mzip\u001b[39m(notebooks, add_graphic_prefixes(notebooks)):\n\u001b[0;32m---> 31\u001b[0m         run_notebook(\n\u001b[1;32m     32\u001b[0m             notebook_file\u001b[39m=\u001b[39;49mnb_file,\n\u001b[1;32m     33\u001b[0m             display_prefix\u001b[39m=\u001b[39;49mprefix,\n\u001b[1;32m     34\u001b[0m             notebook_dir\u001b[39m=\u001b[39;49mnotebook_dir,\n\u001b[1;32m     35\u001b[0m         )\n\u001b[1;32m     36\u001b[0m logging\u001b[39m.\u001b[39minfo(\u001b[39m'\u001b[39m\u001b[39mDone.\u001b[39m\u001b[39m'\u001b[39m)\n",
      "File \u001b[0;32m~/repos/bluprint/bluprint/notebook.py:27\u001b[0m, in \u001b[0;36mrun_notebook\u001b[0;34m(notebook_file, display_prefix, notebook_dir, timeout)\u001b[0m\n\u001b[1;32m     25\u001b[0m project_path \u001b[39m=\u001b[39m absolute_path(notebook_dir)\n\u001b[1;32m     26\u001b[0m executor \u001b[39m=\u001b[39m ExecutorWithProgressBar(timeout\u001b[39m=\u001b[39mtimeout)\n\u001b[0;32m---> 27\u001b[0m executor\u001b[39m.\u001b[39;49mrun_all_cells(\n\u001b[1;32m     28\u001b[0m     Path(project_path) \u001b[39m/\u001b[39;49m notebook_file,\n\u001b[1;32m     29\u001b[0m     display_prefix,\n\u001b[1;32m     30\u001b[0m     {\u001b[39m'\u001b[39;49m\u001b[39mmetadata\u001b[39;49m\u001b[39m'\u001b[39;49m: {\u001b[39m'\u001b[39;49m\u001b[39mpath\u001b[39;49m\u001b[39m'\u001b[39;49m: \u001b[39m'\u001b[39;49m\u001b[39m.\u001b[39;49m\u001b[39m'\u001b[39;49m}},\n\u001b[1;32m     31\u001b[0m )\n",
      "File \u001b[0;32m~/repos/bluprint/bluprint/notebook.py:60\u001b[0m, in \u001b[0;36mExecutorWithProgressBar.run_all_cells\u001b[0;34m(self, notebook_path, prefix, resources, km)\u001b[0m\n\u001b[1;32m     56\u001b[0m         \u001b[39mraise\u001b[39;00m InfoMessageError\n\u001b[1;32m     57\u001b[0m     \u001b[39mself\u001b[39m\u001b[39m.\u001b[39mnb\u001b[39m.\u001b[39mmetadata[\u001b[39m'\u001b[39m\u001b[39mlanguage_info\u001b[39m\u001b[39m'\u001b[39m] \u001b[39m=\u001b[39m (\n\u001b[1;32m     58\u001b[0m         info_msg[\u001b[39m'\u001b[39m\u001b[39mcontent\u001b[39m\u001b[39m'\u001b[39m][\u001b[39m'\u001b[39m\u001b[39mlanguage_info\u001b[39m\u001b[39m'\u001b[39m]\n\u001b[1;32m     59\u001b[0m     )\n\u001b[0;32m---> 60\u001b[0m     \u001b[39mfor\u001b[39;00m cell_id, cell \u001b[39min\u001b[39;00m \u001b[39menumerate\u001b[39m(progress(\u001b[39mself\u001b[39;49m\u001b[39m.\u001b[39;49mnb\u001b[39m.\u001b[39;49mcells, prefix)):\n\u001b[1;32m     61\u001b[0m         \u001b[39mself\u001b[39m\u001b[39m.\u001b[39mpreprocess_cell(cell, resources, cell_id)\n\u001b[1;32m     62\u001b[0m \u001b[39mself\u001b[39m\u001b[39m.\u001b[39mset_widgets_metadata()\n",
      "File \u001b[0;32m~/repos/bluprint/bluprint/notebook.py:76\u001b[0m, in \u001b[0;36mprogress\u001b[0;34m(iterable, name)\u001b[0m\n\u001b[1;32m     74\u001b[0m \u001b[39mdef\u001b[39;00m \u001b[39mprogress\u001b[39m(iterable: Iterable, name: \u001b[39mstr\u001b[39m) \u001b[39m-\u001b[39m\u001b[39m>\u001b[39m Iterable:\n\u001b[1;32m     75\u001b[0m     sep \u001b[39m=\u001b[39m \u001b[39mf\u001b[39m\u001b[39m'\u001b[39m\u001b[39m{\u001b[39;00mStyle\u001b[39m.\u001b[39mcyan\u001b[39m}\u001b[39;00m\u001b[39m─\u001b[39m\u001b[39m{\u001b[39;00mStyle\u001b[39m.\u001b[39mend\u001b[39m}\u001b[39;00m\u001b[39m'\u001b[39m\n\u001b[0;32m---> 76\u001b[0m     \u001b[39mreturn\u001b[39;00m tqdm(\n\u001b[1;32m     77\u001b[0m         iterable,\n\u001b[1;32m     78\u001b[0m         desc\u001b[39m=\u001b[39;49mname,\n\u001b[1;32m     79\u001b[0m         bar_format\u001b[39m=\u001b[39;49m(\n\u001b[1;32m     80\u001b[0m             \u001b[39m'\u001b[39;49m\u001b[39m{desc}\u001b[39;49;00m\u001b[39m \u001b[39;49m\u001b[39m{percentage:3.0f}\u001b[39;49;00m\u001b[39m%\u001b[39;49m\u001b[39m \u001b[39;49m\u001b[39m'\u001b[39;49m\n\u001b[1;32m     81\u001b[0m             \u001b[39m+\u001b[39;49m sep \u001b[39m+\u001b[39;49m \u001b[39m'\u001b[39;49m\u001b[39m \u001b[39;49m\u001b[39m{n_fmt}\u001b[39;49;00m\u001b[39m/\u001b[39;49m\u001b[39m{total_fmt}\u001b[39;49;00m\u001b[39m cells \u001b[39;49m\u001b[39m'\u001b[39;49m\n\u001b[1;32m     82\u001b[0m             \u001b[39m+\u001b[39;49m sep \u001b[39m+\u001b[39;49m \u001b[39m'\u001b[39;49m\u001b[39m Elapsed: \u001b[39;49m\u001b[39m{elapsed}\u001b[39;49;00m\u001b[39m'\u001b[39;49m\n\u001b[1;32m     83\u001b[0m         ),\n\u001b[1;32m     84\u001b[0m     )\n",
      "File \u001b[0;32m~/repos/bluprint/.venv/lib/python3.11/site-packages/tqdm/std.py:1099\u001b[0m, in \u001b[0;36mtqdm.__init__\u001b[0;34m(self, iterable, desc, total, leave, file, ncols, mininterval, maxinterval, miniters, ascii, disable, unit, unit_scale, dynamic_ncols, smoothing, bar_format, initial, position, postfix, unit_divisor, write_bytes, lock_args, nrows, colour, delay, gui, **kwargs)\u001b[0m\n\u001b[1;32m   1097\u001b[0m     \u001b[39mself\u001b[39m\u001b[39m.\u001b[39msp \u001b[39m=\u001b[39m \u001b[39mself\u001b[39m\u001b[39m.\u001b[39mstatus_printer(\u001b[39mself\u001b[39m\u001b[39m.\u001b[39mfp)\n\u001b[1;32m   1098\u001b[0m     \u001b[39mif\u001b[39;00m delay \u001b[39m<\u001b[39m\u001b[39m=\u001b[39m \u001b[39m0\u001b[39m:\n\u001b[0;32m-> 1099\u001b[0m         \u001b[39mself\u001b[39;49m\u001b[39m.\u001b[39;49mrefresh(lock_args\u001b[39m=\u001b[39;49m\u001b[39mself\u001b[39;49m\u001b[39m.\u001b[39;49mlock_args)\n\u001b[1;32m   1101\u001b[0m \u001b[39m# Init the time counter\u001b[39;00m\n\u001b[1;32m   1102\u001b[0m \u001b[39mself\u001b[39m\u001b[39m.\u001b[39mlast_print_t \u001b[39m=\u001b[39m \u001b[39mself\u001b[39m\u001b[39m.\u001b[39m_time()\n",
      "File \u001b[0;32m~/repos/bluprint/.venv/lib/python3.11/site-packages/tqdm/std.py:1348\u001b[0m, in \u001b[0;36mtqdm.refresh\u001b[0;34m(self, nolock, lock_args)\u001b[0m\n\u001b[1;32m   1346\u001b[0m     \u001b[39melse\u001b[39;00m:\n\u001b[1;32m   1347\u001b[0m         \u001b[39mself\u001b[39m\u001b[39m.\u001b[39m_lock\u001b[39m.\u001b[39macquire()\n\u001b[0;32m-> 1348\u001b[0m \u001b[39mself\u001b[39;49m\u001b[39m.\u001b[39;49mdisplay()\n\u001b[1;32m   1349\u001b[0m \u001b[39mif\u001b[39;00m \u001b[39mnot\u001b[39;00m nolock:\n\u001b[1;32m   1350\u001b[0m     \u001b[39mself\u001b[39m\u001b[39m.\u001b[39m_lock\u001b[39m.\u001b[39mrelease()\n",
      "File \u001b[0;32m~/repos/bluprint/.venv/lib/python3.11/site-packages/tqdm/std.py:1496\u001b[0m, in \u001b[0;36mtqdm.display\u001b[0;34m(self, msg, pos)\u001b[0m\n\u001b[1;32m   1494\u001b[0m \u001b[39mif\u001b[39;00m pos:\n\u001b[1;32m   1495\u001b[0m     \u001b[39mself\u001b[39m\u001b[39m.\u001b[39mmoveto(pos)\n\u001b[0;32m-> 1496\u001b[0m \u001b[39mself\u001b[39;49m\u001b[39m.\u001b[39;49msp(\u001b[39mself\u001b[39;49m\u001b[39m.\u001b[39;49m\u001b[39m__str__\u001b[39;49m() \u001b[39mif\u001b[39;49;00m msg \u001b[39mis\u001b[39;49;00m \u001b[39mNone\u001b[39;49;00m \u001b[39melse\u001b[39;49;00m msg)\n\u001b[1;32m   1497\u001b[0m \u001b[39mif\u001b[39;00m pos:\n\u001b[1;32m   1498\u001b[0m     \u001b[39mself\u001b[39m\u001b[39m.\u001b[39mmoveto(\u001b[39m-\u001b[39mpos)\n",
      "File \u001b[0;32m~/repos/bluprint/.venv/lib/python3.11/site-packages/tqdm/std.py:462\u001b[0m, in \u001b[0;36mtqdm.status_printer.<locals>.print_status\u001b[0;34m(s)\u001b[0m\n\u001b[1;32m    460\u001b[0m \u001b[39mdef\u001b[39;00m \u001b[39mprint_status\u001b[39m(s):\n\u001b[1;32m    461\u001b[0m     len_s \u001b[39m=\u001b[39m disp_len(s)\n\u001b[0;32m--> 462\u001b[0m     fp_write(\u001b[39m'\u001b[39;49m\u001b[39m\\r\u001b[39;49;00m\u001b[39m'\u001b[39;49m \u001b[39m+\u001b[39;49m s \u001b[39m+\u001b[39;49m (\u001b[39m'\u001b[39;49m\u001b[39m \u001b[39;49m\u001b[39m'\u001b[39;49m \u001b[39m*\u001b[39;49m \u001b[39mmax\u001b[39;49m(last_len[\u001b[39m0\u001b[39;49m] \u001b[39m-\u001b[39;49m len_s, \u001b[39m0\u001b[39;49m)))\n\u001b[1;32m    463\u001b[0m     last_len[\u001b[39m0\u001b[39m] \u001b[39m=\u001b[39m len_s\n",
      "File \u001b[0;32m~/repos/bluprint/.venv/lib/python3.11/site-packages/tqdm/std.py:455\u001b[0m, in \u001b[0;36mtqdm.status_printer.<locals>.fp_write\u001b[0;34m(s)\u001b[0m\n\u001b[1;32m    454\u001b[0m \u001b[39mdef\u001b[39;00m \u001b[39mfp_write\u001b[39m(s):\n\u001b[0;32m--> 455\u001b[0m     fp\u001b[39m.\u001b[39;49mwrite(\u001b[39mstr\u001b[39;49m(s))\n\u001b[1;32m    456\u001b[0m     fp_flush()\n",
      "File \u001b[0;32m~/repos/bluprint/.venv/lib/python3.11/site-packages/tqdm/utils.py:195\u001b[0m, in \u001b[0;36mDisableOnWriteError.disable_on_exception.<locals>.inner\u001b[0;34m(*args, **kwargs)\u001b[0m\n\u001b[1;32m    193\u001b[0m \u001b[39mdef\u001b[39;00m \u001b[39minner\u001b[39m(\u001b[39m*\u001b[39margs, \u001b[39m*\u001b[39m\u001b[39m*\u001b[39mkwargs):\n\u001b[1;32m    194\u001b[0m     \u001b[39mtry\u001b[39;00m:\n\u001b[0;32m--> 195\u001b[0m         \u001b[39mreturn\u001b[39;00m func(\u001b[39m*\u001b[39;49margs, \u001b[39m*\u001b[39;49m\u001b[39m*\u001b[39;49mkwargs)\n\u001b[1;32m    196\u001b[0m     \u001b[39mexcept\u001b[39;00m \u001b[39mOSError\u001b[39;00m \u001b[39mas\u001b[39;00m e:\n\u001b[1;32m    197\u001b[0m         \u001b[39mif\u001b[39;00m e\u001b[39m.\u001b[39merrno \u001b[39m!=\u001b[39m \u001b[39m5\u001b[39m:\n",
      "File \u001b[0;32m~/.pyenv/versions/3.11.2/lib/python3.11/tempfile.py:483\u001b[0m, in \u001b[0;36m_TemporaryFileWrapper.__getattr__.<locals>.func_wrapper\u001b[0;34m(*args, **kwargs)\u001b[0m\n\u001b[1;32m    481\u001b[0m \u001b[39m@_functools\u001b[39m\u001b[39m.\u001b[39mwraps(func)\n\u001b[1;32m    482\u001b[0m \u001b[39mdef\u001b[39;00m \u001b[39mfunc_wrapper\u001b[39m(\u001b[39m*\u001b[39margs, \u001b[39m*\u001b[39m\u001b[39m*\u001b[39mkwargs):\n\u001b[0;32m--> 483\u001b[0m     \u001b[39mreturn\u001b[39;00m func(\u001b[39m*\u001b[39;49margs, \u001b[39m*\u001b[39;49m\u001b[39m*\u001b[39;49mkwargs)\n",
      "\u001b[0;31mTypeError\u001b[0m: a bytes-like object is required, not 'str'"
     ]
    }
   ],
   "source": [
    "test_run_workflow_cli()"
   ]
  }
 ],
 "metadata": {
  "kernelspec": {
   "display_name": "bluprint-YlnStUWz-py3.11",
   "language": "python",
   "name": "python3"
  },
  "language_info": {
   "codemirror_mode": {
    "name": "ipython",
    "version": 3
   },
   "file_extension": ".py",
   "mimetype": "text/x-python",
   "name": "python",
   "nbconvert_exporter": "python",
   "pygments_lexer": "ipython3",
   "version": "3.11.2"
  }
 },
 "nbformat": 4,
 "nbformat_minor": 2
}
