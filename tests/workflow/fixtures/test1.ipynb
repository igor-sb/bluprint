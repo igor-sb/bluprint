{
 "cells": [
  {
   "cell_type": "code",
   "execution_count": 1,
   "metadata": {
    "execution": {
     "iopub.execute_input": "2023-11-27T03:39:19.242493Z",
     "iopub.status.busy": "2023-11-27T03:39:19.242179Z",
     "iopub.status.idle": "2023-11-27T03:39:19.250750Z",
     "shell.execute_reply": "2023-11-27T03:39:19.250078Z"
    }
   },
   "outputs": [],
   "source": [
    "import time"
   ]
  },
  {
   "cell_type": "code",
   "execution_count": 2,
   "metadata": {
    "execution": {
     "iopub.execute_input": "2023-11-27T03:39:19.255256Z",
     "iopub.status.busy": "2023-11-27T03:39:19.254747Z",
     "iopub.status.idle": "2023-11-27T03:39:19.363164Z",
     "shell.execute_reply": "2023-11-27T03:39:19.362063Z"
    }
   },
   "outputs": [
    {
     "name": "stdout",
     "output_type": "stream",
     "text": [
      "Hello from test1\n"
     ]
    }
   ],
   "source": [
    "print('Hello from test1')\n",
    "time.sleep(0.1)"
   ]
  },
  {
   "cell_type": "code",
   "execution_count": 3,
   "metadata": {
    "execution": {
     "iopub.execute_input": "2023-11-27T03:39:19.417068Z",
     "iopub.status.busy": "2023-11-27T03:39:19.416803Z",
     "iopub.status.idle": "2023-11-27T03:39:19.420114Z",
     "shell.execute_reply": "2023-11-27T03:39:19.419515Z"
    }
   },
   "outputs": [
    {
     "name": "stdout",
     "output_type": "stream",
     "text": [
      "1.1\n"
     ]
    }
   ],
   "source": [
    "print(1+0.1)"
   ]
  },
  {
   "cell_type": "code",
   "execution_count": 4,
   "metadata": {
    "execution": {
     "iopub.execute_input": "2023-11-27T03:39:19.425075Z",
     "iopub.status.busy": "2023-11-27T03:39:19.424834Z",
     "iopub.status.idle": "2023-11-27T03:39:19.428144Z",
     "shell.execute_reply": "2023-11-27T03:39:19.427478Z"
    }
   },
   "outputs": [
    {
     "name": "stdout",
     "output_type": "stream",
     "text": [
      "28\n"
     ]
    }
   ],
   "source": [
    "print(2*14)"
   ]
  }
 ],
 "metadata": {
  "kernelspec": {
   "display_name": ".venv",
   "language": "python",
   "name": "python3"
  },
  "language_info": {
   "codemirror_mode": {
    "name": "ipython",
    "version": 3
   },
   "file_extension": ".py",
   "mimetype": "text/x-python",
   "name": "python",
   "nbconvert_exporter": "python",
   "pygments_lexer": "ipython3",
   "version": "3.11.4"
  }
 },
 "nbformat": 4,
 "nbformat_minor": 2
}
