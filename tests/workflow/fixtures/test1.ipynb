{
 "cells": [
  {
   "cell_type": "code",
   "execution_count": 1,
   "metadata": {
    "execution": {
     "iopub.execute_input": "2024-08-26T02:51:31.696646Z",
     "iopub.status.busy": "2024-08-26T02:51:31.696144Z",
     "iopub.status.idle": "2024-08-26T02:51:31.704431Z",
     "shell.execute_reply": "2024-08-26T02:51:31.703455Z"
    }
   },
   "outputs": [],
   "source": [
    "import time"
   ]
  },
  {
   "cell_type": "code",
   "execution_count": 2,
   "metadata": {
    "execution": {
     "iopub.execute_input": "2024-08-26T02:51:31.709138Z",
     "iopub.status.busy": "2024-08-26T02:51:31.708662Z",
     "iopub.status.idle": "2024-08-26T02:51:31.813976Z",
     "shell.execute_reply": "2024-08-26T02:51:31.812701Z"
    }
   },
   "outputs": [
    {
     "name": "stdout",
     "output_type": "stream",
     "text": [
      "Hello from test1\n"
     ]
    }
   ],
   "source": [
    "print('Hello from test1')\n",
    "time.sleep(0.1)"
   ]
  },
  {
   "cell_type": "code",
   "execution_count": 3,
   "metadata": {
    "execution": {
     "iopub.execute_input": "2024-08-26T02:51:31.872488Z",
     "iopub.status.busy": "2024-08-26T02:51:31.871932Z",
     "iopub.status.idle": "2024-08-26T02:51:31.876949Z",
     "shell.execute_reply": "2024-08-26T02:51:31.876017Z"
    }
   },
   "outputs": [
    {
     "name": "stdout",
     "output_type": "stream",
     "text": [
      "1.1\n"
     ]
    }
   ],
   "source": [
    "print(1+0.1)"
   ]
  },
  {
   "cell_type": "code",
   "execution_count": 4,
   "metadata": {
    "execution": {
     "iopub.execute_input": "2024-08-26T02:51:31.881241Z",
     "iopub.status.busy": "2024-08-26T02:51:31.880775Z",
     "iopub.status.idle": "2024-08-26T02:51:31.885505Z",
     "shell.execute_reply": "2024-08-26T02:51:31.884565Z"
    }
   },
   "outputs": [
    {
     "name": "stdout",
     "output_type": "stream",
     "text": [
      "28\n"
     ]
    }
   ],
   "source": [
    "print(2*14)"
   ]
  }
 ],
 "metadata": {
  "kernelspec": {
   "display_name": ".venv",
   "language": "python",
   "name": "python3"
  },
  "language_info": {
   "codemirror_mode": {
    "name": "ipython",
    "version": 3
   },
   "file_extension": ".py",
   "mimetype": "text/x-python",
   "name": "python",
   "nbconvert_exporter": "python",
   "pygments_lexer": "ipython3",
   "version": "3.11.9"
  }
 },
 "nbformat": 4,
 "nbformat_minor": 2
}
