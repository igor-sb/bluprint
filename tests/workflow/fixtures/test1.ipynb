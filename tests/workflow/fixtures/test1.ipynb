{
 "cells": [
  {
   "cell_type": "code",
   "execution_count": 1,
   "metadata": {
    "execution": {
     "iopub.execute_input": "2023-12-11T23:37:29.668713Z",
     "iopub.status.busy": "2023-12-11T23:37:29.668415Z",
     "iopub.status.idle": "2023-12-11T23:37:29.677330Z",
     "shell.execute_reply": "2023-12-11T23:37:29.676533Z"
    }
   },
   "outputs": [],
   "source": [
    "import time"
   ]
  },
  {
   "cell_type": "code",
   "execution_count": 2,
   "metadata": {
    "execution": {
     "iopub.execute_input": "2023-12-11T23:37:29.681773Z",
     "iopub.status.busy": "2023-12-11T23:37:29.681498Z",
     "iopub.status.idle": "2023-12-11T23:37:29.790974Z",
     "shell.execute_reply": "2023-12-11T23:37:29.789785Z"
    }
   },
   "outputs": [
    {
     "name": "stdout",
     "output_type": "stream",
     "text": [
      "Hello from test1\n"
     ]
    }
   ],
   "source": [
    "print('Hello from test1')\n",
    "time.sleep(0.1)"
   ]
  },
  {
   "cell_type": "code",
   "execution_count": 3,
   "metadata": {
    "execution": {
     "iopub.execute_input": "2023-12-11T23:37:29.845081Z",
     "iopub.status.busy": "2023-12-11T23:37:29.844813Z",
     "iopub.status.idle": "2023-12-11T23:37:29.848485Z",
     "shell.execute_reply": "2023-12-11T23:37:29.847806Z"
    }
   },
   "outputs": [
    {
     "name": "stdout",
     "output_type": "stream",
     "text": [
      "1.1\n"
     ]
    }
   ],
   "source": [
    "print(1+0.1)"
   ]
  },
  {
   "cell_type": "code",
   "execution_count": 4,
   "metadata": {
    "execution": {
     "iopub.execute_input": "2023-12-11T23:37:29.853938Z",
     "iopub.status.busy": "2023-12-11T23:37:29.853672Z",
     "iopub.status.idle": "2023-12-11T23:37:29.857137Z",
     "shell.execute_reply": "2023-12-11T23:37:29.856529Z"
    }
   },
   "outputs": [
    {
     "name": "stdout",
     "output_type": "stream",
     "text": [
      "28\n"
     ]
    }
   ],
   "source": [
    "print(2*14)"
   ]
  }
 ],
 "metadata": {
  "kernelspec": {
   "display_name": ".venv",
   "language": "python",
   "name": "python3"
  },
  "language_info": {
   "codemirror_mode": {
    "name": "ipython",
    "version": 3
   },
   "file_extension": ".py",
   "mimetype": "text/x-python",
   "name": "python",
   "nbconvert_exporter": "python",
   "pygments_lexer": "ipython3",
   "version": "3.11.4"
  }
 },
 "nbformat": 4,
 "nbformat_minor": 2
}
