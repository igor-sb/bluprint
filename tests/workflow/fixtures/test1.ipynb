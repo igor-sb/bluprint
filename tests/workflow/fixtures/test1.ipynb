{
 "cells": [
  {
   "cell_type": "code",
   "execution_count": 1,
   "metadata": {
    "execution": {
     "iopub.execute_input": "2024-05-06T02:08:52.595771Z",
     "iopub.status.busy": "2024-05-06T02:08:52.595443Z",
     "iopub.status.idle": "2024-05-06T02:08:52.604295Z",
     "shell.execute_reply": "2024-05-06T02:08:52.603587Z"
    }
   },
   "outputs": [],
   "source": [
    "import time"
   ]
  },
  {
   "cell_type": "code",
   "execution_count": 2,
   "metadata": {
    "execution": {
     "iopub.execute_input": "2024-05-06T02:08:52.609187Z",
     "iopub.status.busy": "2024-05-06T02:08:52.608897Z",
     "iopub.status.idle": "2024-05-06T02:08:52.714664Z",
     "shell.execute_reply": "2024-05-06T02:08:52.713791Z"
    }
   },
   "outputs": [
    {
     "name": "stdout",
     "output_type": "stream",
     "text": [
      "Hello from test1\n"
     ]
    }
   ],
   "source": [
    "print('Hello from test1')\n",
    "time.sleep(0.1)"
   ]
  },
  {
   "cell_type": "code",
   "execution_count": 3,
   "metadata": {
    "execution": {
     "iopub.execute_input": "2024-05-06T02:08:52.775923Z",
     "iopub.status.busy": "2024-05-06T02:08:52.775638Z",
     "iopub.status.idle": "2024-05-06T02:08:52.779067Z",
     "shell.execute_reply": "2024-05-06T02:08:52.778452Z"
    }
   },
   "outputs": [
    {
     "name": "stdout",
     "output_type": "stream",
     "text": [
      "1.1\n"
     ]
    }
   ],
   "source": [
    "print(1+0.1)"
   ]
  },
  {
   "cell_type": "code",
   "execution_count": 4,
   "metadata": {
    "execution": {
     "iopub.execute_input": "2024-05-06T02:08:52.784498Z",
     "iopub.status.busy": "2024-05-06T02:08:52.784247Z",
     "iopub.status.idle": "2024-05-06T02:08:52.787537Z",
     "shell.execute_reply": "2024-05-06T02:08:52.786975Z"
    }
   },
   "outputs": [
    {
     "name": "stdout",
     "output_type": "stream",
     "text": [
      "28\n"
     ]
    }
   ],
   "source": [
    "print(2*14)"
   ]
  }
 ],
 "metadata": {
  "kernelspec": {
   "display_name": ".venv",
   "language": "python",
   "name": "python3"
  },
  "language_info": {
   "codemirror_mode": {
    "name": "ipython",
    "version": 3
   },
   "file_extension": ".py",
   "mimetype": "text/x-python",
   "name": "python",
   "nbconvert_exporter": "python",
   "pygments_lexer": "ipython3",
   "version": "3.11.4"
  }
 },
 "nbformat": 4,
 "nbformat_minor": 2
}
