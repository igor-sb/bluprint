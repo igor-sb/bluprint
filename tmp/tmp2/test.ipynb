{
 "cells": [
  {
   "cell_type": "markdown",
   "metadata": {},
   "source": [
    "Example notebook"
   ]
  },
  {
   "cell_type": "code",
   "execution_count": 1,
   "metadata": {
    "execution": {
     "iopub.execute_input": "2023-11-04T20:37:58.961452Z",
     "iopub.status.busy": "2023-11-04T20:37:58.961137Z",
     "iopub.status.idle": "2023-11-04T20:37:59.215188Z",
     "shell.execute_reply": "2023-11-04T20:37:59.214169Z"
    }
   },
   "outputs": [],
   "source": [
    "import importlib\n",
    "import os\n",
    "\n",
    "import pandas as pd\n",
    "\n",
    "from bluprint.test import add_two_numbers"
   ]
  },
  {
   "cell_type": "code",
   "execution_count": 2,
   "metadata": {
    "execution": {
     "iopub.execute_input": "2023-11-04T20:37:59.218450Z",
     "iopub.status.busy": "2023-11-04T20:37:59.217929Z",
     "iopub.status.idle": "2023-11-04T20:37:59.225733Z",
     "shell.execute_reply": "2023-11-04T20:37:59.224767Z"
    }
   },
   "outputs": [
    {
     "name": "stdout",
     "output_type": "stream",
     "text": [
      "   index  name\n",
      "0      0  Igor\n",
      "1      1  Egor\n"
     ]
    }
   ],
   "source": [
    "df = pd.DataFrame({'index': [0, 1], 'name': ['Igor', 'Egor']})\n",
    "\n",
    "print(df)"
   ]
  },
  {
   "cell_type": "code",
   "execution_count": 3,
   "metadata": {},
   "outputs": [
    {
     "data": {
      "text/plain": [
       "14.01"
      ]
     },
     "execution_count": 3,
     "metadata": {},
     "output_type": "execute_result"
    }
   ],
   "source": [
    "add_two_numbers(1, 13)"
   ]
  },
  {
   "cell_type": "code",
   "execution_count": 4,
   "metadata": {},
   "outputs": [
    {
     "data": {
      "text/plain": [
       "PosixPath('/home/igor/repos/bluprint/data/basic/test_data.csv')"
      ]
     },
     "execution_count": 4,
     "metadata": {},
     "output_type": "execute_result"
    }
   ],
   "source": [
    "(\n",
    "    importlib.resources.files('data.basic').joinpath('test_data.csv')\n",
    ")"
   ]
  },
  {
   "cell_type": "code",
   "execution_count": 5,
   "metadata": {},
   "outputs": [
    {
     "name": "stdout",
     "output_type": "stream",
     "text": [
      "*\n",
      "/home/igor/repos/bluprint/data/test2.csv\n",
      "*\n",
      "/home/igor/repos/bluprint/data/basic/test_data.csv\n",
      "*\n",
      "/home/igor/repos/bluprint/data/basic/third_level/test_third_2.csv\n",
      "/home/igor/repos/bluprint/data/basic/third_level/test_third.csv\n"
     ]
    }
   ],
   "source": [
    "data_files = importlib.resources.files('data')\n",
    "for root, _dirs, files in os.walk(data_files.joinpath('')):\n",
    "    if files:\n",
    "        print('*')\n",
    "        for filename in files:\n",
    "            print(os.path.join(root, filename))"
   ]
  },
  {
   "cell_type": "markdown",
   "metadata": {},
   "source": [
    "```\n",
    "# importlib.resources.files('data')for x in .iterdir():\n",
    "# \tprint(x)\n",
    "# \tprint(type(x))\n",
    "# if files:\n",
    "# \tprint('*')\n",
    "# \tprint(root)\n",
    "# \tprint(dirs)\n",
    "# \tprint(files)\n",
    "```"
   ]
  },
  {
   "cell_type": "code",
   "execution_count": 6,
   "metadata": {},
   "outputs": [],
   "source": [
    "import shutil"
   ]
  },
  {
   "cell_type": "code",
   "execution_count": 7,
   "metadata": {},
   "outputs": [],
   "source": [
    "\"\"\"Wrapper for .\"\"\"\n",
    "\n",
    "from dataclasses import dataclass\n",
    "import subprocess  # noqa: S404\n",
    "\n",
    "@dataclass\n",
    "class Executable:\n",
    "\targs: list[str]\n",
    "\n",
    "\tdef run(self) -> str:\n",
    "\t\tcheck_if_executable_is_installed(self.args[0])\n",
    "\t\tout = subprocess.run(self.args, capture_output=True)\n",
    "\t\tif out.stderr != b'':\n",
    "\t\t\traise RuntimeError(out.stderr.decode('UTF-8'))\n",
    "\t\treturn out.stdout.decode('UTF-8')\n",
    "\n",
    "def check_if_executable_is_installed(executable: str) -> None:\n",
    "\tif not shutil.which(executable):\n",
    "\t\traise ValueError(f'Executable not found: {executable}')\n",
    "\t"
   ]
  },
  {
   "cell_type": "code",
   "execution_count": 8,
   "metadata": {},
   "outputs": [
    {
     "name": "stdout",
     "output_type": "stream",
     "text": [
      "Poetry (version 1.5.1)\n",
      "\n"
     ]
    }
   ],
   "source": [
    "print(Executable(['poetry', '-V']).run())"
   ]
  },
  {
   "cell_type": "code",
   "execution_count": 9,
   "metadata": {},
   "outputs": [],
   "source": [
    "import logging\n",
    "\n",
    "logging.basicConfig(format='%(levelname)s: %(message)s', level=logging.INFO)"
   ]
  },
  {
   "cell_type": "code",
   "execution_count": 10,
   "metadata": {},
   "outputs": [
    {
     "name": "stderr",
     "output_type": "stream",
     "text": [
      "INFO: Found \"poetry\" executable.\n",
      "INFO: Found \"gh\" executable.\n",
      "INFO: Found \"git\" executable.\n"
     ]
    }
   ],
   "source": [
    "for exec in ['poetry', 'gh', 'git']:\n",
    "\tcheck_if_executable_is_installed(exec)\n",
    "\tlogging.info(f'Found \"{exec}\" executable.')"
   ]
  }
 ],
 "metadata": {
  "kernelspec": {
   "display_name": "bluprint-YlnStUWz-py3.11",
   "language": "python",
   "name": "python3"
  },
  "language_info": {
   "codemirror_mode": {
    "name": "ipython",
    "version": 3
   },
   "file_extension": ".py",
   "mimetype": "text/x-python",
   "name": "python",
   "nbconvert_exporter": "python",
   "pygments_lexer": "ipython3",
   "version": "3.11.2"
  }
 },
 "nbformat": 4,
 "nbformat_minor": 2
}
