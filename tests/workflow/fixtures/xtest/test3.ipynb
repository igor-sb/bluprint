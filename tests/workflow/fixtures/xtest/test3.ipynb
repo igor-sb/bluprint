{
 "cells": [
  {
   "cell_type": "code",
   "execution_count": 1,
   "metadata": {
    "execution": {
     "iopub.execute_input": "2023-11-30T22:07:59.304663Z",
     "iopub.status.busy": "2023-11-30T22:07:59.304336Z",
     "iopub.status.idle": "2023-11-30T22:07:59.313853Z",
     "shell.execute_reply": "2023-11-30T22:07:59.312916Z"
    }
   },
   "outputs": [
    {
     "name": "stdout",
     "output_type": "stream",
     "text": [
      "Hello from test3!\n"
     ]
    }
   ],
   "source": [
    "print('Hello from test3!')"
   ]
  },
  {
   "cell_type": "code",
   "execution_count": 2,
   "metadata": {
    "execution": {
     "iopub.execute_input": "2023-11-30T22:07:59.318297Z",
     "iopub.status.busy": "2023-11-30T22:07:59.317808Z",
     "iopub.status.idle": "2023-11-30T22:07:59.322760Z",
     "shell.execute_reply": "2023-11-30T22:07:59.321702Z"
    }
   },
   "outputs": [
    {
     "name": "stdout",
     "output_type": "stream",
     "text": [
      "Hello again!\n"
     ]
    }
   ],
   "source": [
    "print('Hello again!')"
   ]
  }
 ],
 "metadata": {
  "kernelspec": {
   "display_name": ".venv",
   "language": "python",
   "name": "python3"
  },
  "language_info": {
   "codemirror_mode": {
    "name": "ipython",
    "version": 3
   },
   "file_extension": ".py",
   "mimetype": "text/x-python",
   "name": "python",
   "nbconvert_exporter": "python",
   "pygments_lexer": "ipython3",
   "version": "3.11.2"
  }
 },
 "nbformat": 4,
 "nbformat_minor": 2
}
