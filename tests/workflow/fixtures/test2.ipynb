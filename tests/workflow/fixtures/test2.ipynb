{
 "cells": [
  {
   "cell_type": "code",
   "execution_count": 1,
   "metadata": {
    "execution": {
     "iopub.execute_input": "2023-12-02T16:06:03.134077Z",
     "iopub.status.busy": "2023-12-02T16:06:03.133520Z",
     "iopub.status.idle": "2023-12-02T16:06:03.144657Z",
     "shell.execute_reply": "2023-12-02T16:06:03.143354Z"
    }
   },
   "outputs": [
    {
     "name": "stdout",
     "output_type": "stream",
     "text": [
      "Hello from test2.\n"
     ]
    }
   ],
   "source": [
    "print('Hello from test2.')"
   ]
  }
 ],
 "metadata": {
  "kernelspec": {
   "display_name": ".venv",
   "language": "python",
   "name": "python3"
  },
  "language_info": {
   "codemirror_mode": {
    "name": "ipython",
    "version": 3
   },
   "file_extension": ".py",
   "mimetype": "text/x-python",
   "name": "python",
   "nbconvert_exporter": "python",
   "pygments_lexer": "ipython3",
   "version": "3.11.2"
  }
 },
 "nbformat": 4,
 "nbformat_minor": 2
}
