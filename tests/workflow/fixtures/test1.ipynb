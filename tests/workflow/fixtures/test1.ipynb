{
 "cells": [
  {
   "cell_type": "code",
   "execution_count": 1,
   "metadata": {
    "execution": {
     "iopub.execute_input": "2024-08-26T05:12:50.424479Z",
     "iopub.status.busy": "2024-08-26T05:12:50.423990Z",
     "iopub.status.idle": "2024-08-26T05:12:50.432515Z",
     "shell.execute_reply": "2024-08-26T05:12:50.431431Z"
    }
   },
   "outputs": [],
   "source": [
    "import time"
   ]
  },
  {
   "cell_type": "code",
   "execution_count": 2,
   "metadata": {
    "execution": {
     "iopub.execute_input": "2024-08-26T05:12:50.437713Z",
     "iopub.status.busy": "2024-08-26T05:12:50.437144Z",
     "iopub.status.idle": "2024-08-26T05:12:50.542144Z",
     "shell.execute_reply": "2024-08-26T05:12:50.541040Z"
    }
   },
   "outputs": [
    {
     "name": "stdout",
     "output_type": "stream",
     "text": [
      "Hello from test1\n"
     ]
    }
   ],
   "source": [
    "print('Hello from test1')\n",
    "time.sleep(0.1)"
   ]
  },
  {
   "cell_type": "code",
   "execution_count": 3,
   "metadata": {
    "execution": {
     "iopub.execute_input": "2024-08-26T05:12:50.600109Z",
     "iopub.status.busy": "2024-08-26T05:12:50.599752Z",
     "iopub.status.idle": "2024-08-26T05:12:50.604693Z",
     "shell.execute_reply": "2024-08-26T05:12:50.603757Z"
    }
   },
   "outputs": [
    {
     "name": "stdout",
     "output_type": "stream",
     "text": [
      "1.1\n"
     ]
    }
   ],
   "source": [
    "print(1+0.1)"
   ]
  },
  {
   "cell_type": "code",
   "execution_count": 4,
   "metadata": {
    "execution": {
     "iopub.execute_input": "2024-08-26T05:12:50.609192Z",
     "iopub.status.busy": "2024-08-26T05:12:50.608698Z",
     "iopub.status.idle": "2024-08-26T05:12:50.613705Z",
     "shell.execute_reply": "2024-08-26T05:12:50.612666Z"
    }
   },
   "outputs": [
    {
     "name": "stdout",
     "output_type": "stream",
     "text": [
      "28\n"
     ]
    }
   ],
   "source": [
    "print(2*14)"
   ]
  }
 ],
 "metadata": {
  "kernelspec": {
   "display_name": ".venv",
   "language": "python",
   "name": "python3"
  },
  "language_info": {
   "codemirror_mode": {
    "name": "ipython",
    "version": 3
   },
   "file_extension": ".py",
   "mimetype": "text/x-python",
   "name": "python",
   "nbconvert_exporter": "python",
   "pygments_lexer": "ipython3",
   "version": "3.11.9"
  }
 },
 "nbformat": 4,
 "nbformat_minor": 2
}
