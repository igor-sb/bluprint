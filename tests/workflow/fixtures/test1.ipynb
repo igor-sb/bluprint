{
 "cells": [
  {
   "cell_type": "code",
   "execution_count": 1,
   "metadata": {
    "execution": {
     "iopub.execute_input": "2023-12-01T19:36:47.505605Z",
     "iopub.status.busy": "2023-12-01T19:36:47.505264Z",
     "iopub.status.idle": "2023-12-01T19:36:47.515169Z",
     "shell.execute_reply": "2023-12-01T19:36:47.514171Z"
    }
   },
   "outputs": [],
   "source": [
    "import time"
   ]
  },
  {
   "cell_type": "code",
   "execution_count": 2,
   "metadata": {
    "execution": {
     "iopub.execute_input": "2023-12-01T19:36:47.519636Z",
     "iopub.status.busy": "2023-12-01T19:36:47.518929Z",
     "iopub.status.idle": "2023-12-01T19:36:47.624337Z",
     "shell.execute_reply": "2023-12-01T19:36:47.623340Z"
    }
   },
   "outputs": [
    {
     "name": "stdout",
     "output_type": "stream",
     "text": [
      "Hello from test1\n"
     ]
    }
   ],
   "source": [
    "print('Hello from test1')\n",
    "time.sleep(0.1)"
   ]
  },
  {
   "cell_type": "code",
   "execution_count": 3,
   "metadata": {
    "execution": {
     "iopub.execute_input": "2023-12-01T19:36:47.685170Z",
     "iopub.status.busy": "2023-12-01T19:36:47.684683Z",
     "iopub.status.idle": "2023-12-01T19:36:47.689655Z",
     "shell.execute_reply": "2023-12-01T19:36:47.688724Z"
    }
   },
   "outputs": [
    {
     "name": "stdout",
     "output_type": "stream",
     "text": [
      "1.1\n"
     ]
    }
   ],
   "source": [
    "print(1+0.1)"
   ]
  },
  {
   "cell_type": "code",
   "execution_count": 4,
   "metadata": {
    "execution": {
     "iopub.execute_input": "2023-12-01T19:36:47.693848Z",
     "iopub.status.busy": "2023-12-01T19:36:47.693429Z",
     "iopub.status.idle": "2023-12-01T19:36:47.698308Z",
     "shell.execute_reply": "2023-12-01T19:36:47.697398Z"
    }
   },
   "outputs": [
    {
     "name": "stdout",
     "output_type": "stream",
     "text": [
      "28\n"
     ]
    }
   ],
   "source": [
    "print(2*14)"
   ]
  }
 ],
 "metadata": {
  "kernelspec": {
   "display_name": ".venv",
   "language": "python",
   "name": "python3"
  },
  "language_info": {
   "codemirror_mode": {
    "name": "ipython",
    "version": 3
   },
   "file_extension": ".py",
   "mimetype": "text/x-python",
   "name": "python",
   "nbconvert_exporter": "python",
   "pygments_lexer": "ipython3",
   "version": "3.11.2"
  }
 },
 "nbformat": 4,
 "nbformat_minor": 2
}
