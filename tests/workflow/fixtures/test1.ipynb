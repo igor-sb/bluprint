{
 "cells": [
  {
   "cell_type": "code",
   "execution_count": 1,
   "metadata": {
    "execution": {
     "iopub.execute_input": "2023-12-23T14:30:07.905282Z",
     "iopub.status.busy": "2023-12-23T14:30:07.904954Z",
     "iopub.status.idle": "2023-12-23T14:30:07.914236Z",
     "shell.execute_reply": "2023-12-23T14:30:07.913303Z"
    }
   },
   "outputs": [],
   "source": [
    "import time"
   ]
  },
  {
   "cell_type": "code",
   "execution_count": 2,
   "metadata": {
    "execution": {
     "iopub.execute_input": "2023-12-23T14:30:07.920063Z",
     "iopub.status.busy": "2023-12-23T14:30:07.919742Z",
     "iopub.status.idle": "2023-12-23T14:30:08.027219Z",
     "shell.execute_reply": "2023-12-23T14:30:08.026585Z"
    }
   },
   "outputs": [
    {
     "name": "stdout",
     "output_type": "stream",
     "text": [
      "Hello from test1\n"
     ]
    }
   ],
   "source": [
    "print('Hello from test1')\n",
    "time.sleep(0.1)"
   ]
  },
  {
   "cell_type": "code",
   "execution_count": 3,
   "metadata": {
    "execution": {
     "iopub.execute_input": "2023-12-23T14:30:08.101952Z",
     "iopub.status.busy": "2023-12-23T14:30:08.101415Z",
     "iopub.status.idle": "2023-12-23T14:30:08.105680Z",
     "shell.execute_reply": "2023-12-23T14:30:08.105010Z"
    }
   },
   "outputs": [
    {
     "name": "stdout",
     "output_type": "stream",
     "text": [
      "1.1\n"
     ]
    }
   ],
   "source": [
    "print(1+0.1)"
   ]
  },
  {
   "cell_type": "code",
   "execution_count": 4,
   "metadata": {
    "execution": {
     "iopub.execute_input": "2023-12-23T14:30:08.113634Z",
     "iopub.status.busy": "2023-12-23T14:30:08.113305Z",
     "iopub.status.idle": "2023-12-23T14:30:08.119375Z",
     "shell.execute_reply": "2023-12-23T14:30:08.118145Z"
    }
   },
   "outputs": [
    {
     "name": "stdout",
     "output_type": "stream",
     "text": [
      "28\n"
     ]
    }
   ],
   "source": [
    "print(2*14)"
   ]
  }
 ],
 "metadata": {
  "kernelspec": {
   "display_name": ".venv",
   "language": "python",
   "name": "python3"
  },
  "language_info": {
   "codemirror_mode": {
    "name": "ipython",
    "version": 3
   },
   "file_extension": ".py",
   "mimetype": "text/x-python",
   "name": "python",
   "nbconvert_exporter": "python",
   "pygments_lexer": "ipython3",
   "version": "3.11.4"
  }
 },
 "nbformat": 4,
 "nbformat_minor": 2
}
