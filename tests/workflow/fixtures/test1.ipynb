{
 "cells": [
  {
   "cell_type": "code",
   "execution_count": 1,
   "metadata": {
    "execution": {
     "iopub.execute_input": "2024-08-25T04:56:38.348166Z",
     "iopub.status.busy": "2024-08-25T04:56:38.347522Z",
     "iopub.status.idle": "2024-08-25T04:56:38.357684Z",
     "shell.execute_reply": "2024-08-25T04:56:38.356533Z"
    }
   },
   "outputs": [],
   "source": [
    "import time"
   ]
  },
  {
   "cell_type": "code",
   "execution_count": 2,
   "metadata": {
    "execution": {
     "iopub.execute_input": "2024-08-25T04:56:38.363652Z",
     "iopub.status.busy": "2024-08-25T04:56:38.363089Z",
     "iopub.status.idle": "2024-08-25T04:56:38.468683Z",
     "shell.execute_reply": "2024-08-25T04:56:38.467570Z"
    }
   },
   "outputs": [
    {
     "name": "stdout",
     "output_type": "stream",
     "text": [
      "Hello from test1\n"
     ]
    }
   ],
   "source": [
    "print('Hello from test1')\n",
    "time.sleep(0.1)"
   ]
  },
  {
   "cell_type": "code",
   "execution_count": 3,
   "metadata": {
    "execution": {
     "iopub.execute_input": "2024-08-25T04:56:38.554368Z",
     "iopub.status.busy": "2024-08-25T04:56:38.553632Z",
     "iopub.status.idle": "2024-08-25T04:56:38.560757Z",
     "shell.execute_reply": "2024-08-25T04:56:38.559584Z"
    }
   },
   "outputs": [
    {
     "name": "stdout",
     "output_type": "stream",
     "text": [
      "1.1\n"
     ]
    }
   ],
   "source": [
    "print(1+0.1)"
   ]
  },
  {
   "cell_type": "code",
   "execution_count": 4,
   "metadata": {
    "execution": {
     "iopub.execute_input": "2024-08-25T04:56:38.566386Z",
     "iopub.status.busy": "2024-08-25T04:56:38.566078Z",
     "iopub.status.idle": "2024-08-25T04:56:38.571997Z",
     "shell.execute_reply": "2024-08-25T04:56:38.570409Z"
    }
   },
   "outputs": [
    {
     "name": "stdout",
     "output_type": "stream",
     "text": [
      "28\n"
     ]
    }
   ],
   "source": [
    "print(2*14)"
   ]
  }
 ],
 "metadata": {
  "kernelspec": {
   "display_name": ".venv",
   "language": "python",
   "name": "python3"
  },
  "language_info": {
   "codemirror_mode": {
    "name": "ipython",
    "version": 3
   },
   "file_extension": ".py",
   "mimetype": "text/x-python",
   "name": "python",
   "nbconvert_exporter": "python",
   "pygments_lexer": "ipython3",
   "version": "3.11.9"
  }
 },
 "nbformat": 4,
 "nbformat_minor": 2
}
