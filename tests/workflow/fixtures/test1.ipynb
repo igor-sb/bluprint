{
 "cells": [
  {
   "cell_type": "code",
   "execution_count": 1,
   "metadata": {
    "execution": {
     "iopub.execute_input": "2024-08-24T00:51:59.617644Z",
     "iopub.status.busy": "2024-08-24T00:51:59.617262Z",
     "iopub.status.idle": "2024-08-24T00:51:59.625882Z",
     "shell.execute_reply": "2024-08-24T00:51:59.624756Z"
    }
   },
   "outputs": [],
   "source": [
    "import time"
   ]
  },
  {
   "cell_type": "code",
   "execution_count": 2,
   "metadata": {
    "execution": {
     "iopub.execute_input": "2024-08-24T00:51:59.630786Z",
     "iopub.status.busy": "2024-08-24T00:51:59.630224Z",
     "iopub.status.idle": "2024-08-24T00:51:59.735110Z",
     "shell.execute_reply": "2024-08-24T00:51:59.734120Z"
    }
   },
   "outputs": [
    {
     "name": "stdout",
     "output_type": "stream",
     "text": [
      "Hello from test1\n"
     ]
    }
   ],
   "source": [
    "print('Hello from test1')\n",
    "time.sleep(0.1)"
   ]
  },
  {
   "cell_type": "code",
   "execution_count": 3,
   "metadata": {
    "execution": {
     "iopub.execute_input": "2024-08-24T00:51:59.797243Z",
     "iopub.status.busy": "2024-08-24T00:51:59.796681Z",
     "iopub.status.idle": "2024-08-24T00:51:59.802253Z",
     "shell.execute_reply": "2024-08-24T00:51:59.801232Z"
    }
   },
   "outputs": [
    {
     "name": "stdout",
     "output_type": "stream",
     "text": [
      "1.1\n"
     ]
    }
   ],
   "source": [
    "print(1+0.1)"
   ]
  },
  {
   "cell_type": "code",
   "execution_count": 4,
   "metadata": {
    "execution": {
     "iopub.execute_input": "2024-08-24T00:51:59.807857Z",
     "iopub.status.busy": "2024-08-24T00:51:59.807216Z",
     "iopub.status.idle": "2024-08-24T00:51:59.812402Z",
     "shell.execute_reply": "2024-08-24T00:51:59.811467Z"
    }
   },
   "outputs": [
    {
     "name": "stdout",
     "output_type": "stream",
     "text": [
      "28\n"
     ]
    }
   ],
   "source": [
    "print(2*14)"
   ]
  }
 ],
 "metadata": {
  "kernelspec": {
   "display_name": ".venv",
   "language": "python",
   "name": "python3"
  },
  "language_info": {
   "codemirror_mode": {
    "name": "ipython",
    "version": 3
   },
   "file_extension": ".py",
   "mimetype": "text/x-python",
   "name": "python",
   "nbconvert_exporter": "python",
   "pygments_lexer": "ipython3",
   "version": "3.11.9"
  }
 },
 "nbformat": 4,
 "nbformat_minor": 2
}
