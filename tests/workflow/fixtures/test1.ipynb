{
 "cells": [
  {
   "cell_type": "code",
   "execution_count": 1,
   "metadata": {
    "execution": {
     "iopub.execute_input": "2024-01-02T04:12:37.487275Z",
     "iopub.status.busy": "2024-01-02T04:12:37.486616Z",
     "iopub.status.idle": "2024-01-02T04:12:37.498300Z",
     "shell.execute_reply": "2024-01-02T04:12:37.497167Z"
    }
   },
   "outputs": [],
   "source": [
    "import time"
   ]
  },
  {
   "cell_type": "code",
   "execution_count": 2,
   "metadata": {
    "execution": {
     "iopub.execute_input": "2024-01-02T04:12:37.502715Z",
     "iopub.status.busy": "2024-01-02T04:12:37.502246Z",
     "iopub.status.idle": "2024-01-02T04:12:37.608449Z",
     "shell.execute_reply": "2024-01-02T04:12:37.606806Z"
    }
   },
   "outputs": [
    {
     "name": "stdout",
     "output_type": "stream",
     "text": [
      "Hello from test1\n"
     ]
    }
   ],
   "source": [
    "print('Hello from test1')\n",
    "time.sleep(0.1)"
   ]
  },
  {
   "cell_type": "code",
   "execution_count": 3,
   "metadata": {
    "execution": {
     "iopub.execute_input": "2024-01-02T04:12:37.664915Z",
     "iopub.status.busy": "2024-01-02T04:12:37.664320Z",
     "iopub.status.idle": "2024-01-02T04:12:37.670157Z",
     "shell.execute_reply": "2024-01-02T04:12:37.669213Z"
    }
   },
   "outputs": [
    {
     "name": "stdout",
     "output_type": "stream",
     "text": [
      "1.1\n"
     ]
    }
   ],
   "source": [
    "print(1+0.1)"
   ]
  },
  {
   "cell_type": "code",
   "execution_count": 4,
   "metadata": {
    "execution": {
     "iopub.execute_input": "2024-01-02T04:12:37.674698Z",
     "iopub.status.busy": "2024-01-02T04:12:37.674202Z",
     "iopub.status.idle": "2024-01-02T04:12:37.679302Z",
     "shell.execute_reply": "2024-01-02T04:12:37.678379Z"
    }
   },
   "outputs": [
    {
     "name": "stdout",
     "output_type": "stream",
     "text": [
      "28\n"
     ]
    }
   ],
   "source": [
    "print(2*14)"
   ]
  }
 ],
 "metadata": {
  "kernelspec": {
   "display_name": ".venv",
   "language": "python",
   "name": "python3"
  },
  "language_info": {
   "codemirror_mode": {
    "name": "ipython",
    "version": 3
   },
   "file_extension": ".py",
   "mimetype": "text/x-python",
   "name": "python",
   "nbconvert_exporter": "python",
   "pygments_lexer": "ipython3",
   "version": "3.11.2"
  }
 },
 "nbformat": 4,
 "nbformat_minor": 2
}
