{
 "cells": [
  {
   "cell_type": "code",
   "execution_count": 1,
   "metadata": {
    "execution": {
     "iopub.execute_input": "2023-12-03T18:58:55.020956Z",
     "iopub.status.busy": "2023-12-03T18:58:55.020378Z",
     "iopub.status.idle": "2023-12-03T18:58:55.029920Z",
     "shell.execute_reply": "2023-12-03T18:58:55.028718Z"
    }
   },
   "outputs": [],
   "source": [
    "import time"
   ]
  },
  {
   "cell_type": "code",
   "execution_count": 2,
   "metadata": {
    "execution": {
     "iopub.execute_input": "2023-12-03T18:58:55.034557Z",
     "iopub.status.busy": "2023-12-03T18:58:55.034024Z",
     "iopub.status.idle": "2023-12-03T18:58:55.139458Z",
     "shell.execute_reply": "2023-12-03T18:58:55.138057Z"
    }
   },
   "outputs": [
    {
     "name": "stdout",
     "output_type": "stream",
     "text": [
      "Hello from test1\n"
     ]
    }
   ],
   "source": [
    "print('Hello from test1')\n",
    "time.sleep(0.1)"
   ]
  },
  {
   "cell_type": "code",
   "execution_count": 3,
   "metadata": {
    "execution": {
     "iopub.execute_input": "2023-12-03T18:58:55.208048Z",
     "iopub.status.busy": "2023-12-03T18:58:55.207417Z",
     "iopub.status.idle": "2023-12-03T18:58:55.213299Z",
     "shell.execute_reply": "2023-12-03T18:58:55.212153Z"
    }
   },
   "outputs": [
    {
     "name": "stdout",
     "output_type": "stream",
     "text": [
      "1.1\n"
     ]
    }
   ],
   "source": [
    "print(1+0.1)"
   ]
  },
  {
   "cell_type": "code",
   "execution_count": 4,
   "metadata": {
    "execution": {
     "iopub.execute_input": "2023-12-03T18:58:55.218796Z",
     "iopub.status.busy": "2023-12-03T18:58:55.218278Z",
     "iopub.status.idle": "2023-12-03T18:58:55.223990Z",
     "shell.execute_reply": "2023-12-03T18:58:55.222713Z"
    }
   },
   "outputs": [
    {
     "name": "stdout",
     "output_type": "stream",
     "text": [
      "28\n"
     ]
    }
   ],
   "source": [
    "print(2*14)"
   ]
  }
 ],
 "metadata": {
  "kernelspec": {
   "display_name": ".venv",
   "language": "python",
   "name": "python3"
  },
  "language_info": {
   "codemirror_mode": {
    "name": "ipython",
    "version": 3
   },
   "file_extension": ".py",
   "mimetype": "text/x-python",
   "name": "python",
   "nbconvert_exporter": "python",
   "pygments_lexer": "ipython3",
   "version": "3.11.2"
  }
 },
 "nbformat": 4,
 "nbformat_minor": 2
}
