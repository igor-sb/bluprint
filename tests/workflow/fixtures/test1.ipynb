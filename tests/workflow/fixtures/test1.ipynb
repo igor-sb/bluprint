{
 "cells": [
  {
   "cell_type": "code",
   "execution_count": 1,
   "metadata": {
    "execution": {
     "iopub.execute_input": "2023-12-22T10:49:05.980962Z",
     "iopub.status.busy": "2023-12-22T10:49:05.980648Z",
     "iopub.status.idle": "2023-12-22T10:49:05.989179Z",
     "shell.execute_reply": "2023-12-22T10:49:05.988492Z"
    }
   },
   "outputs": [],
   "source": [
    "import time"
   ]
  },
  {
   "cell_type": "code",
   "execution_count": 2,
   "metadata": {
    "execution": {
     "iopub.execute_input": "2023-12-22T10:49:05.994282Z",
     "iopub.status.busy": "2023-12-22T10:49:05.993985Z",
     "iopub.status.idle": "2023-12-22T10:49:06.104603Z",
     "shell.execute_reply": "2023-12-22T10:49:06.103397Z"
    }
   },
   "outputs": [
    {
     "name": "stdout",
     "output_type": "stream",
     "text": [
      "Hello from test1\n"
     ]
    }
   ],
   "source": [
    "print('Hello from test1')\n",
    "time.sleep(0.1)"
   ]
  },
  {
   "cell_type": "code",
   "execution_count": 3,
   "metadata": {
    "execution": {
     "iopub.execute_input": "2023-12-22T10:49:06.161762Z",
     "iopub.status.busy": "2023-12-22T10:49:06.161475Z",
     "iopub.status.idle": "2023-12-22T10:49:06.164939Z",
     "shell.execute_reply": "2023-12-22T10:49:06.164347Z"
    }
   },
   "outputs": [
    {
     "name": "stdout",
     "output_type": "stream",
     "text": [
      "1.1\n"
     ]
    }
   ],
   "source": [
    "print(1+0.1)"
   ]
  },
  {
   "cell_type": "code",
   "execution_count": 4,
   "metadata": {
    "execution": {
     "iopub.execute_input": "2023-12-22T10:49:06.170140Z",
     "iopub.status.busy": "2023-12-22T10:49:06.169904Z",
     "iopub.status.idle": "2023-12-22T10:49:06.173155Z",
     "shell.execute_reply": "2023-12-22T10:49:06.172572Z"
    }
   },
   "outputs": [
    {
     "name": "stdout",
     "output_type": "stream",
     "text": [
      "28\n"
     ]
    }
   ],
   "source": [
    "print(2*14)"
   ]
  }
 ],
 "metadata": {
  "kernelspec": {
   "display_name": ".venv",
   "language": "python",
   "name": "python3"
  },
  "language_info": {
   "codemirror_mode": {
    "name": "ipython",
    "version": 3
   },
   "file_extension": ".py",
   "mimetype": "text/x-python",
   "name": "python",
   "nbconvert_exporter": "python",
   "pygments_lexer": "ipython3",
   "version": "3.11.4"
  }
 },
 "nbformat": 4,
 "nbformat_minor": 2
}
