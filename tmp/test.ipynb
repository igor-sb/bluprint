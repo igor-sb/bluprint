{
 "cells": [
  {
   "cell_type": "markdown",
   "metadata": {},
   "source": [
    "Example notebook"
   ]
  },
  {
   "cell_type": "markdown",
   "metadata": {},
   "source": [
    "To do: DATA CONFIG BUILDER\n",
    "\n",
    "Walk through a folder, collecting all the files into a provided filename e.g. data.yaml.\n",
    "\n",
    "```sh\n",
    "bluprint index <dirname> <config.yaml>\n",
    "```"
   ]
  },
  {
   "cell_type": "code",
   "execution_count": 1,
   "metadata": {},
   "outputs": [],
   "source": [
    "import os\n",
    "from pathlib import Path, PurePath, PosixPath\n",
    "from omegaconf import OmegaConf"
   ]
  },
  {
   "cell_type": "code",
   "execution_count": null,
   "metadata": {},
   "outputs": [],
   "source": [
    "def index_files_in_dir(\n",
    "\tindex_dir: str | PosixPath,\n",
    "\tskip_dot_files: bool = True,\n",
    ") -> list[tuple[str, ...]]:\n",
    "\tindexed_files = []\n",
    "\tindex_dir_part_id = len(Path(index_dir).parts)\n",
    "\tfor root, _dirs, files in os.walk(index_dir):\n",
    "\t\tfor file in files:\n",
    "\t\t\tfile_path = Path(root) / file\n",
    "\t\t\tif file.startswith('.') and skip_dot_files:\n",
    "\t\t\t\tcontinue\n",
    "\t\t\tindexed_files.append(file_path.parts[index_dir_part_id:])\n",
    "\treturn sorted(indexed_files)"
   ]
  },
  {
   "cell_type": "code",
   "execution_count": 2,
   "metadata": {},
   "outputs": [
    {
     "name": "stdout",
     "output_type": "stream",
     "text": [
      "Root: ../tests/\n",
      "Root: ../tests/demo\n",
      "- File: ('demo', 'test_demo.py')\n",
      "Root: ../tests/demo/__pycache__\n",
      "- File: ('demo', '__pycache__', 'test_demo.cpython-311-pytest-7.4.3.pyc')\n",
      "Root: ../tests/data_config_builder\n",
      "Root: ../tests/data_config_builder/fixtures\n",
      "Root: ../tests/workflow\n",
      "- File: ('workflow', 'conftest.py')\n",
      "- File: ('workflow', 'test_workflow.py')\n",
      "Root: ../tests/workflow/snapshots\n",
      "- File: ('workflow', 'snapshots', 'test.log')\n",
      "Root: ../tests/workflow/fixtures\n",
      "- File: ('workflow', 'fixtures', 'test1.ipynb')\n",
      "- File: ('workflow', 'fixtures', 'test2.ipynb')\n",
      "- File: ('workflow', 'fixtures', 'test4.ipynb')\n",
      "- File: ('workflow', 'fixtures', 'workflows.yaml')\n",
      "- File: ('workflow', 'fixtures', 'test3.ipynb')\n",
      "Root: ../tests/workflow/__pycache__\n",
      "- File: ('workflow', '__pycache__', 'conftest.cpython-311-pytest-7.4.3.pyc')\n",
      "- File: ('workflow', '__pycache__', 'test_workflow.cpython-311-pytest-7.4.3.pyc')\n",
      "Root: ../tests/yaml\n",
      "- File: ('yaml', 'test_yaml.py')\n",
      "Root: ../tests/yaml/snapshots\n",
      "- File: ('yaml', 'snapshots', 'prefixed_test.yaml')\n",
      "Root: ../tests/yaml/fixtures\n",
      "- File: ('yaml', 'fixtures', 'config.yaml')\n",
      "- File: ('yaml', 'fixtures', 'test.yaml')\n",
      "Root: ../tests/yaml/__pycache__\n",
      "- File: ('yaml', '__pycache__', 'conftest.cpython-311-pytest-7.4.3.pyc')\n",
      "- File: ('yaml', '__pycache__', 'test_yaml.cpython-311-pytest-7.4.3.pyc')\n"
     ]
    }
   ],
   "source": [
    "indexed_files_as_parts = []\n",
    "index_dir = '../tests/'\n",
    "index_dir_part_id = len(Path(index_dir).parts)\n",
    "for root, _dirs, files in os.walk(index_dir):\n",
    "\tprint(f'Root: {root}')\n",
    "\tfor file in files:\n",
    "\t\tfile_path = Path(root) / file\n",
    "\t\trelative_file_path = Path(*file_path.parts)\n",
    "\t\tprint(f'- File: {file_path.parts[index_dir_part_id:]}')\n",
    "\t\tif not file.startswith('.'):\n",
    "\t\t\t\n",
    "\t\t\tindexed_files_as_parts.append(file_path.parts[index_dir_part_id:])"
   ]
  },
  {
   "cell_type": "code",
   "execution_count": null,
   "metadata": {},
   "outputs": [],
   "source": [
    "indexed_files_as_parts.sort()"
   ]
  },
  {
   "cell_type": "code",
   "execution_count": 21,
   "metadata": {},
   "outputs": [
    {
     "data": {
      "text/plain": [
       "[('demo', '__pycache__', 'test_demo.cpython-311-pytest-7.4.3.pyc'),\n",
       " ('demo', 'test_demo.py'),\n",
       " ('workflow', '__pycache__', 'conftest.cpython-311-pytest-7.4.3.pyc'),\n",
       " ('workflow', '__pycache__', 'test_workflow.cpython-311-pytest-7.4.3.pyc'),\n",
       " ('workflow', 'conftest.py'),\n",
       " ('workflow', 'fixtures', 'test1.ipynb'),\n",
       " ('workflow', 'fixtures', 'test2.ipynb'),\n",
       " ('workflow', 'fixtures', 'test3.ipynb'),\n",
       " ('workflow', 'fixtures', 'test4.ipynb'),\n",
       " ('workflow', 'fixtures', 'workflows.yaml'),\n",
       " ('workflow', 'snapshots', 'test.log'),\n",
       " ('workflow', 'test_workflow.py'),\n",
       " ('yaml', '__pycache__', 'conftest.cpython-311-pytest-7.4.3.pyc'),\n",
       " ('yaml', '__pycache__', 'test_yaml.cpython-311-pytest-7.4.3.pyc'),\n",
       " ('yaml', 'fixtures', 'config.yaml'),\n",
       " ('yaml', 'fixtures', 'test.yaml'),\n",
       " ('yaml', 'snapshots', 'prefixed_test.yaml'),\n",
       " ('yaml', 'test_yaml.py')]"
      ]
     },
     "execution_count": 21,
     "metadata": {},
     "output_type": "execute_result"
    }
   ],
   "source": [
    "sorted(indexed_files_as_parts)"
   ]
  },
  {
   "cell_type": "code",
   "execution_count": 19,
   "metadata": {},
   "outputs": [
    {
     "data": {
      "text/plain": [
       "('workflow', 'fixtures', 'test1.ipynb')"
      ]
     },
     "execution_count": 19,
     "metadata": {},
     "output_type": "execute_result"
    }
   ],
   "source": [
    "tuple(map(str, indexed_files_as_parts[5]))"
   ]
  },
  {
   "cell_type": "code",
   "execution_count": 14,
   "metadata": {},
   "outputs": [
    {
     "data": {
      "text/plain": [
       "[('demo', '__pycache__', 'test_demo.cpython-311-pytest-7.4.3.pyc'),\n",
       " ('demo', 'test_demo.py'),\n",
       " ('workflow', '__pycache__', 'conftest.cpython-311-pytest-7.4.3.pyc'),\n",
       " ('workflow', '__pycache__', 'test_workflow.cpython-311-pytest-7.4.3.pyc'),\n",
       " ('workflow', 'conftest.py'),\n",
       " ('workflow', 'fixtures', 'test1.ipynb'),\n",
       " ('workflow', 'fixtures', 'test2.ipynb'),\n",
       " ('workflow', 'fixtures', 'test3.ipynb'),\n",
       " ('workflow', 'fixtures', 'test4.ipynb'),\n",
       " ('workflow', 'fixtures', 'workflows.yaml'),\n",
       " ('workflow', 'snapshots', 'test.log'),\n",
       " ('workflow', 'test_workflow.py'),\n",
       " ('yaml', '__pycache__', 'conftest.cpython-311-pytest-7.4.3.pyc'),\n",
       " ('yaml', '__pycache__', 'test_yaml.cpython-311-pytest-7.4.3.pyc'),\n",
       " ('yaml', 'fixtures', 'config.yaml'),\n",
       " ('yaml', 'fixtures', 'test.yaml'),\n",
       " ('yaml', 'snapshots', 'prefixed_test.yaml'),\n",
       " ('yaml', 'test_yaml.py')]"
      ]
     },
     "execution_count": 14,
     "metadata": {},
     "output_type": "execute_result"
    }
   ],
   "source": []
  },
  {
   "cell_type": "code",
   "execution_count": 4,
   "metadata": {},
   "outputs": [
    {
     "data": {
      "text/plain": [
       "PosixPath('demo/__pycache__/test_demo.cpython-311-pytest-7.4.3.pyc')"
      ]
     },
     "execution_count": 4,
     "metadata": {},
     "output_type": "execute_result"
    }
   ],
   "source": [
    "Path('/'.join(indexed_files_as_parts[1]))"
   ]
  },
  {
   "cell_type": "code",
   "execution_count": 5,
   "metadata": {},
   "outputs": [
    {
     "data": {
      "text/plain": [
       "['demo.test_demo=demo/test_demo.py',\n",
       " 'demo.__pycache__.test_demo_cpython-311-pytest-7_4_3=demo/__pycache__/test_demo.cpython-311-pytest-7.4.3.pyc',\n",
       " 'workflow.conftest=workflow/conftest.py',\n",
       " 'workflow.test_workflow=workflow/test_workflow.py',\n",
       " 'workflow.snapshots.test=workflow/snapshots/test.log',\n",
       " 'workflow.fixtures.test1=workflow/fixtures/test1.ipynb',\n",
       " 'workflow.fixtures.test2=workflow/fixtures/test2.ipynb',\n",
       " 'workflow.fixtures.test4=workflow/fixtures/test4.ipynb',\n",
       " 'workflow.fixtures.workflows=workflow/fixtures/workflows.yaml',\n",
       " 'workflow.fixtures.test3=workflow/fixtures/test3.ipynb',\n",
       " 'workflow.__pycache__.conftest_cpython-311-pytest-7_4_3=workflow/__pycache__/conftest.cpython-311-pytest-7.4.3.pyc',\n",
       " 'workflow.__pycache__.test_workflow_cpython-311-pytest-7_4_3=workflow/__pycache__/test_workflow.cpython-311-pytest-7.4.3.pyc',\n",
       " 'yaml.test_yaml=yaml/test_yaml.py',\n",
       " 'yaml.snapshots.prefixed_test=yaml/snapshots/prefixed_test.yaml',\n",
       " 'yaml.fixtures.config=yaml/fixtures/config.yaml',\n",
       " 'yaml.fixtures.test=yaml/fixtures/test.yaml',\n",
       " 'yaml.__pycache__.conftest_cpython-311-pytest-7_4_3=yaml/__pycache__/conftest.cpython-311-pytest-7.4.3.pyc',\n",
       " 'yaml.__pycache__.test_yaml_cpython-311-pytest-7_4_3=yaml/__pycache__/test_yaml.cpython-311-pytest-7.4.3.pyc']"
      ]
     },
     "execution_count": 5,
     "metadata": {},
     "output_type": "execute_result"
    }
   ],
   "source": [
    "config_dotlist = []\n",
    "\n",
    "for index in indexed_files_as_parts:\n",
    "\tfinal_key = Path(index[-1]).stem.replace('.', '_')\n",
    "\tnonfinal_keys = [id.replace('.', '_') for id in index[:-1]]\n",
    "\tconfig_dotlist.append(\n",
    "\t\t'{key}={value}'.format(\n",
    "\t\t\tkey='.'.join([*nonfinal_keys, final_key]),\n",
    "\t\t\tvalue='/'.join(index),\n",
    "\t\t),\n",
    "\t)\n",
    "\n",
    "config_dotlist"
   ]
  },
  {
   "cell_type": "code",
   "execution_count": 6,
   "metadata": {},
   "outputs": [
    {
     "data": {
      "text/plain": [
       "{'demo': {'test_demo': 'demo/test_demo.py', '__pycache__': {'test_demo_cpython-311-pytest-7_4_3': 'demo/__pycache__/test_demo.cpython-311-pytest-7.4.3.pyc'}}, 'workflow': {'conftest': 'workflow/conftest.py', 'test_workflow': 'workflow/test_workflow.py', 'snapshots': {'test': 'workflow/snapshots/test.log'}, 'fixtures': {'test1': 'workflow/fixtures/test1.ipynb', 'test2': 'workflow/fixtures/test2.ipynb', 'test4': 'workflow/fixtures/test4.ipynb', 'workflows': 'workflow/fixtures/workflows.yaml', 'test3': 'workflow/fixtures/test3.ipynb'}, '__pycache__': {'conftest_cpython-311-pytest-7_4_3': 'workflow/__pycache__/conftest.cpython-311-pytest-7.4.3.pyc', 'test_workflow_cpython-311-pytest-7_4_3': 'workflow/__pycache__/test_workflow.cpython-311-pytest-7.4.3.pyc'}}, 'yaml': {'test_yaml': 'yaml/test_yaml.py', 'snapshots': {'prefixed_test': 'yaml/snapshots/prefixed_test.yaml'}, 'fixtures': {'config': 'yaml/fixtures/config.yaml', 'test': 'yaml/fixtures/test.yaml'}, '__pycache__': {'conftest_cpython-311-pytest-7_4_3': 'yaml/__pycache__/conftest.cpython-311-pytest-7.4.3.pyc', 'test_yaml_cpython-311-pytest-7_4_3': 'yaml/__pycache__/test_yaml.cpython-311-pytest-7.4.3.pyc'}}}"
      ]
     },
     "execution_count": 6,
     "metadata": {},
     "output_type": "execute_result"
    }
   ],
   "source": [
    "cfg = OmegaConf.from_dotlist(config_dotlist)\n",
    "cfg"
   ]
  },
  {
   "cell_type": "code",
   "execution_count": 7,
   "metadata": {},
   "outputs": [],
   "source": [
    "OmegaConf.save(cfg, 'abc.yaml')"
   ]
  },
  {
   "cell_type": "code",
   "execution_count": 8,
   "metadata": {},
   "outputs": [],
   "source": [
    "# cfg['workflow']['fixtures']['test1'] == 'test1.ipynb"
   ]
  },
  {
   "cell_type": "code",
   "execution_count": 9,
   "metadata": {},
   "outputs": [
    {
     "data": {
      "text/plain": [
       "{'groups': {'g1': {'opt11': 1, 'opt12': 'a'}, 'opt2': '/b/', 'opt3': ['c', 'd']}, 'list': ['1', '2', {'3': ['/a/3a', '3b/3b2', '3c', 's3://example-bucket/path/to/object']}]}"
      ]
     },
     "execution_count": 9,
     "metadata": {},
     "output_type": "execute_result"
    }
   ],
   "source": [
    "from bluprint.config import load_config_yaml, load_data_yaml\n",
    "\n",
    "cfg = load_config_yaml('test.yaml', config_dir='tests/yaml/fixtures/')\n",
    "cfg"
   ]
  },
  {
   "cell_type": "code",
   "execution_count": 10,
   "metadata": {},
   "outputs": [
    {
     "data": {
      "text/plain": [
       "str"
      ]
     },
     "execution_count": 10,
     "metadata": {},
     "output_type": "execute_result"
    }
   ],
   "source": [
    "type(cfg['groups']['opt2'])"
   ]
  },
  {
   "cell_type": "code",
   "execution_count": 11,
   "metadata": {},
   "outputs": [
    {
     "data": {
      "text/plain": [
       "('..', 'demo')"
      ]
     },
     "execution_count": 11,
     "metadata": {},
     "output_type": "execute_result"
    }
   ],
   "source": [
    "Path('../demo/').parts"
   ]
  },
  {
   "cell_type": "code",
   "execution_count": 12,
   "metadata": {},
   "outputs": [
    {
     "data": {
      "text/plain": [
       "('..', 'demo', 'somewhere', 'folder', 'data.txt')"
      ]
     },
     "execution_count": 12,
     "metadata": {},
     "output_type": "execute_result"
    }
   ],
   "source": [
    "Path('../demo/somewhere/folder/data.txt').parts"
   ]
  },
  {
   "cell_type": "code",
   "execution_count": 13,
   "metadata": {},
   "outputs": [
    {
     "data": {
      "text/plain": [
       "PosixPath('somewhere/folder/data.txt')"
      ]
     },
     "execution_count": 13,
     "metadata": {},
     "output_type": "execute_result"
    }
   ],
   "source": [
    "Path('somewhere', 'folder', 'data.txt')"
   ]
  }
 ],
 "metadata": {
  "kernelspec": {
   "display_name": "bluprint-YlnStUWz-py3.11",
   "language": "python",
   "name": "python3"
  },
  "language_info": {
   "codemirror_mode": {
    "name": "ipython",
    "version": 3
   },
   "file_extension": ".py",
   "mimetype": "text/x-python",
   "name": "python",
   "nbconvert_exporter": "python",
   "pygments_lexer": "ipython3",
   "version": "3.11.2"
  }
 },
 "nbformat": 4,
 "nbformat_minor": 2
}
