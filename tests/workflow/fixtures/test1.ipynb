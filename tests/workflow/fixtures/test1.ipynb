{
 "cells": [
  {
   "cell_type": "code",
   "execution_count": 1,
   "metadata": {
    "execution": {
     "iopub.execute_input": "2023-12-01T06:49:40.134762Z",
     "iopub.status.busy": "2023-12-01T06:49:40.133978Z",
     "iopub.status.idle": "2023-12-01T06:49:40.144599Z",
     "shell.execute_reply": "2023-12-01T06:49:40.143213Z"
    }
   },
   "outputs": [],
   "source": [
    "import time"
   ]
  },
  {
   "cell_type": "code",
   "execution_count": 2,
   "metadata": {
    "execution": {
     "iopub.execute_input": "2023-12-01T06:49:40.149495Z",
     "iopub.status.busy": "2023-12-01T06:49:40.148491Z",
     "iopub.status.idle": "2023-12-01T06:49:40.254423Z",
     "shell.execute_reply": "2023-12-01T06:49:40.253416Z"
    }
   },
   "outputs": [
    {
     "name": "stdout",
     "output_type": "stream",
     "text": [
      "Hello from test1\n"
     ]
    }
   ],
   "source": [
    "print('Hello from test1')\n",
    "time.sleep(0.1)"
   ]
  },
  {
   "cell_type": "code",
   "execution_count": 3,
   "metadata": {
    "execution": {
     "iopub.execute_input": "2023-12-01T06:49:40.312521Z",
     "iopub.status.busy": "2023-12-01T06:49:40.311938Z",
     "iopub.status.idle": "2023-12-01T06:49:40.317445Z",
     "shell.execute_reply": "2023-12-01T06:49:40.316342Z"
    }
   },
   "outputs": [
    {
     "name": "stdout",
     "output_type": "stream",
     "text": [
      "1.1\n"
     ]
    }
   ],
   "source": [
    "print(1+0.1)"
   ]
  },
  {
   "cell_type": "code",
   "execution_count": 4,
   "metadata": {
    "execution": {
     "iopub.execute_input": "2023-12-01T06:49:40.321748Z",
     "iopub.status.busy": "2023-12-01T06:49:40.321200Z",
     "iopub.status.idle": "2023-12-01T06:49:40.326833Z",
     "shell.execute_reply": "2023-12-01T06:49:40.325534Z"
    }
   },
   "outputs": [
    {
     "name": "stdout",
     "output_type": "stream",
     "text": [
      "28\n"
     ]
    }
   ],
   "source": [
    "print(2*14)"
   ]
  }
 ],
 "metadata": {
  "kernelspec": {
   "display_name": ".venv",
   "language": "python",
   "name": "python3"
  },
  "language_info": {
   "codemirror_mode": {
    "name": "ipython",
    "version": 3
   },
   "file_extension": ".py",
   "mimetype": "text/x-python",
   "name": "python",
   "nbconvert_exporter": "python",
   "pygments_lexer": "ipython3",
   "version": "3.11.2"
  }
 },
 "nbformat": 4,
 "nbformat_minor": 2
}
