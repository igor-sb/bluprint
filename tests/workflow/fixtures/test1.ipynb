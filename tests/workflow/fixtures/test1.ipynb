{
 "cells": [
  {
   "cell_type": "code",
   "execution_count": 1,
   "metadata": {
    "execution": {
     "iopub.execute_input": "2023-12-20T08:13:30.630270Z",
     "iopub.status.busy": "2023-12-20T08:13:30.629866Z",
     "iopub.status.idle": "2023-12-20T08:13:30.638260Z",
     "shell.execute_reply": "2023-12-20T08:13:30.637612Z"
    }
   },
   "outputs": [],
   "source": [
    "import time"
   ]
  },
  {
   "cell_type": "code",
   "execution_count": 2,
   "metadata": {
    "execution": {
     "iopub.execute_input": "2023-12-20T08:13:30.643152Z",
     "iopub.status.busy": "2023-12-20T08:13:30.642847Z",
     "iopub.status.idle": "2023-12-20T08:13:30.749335Z",
     "shell.execute_reply": "2023-12-20T08:13:30.748517Z"
    }
   },
   "outputs": [
    {
     "name": "stdout",
     "output_type": "stream",
     "text": [
      "Hello from test1\n"
     ]
    }
   ],
   "source": [
    "print('Hello from test1')\n",
    "time.sleep(0.1)"
   ]
  },
  {
   "cell_type": "code",
   "execution_count": 3,
   "metadata": {
    "execution": {
     "iopub.execute_input": "2023-12-20T08:13:30.804835Z",
     "iopub.status.busy": "2023-12-20T08:13:30.804542Z",
     "iopub.status.idle": "2023-12-20T08:13:30.808015Z",
     "shell.execute_reply": "2023-12-20T08:13:30.807425Z"
    }
   },
   "outputs": [
    {
     "name": "stdout",
     "output_type": "stream",
     "text": [
      "1.1\n"
     ]
    }
   ],
   "source": [
    "print(1+0.1)"
   ]
  },
  {
   "cell_type": "code",
   "execution_count": 4,
   "metadata": {
    "execution": {
     "iopub.execute_input": "2023-12-20T08:13:30.813599Z",
     "iopub.status.busy": "2023-12-20T08:13:30.813330Z",
     "iopub.status.idle": "2023-12-20T08:13:30.816865Z",
     "shell.execute_reply": "2023-12-20T08:13:30.816298Z"
    }
   },
   "outputs": [
    {
     "name": "stdout",
     "output_type": "stream",
     "text": [
      "28\n"
     ]
    }
   ],
   "source": [
    "print(2*14)"
   ]
  }
 ],
 "metadata": {
  "kernelspec": {
   "display_name": ".venv",
   "language": "python",
   "name": "python3"
  },
  "language_info": {
   "codemirror_mode": {
    "name": "ipython",
    "version": 3
   },
   "file_extension": ".py",
   "mimetype": "text/x-python",
   "name": "python",
   "nbconvert_exporter": "python",
   "pygments_lexer": "ipython3",
   "version": "3.11.4"
  }
 },
 "nbformat": 4,
 "nbformat_minor": 2
}
