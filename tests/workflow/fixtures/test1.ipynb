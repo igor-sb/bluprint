{
 "cells": [
  {
   "cell_type": "code",
   "execution_count": 1,
   "metadata": {
    "execution": {
     "iopub.execute_input": "2023-12-23T08:18:07.471027Z",
     "iopub.status.busy": "2023-12-23T08:18:07.470642Z",
     "iopub.status.idle": "2023-12-23T08:18:07.480880Z",
     "shell.execute_reply": "2023-12-23T08:18:07.480127Z"
    }
   },
   "outputs": [],
   "source": [
    "import time"
   ]
  },
  {
   "cell_type": "code",
   "execution_count": 2,
   "metadata": {
    "execution": {
     "iopub.execute_input": "2023-12-23T08:18:07.486258Z",
     "iopub.status.busy": "2023-12-23T08:18:07.485936Z",
     "iopub.status.idle": "2023-12-23T08:18:07.590140Z",
     "shell.execute_reply": "2023-12-23T08:18:07.589403Z"
    }
   },
   "outputs": [
    {
     "name": "stdout",
     "output_type": "stream",
     "text": [
      "Hello from test1\n"
     ]
    }
   ],
   "source": [
    "print('Hello from test1')\n",
    "time.sleep(0.1)"
   ]
  },
  {
   "cell_type": "code",
   "execution_count": 3,
   "metadata": {
    "execution": {
     "iopub.execute_input": "2023-12-23T08:18:07.657857Z",
     "iopub.status.busy": "2023-12-23T08:18:07.657369Z",
     "iopub.status.idle": "2023-12-23T08:18:07.661237Z",
     "shell.execute_reply": "2023-12-23T08:18:07.660534Z"
    }
   },
   "outputs": [
    {
     "name": "stdout",
     "output_type": "stream",
     "text": [
      "1.1\n"
     ]
    }
   ],
   "source": [
    "print(1+0.1)"
   ]
  },
  {
   "cell_type": "code",
   "execution_count": 4,
   "metadata": {
    "execution": {
     "iopub.execute_input": "2023-12-23T08:18:07.667363Z",
     "iopub.status.busy": "2023-12-23T08:18:07.667088Z",
     "iopub.status.idle": "2023-12-23T08:18:07.670606Z",
     "shell.execute_reply": "2023-12-23T08:18:07.669970Z"
    }
   },
   "outputs": [
    {
     "name": "stdout",
     "output_type": "stream",
     "text": [
      "28\n"
     ]
    }
   ],
   "source": [
    "print(2*14)"
   ]
  }
 ],
 "metadata": {
  "kernelspec": {
   "display_name": ".venv",
   "language": "python",
   "name": "python3"
  },
  "language_info": {
   "codemirror_mode": {
    "name": "ipython",
    "version": 3
   },
   "file_extension": ".py",
   "mimetype": "text/x-python",
   "name": "python",
   "nbconvert_exporter": "python",
   "pygments_lexer": "ipython3",
   "version": "3.11.4"
  }
 },
 "nbformat": 4,
 "nbformat_minor": 2
}
