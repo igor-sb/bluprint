{
 "cells": [
  {
   "cell_type": "code",
   "execution_count": 1,
   "metadata": {},
   "outputs": [
    {
     "data": {
      "text/html": [
       "<pre style=\"white-space:pre;overflow-x:auto;line-height:normal;font-family:Menlo,'DejaVu Sans Mono',consolas,'Courier New',monospace\"><span style=\"color: #808000; text-decoration-color: #808000; font-weight: bold\">/tmp/ipykernel_3390/2443763365.py:</span><span style=\"color: #808000; text-decoration-color: #808000; font-weight: bold\">2</span><span style=\"color: #808000; text-decoration-color: #808000; font-weight: bold\"> DeprecationWarning</span><span style=\"color: #808000; text-decoration-color: #808000\">: The `airflow.operators.python_operator.PythonOperator` class is deprecated. Please use `</span><span style=\"color: #808000; text-decoration-color: #808000\">'airflow.operators.python.PythonOperator'</span><span style=\"color: #808000; text-decoration-color: #808000\">`.</span>\n",
       "</pre>\n"
      ],
      "text/plain": [
       "\u001b[1;33m/tmp/ipykernel_3390/\u001b[0m\u001b[1;33m2443763365.py\u001b[0m\u001b[1;33m:\u001b[0m\u001b[1;33m2\u001b[0m\u001b[1;33m DeprecationWarning\u001b[0m\u001b[33m: The `airflow.operators.python_operator.PythonOperator` class is deprecated. Please use `\u001b[0m\u001b[33m'airflow.operators.python.PythonOperator'\u001b[0m\u001b[33m`.\u001b[0m\n"
      ]
     },
     "metadata": {},
     "output_type": "display_data"
    },
    {
     "data": {
      "text/html": [
       "<pre style=\"white-space:pre;overflow-x:auto;line-height:normal;font-family:Menlo,'DejaVu Sans Mono',consolas,'Courier New',monospace\"><span style=\"color: #808000; text-decoration-color: #808000; font-weight: bold\">/tmp/ipykernel_3390/2443763365.py:</span><span style=\"color: #808000; text-decoration-color: #808000; font-weight: bold\">3</span><span style=\"color: #808000; text-decoration-color: #808000; font-weight: bold\"> DeprecationWarning</span><span style=\"color: #808000; text-decoration-color: #808000\">: The `airflow.operators.dagrun_operator.TriggerDagRunOperator` class is deprecated. Please use `</span><span style=\"color: #808000; text-decoration-color: #808000\">'airflow.operators.trigger_dagrun.TriggerDagRunOperator'</span><span style=\"color: #808000; text-decoration-color: #808000\">`.</span>\n",
       "</pre>\n"
      ],
      "text/plain": [
       "\u001b[1;33m/tmp/ipykernel_3390/\u001b[0m\u001b[1;33m2443763365.py\u001b[0m\u001b[1;33m:\u001b[0m\u001b[1;33m3\u001b[0m\u001b[1;33m DeprecationWarning\u001b[0m\u001b[33m: The `airflow.operators.dagrun_operator.TriggerDagRunOperator` class is deprecated. Please use `\u001b[0m\u001b[33m'airflow.operators.trigger_dagrun.TriggerDagRunOperator'\u001b[0m\u001b[33m`.\u001b[0m\n"
      ]
     },
     "metadata": {},
     "output_type": "display_data"
    },
    {
     "data": {
      "text/html": [
       "<pre style=\"white-space:pre;overflow-x:auto;line-height:normal;font-family:Menlo,'DejaVu Sans Mono',consolas,'Courier New',monospace\"><span style=\"color: #808000; text-decoration-color: #808000; font-weight: bold\">/tmp/ipykernel_3390/2443763365.py:</span><span style=\"color: #808000; text-decoration-color: #808000; font-weight: bold\">17</span><span style=\"color: #808000; text-decoration-color: #808000; font-weight: bold\"> RemovedInAirflow3Warning</span><span style=\"color: #808000; text-decoration-color: #808000\">: Param `schedule_interval` is deprecated and will be removed in a future release. Please use `schedule` instead.</span>\n",
       "</pre>\n"
      ],
      "text/plain": [
       "\u001b[1;33m/tmp/ipykernel_3390/\u001b[0m\u001b[1;33m2443763365.py\u001b[0m\u001b[1;33m:\u001b[0m\u001b[1;33m17\u001b[0m\u001b[1;33m RemovedInAirflow3Warning\u001b[0m\u001b[33m: Param `schedule_interval` is deprecated and will be removed in a future release. Please use `schedule` instead.\u001b[0m\n"
      ]
     },
     "metadata": {},
     "output_type": "display_data"
    }
   ],
   "source": [
    "from airflow import DAG\n",
    "from airflow.operators.python_operator import PythonOperator\n",
    "from airflow.operators.dagrun_operator import TriggerDagRunOperator\n",
    "from datetime import datetime, timedelta\n",
    "\n",
    "# Define default_args and other DAG configurations\n",
    "default_args = {\n",
    "    'owner': 'your_name',\n",
    "    'depends_on_past': False,\n",
    "    'start_date': datetime(2023, 1, 1),\n",
    "    'email_on_failure': False,\n",
    "    'email_on_retry': False,\n",
    "    'retries': 1,\n",
    "    'retry_delay': timedelta(minutes=5),\n",
    "}\n",
    "\n",
    "dag = DAG(\n",
    "    'jupyter_notebook_workflow',\n",
    "    default_args=default_args,\n",
    "    description='A DAG to run Jupyter notebooks sequentially',\n",
    "    schedule_interval=None,  # Set to None for on-demand execution\n",
    ")\n",
    "\n",
    "# Function to execute Jupyter notebook\n",
    "def execute_notebook(notebook_path):\n",
    "    import subprocess\n",
    "    subprocess.run(['jupyter', 'nbconvert', '--execute', '--to', 'notebook', '--inplace', notebook_path])\n",
    "\n",
    "# List of notebook files\n",
    "notebooks = ['test1.ipynb', 'test2.ipynb']\n",
    "\n",
    "# Define tasks for each notebook\n",
    "for notebook in notebooks:\n",
    "    task_id = f'run_{notebook.replace(\".ipynb\", \"\")}'\n",
    "    execute_task = PythonOperator(\n",
    "        task_id=task_id,\n",
    "        python_callable=execute_notebook,\n",
    "        op_args=[notebook],\n",
    "        dag=dag,\n",
    "    )\n",
    "\n",
    "    # Set up task dependencies\n",
    "    if notebooks.index(notebook) > 0:\n",
    "        execute_task.set_upstream(dag.get_task(f'run_{notebooks[notebooks.index(notebook) - 1].replace(\".ipynb\", \"\")}'))\n",
    "\n",
    "# Define TriggerDagRunOperator to allow manual triggering of the DAG\n",
    "trigger_dag = TriggerDagRunOperator(\n",
    "    task_id='trigger_jupyter_notebook_workflow',\n",
    "    trigger_dag_id='jupyter_notebook_workflow',\n",
    "    dag=dag,\n",
    ")\n",
    "\n",
    "# Set up task dependencies to ensure TriggerDagRunOperator runs after all notebook tasks\n",
    "for notebook in notebooks:\n",
    "    trigger_dag.set_upstream(dag.get_task(f'run_{notebook.replace(\".ipynb\", \"\")}'))\n"
   ]
  }
 ],
 "metadata": {
  "kernelspec": {
   "display_name": ".venv",
   "language": "python",
   "name": "python3"
  },
  "language_info": {
   "codemirror_mode": {
    "name": "ipython",
    "version": 3
   },
   "file_extension": ".py",
   "mimetype": "text/x-python",
   "name": "python",
   "nbconvert_exporter": "python",
   "pygments_lexer": "ipython3",
   "version": "3.11.2"
  }
 },
 "nbformat": 4,
 "nbformat_minor": 2
}
