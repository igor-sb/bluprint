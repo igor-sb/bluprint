{
 "cells": [
  {
   "cell_type": "markdown",
   "metadata": {},
   "source": [
    "Example notebook"
   ]
  },
  {
   "cell_type": "code",
   "execution_count": 1,
   "metadata": {},
   "outputs": [],
   "source": [
    "import pandas as pd"
   ]
  },
  {
   "cell_type": "code",
   "execution_count": 6,
   "metadata": {},
   "outputs": [],
   "source": [
    "from sklearn.model_selection import train_test_split"
   ]
  },
  {
   "cell_type": "code",
   "execution_count": 4,
   "metadata": {},
   "outputs": [
    {
     "data": {
      "text/html": [
       "<div>\n",
       "<style scoped>\n",
       "    .dataframe tbody tr th:only-of-type {\n",
       "        vertical-align: middle;\n",
       "    }\n",
       "\n",
       "    .dataframe tbody tr th {\n",
       "        vertical-align: top;\n",
       "    }\n",
       "\n",
       "    .dataframe thead th {\n",
       "        text-align: right;\n",
       "    }\n",
       "</style>\n",
       "<table border=\"1\" class=\"dataframe\">\n",
       "  <thead>\n",
       "    <tr style=\"text-align: right;\">\n",
       "      <th></th>\n",
       "      <th>housing/</th>\n",
       "      <th>latitude</th>\n",
       "      <th>housing_median_age</th>\n",
       "      <th>total_rooms</th>\n",
       "      <th>total_bedrooms</th>\n",
       "      <th>population</th>\n",
       "      <th>households</th>\n",
       "      <th>median_income</th>\n",
       "      <th>median_house_value</th>\n",
       "      <th>ocean_proximity</th>\n",
       "    </tr>\n",
       "  </thead>\n",
       "  <tbody>\n",
       "    <tr>\n",
       "      <th>0</th>\n",
       "      <td>-122.23</td>\n",
       "      <td>37.88</td>\n",
       "      <td>41.0</td>\n",
       "      <td>880.0</td>\n",
       "      <td>129.0</td>\n",
       "      <td>322.0</td>\n",
       "      <td>126.0</td>\n",
       "      <td>8.3252</td>\n",
       "      <td>452600.0</td>\n",
       "      <td>NEAR BAY</td>\n",
       "    </tr>\n",
       "    <tr>\n",
       "      <th>1</th>\n",
       "      <td>-122.22</td>\n",
       "      <td>37.86</td>\n",
       "      <td>21.0</td>\n",
       "      <td>7099.0</td>\n",
       "      <td>1106.0</td>\n",
       "      <td>2401.0</td>\n",
       "      <td>1138.0</td>\n",
       "      <td>8.3014</td>\n",
       "      <td>358500.0</td>\n",
       "      <td>NEAR BAY</td>\n",
       "    </tr>\n",
       "    <tr>\n",
       "      <th>2</th>\n",
       "      <td>-122.24</td>\n",
       "      <td>37.85</td>\n",
       "      <td>52.0</td>\n",
       "      <td>1467.0</td>\n",
       "      <td>190.0</td>\n",
       "      <td>496.0</td>\n",
       "      <td>177.0</td>\n",
       "      <td>7.2574</td>\n",
       "      <td>352100.0</td>\n",
       "      <td>NEAR BAY</td>\n",
       "    </tr>\n",
       "    <tr>\n",
       "      <th>3</th>\n",
       "      <td>-122.25</td>\n",
       "      <td>37.85</td>\n",
       "      <td>52.0</td>\n",
       "      <td>1274.0</td>\n",
       "      <td>235.0</td>\n",
       "      <td>558.0</td>\n",
       "      <td>219.0</td>\n",
       "      <td>5.6431</td>\n",
       "      <td>341300.0</td>\n",
       "      <td>NEAR BAY</td>\n",
       "    </tr>\n",
       "    <tr>\n",
       "      <th>4</th>\n",
       "      <td>-122.25</td>\n",
       "      <td>37.85</td>\n",
       "      <td>52.0</td>\n",
       "      <td>1627.0</td>\n",
       "      <td>280.0</td>\n",
       "      <td>565.0</td>\n",
       "      <td>259.0</td>\n",
       "      <td>3.8462</td>\n",
       "      <td>342200.0</td>\n",
       "      <td>NEAR BAY</td>\n",
       "    </tr>\n",
       "    <tr>\n",
       "      <th>...</th>\n",
       "      <td>...</td>\n",
       "      <td>...</td>\n",
       "      <td>...</td>\n",
       "      <td>...</td>\n",
       "      <td>...</td>\n",
       "      <td>...</td>\n",
       "      <td>...</td>\n",
       "      <td>...</td>\n",
       "      <td>...</td>\n",
       "      <td>...</td>\n",
       "    </tr>\n",
       "    <tr>\n",
       "      <th>20636</th>\n",
       "      <td>-121.21</td>\n",
       "      <td>39.49</td>\n",
       "      <td>18.0</td>\n",
       "      <td>697.0</td>\n",
       "      <td>150.0</td>\n",
       "      <td>356.0</td>\n",
       "      <td>114.0</td>\n",
       "      <td>2.5568</td>\n",
       "      <td>77100.0</td>\n",
       "      <td>INLAND</td>\n",
       "    </tr>\n",
       "    <tr>\n",
       "      <th>20637</th>\n",
       "      <td>-121.22</td>\n",
       "      <td>39.43</td>\n",
       "      <td>17.0</td>\n",
       "      <td>2254.0</td>\n",
       "      <td>485.0</td>\n",
       "      <td>1007.0</td>\n",
       "      <td>433.0</td>\n",
       "      <td>1.7000</td>\n",
       "      <td>92300.0</td>\n",
       "      <td>INLAND</td>\n",
       "    </tr>\n",
       "    <tr>\n",
       "      <th>20638</th>\n",
       "      <td>-121.32</td>\n",
       "      <td>39.43</td>\n",
       "      <td>18.0</td>\n",
       "      <td>1860.0</td>\n",
       "      <td>409.0</td>\n",
       "      <td>741.0</td>\n",
       "      <td>349.0</td>\n",
       "      <td>1.8672</td>\n",
       "      <td>84700.0</td>\n",
       "      <td>INLAND</td>\n",
       "    </tr>\n",
       "    <tr>\n",
       "      <th>20639</th>\n",
       "      <td>-121.24</td>\n",
       "      <td>39.37</td>\n",
       "      <td>16.0</td>\n",
       "      <td>2785.0</td>\n",
       "      <td>616.0</td>\n",
       "      <td>1387.0</td>\n",
       "      <td>530.0</td>\n",
       "      <td>2.3886</td>\n",
       "      <td>89400.0</td>\n",
       "      <td>INLAND</td>\n",
       "    </tr>\n",
       "    <tr>\n",
       "      <th>20640</th>\n",
       "      <td>NaN</td>\n",
       "      <td>NaN</td>\n",
       "      <td>NaN</td>\n",
       "      <td>NaN</td>\n",
       "      <td>NaN</td>\n",
       "      <td>NaN</td>\n",
       "      <td>NaN</td>\n",
       "      <td>NaN</td>\n",
       "      <td>NaN</td>\n",
       "      <td>NaN</td>\n",
       "    </tr>\n",
       "  </tbody>\n",
       "</table>\n",
       "<p>20641 rows × 10 columns</p>\n",
       "</div>"
      ],
      "text/plain": [
       "       housing/  latitude  housing_median_age  total_rooms  total_bedrooms  \\\n",
       "0       -122.23     37.88                41.0        880.0           129.0   \n",
       "1       -122.22     37.86                21.0       7099.0          1106.0   \n",
       "2       -122.24     37.85                52.0       1467.0           190.0   \n",
       "3       -122.25     37.85                52.0       1274.0           235.0   \n",
       "4       -122.25     37.85                52.0       1627.0           280.0   \n",
       "...         ...       ...                 ...          ...             ...   \n",
       "20636   -121.21     39.49                18.0        697.0           150.0   \n",
       "20637   -121.22     39.43                17.0       2254.0           485.0   \n",
       "20638   -121.32     39.43                18.0       1860.0           409.0   \n",
       "20639   -121.24     39.37                16.0       2785.0           616.0   \n",
       "20640       NaN       NaN                 NaN          NaN             NaN   \n",
       "\n",
       "       population  households  median_income  median_house_value  \\\n",
       "0           322.0       126.0         8.3252            452600.0   \n",
       "1          2401.0      1138.0         8.3014            358500.0   \n",
       "2           496.0       177.0         7.2574            352100.0   \n",
       "3           558.0       219.0         5.6431            341300.0   \n",
       "4           565.0       259.0         3.8462            342200.0   \n",
       "...           ...         ...            ...                 ...   \n",
       "20636       356.0       114.0         2.5568             77100.0   \n",
       "20637      1007.0       433.0         1.7000             92300.0   \n",
       "20638       741.0       349.0         1.8672             84700.0   \n",
       "20639      1387.0       530.0         2.3886             89400.0   \n",
       "20640         NaN         NaN            NaN                 NaN   \n",
       "\n",
       "      ocean_proximity  \n",
       "0            NEAR BAY  \n",
       "1            NEAR BAY  \n",
       "2            NEAR BAY  \n",
       "3            NEAR BAY  \n",
       "4            NEAR BAY  \n",
       "...               ...  \n",
       "20636          INLAND  \n",
       "20637          INLAND  \n",
       "20638          INLAND  \n",
       "20639          INLAND  \n",
       "20640             NaN  \n",
       "\n",
       "[20641 rows x 10 columns]"
      ]
     },
     "execution_count": 4,
     "metadata": {},
     "output_type": "execute_result"
    }
   ],
   "source": [
    "housing_raw_df = pd.read_csv('https://github.com/ageron/data/raw/main/housing.tgz', compression='gzip')\n",
    "housing_raw_df"
   ]
  },
  {
   "cell_type": "code",
   "execution_count": null,
   "metadata": {},
   "outputs": [],
   "source": []
  },
  {
   "cell_type": "code",
   "execution_count": 6,
   "metadata": {
    "execution": {
     "iopub.execute_input": "2023-11-04T20:37:58.961452Z",
     "iopub.status.busy": "2023-11-04T20:37:58.961137Z",
     "iopub.status.idle": "2023-11-04T20:37:59.215188Z",
     "shell.execute_reply": "2023-11-04T20:37:59.214169Z"
    }
   },
   "outputs": [],
   "source": [
    "import importlib\n",
    "import os\n",
    "\n",
    "import pandas as pd\n",
    "\n",
    "import bluprint as bp"
   ]
  },
  {
   "cell_type": "code",
   "execution_count": 7,
   "metadata": {
    "execution": {
     "iopub.execute_input": "2023-11-04T20:37:59.218450Z",
     "iopub.status.busy": "2023-11-04T20:37:59.217929Z",
     "iopub.status.idle": "2023-11-04T20:37:59.225733Z",
     "shell.execute_reply": "2023-11-04T20:37:59.224767Z"
    }
   },
   "outputs": [
    {
     "name": "stdout",
     "output_type": "stream",
     "text": [
      "   index  name\n",
      "0      0  Igor\n",
      "1      1  Egor\n"
     ]
    }
   ],
   "source": [
    "df = pd.DataFrame({'index': [0, 1], 'name': ['Igor', 'Egor']})\n",
    "\n",
    "print(df)"
   ]
  },
  {
   "cell_type": "code",
   "execution_count": 8,
   "metadata": {},
   "outputs": [],
   "source": [
    "%%bash\n",
    "\n",
    "# samtools"
   ]
  },
  {
   "cell_type": "code",
   "execution_count": 10,
   "metadata": {},
   "outputs": [
    {
     "data": {
      "text/plain": [
       "MultiplexedPath('/Users/igor/repos/bluprint/data')"
      ]
     },
     "execution_count": 10,
     "metadata": {},
     "output_type": "execute_result"
    }
   ],
   "source": [
    "data_files = importlib.resources.files('data')\n",
    "\n",
    "data_files"
   ]
  },
  {
   "cell_type": "code",
   "execution_count": 11,
   "metadata": {},
   "outputs": [
    {
     "name": "stdout",
     "output_type": "stream",
     "text": [
      "*\n",
      "/Users/igor/repos/bluprint/data/a_and_b/a_and_b_transformed.csv\n",
      " dirs: []\n",
      " filename: a_and_b_transformed.csv\n",
      "/Users/igor/repos/bluprint/data/a_and_b/a_and_b_raw.csv\n",
      " dirs: []\n",
      " filename: a_and_b_raw.csv\n",
      "/Users/igor/repos/bluprint/data/a_and_b/a_and_b_summarized.csv\n",
      " dirs: []\n",
      " filename: a_and_b_summarized.csv\n",
      "*\n",
      "/Users/igor/repos/bluprint/data/transformed/table2.csv\n",
      " dirs: []\n",
      " filename: table2.csv\n",
      "*\n",
      "/Users/igor/repos/bluprint/data/raw/table1.csv\n",
      " dirs: []\n",
      " filename: table1.csv\n"
     ]
    }
   ],
   "source": [
    "\n",
    "for root, dirs, files in os.walk(data_files.joinpath('')):\n",
    "    if files:\n",
    "        print('*')\n",
    "        for filename in files:\n",
    "            print(os.path.join(root, filename))\n",
    "            print(f' dirs: {dirs}')\n",
    "            print(f' filename: {filename}')"
   ]
  },
  {
   "cell_type": "code",
   "execution_count": null,
   "metadata": {},
   "outputs": [
    {
     "data": {
      "text/plain": [
       "MultiplexedPath('/home/igor/repos/bluprint/data')"
      ]
     },
     "execution_count": 15,
     "metadata": {},
     "output_type": "execute_result"
    }
   ],
   "source": [
    "data_files"
   ]
  },
  {
   "cell_type": "markdown",
   "metadata": {},
   "source": [
    "```\n",
    "# importlib.resources.files('data')for x in .iterdir():\n",
    "# \tprint(x)\n",
    "# \tprint(type(x))\n",
    "# if files:\n",
    "# \tprint('*')\n",
    "# \tprint(root)\n",
    "# \tprint(dirs)\n",
    "# \tprint(files)\n",
    "```"
   ]
  },
  {
   "cell_type": "code",
   "execution_count": null,
   "metadata": {},
   "outputs": [],
   "source": [
    "import shutil"
   ]
  },
  {
   "cell_type": "code",
   "execution_count": null,
   "metadata": {},
   "outputs": [],
   "source": [
    "\"\"\"Wrapper for .\"\"\"\n",
    "\n",
    "from dataclasses import dataclass\n",
    "import subprocess  # noqa: S404\n",
    "\n",
    "@dataclass\n",
    "class Executable:\n",
    "\targs: list[str]\n",
    "\n",
    "\tdef run(self) -> str:\n",
    "\t\tcheck_if_executable_is_installed(self.args[0])\n",
    "\t\tout = subprocess.run(self.args, capture_output=True)\n",
    "\t\tif out.stderr != b'':\n",
    "\t\t\traise RuntimeError(out.stderr.decode('UTF-8'))\n",
    "\t\treturn out.stdout.decode('UTF-8')\n",
    "\n",
    "def check_if_executable_is_installed(executable: str) -> None:\n",
    "\tif not shutil.which(executable):\n",
    "\t\traise ValueError(f'Executable not found: {executable}')\n",
    "\t"
   ]
  },
  {
   "cell_type": "code",
   "execution_count": null,
   "metadata": {},
   "outputs": [
    {
     "name": "stdout",
     "output_type": "stream",
     "text": [
      "Poetry (version 1.5.1)\n",
      "\n"
     ]
    }
   ],
   "source": [
    "print(Executable(['poetry', '-V']).run())"
   ]
  },
  {
   "cell_type": "code",
   "execution_count": null,
   "metadata": {},
   "outputs": [],
   "source": [
    "import logging\n",
    "\n",
    "logging.basicConfig(format='%(levelname)s: %(message)s', level=logging.INFO)"
   ]
  },
  {
   "cell_type": "code",
   "execution_count": null,
   "metadata": {},
   "outputs": [
    {
     "name": "stderr",
     "output_type": "stream",
     "text": [
      "INFO: Found \"poetry\" executable.\n",
      "INFO: Found \"gh\" executable.\n",
      "INFO: Found \"git\" executable.\n"
     ]
    }
   ],
   "source": [
    "for exec in ['poetry', 'gh', 'git']:\n",
    "\tcheck_if_executable_is_installed(exec)\n",
    "\tlogging.info(f'Found \"{exec}\" executable.')"
   ]
  },
  {
   "cell_type": "code",
   "execution_count": null,
   "metadata": {},
   "outputs": [],
   "source": [
    "os.makedirs('tmp3/tmp4')"
   ]
  },
  {
   "cell_type": "code",
   "execution_count": null,
   "metadata": {},
   "outputs": [],
   "source": [
    "import yaml"
   ]
  },
  {
   "cell_type": "code",
   "execution_count": null,
   "metadata": {},
   "outputs": [
    {
     "data": {
      "text/plain": [
       "{'a_and_b': ['preprocess',\n",
       "  'preprocess -> summarize -> plot',\n",
       "  'preprocess -> plot']}"
      ]
     },
     "execution_count": 13,
     "metadata": {},
     "output_type": "execute_result"
    }
   ],
   "source": [
    "with open('workflow.yaml') as yaml_file:\n",
    "\td = yaml.safe_load(yaml_file)\n",
    "d"
   ]
  },
  {
   "cell_type": "code",
   "execution_count": 21,
   "metadata": {},
   "outputs": [],
   "source": [
    "import importlib\n",
    "from pathlib import PosixPath\n",
    "from omegaconf import DictConfig, OmegaConf\n",
    "from functools import reduce\n",
    "\n",
    "\n",
    "def add_prefix_to_nested_values(conf: DictConfig, prefix: str):\n",
    "    for key, value in conf.items():\n",
    "        if isinstance(value, DictConfig):\n",
    "            add_prefix_to_nested_values(value, prefix)\n",
    "        else:\n",
    "            conf[key] = f'{prefix}{value}'\n",
    "\n",
    "\n",
    "def load_data_yaml(config_file: str = 'data.yaml') -> DictConfig:\n",
    "    conf_dir: PosixPath = importlib.resources.files('conf')\n",
    "    conf = OmegaConf.load(str(conf_dir.joinpath(config_file)))\n",
    "    add_prefix_to_nested_values(\n",
    "        conf,\n",
    "        str(importlib.resources.files('data').joinpath('')),\n",
    "    )\n",
    "    return conf\n",
    "\n",
    "\n",
    "def load_config_yaml(config_file: str = 'config.yaml') -> DictConfig:\n",
    "    conf_dir: PosixPath = importlib.resources.files('conf')\n",
    "    return OmegaConf.load(str(conf_dir.joinpath(config_file)))\n"
   ]
  },
  {
   "cell_type": "code",
   "execution_count": 22,
   "metadata": {},
   "outputs": [
    {
     "data": {
      "text/plain": [
       "{'a_and_b': {'raw': '/home/igor/repos/bluprint/dataa_and_b/raw.csv', 'summarized': '/home/igor/repos/bluprint/dataa_and_b/summarized.csv', 'transformed': '/home/igor/repos/bluprint/dataa_and_b/transformed.csv'}}"
      ]
     },
     "execution_count": 22,
     "metadata": {},
     "output_type": "execute_result"
    }
   ],
   "source": [
    "load_data_config()"
   ]
  },
  {
   "cell_type": "code",
   "execution_count": 24,
   "metadata": {},
   "outputs": [],
   "source": [
    "import pprint\n"
   ]
  },
  {
   "cell_type": "code",
   "execution_count": 59,
   "metadata": {},
   "outputs": [],
   "source": [
    "def iterate_recursively(d, prefix='//'):\n",
    "  for key, value in d.items():\n",
    "    if isinstance(value, dict):\n",
    "      for inner_key, inner_value in iterate_recursively(value):\n",
    "        yield (key, ) + inner_key, inner_value\n",
    "    else:\n",
    "      yield key, value\n",
    "      # d[key] = f'//{value}'\n",
    "\n",
    "dic = {\n",
    "    'resources': {\n",
    "        'info': {\n",
    "            'path': 'messi',\n",
    "        },\n",
    "        'peak': {\n",
    "            'file': 'igor',\n",
    "        },\n",
    "    },\n",
    "    'flat': 'something',\n",
    "}\n",
    "\n",
    "# for keys, values in iteritems_recursive(dic):\n",
    "#   print(f'{keys} -> {values}')"
   ]
  },
  {
   "cell_type": "code",
   "execution_count": 60,
   "metadata": {},
   "outputs": [
    {
     "data": {
      "text/plain": [
       "{'resources': {'info': {'path': '//messi'}, 'peak': {'file': '//igor'}},\n",
       " 'flat': '//something'}"
      ]
     },
     "execution_count": 60,
     "metadata": {},
     "output_type": "execute_result"
    }
   ],
   "source": [
    "def add_prefix_to_nested_values(dictionary, prefix):\n",
    "    for key, value in dictionary.items():\n",
    "        if isinstance(value, dict):\n",
    "            # Recursively call the function for nested dictionaries\n",
    "            add_prefix_to_nested_values(value, prefix)\n",
    "        else:\n",
    "            # Add the prefix to leaf nodes\n",
    "            dictionary[key] = prefix + str(value)\n",
    "\n",
    "add_prefix_to_nested_values(dic, '//')\n",
    "\n",
    "dic"
   ]
  },
  {
   "cell_type": "code",
   "execution_count": 57,
   "metadata": {},
   "outputs": [],
   "source": []
  },
  {
   "cell_type": "code",
   "execution_count": 58,
   "metadata": {},
   "outputs": [
    {
     "data": {
      "text/plain": [
       "{'resources': {'info': {'load': \"//('37', '17')\"},\n",
       "  'peak': {'load': \"//('0', '1')\"}},\n",
       " 'flat': '//something'}"
      ]
     },
     "execution_count": 58,
     "metadata": {},
     "output_type": "execute_result"
    }
   ],
   "source": [
    "dic"
   ]
  },
  {
   "cell_type": "code",
   "execution_count": 52,
   "metadata": {},
   "outputs": [],
   "source": [
    "x = ('resources', 'info', 'load')"
   ]
  },
  {
   "cell_type": "code",
   "execution_count": 53,
   "metadata": {},
   "outputs": [
    {
     "data": {
      "text/plain": [
       "('37', '17')"
      ]
     },
     "execution_count": 53,
     "metadata": {},
     "output_type": "execute_result"
    }
   ],
   "source": [
    "reduce(dict.get, x, dic)"
   ]
  },
  {
   "cell_type": "code",
   "execution_count": 49,
   "metadata": {},
   "outputs": [
    {
     "data": {
      "text/plain": [
       "<generator object iterate_recursively at 0x12555f040>"
      ]
     },
     "execution_count": 49,
     "metadata": {},
     "output_type": "execute_result"
    }
   ],
   "source": [
    "iterate_recursively(dic)"
   ]
  },
  {
   "cell_type": "code",
   "execution_count": null,
   "metadata": {},
   "outputs": [],
   "source": []
  },
  {
   "cell_type": "code",
   "execution_count": 45,
   "metadata": {},
   "outputs": [
    {
     "data": {
      "text/plain": [
       "{'resources': {'info': {'load': ('37', '17')}, 'peak': {'load': ('0', '1')}},\n",
       " 'flat': 'something'}"
      ]
     },
     "execution_count": 45,
     "metadata": {},
     "output_type": "execute_result"
    }
   ],
   "source": [
    "for key, value in dic.items():\n",
    "\tif isinstance(value, dict):\n",
    "\t\tfor inner_key, inner_value in iterate_recursively(value):\n",
    "\t\tyield (key, ) + inner_key, inner_value\n",
    "\telse:\n",
    "\t\t# yield key, value\n",
    "\t\t"
   ]
  },
  {
   "cell_type": "code",
   "execution_count": 42,
   "metadata": {},
   "outputs": [
    {
     "data": {
      "text/plain": [
       "('a', 'b')"
      ]
     },
     "execution_count": 42,
     "metadata": {},
     "output_type": "execute_result"
    }
   ],
   "source": [
    "x = ('a', 'b')\n",
    "x"
   ]
  },
  {
   "cell_type": "code",
   "execution_count": 43,
   "metadata": {},
   "outputs": [
    {
     "data": {
      "text/plain": [
       "('a', 'b', 'c')"
      ]
     },
     "execution_count": 43,
     "metadata": {},
     "output_type": "execute_result"
    }
   ],
   "source": [
    "x + ('c', )"
   ]
  },
  {
   "cell_type": "code",
   "execution_count": 41,
   "metadata": {},
   "outputs": [
    {
     "data": {
      "text/plain": [
       "('a', 'b', 'c')"
      ]
     },
     "execution_count": 41,
     "metadata": {},
     "output_type": "execute_result"
    }
   ],
   "source": [
    "x"
   ]
  },
  {
   "cell_type": "code",
   "execution_count": 23,
   "metadata": {},
   "outputs": [
    {
     "ename": "ScannerError",
     "evalue": "mapping values are not allowed here\n  in \"/Users/igor/repos/bluprint/conf/config.yaml\", line 3, column 5",
     "output_type": "error",
     "traceback": [
      "\u001b[0;31m---------------------------------------------------------------------------\u001b[0m",
      "\u001b[0;31mScannerError\u001b[0m                              Traceback (most recent call last)",
      "\u001b[1;32m/Users/igor/repos/bluprint/tmp/tmp2/test.ipynb Cell 18\u001b[0m line \u001b[0;36m1\n\u001b[0;32m----> <a href='vscode-notebook-cell:/Users/igor/repos/bluprint/tmp/tmp2/test.ipynb#X25sZmlsZQ%3D%3D?line=0'>1</a>\u001b[0m OmegaConf\u001b[39m.\u001b[39;49mload(\u001b[39mstr\u001b[39;49m(importlib\u001b[39m.\u001b[39;49mresources\u001b[39m.\u001b[39;49mfiles(\u001b[39m'\u001b[39;49m\u001b[39mconf\u001b[39;49m\u001b[39m'\u001b[39;49m)\u001b[39m.\u001b[39;49mjoinpath(\u001b[39m'\u001b[39;49m\u001b[39mconfig.yaml\u001b[39;49m\u001b[39m'\u001b[39;49m)))\n",
      "File \u001b[0;32m~/repos/bluprint/.venv/lib/python3.11/site-packages/omegaconf/omegaconf.py:190\u001b[0m, in \u001b[0;36mOmegaConf.load\u001b[0;34m(file_)\u001b[0m\n\u001b[1;32m    188\u001b[0m \u001b[39mif\u001b[39;00m \u001b[39misinstance\u001b[39m(file_, (\u001b[39mstr\u001b[39m, pathlib\u001b[39m.\u001b[39mPath)):\n\u001b[1;32m    189\u001b[0m     \u001b[39mwith\u001b[39;00m io\u001b[39m.\u001b[39mopen(os\u001b[39m.\u001b[39mpath\u001b[39m.\u001b[39mabspath(file_), \u001b[39m\"\u001b[39m\u001b[39mr\u001b[39m\u001b[39m\"\u001b[39m, encoding\u001b[39m=\u001b[39m\u001b[39m\"\u001b[39m\u001b[39mutf-8\u001b[39m\u001b[39m\"\u001b[39m) \u001b[39mas\u001b[39;00m f:\n\u001b[0;32m--> 190\u001b[0m         obj \u001b[39m=\u001b[39m yaml\u001b[39m.\u001b[39;49mload(f, Loader\u001b[39m=\u001b[39;49mget_yaml_loader())\n\u001b[1;32m    191\u001b[0m \u001b[39melif\u001b[39;00m \u001b[39mgetattr\u001b[39m(file_, \u001b[39m\"\u001b[39m\u001b[39mread\u001b[39m\u001b[39m\"\u001b[39m, \u001b[39mNone\u001b[39;00m):\n\u001b[1;32m    192\u001b[0m     obj \u001b[39m=\u001b[39m yaml\u001b[39m.\u001b[39mload(file_, Loader\u001b[39m=\u001b[39mget_yaml_loader())\n",
      "File \u001b[0;32m~/repos/bluprint/.venv/lib/python3.11/site-packages/yaml/__init__.py:81\u001b[0m, in \u001b[0;36mload\u001b[0;34m(stream, Loader)\u001b[0m\n\u001b[1;32m     79\u001b[0m loader \u001b[39m=\u001b[39m Loader(stream)\n\u001b[1;32m     80\u001b[0m \u001b[39mtry\u001b[39;00m:\n\u001b[0;32m---> 81\u001b[0m     \u001b[39mreturn\u001b[39;00m loader\u001b[39m.\u001b[39;49mget_single_data()\n\u001b[1;32m     82\u001b[0m \u001b[39mfinally\u001b[39;00m:\n\u001b[1;32m     83\u001b[0m     loader\u001b[39m.\u001b[39mdispose()\n",
      "File \u001b[0;32m~/repos/bluprint/.venv/lib/python3.11/site-packages/yaml/constructor.py:49\u001b[0m, in \u001b[0;36mBaseConstructor.get_single_data\u001b[0;34m(self)\u001b[0m\n\u001b[1;32m     47\u001b[0m \u001b[39mdef\u001b[39;00m \u001b[39mget_single_data\u001b[39m(\u001b[39mself\u001b[39m):\n\u001b[1;32m     48\u001b[0m     \u001b[39m# Ensure that the stream contains a single document and construct it.\u001b[39;00m\n\u001b[0;32m---> 49\u001b[0m     node \u001b[39m=\u001b[39m \u001b[39mself\u001b[39;49m\u001b[39m.\u001b[39;49mget_single_node()\n\u001b[1;32m     50\u001b[0m     \u001b[39mif\u001b[39;00m node \u001b[39mis\u001b[39;00m \u001b[39mnot\u001b[39;00m \u001b[39mNone\u001b[39;00m:\n\u001b[1;32m     51\u001b[0m         \u001b[39mreturn\u001b[39;00m \u001b[39mself\u001b[39m\u001b[39m.\u001b[39mconstruct_document(node)\n",
      "File \u001b[0;32m~/repos/bluprint/.venv/lib/python3.11/site-packages/yaml/composer.py:36\u001b[0m, in \u001b[0;36mComposer.get_single_node\u001b[0;34m(self)\u001b[0m\n\u001b[1;32m     34\u001b[0m document \u001b[39m=\u001b[39m \u001b[39mNone\u001b[39;00m\n\u001b[1;32m     35\u001b[0m \u001b[39mif\u001b[39;00m \u001b[39mnot\u001b[39;00m \u001b[39mself\u001b[39m\u001b[39m.\u001b[39mcheck_event(StreamEndEvent):\n\u001b[0;32m---> 36\u001b[0m     document \u001b[39m=\u001b[39m \u001b[39mself\u001b[39;49m\u001b[39m.\u001b[39;49mcompose_document()\n\u001b[1;32m     38\u001b[0m \u001b[39m# Ensure that the stream contains no more documents.\u001b[39;00m\n\u001b[1;32m     39\u001b[0m \u001b[39mif\u001b[39;00m \u001b[39mnot\u001b[39;00m \u001b[39mself\u001b[39m\u001b[39m.\u001b[39mcheck_event(StreamEndEvent):\n",
      "File \u001b[0;32m~/repos/bluprint/.venv/lib/python3.11/site-packages/yaml/composer.py:58\u001b[0m, in \u001b[0;36mComposer.compose_document\u001b[0;34m(self)\u001b[0m\n\u001b[1;32m     55\u001b[0m node \u001b[39m=\u001b[39m \u001b[39mself\u001b[39m\u001b[39m.\u001b[39mcompose_node(\u001b[39mNone\u001b[39;00m, \u001b[39mNone\u001b[39;00m)\n\u001b[1;32m     57\u001b[0m \u001b[39m# Drop the DOCUMENT-END event.\u001b[39;00m\n\u001b[0;32m---> 58\u001b[0m \u001b[39mself\u001b[39;49m\u001b[39m.\u001b[39;49mget_event()\n\u001b[1;32m     60\u001b[0m \u001b[39mself\u001b[39m\u001b[39m.\u001b[39manchors \u001b[39m=\u001b[39m {}\n\u001b[1;32m     61\u001b[0m \u001b[39mreturn\u001b[39;00m node\n",
      "File \u001b[0;32m~/repos/bluprint/.venv/lib/python3.11/site-packages/yaml/parser.py:118\u001b[0m, in \u001b[0;36mParser.get_event\u001b[0;34m(self)\u001b[0m\n\u001b[1;32m    116\u001b[0m \u001b[39mif\u001b[39;00m \u001b[39mself\u001b[39m\u001b[39m.\u001b[39mcurrent_event \u001b[39mis\u001b[39;00m \u001b[39mNone\u001b[39;00m:\n\u001b[1;32m    117\u001b[0m     \u001b[39mif\u001b[39;00m \u001b[39mself\u001b[39m\u001b[39m.\u001b[39mstate:\n\u001b[0;32m--> 118\u001b[0m         \u001b[39mself\u001b[39m\u001b[39m.\u001b[39mcurrent_event \u001b[39m=\u001b[39m \u001b[39mself\u001b[39;49m\u001b[39m.\u001b[39;49mstate()\n\u001b[1;32m    119\u001b[0m value \u001b[39m=\u001b[39m \u001b[39mself\u001b[39m\u001b[39m.\u001b[39mcurrent_event\n\u001b[1;32m    120\u001b[0m \u001b[39mself\u001b[39m\u001b[39m.\u001b[39mcurrent_event \u001b[39m=\u001b[39m \u001b[39mNone\u001b[39;00m\n",
      "File \u001b[0;32m~/repos/bluprint/.venv/lib/python3.11/site-packages/yaml/parser.py:193\u001b[0m, in \u001b[0;36mParser.parse_document_end\u001b[0;34m(self)\u001b[0m\n\u001b[1;32m    190\u001b[0m \u001b[39mdef\u001b[39;00m \u001b[39mparse_document_end\u001b[39m(\u001b[39mself\u001b[39m):\n\u001b[1;32m    191\u001b[0m \n\u001b[1;32m    192\u001b[0m     \u001b[39m# Parse the document end.\u001b[39;00m\n\u001b[0;32m--> 193\u001b[0m     token \u001b[39m=\u001b[39m \u001b[39mself\u001b[39;49m\u001b[39m.\u001b[39;49mpeek_token()\n\u001b[1;32m    194\u001b[0m     start_mark \u001b[39m=\u001b[39m end_mark \u001b[39m=\u001b[39m token\u001b[39m.\u001b[39mstart_mark\n\u001b[1;32m    195\u001b[0m     explicit \u001b[39m=\u001b[39m \u001b[39mFalse\u001b[39;00m\n",
      "File \u001b[0;32m~/repos/bluprint/.venv/lib/python3.11/site-packages/yaml/scanner.py:129\u001b[0m, in \u001b[0;36mScanner.peek_token\u001b[0;34m(self)\u001b[0m\n\u001b[1;32m    125\u001b[0m \u001b[39mdef\u001b[39;00m \u001b[39mpeek_token\u001b[39m(\u001b[39mself\u001b[39m):\n\u001b[1;32m    126\u001b[0m     \u001b[39m# Return the next token, but do not delete if from the queue.\u001b[39;00m\n\u001b[1;32m    127\u001b[0m     \u001b[39m# Return None if no more tokens.\u001b[39;00m\n\u001b[1;32m    128\u001b[0m     \u001b[39mwhile\u001b[39;00m \u001b[39mself\u001b[39m\u001b[39m.\u001b[39mneed_more_tokens():\n\u001b[0;32m--> 129\u001b[0m         \u001b[39mself\u001b[39;49m\u001b[39m.\u001b[39;49mfetch_more_tokens()\n\u001b[1;32m    130\u001b[0m     \u001b[39mif\u001b[39;00m \u001b[39mself\u001b[39m\u001b[39m.\u001b[39mtokens:\n\u001b[1;32m    131\u001b[0m         \u001b[39mreturn\u001b[39;00m \u001b[39mself\u001b[39m\u001b[39m.\u001b[39mtokens[\u001b[39m0\u001b[39m]\n",
      "File \u001b[0;32m~/repos/bluprint/.venv/lib/python3.11/site-packages/yaml/scanner.py:223\u001b[0m, in \u001b[0;36mScanner.fetch_more_tokens\u001b[0;34m(self)\u001b[0m\n\u001b[1;32m    221\u001b[0m \u001b[39m# Is it the value indicator?\u001b[39;00m\n\u001b[1;32m    222\u001b[0m \u001b[39mif\u001b[39;00m ch \u001b[39m==\u001b[39m \u001b[39m'\u001b[39m\u001b[39m:\u001b[39m\u001b[39m'\u001b[39m \u001b[39mand\u001b[39;00m \u001b[39mself\u001b[39m\u001b[39m.\u001b[39mcheck_value():\n\u001b[0;32m--> 223\u001b[0m     \u001b[39mreturn\u001b[39;00m \u001b[39mself\u001b[39;49m\u001b[39m.\u001b[39;49mfetch_value()\n\u001b[1;32m    225\u001b[0m \u001b[39m# Is it an alias?\u001b[39;00m\n\u001b[1;32m    226\u001b[0m \u001b[39mif\u001b[39;00m ch \u001b[39m==\u001b[39m \u001b[39m'\u001b[39m\u001b[39m*\u001b[39m\u001b[39m'\u001b[39m:\n",
      "File \u001b[0;32m~/repos/bluprint/.venv/lib/python3.11/site-packages/yaml/scanner.py:577\u001b[0m, in \u001b[0;36mScanner.fetch_value\u001b[0;34m(self)\u001b[0m\n\u001b[1;32m    572\u001b[0m \u001b[39mif\u001b[39;00m \u001b[39mnot\u001b[39;00m \u001b[39mself\u001b[39m\u001b[39m.\u001b[39mflow_level:\n\u001b[1;32m    573\u001b[0m \n\u001b[1;32m    574\u001b[0m     \u001b[39m# We are allowed to start a complex value if and only if\u001b[39;00m\n\u001b[1;32m    575\u001b[0m     \u001b[39m# we can start a simple key.\u001b[39;00m\n\u001b[1;32m    576\u001b[0m     \u001b[39mif\u001b[39;00m \u001b[39mnot\u001b[39;00m \u001b[39mself\u001b[39m\u001b[39m.\u001b[39mallow_simple_key:\n\u001b[0;32m--> 577\u001b[0m         \u001b[39mraise\u001b[39;00m ScannerError(\u001b[39mNone\u001b[39;00m, \u001b[39mNone\u001b[39;00m,\n\u001b[1;32m    578\u001b[0m                 \u001b[39m\"\u001b[39m\u001b[39mmapping values are not allowed here\u001b[39m\u001b[39m\"\u001b[39m,\n\u001b[1;32m    579\u001b[0m                 \u001b[39mself\u001b[39m\u001b[39m.\u001b[39mget_mark())\n\u001b[1;32m    581\u001b[0m \u001b[39m# If this value starts a new block mapping, we need to add\u001b[39;00m\n\u001b[1;32m    582\u001b[0m \u001b[39m# BLOCK-MAPPING-START.  It will be detected as an error later by\u001b[39;00m\n\u001b[1;32m    583\u001b[0m \u001b[39m# the parser.\u001b[39;00m\n\u001b[1;32m    584\u001b[0m \u001b[39mif\u001b[39;00m \u001b[39mnot\u001b[39;00m \u001b[39mself\u001b[39m\u001b[39m.\u001b[39mflow_level:\n",
      "\u001b[0;31mScannerError\u001b[0m: mapping values are not allowed here\n  in \"/Users/igor/repos/bluprint/conf/config.yaml\", line 3, column 5"
     ]
    }
   ],
   "source": [
    "OmegaConf.load(str(importlib.resources.files('conf').joinpath('config.yaml')))"
   ]
  },
  {
   "cell_type": "code",
   "execution_count": null,
   "metadata": {},
   "outputs": [],
   "source": [
    "OmegaConf.load()"
   ]
  },
  {
   "cell_type": "code",
   "execution_count": 22,
   "metadata": {},
   "outputs": [
    {
     "ename": "ScannerError",
     "evalue": "mapping values are not allowed here\n  in \"/Users/igor/repos/bluprint/conf/config.yaml\", line 3, column 5",
     "output_type": "error",
     "traceback": [
      "\u001b[0;31m---------------------------------------------------------------------------\u001b[0m",
      "\u001b[0;31mScannerError\u001b[0m                              Traceback (most recent call last)",
      "\u001b[1;32m/Users/igor/repos/bluprint/tmp/tmp2/test.ipynb Cell 20\u001b[0m line \u001b[0;36m1\n\u001b[0;32m----> <a href='vscode-notebook-cell:/Users/igor/repos/bluprint/tmp/tmp2/test.ipynb#X24sZmlsZQ%3D%3D?line=0'>1</a>\u001b[0m load_config(\u001b[39m'\u001b[39;49m\u001b[39mconfig.yaml\u001b[39;49m\u001b[39m'\u001b[39;49m)\n",
      "\u001b[1;32m/Users/igor/repos/bluprint/tmp/tmp2/test.ipynb Cell 20\u001b[0m line \u001b[0;36m6\n\u001b[1;32m      <a href='vscode-notebook-cell:/Users/igor/repos/bluprint/tmp/tmp2/test.ipynb#X24sZmlsZQ%3D%3D?line=3'>4</a>\u001b[0m \u001b[39mdef\u001b[39;00m \u001b[39mload_config\u001b[39m(config_file: \u001b[39mstr\u001b[39m) \u001b[39m-\u001b[39m\u001b[39m>\u001b[39m DictConfig:\n\u001b[1;32m      <a href='vscode-notebook-cell:/Users/igor/repos/bluprint/tmp/tmp2/test.ipynb#X24sZmlsZQ%3D%3D?line=4'>5</a>\u001b[0m \tabsolute_path: PosixPath \u001b[39m=\u001b[39m importlib\u001b[39m.\u001b[39mresources\u001b[39m.\u001b[39mfiles(\u001b[39m'\u001b[39m\u001b[39mconf\u001b[39m\u001b[39m'\u001b[39m)\n\u001b[0;32m----> <a href='vscode-notebook-cell:/Users/igor/repos/bluprint/tmp/tmp2/test.ipynb#X24sZmlsZQ%3D%3D?line=5'>6</a>\u001b[0m \t\u001b[39mreturn\u001b[39;00m OmegaConf\u001b[39m.\u001b[39;49mload(\u001b[39mstr\u001b[39;49m(absolute_path\u001b[39m.\u001b[39;49mjoinpath(config_file)))\n",
      "File \u001b[0;32m~/repos/bluprint/.venv/lib/python3.11/site-packages/omegaconf/omegaconf.py:190\u001b[0m, in \u001b[0;36mOmegaConf.load\u001b[0;34m(file_)\u001b[0m\n\u001b[1;32m    188\u001b[0m \u001b[39mif\u001b[39;00m \u001b[39misinstance\u001b[39m(file_, (\u001b[39mstr\u001b[39m, pathlib\u001b[39m.\u001b[39mPath)):\n\u001b[1;32m    189\u001b[0m     \u001b[39mwith\u001b[39;00m io\u001b[39m.\u001b[39mopen(os\u001b[39m.\u001b[39mpath\u001b[39m.\u001b[39mabspath(file_), \u001b[39m\"\u001b[39m\u001b[39mr\u001b[39m\u001b[39m\"\u001b[39m, encoding\u001b[39m=\u001b[39m\u001b[39m\"\u001b[39m\u001b[39mutf-8\u001b[39m\u001b[39m\"\u001b[39m) \u001b[39mas\u001b[39;00m f:\n\u001b[0;32m--> 190\u001b[0m         obj \u001b[39m=\u001b[39m yaml\u001b[39m.\u001b[39;49mload(f, Loader\u001b[39m=\u001b[39;49mget_yaml_loader())\n\u001b[1;32m    191\u001b[0m \u001b[39melif\u001b[39;00m \u001b[39mgetattr\u001b[39m(file_, \u001b[39m\"\u001b[39m\u001b[39mread\u001b[39m\u001b[39m\"\u001b[39m, \u001b[39mNone\u001b[39;00m):\n\u001b[1;32m    192\u001b[0m     obj \u001b[39m=\u001b[39m yaml\u001b[39m.\u001b[39mload(file_, Loader\u001b[39m=\u001b[39mget_yaml_loader())\n",
      "File \u001b[0;32m~/repos/bluprint/.venv/lib/python3.11/site-packages/yaml/__init__.py:81\u001b[0m, in \u001b[0;36mload\u001b[0;34m(stream, Loader)\u001b[0m\n\u001b[1;32m     79\u001b[0m loader \u001b[39m=\u001b[39m Loader(stream)\n\u001b[1;32m     80\u001b[0m \u001b[39mtry\u001b[39;00m:\n\u001b[0;32m---> 81\u001b[0m     \u001b[39mreturn\u001b[39;00m loader\u001b[39m.\u001b[39;49mget_single_data()\n\u001b[1;32m     82\u001b[0m \u001b[39mfinally\u001b[39;00m:\n\u001b[1;32m     83\u001b[0m     loader\u001b[39m.\u001b[39mdispose()\n",
      "File \u001b[0;32m~/repos/bluprint/.venv/lib/python3.11/site-packages/yaml/constructor.py:49\u001b[0m, in \u001b[0;36mBaseConstructor.get_single_data\u001b[0;34m(self)\u001b[0m\n\u001b[1;32m     47\u001b[0m \u001b[39mdef\u001b[39;00m \u001b[39mget_single_data\u001b[39m(\u001b[39mself\u001b[39m):\n\u001b[1;32m     48\u001b[0m     \u001b[39m# Ensure that the stream contains a single document and construct it.\u001b[39;00m\n\u001b[0;32m---> 49\u001b[0m     node \u001b[39m=\u001b[39m \u001b[39mself\u001b[39;49m\u001b[39m.\u001b[39;49mget_single_node()\n\u001b[1;32m     50\u001b[0m     \u001b[39mif\u001b[39;00m node \u001b[39mis\u001b[39;00m \u001b[39mnot\u001b[39;00m \u001b[39mNone\u001b[39;00m:\n\u001b[1;32m     51\u001b[0m         \u001b[39mreturn\u001b[39;00m \u001b[39mself\u001b[39m\u001b[39m.\u001b[39mconstruct_document(node)\n",
      "File \u001b[0;32m~/repos/bluprint/.venv/lib/python3.11/site-packages/yaml/composer.py:36\u001b[0m, in \u001b[0;36mComposer.get_single_node\u001b[0;34m(self)\u001b[0m\n\u001b[1;32m     34\u001b[0m document \u001b[39m=\u001b[39m \u001b[39mNone\u001b[39;00m\n\u001b[1;32m     35\u001b[0m \u001b[39mif\u001b[39;00m \u001b[39mnot\u001b[39;00m \u001b[39mself\u001b[39m\u001b[39m.\u001b[39mcheck_event(StreamEndEvent):\n\u001b[0;32m---> 36\u001b[0m     document \u001b[39m=\u001b[39m \u001b[39mself\u001b[39;49m\u001b[39m.\u001b[39;49mcompose_document()\n\u001b[1;32m     38\u001b[0m \u001b[39m# Ensure that the stream contains no more documents.\u001b[39;00m\n\u001b[1;32m     39\u001b[0m \u001b[39mif\u001b[39;00m \u001b[39mnot\u001b[39;00m \u001b[39mself\u001b[39m\u001b[39m.\u001b[39mcheck_event(StreamEndEvent):\n",
      "File \u001b[0;32m~/repos/bluprint/.venv/lib/python3.11/site-packages/yaml/composer.py:58\u001b[0m, in \u001b[0;36mComposer.compose_document\u001b[0;34m(self)\u001b[0m\n\u001b[1;32m     55\u001b[0m node \u001b[39m=\u001b[39m \u001b[39mself\u001b[39m\u001b[39m.\u001b[39mcompose_node(\u001b[39mNone\u001b[39;00m, \u001b[39mNone\u001b[39;00m)\n\u001b[1;32m     57\u001b[0m \u001b[39m# Drop the DOCUMENT-END event.\u001b[39;00m\n\u001b[0;32m---> 58\u001b[0m \u001b[39mself\u001b[39;49m\u001b[39m.\u001b[39;49mget_event()\n\u001b[1;32m     60\u001b[0m \u001b[39mself\u001b[39m\u001b[39m.\u001b[39manchors \u001b[39m=\u001b[39m {}\n\u001b[1;32m     61\u001b[0m \u001b[39mreturn\u001b[39;00m node\n",
      "File \u001b[0;32m~/repos/bluprint/.venv/lib/python3.11/site-packages/yaml/parser.py:118\u001b[0m, in \u001b[0;36mParser.get_event\u001b[0;34m(self)\u001b[0m\n\u001b[1;32m    116\u001b[0m \u001b[39mif\u001b[39;00m \u001b[39mself\u001b[39m\u001b[39m.\u001b[39mcurrent_event \u001b[39mis\u001b[39;00m \u001b[39mNone\u001b[39;00m:\n\u001b[1;32m    117\u001b[0m     \u001b[39mif\u001b[39;00m \u001b[39mself\u001b[39m\u001b[39m.\u001b[39mstate:\n\u001b[0;32m--> 118\u001b[0m         \u001b[39mself\u001b[39m\u001b[39m.\u001b[39mcurrent_event \u001b[39m=\u001b[39m \u001b[39mself\u001b[39;49m\u001b[39m.\u001b[39;49mstate()\n\u001b[1;32m    119\u001b[0m value \u001b[39m=\u001b[39m \u001b[39mself\u001b[39m\u001b[39m.\u001b[39mcurrent_event\n\u001b[1;32m    120\u001b[0m \u001b[39mself\u001b[39m\u001b[39m.\u001b[39mcurrent_event \u001b[39m=\u001b[39m \u001b[39mNone\u001b[39;00m\n",
      "File \u001b[0;32m~/repos/bluprint/.venv/lib/python3.11/site-packages/yaml/parser.py:193\u001b[0m, in \u001b[0;36mParser.parse_document_end\u001b[0;34m(self)\u001b[0m\n\u001b[1;32m    190\u001b[0m \u001b[39mdef\u001b[39;00m \u001b[39mparse_document_end\u001b[39m(\u001b[39mself\u001b[39m):\n\u001b[1;32m    191\u001b[0m \n\u001b[1;32m    192\u001b[0m     \u001b[39m# Parse the document end.\u001b[39;00m\n\u001b[0;32m--> 193\u001b[0m     token \u001b[39m=\u001b[39m \u001b[39mself\u001b[39;49m\u001b[39m.\u001b[39;49mpeek_token()\n\u001b[1;32m    194\u001b[0m     start_mark \u001b[39m=\u001b[39m end_mark \u001b[39m=\u001b[39m token\u001b[39m.\u001b[39mstart_mark\n\u001b[1;32m    195\u001b[0m     explicit \u001b[39m=\u001b[39m \u001b[39mFalse\u001b[39;00m\n",
      "File \u001b[0;32m~/repos/bluprint/.venv/lib/python3.11/site-packages/yaml/scanner.py:129\u001b[0m, in \u001b[0;36mScanner.peek_token\u001b[0;34m(self)\u001b[0m\n\u001b[1;32m    125\u001b[0m \u001b[39mdef\u001b[39;00m \u001b[39mpeek_token\u001b[39m(\u001b[39mself\u001b[39m):\n\u001b[1;32m    126\u001b[0m     \u001b[39m# Return the next token, but do not delete if from the queue.\u001b[39;00m\n\u001b[1;32m    127\u001b[0m     \u001b[39m# Return None if no more tokens.\u001b[39;00m\n\u001b[1;32m    128\u001b[0m     \u001b[39mwhile\u001b[39;00m \u001b[39mself\u001b[39m\u001b[39m.\u001b[39mneed_more_tokens():\n\u001b[0;32m--> 129\u001b[0m         \u001b[39mself\u001b[39;49m\u001b[39m.\u001b[39;49mfetch_more_tokens()\n\u001b[1;32m    130\u001b[0m     \u001b[39mif\u001b[39;00m \u001b[39mself\u001b[39m\u001b[39m.\u001b[39mtokens:\n\u001b[1;32m    131\u001b[0m         \u001b[39mreturn\u001b[39;00m \u001b[39mself\u001b[39m\u001b[39m.\u001b[39mtokens[\u001b[39m0\u001b[39m]\n",
      "File \u001b[0;32m~/repos/bluprint/.venv/lib/python3.11/site-packages/yaml/scanner.py:223\u001b[0m, in \u001b[0;36mScanner.fetch_more_tokens\u001b[0;34m(self)\u001b[0m\n\u001b[1;32m    221\u001b[0m \u001b[39m# Is it the value indicator?\u001b[39;00m\n\u001b[1;32m    222\u001b[0m \u001b[39mif\u001b[39;00m ch \u001b[39m==\u001b[39m \u001b[39m'\u001b[39m\u001b[39m:\u001b[39m\u001b[39m'\u001b[39m \u001b[39mand\u001b[39;00m \u001b[39mself\u001b[39m\u001b[39m.\u001b[39mcheck_value():\n\u001b[0;32m--> 223\u001b[0m     \u001b[39mreturn\u001b[39;00m \u001b[39mself\u001b[39;49m\u001b[39m.\u001b[39;49mfetch_value()\n\u001b[1;32m    225\u001b[0m \u001b[39m# Is it an alias?\u001b[39;00m\n\u001b[1;32m    226\u001b[0m \u001b[39mif\u001b[39;00m ch \u001b[39m==\u001b[39m \u001b[39m'\u001b[39m\u001b[39m*\u001b[39m\u001b[39m'\u001b[39m:\n",
      "File \u001b[0;32m~/repos/bluprint/.venv/lib/python3.11/site-packages/yaml/scanner.py:577\u001b[0m, in \u001b[0;36mScanner.fetch_value\u001b[0;34m(self)\u001b[0m\n\u001b[1;32m    572\u001b[0m \u001b[39mif\u001b[39;00m \u001b[39mnot\u001b[39;00m \u001b[39mself\u001b[39m\u001b[39m.\u001b[39mflow_level:\n\u001b[1;32m    573\u001b[0m \n\u001b[1;32m    574\u001b[0m     \u001b[39m# We are allowed to start a complex value if and only if\u001b[39;00m\n\u001b[1;32m    575\u001b[0m     \u001b[39m# we can start a simple key.\u001b[39;00m\n\u001b[1;32m    576\u001b[0m     \u001b[39mif\u001b[39;00m \u001b[39mnot\u001b[39;00m \u001b[39mself\u001b[39m\u001b[39m.\u001b[39mallow_simple_key:\n\u001b[0;32m--> 577\u001b[0m         \u001b[39mraise\u001b[39;00m ScannerError(\u001b[39mNone\u001b[39;00m, \u001b[39mNone\u001b[39;00m,\n\u001b[1;32m    578\u001b[0m                 \u001b[39m\"\u001b[39m\u001b[39mmapping values are not allowed here\u001b[39m\u001b[39m\"\u001b[39m,\n\u001b[1;32m    579\u001b[0m                 \u001b[39mself\u001b[39m\u001b[39m.\u001b[39mget_mark())\n\u001b[1;32m    581\u001b[0m \u001b[39m# If this value starts a new block mapping, we need to add\u001b[39;00m\n\u001b[1;32m    582\u001b[0m \u001b[39m# BLOCK-MAPPING-START.  It will be detected as an error later by\u001b[39;00m\n\u001b[1;32m    583\u001b[0m \u001b[39m# the parser.\u001b[39;00m\n\u001b[1;32m    584\u001b[0m \u001b[39mif\u001b[39;00m \u001b[39mnot\u001b[39;00m \u001b[39mself\u001b[39m\u001b[39m.\u001b[39mflow_level:\n",
      "\u001b[0;31mScannerError\u001b[0m: mapping values are not allowed here\n  in \"/Users/igor/repos/bluprint/conf/config.yaml\", line 3, column 5"
     ]
    }
   ],
   "source": [
    "load_config('config.yaml')"
   ]
  }
 ],
 "metadata": {
  "kernelspec": {
   "display_name": "bluprint-YlnStUWz-py3.11",
   "language": "python",
   "name": "python3"
  },
  "language_info": {
   "codemirror_mode": {
    "name": "ipython",
    "version": 3
   },
   "file_extension": ".py",
   "mimetype": "text/x-python",
   "name": "python",
   "nbconvert_exporter": "python",
   "pygments_lexer": "ipython3",
   "version": "3.11.2"
  }
 },
 "nbformat": 4,
 "nbformat_minor": 2
}
