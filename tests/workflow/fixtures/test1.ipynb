{
 "cells": [
  {
   "cell_type": "code",
   "execution_count": 1,
   "metadata": {
    "execution": {
     "iopub.execute_input": "2023-11-30T22:07:52.780857Z",
     "iopub.status.busy": "2023-11-30T22:07:52.780346Z",
     "iopub.status.idle": "2023-11-30T22:07:52.789736Z",
     "shell.execute_reply": "2023-11-30T22:07:52.788538Z"
    }
   },
   "outputs": [],
   "source": [
    "import time"
   ]
  },
  {
   "cell_type": "code",
   "execution_count": 2,
   "metadata": {
    "execution": {
     "iopub.execute_input": "2023-11-30T22:07:52.795378Z",
     "iopub.status.busy": "2023-11-30T22:07:52.793574Z",
     "iopub.status.idle": "2023-11-30T22:07:52.900790Z",
     "shell.execute_reply": "2023-11-30T22:07:52.899690Z"
    }
   },
   "outputs": [
    {
     "name": "stdout",
     "output_type": "stream",
     "text": [
      "Hello from test1\n"
     ]
    }
   ],
   "source": [
    "print('Hello from test1')\n",
    "time.sleep(0.1)"
   ]
  },
  {
   "cell_type": "code",
   "execution_count": 3,
   "metadata": {
    "execution": {
     "iopub.execute_input": "2023-11-30T22:07:52.959762Z",
     "iopub.status.busy": "2023-11-30T22:07:52.959436Z",
     "iopub.status.idle": "2023-11-30T22:07:52.965222Z",
     "shell.execute_reply": "2023-11-30T22:07:52.963379Z"
    }
   },
   "outputs": [
    {
     "name": "stdout",
     "output_type": "stream",
     "text": [
      "1.1\n"
     ]
    }
   ],
   "source": [
    "print(1+0.1)"
   ]
  },
  {
   "cell_type": "code",
   "execution_count": 4,
   "metadata": {
    "execution": {
     "iopub.execute_input": "2023-11-30T22:07:52.970509Z",
     "iopub.status.busy": "2023-11-30T22:07:52.970018Z",
     "iopub.status.idle": "2023-11-30T22:07:52.974849Z",
     "shell.execute_reply": "2023-11-30T22:07:52.973903Z"
    }
   },
   "outputs": [
    {
     "name": "stdout",
     "output_type": "stream",
     "text": [
      "28\n"
     ]
    }
   ],
   "source": [
    "print(2*14)"
   ]
  }
 ],
 "metadata": {
  "kernelspec": {
   "display_name": ".venv",
   "language": "python",
   "name": "python3"
  },
  "language_info": {
   "codemirror_mode": {
    "name": "ipython",
    "version": 3
   },
   "file_extension": ".py",
   "mimetype": "text/x-python",
   "name": "python",
   "nbconvert_exporter": "python",
   "pygments_lexer": "ipython3",
   "version": "3.11.2"
  }
 },
 "nbformat": 4,
 "nbformat_minor": 2
}
