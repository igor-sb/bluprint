{
 "cells": [
  {
   "cell_type": "markdown",
   "metadata": {},
   "source": [
    "Example notebook"
   ]
  },
  {
   "cell_type": "code",
   "execution_count": 1,
   "metadata": {},
   "outputs": [],
   "source": [
    "\"\"\"Hacky RMarkdown notebook executor with a tdqm progress bar.\"\"\"\n",
    "\n",
    "import re\n",
    "import subprocess\n",
    "import sys\n",
    "\n",
    "from tqdm import tqdm\n",
    "\n",
    "from bluprint.notebook.progress import tqdm_format\n",
    "\n",
    "\n",
    "def execute_rmd(rmd_file: str) -> None:  # noqa: WPS210\n",
    "    progress_bar_re = re.compile(r'^[\\s]*\\|[\\.\\s]*\\|[\\s]*([0-9]+)%$')\n",
    "    with tqdm(total=100, bar_format=tqdm_format()) as tqdm_progress:\n",
    "        rmd_out = subprocess.Popen(\n",
    "            ['Rscript', '-e', f'rmarkdown::render(\"{rmd_file}\")'],\n",
    "            bufsize=1,\n",
    "            universal_newlines=True,\n",
    "            stdout=subprocess.PIPE,\n",
    "            stderr=subprocess.PIPE,\n",
    "        )\n",
    "        last_percent = 0\n",
    "        for line in rmd_out.stdout:\n",
    "            if progress_bar_re.match(line):\n",
    "                current_percent = int(progress_bar_re.sub(r'\\1', line))\n",
    "                tqdm_progress.update(current_percent - last_percent)\n",
    "                sys.stdout.flush()\n",
    "                last_percent = current_percent\n",
    "        rmd_out.stdout.close()\n"
   ]
  },
  {
   "cell_type": "code",
   "execution_count": 2,
   "metadata": {},
   "outputs": [
    {
     "name": "stderr",
     "output_type": "stream",
     "text": [
      "   0% \u001b[96m─\u001b[0m 0/100 cells \u001b[96m─\u001b[0m Elapsed: 00:01\n"
     ]
    }
   ],
   "source": [
    "execute_rmd('../demo/notebooks/example_rmarkdown.Rmd')"
   ]
  }
 ],
 "metadata": {
  "kernelspec": {
   "display_name": "bluprint-YlnStUWz-py3.11",
   "language": "python",
   "name": "python3"
  },
  "language_info": {
   "codemirror_mode": {
    "name": "ipython",
    "version": 3
   },
   "file_extension": ".py",
   "mimetype": "text/x-python",
   "name": "python",
   "nbconvert_exporter": "python",
   "pygments_lexer": "ipython3",
   "version": "3.11.2"
  }
 },
 "nbformat": 4,
 "nbformat_minor": 2
}
