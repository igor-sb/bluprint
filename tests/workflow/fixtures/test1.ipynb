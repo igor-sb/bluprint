{
 "cells": [
  {
   "cell_type": "code",
   "execution_count": 1,
   "metadata": {
    "execution": {
     "iopub.execute_input": "2024-08-26T02:43:43.494987Z",
     "iopub.status.busy": "2024-08-26T02:43:43.494464Z",
     "iopub.status.idle": "2024-08-26T02:43:43.502894Z",
     "shell.execute_reply": "2024-08-26T02:43:43.501948Z"
    }
   },
   "outputs": [],
   "source": [
    "import time"
   ]
  },
  {
   "cell_type": "code",
   "execution_count": 2,
   "metadata": {
    "execution": {
     "iopub.execute_input": "2024-08-26T02:43:43.507170Z",
     "iopub.status.busy": "2024-08-26T02:43:43.506697Z",
     "iopub.status.idle": "2024-08-26T02:43:43.611401Z",
     "shell.execute_reply": "2024-08-26T02:43:43.610343Z"
    }
   },
   "outputs": [
    {
     "name": "stdout",
     "output_type": "stream",
     "text": [
      "Hello from test1\n"
     ]
    }
   ],
   "source": [
    "print('Hello from test1')\n",
    "time.sleep(0.1)"
   ]
  },
  {
   "cell_type": "code",
   "execution_count": 3,
   "metadata": {
    "execution": {
     "iopub.execute_input": "2024-08-26T02:43:43.666609Z",
     "iopub.status.busy": "2024-08-26T02:43:43.665938Z",
     "iopub.status.idle": "2024-08-26T02:43:43.670816Z",
     "shell.execute_reply": "2024-08-26T02:43:43.669866Z"
    }
   },
   "outputs": [
    {
     "name": "stdout",
     "output_type": "stream",
     "text": [
      "1.1\n"
     ]
    }
   ],
   "source": [
    "print(1+0.1)"
   ]
  },
  {
   "cell_type": "code",
   "execution_count": 4,
   "metadata": {
    "execution": {
     "iopub.execute_input": "2024-08-26T02:43:43.675019Z",
     "iopub.status.busy": "2024-08-26T02:43:43.674498Z",
     "iopub.status.idle": "2024-08-26T02:43:43.679390Z",
     "shell.execute_reply": "2024-08-26T02:43:43.678498Z"
    }
   },
   "outputs": [
    {
     "name": "stdout",
     "output_type": "stream",
     "text": [
      "28\n"
     ]
    }
   ],
   "source": [
    "print(2*14)"
   ]
  }
 ],
 "metadata": {
  "kernelspec": {
   "display_name": ".venv",
   "language": "python",
   "name": "python3"
  },
  "language_info": {
   "codemirror_mode": {
    "name": "ipython",
    "version": 3
   },
   "file_extension": ".py",
   "mimetype": "text/x-python",
   "name": "python",
   "nbconvert_exporter": "python",
   "pygments_lexer": "ipython3",
   "version": "3.11.9"
  }
 },
 "nbformat": 4,
 "nbformat_minor": 2
}
