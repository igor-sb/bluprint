{
 "cells": [
  {
   "cell_type": "code",
   "execution_count": 1,
   "metadata": {
    "execution": {
     "iopub.execute_input": "2023-12-11T23:17:38.443760Z",
     "iopub.status.busy": "2023-12-11T23:17:38.443453Z",
     "iopub.status.idle": "2023-12-11T23:17:38.452741Z",
     "shell.execute_reply": "2023-12-11T23:17:38.452012Z"
    }
   },
   "outputs": [],
   "source": [
    "import time"
   ]
  },
  {
   "cell_type": "code",
   "execution_count": 2,
   "metadata": {
    "execution": {
     "iopub.execute_input": "2023-12-11T23:17:38.457026Z",
     "iopub.status.busy": "2023-12-11T23:17:38.456748Z",
     "iopub.status.idle": "2023-12-11T23:17:38.564928Z",
     "shell.execute_reply": "2023-12-11T23:17:38.564084Z"
    }
   },
   "outputs": [
    {
     "name": "stdout",
     "output_type": "stream",
     "text": [
      "Hello from test1\n"
     ]
    }
   ],
   "source": [
    "print('Hello from test1')\n",
    "time.sleep(0.1)"
   ]
  },
  {
   "cell_type": "code",
   "execution_count": 3,
   "metadata": {
    "execution": {
     "iopub.execute_input": "2023-12-11T23:17:38.620297Z",
     "iopub.status.busy": "2023-12-11T23:17:38.620031Z",
     "iopub.status.idle": "2023-12-11T23:17:38.623462Z",
     "shell.execute_reply": "2023-12-11T23:17:38.622912Z"
    }
   },
   "outputs": [
    {
     "name": "stdout",
     "output_type": "stream",
     "text": [
      "1.1\n"
     ]
    }
   ],
   "source": [
    "print(1+0.1)"
   ]
  },
  {
   "cell_type": "code",
   "execution_count": 4,
   "metadata": {
    "execution": {
     "iopub.execute_input": "2023-12-11T23:17:38.628460Z",
     "iopub.status.busy": "2023-12-11T23:17:38.628216Z",
     "iopub.status.idle": "2023-12-11T23:17:38.631549Z",
     "shell.execute_reply": "2023-12-11T23:17:38.630968Z"
    }
   },
   "outputs": [
    {
     "name": "stdout",
     "output_type": "stream",
     "text": [
      "28\n"
     ]
    }
   ],
   "source": [
    "print(2*14)"
   ]
  }
 ],
 "metadata": {
  "kernelspec": {
   "display_name": ".venv",
   "language": "python",
   "name": "python3"
  },
  "language_info": {
   "codemirror_mode": {
    "name": "ipython",
    "version": 3
   },
   "file_extension": ".py",
   "mimetype": "text/x-python",
   "name": "python",
   "nbconvert_exporter": "python",
   "pygments_lexer": "ipython3",
   "version": "3.11.4"
  }
 },
 "nbformat": 4,
 "nbformat_minor": 2
}
