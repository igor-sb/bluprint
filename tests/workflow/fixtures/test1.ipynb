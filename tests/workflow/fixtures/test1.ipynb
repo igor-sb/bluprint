{
 "cells": [
  {
   "cell_type": "code",
   "execution_count": 1,
   "metadata": {
    "execution": {
     "iopub.execute_input": "2024-01-02T01:07:07.704819Z",
     "iopub.status.busy": "2024-01-02T01:07:07.704269Z",
     "iopub.status.idle": "2024-01-02T01:07:07.715695Z",
     "shell.execute_reply": "2024-01-02T01:07:07.714682Z"
    }
   },
   "outputs": [],
   "source": [
    "import time"
   ]
  },
  {
   "cell_type": "code",
   "execution_count": 2,
   "metadata": {
    "execution": {
     "iopub.execute_input": "2024-01-02T01:07:07.719997Z",
     "iopub.status.busy": "2024-01-02T01:07:07.719481Z",
     "iopub.status.idle": "2024-01-02T01:07:07.824383Z",
     "shell.execute_reply": "2024-01-02T01:07:07.823331Z"
    }
   },
   "outputs": [
    {
     "name": "stdout",
     "output_type": "stream",
     "text": [
      "Hello from test1\n"
     ]
    }
   ],
   "source": [
    "print('Hello from test1')\n",
    "time.sleep(0.1)"
   ]
  },
  {
   "cell_type": "code",
   "execution_count": 3,
   "metadata": {
    "execution": {
     "iopub.execute_input": "2024-01-02T01:07:07.886344Z",
     "iopub.status.busy": "2024-01-02T01:07:07.885738Z",
     "iopub.status.idle": "2024-01-02T01:07:07.890862Z",
     "shell.execute_reply": "2024-01-02T01:07:07.889891Z"
    }
   },
   "outputs": [
    {
     "name": "stdout",
     "output_type": "stream",
     "text": [
      "1.1\n"
     ]
    }
   ],
   "source": [
    "print(1+0.1)"
   ]
  },
  {
   "cell_type": "code",
   "execution_count": 4,
   "metadata": {
    "execution": {
     "iopub.execute_input": "2024-01-02T01:07:07.894942Z",
     "iopub.status.busy": "2024-01-02T01:07:07.894439Z",
     "iopub.status.idle": "2024-01-02T01:07:07.899511Z",
     "shell.execute_reply": "2024-01-02T01:07:07.898541Z"
    }
   },
   "outputs": [
    {
     "name": "stdout",
     "output_type": "stream",
     "text": [
      "28\n"
     ]
    }
   ],
   "source": [
    "print(2*14)"
   ]
  }
 ],
 "metadata": {
  "kernelspec": {
   "display_name": ".venv",
   "language": "python",
   "name": "python3"
  },
  "language_info": {
   "codemirror_mode": {
    "name": "ipython",
    "version": 3
   },
   "file_extension": ".py",
   "mimetype": "text/x-python",
   "name": "python",
   "nbconvert_exporter": "python",
   "pygments_lexer": "ipython3",
   "version": "3.11.2"
  }
 },
 "nbformat": 4,
 "nbformat_minor": 2
}
