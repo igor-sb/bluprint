{
 "cells": [
  {
   "cell_type": "markdown",
   "metadata": {},
   "source": [
    "Example notebook"
   ]
  },
  {
   "cell_type": "code",
   "execution_count": 10,
   "metadata": {},
   "outputs": [
    {
     "data": {
      "text/plain": [
       "'.ipynb'"
      ]
     },
     "execution_count": 10,
     "metadata": {},
     "output_type": "execute_result"
    }
   ],
   "source": [
    "from pathlib import Path\n",
    "\n",
    "Path('test.ipynb').suffix"
   ]
  },
  {
   "cell_type": "code",
   "execution_count": 1,
   "metadata": {},
   "outputs": [
    {
     "name": "stderr",
     "output_type": "stream",
     "text": [
      "INFO:root:Starting test_fun:\n",
      "INFO:root:Done.\n"
     ]
    },
    {
     "name": "stdout",
     "output_type": "stream",
     "text": [
      "x^2 = 169\n"
     ]
    }
   ],
   "source": [
    "import sys\n",
    "import logging\n",
    "from typing import Callable, Any\n",
    "\n",
    "def log(func: Callable[..., Any]) -> Callable[..., Any]:\n",
    "\tdef log_wrapper(*args: Any, **kwargs: Any) -> Any:\n",
    "\t\tlogging.info(f'Starting {func.__name__}:')\n",
    "\t\tfunc(*args, **kwargs)\n",
    "\t\tlogging.info('Done.')\n",
    "\t\n",
    "\treturn log_wrapper\n",
    "\n",
    "logging.basicConfig(level=logging.INFO)\n",
    "\n",
    "@log\n",
    "def test_fun(x: str) -> None:\n",
    "\tprint(f'x^2 = {x**2}')\n",
    "\n",
    "test_fun(13)"
   ]
  },
  {
   "cell_type": "code",
   "execution_count": 2,
   "metadata": {},
   "outputs": [],
   "source": [
    "import logging"
   ]
  },
  {
   "cell_type": "code",
   "execution_count": 3,
   "metadata": {},
   "outputs": [],
   "source": [
    "logging.basicConfig(level=logging.INFO)"
   ]
  },
  {
   "cell_type": "code",
   "execution_count": 4,
   "metadata": {},
   "outputs": [
    {
     "name": "stderr",
     "output_type": "stream",
     "text": [
      "INFO:root:None\n"
     ]
    }
   ],
   "source": [
    "logging.info(None)"
   ]
  },
  {
   "cell_type": "code",
   "execution_count": 5,
   "metadata": {},
   "outputs": [],
   "source": [
    "class Style(object):\n",
    "    magenta = '\\033[95m'\n",
    "    blue = '\\033[94m'\n",
    "    cyan = '\\033[96m'\n",
    "    green = '\\033[92m'\n",
    "    warning = '\\033[93m'\n",
    "    fail = '\\033[91m'\n",
    "    bold = '\\033[1m'\n",
    "    underline = '\\033[4m'\n",
    "    end = '\\033[0m'\n"
   ]
  },
  {
   "cell_type": "code",
   "execution_count": 6,
   "metadata": {},
   "outputs": [
    {
     "name": "stdout",
     "output_type": "stream",
     "text": [
      "\u001b[96m\u001b[1mBluprint\u001b[0m ➜ create myproj\u001b[0m\n"
     ]
    }
   ],
   "source": [
    "print(f'{Style.cyan}{Style.bold}Bluprint{Style.end} \\u279c create myproj{Style.end}')"
   ]
  },
  {
   "cell_type": "code",
   "execution_count": 7,
   "metadata": {},
   "outputs": [
    {
     "name": "stdout",
     "output_type": "stream",
     "text": [
      "{'x': 3, 'y': 1, 'a': 7, 'z': 14}\n"
     ]
    },
    {
     "data": {
      "text/plain": [
       "4"
      ]
     },
     "execution_count": 7,
     "metadata": {},
     "output_type": "execute_result"
    }
   ],
   "source": [
    "def add_numbers(x: int, y: int = 1, a: int = 7):\n",
    "\tz = 14\n",
    "\tprint(locals())\n",
    "\treturn x + y\n",
    "\n",
    "add_numbers(3)"
   ]
  },
  {
   "cell_type": "code",
   "execution_count": 8,
   "metadata": {},
   "outputs": [
    {
     "name": "stdout",
     "output_type": "stream",
     "text": [
      "{'x': 3, 'y': 1, 'a': 7, 'z': 14}\n"
     ]
    },
    {
     "data": {
      "text/plain": [
       "4"
      ]
     },
     "execution_count": 8,
     "metadata": {},
     "output_type": "execute_result"
    }
   ],
   "source": [
    "add_numbers(3)"
   ]
  }
 ],
 "metadata": {
  "kernelspec": {
   "display_name": "bluprint-YlnStUWz-py3.11",
   "language": "python",
   "name": "python3"
  },
  "language_info": {
   "codemirror_mode": {
    "name": "ipython",
    "version": 3
   },
   "file_extension": ".py",
   "mimetype": "text/x-python",
   "name": "python",
   "nbconvert_exporter": "python",
   "pygments_lexer": "ipython3",
   "version": "3.11.2"
  }
 },
 "nbformat": 4,
 "nbformat_minor": 2
}
