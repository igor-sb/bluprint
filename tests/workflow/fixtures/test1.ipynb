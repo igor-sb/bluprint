{
 "cells": [
  {
   "cell_type": "code",
   "execution_count": 1,
   "metadata": {
    "execution": {
     "iopub.execute_input": "2024-08-24T02:44:04.457323Z",
     "iopub.status.busy": "2024-08-24T02:44:04.455723Z",
     "iopub.status.idle": "2024-08-24T02:44:04.468680Z",
     "shell.execute_reply": "2024-08-24T02:44:04.466953Z"
    }
   },
   "outputs": [],
   "source": [
    "import time"
   ]
  },
  {
   "cell_type": "code",
   "execution_count": 2,
   "metadata": {
    "execution": {
     "iopub.execute_input": "2024-08-24T02:44:04.476854Z",
     "iopub.status.busy": "2024-08-24T02:44:04.475541Z",
     "iopub.status.idle": "2024-08-24T02:44:04.582559Z",
     "shell.execute_reply": "2024-08-24T02:44:04.581050Z"
    }
   },
   "outputs": [
    {
     "name": "stdout",
     "output_type": "stream",
     "text": [
      "Hello from test1\n"
     ]
    }
   ],
   "source": [
    "print('Hello from test1')\n",
    "time.sleep(0.1)"
   ]
  },
  {
   "cell_type": "code",
   "execution_count": 3,
   "metadata": {
    "execution": {
     "iopub.execute_input": "2024-08-24T02:44:04.696489Z",
     "iopub.status.busy": "2024-08-24T02:44:04.695350Z",
     "iopub.status.idle": "2024-08-24T02:44:04.703758Z",
     "shell.execute_reply": "2024-08-24T02:44:04.702299Z"
    }
   },
   "outputs": [
    {
     "name": "stdout",
     "output_type": "stream",
     "text": [
      "1.1\n"
     ]
    }
   ],
   "source": [
    "print(1+0.1)"
   ]
  },
  {
   "cell_type": "code",
   "execution_count": 4,
   "metadata": {
    "execution": {
     "iopub.execute_input": "2024-08-24T02:44:04.711699Z",
     "iopub.status.busy": "2024-08-24T02:44:04.710808Z",
     "iopub.status.idle": "2024-08-24T02:44:04.718512Z",
     "shell.execute_reply": "2024-08-24T02:44:04.717267Z"
    }
   },
   "outputs": [
    {
     "name": "stdout",
     "output_type": "stream",
     "text": [
      "28\n"
     ]
    }
   ],
   "source": [
    "print(2*14)"
   ]
  }
 ],
 "metadata": {
  "kernelspec": {
   "display_name": ".venv",
   "language": "python",
   "name": "python3"
  },
  "language_info": {
   "codemirror_mode": {
    "name": "ipython",
    "version": 3
   },
   "file_extension": ".py",
   "mimetype": "text/x-python",
   "name": "python",
   "nbconvert_exporter": "python",
   "pygments_lexer": "ipython3",
   "version": "3.11.9"
  }
 },
 "nbformat": 4,
 "nbformat_minor": 2
}
