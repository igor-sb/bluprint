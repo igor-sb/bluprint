{
 "cells": [
  {
   "cell_type": "code",
   "execution_count": 1,
   "metadata": {
    "execution": {
     "iopub.execute_input": "2024-08-25T18:25:59.427395Z",
     "iopub.status.busy": "2024-08-25T18:25:59.426831Z",
     "iopub.status.idle": "2024-08-25T18:25:59.435317Z",
     "shell.execute_reply": "2024-08-25T18:25:59.434361Z"
    }
   },
   "outputs": [],
   "source": [
    "import time"
   ]
  },
  {
   "cell_type": "code",
   "execution_count": 2,
   "metadata": {
    "execution": {
     "iopub.execute_input": "2024-08-25T18:25:59.439768Z",
     "iopub.status.busy": "2024-08-25T18:25:59.439273Z",
     "iopub.status.idle": "2024-08-25T18:25:59.544183Z",
     "shell.execute_reply": "2024-08-25T18:25:59.543276Z"
    }
   },
   "outputs": [
    {
     "name": "stdout",
     "output_type": "stream",
     "text": [
      "Hello from test1\n"
     ]
    }
   ],
   "source": [
    "print('Hello from test1')\n",
    "time.sleep(0.1)"
   ]
  },
  {
   "cell_type": "code",
   "execution_count": 3,
   "metadata": {
    "execution": {
     "iopub.execute_input": "2024-08-25T18:25:59.600230Z",
     "iopub.status.busy": "2024-08-25T18:25:59.599684Z",
     "iopub.status.idle": "2024-08-25T18:25:59.604745Z",
     "shell.execute_reply": "2024-08-25T18:25:59.603796Z"
    }
   },
   "outputs": [
    {
     "name": "stdout",
     "output_type": "stream",
     "text": [
      "1.1\n"
     ]
    }
   ],
   "source": [
    "print(1+0.1)"
   ]
  },
  {
   "cell_type": "code",
   "execution_count": 4,
   "metadata": {
    "execution": {
     "iopub.execute_input": "2024-08-25T18:25:59.609167Z",
     "iopub.status.busy": "2024-08-25T18:25:59.608687Z",
     "iopub.status.idle": "2024-08-25T18:25:59.613463Z",
     "shell.execute_reply": "2024-08-25T18:25:59.612540Z"
    }
   },
   "outputs": [
    {
     "name": "stdout",
     "output_type": "stream",
     "text": [
      "28\n"
     ]
    }
   ],
   "source": [
    "print(2*14)"
   ]
  }
 ],
 "metadata": {
  "kernelspec": {
   "display_name": ".venv",
   "language": "python",
   "name": "python3"
  },
  "language_info": {
   "codemirror_mode": {
    "name": "ipython",
    "version": 3
   },
   "file_extension": ".py",
   "mimetype": "text/x-python",
   "name": "python",
   "nbconvert_exporter": "python",
   "pygments_lexer": "ipython3",
   "version": "3.11.9"
  }
 },
 "nbformat": 4,
 "nbformat_minor": 2
}
