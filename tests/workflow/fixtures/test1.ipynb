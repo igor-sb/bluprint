{
 "cells": [
  {
   "cell_type": "code",
   "execution_count": 1,
   "metadata": {
    "execution": {
     "iopub.execute_input": "2023-12-20T06:01:32.573751Z",
     "iopub.status.busy": "2023-12-20T06:01:32.573245Z",
     "iopub.status.idle": "2023-12-20T06:01:32.581743Z",
     "shell.execute_reply": "2023-12-20T06:01:32.581089Z"
    }
   },
   "outputs": [],
   "source": [
    "import time"
   ]
  },
  {
   "cell_type": "code",
   "execution_count": 2,
   "metadata": {
    "execution": {
     "iopub.execute_input": "2023-12-20T06:01:32.585281Z",
     "iopub.status.busy": "2023-12-20T06:01:32.584798Z",
     "iopub.status.idle": "2023-12-20T06:01:32.694389Z",
     "shell.execute_reply": "2023-12-20T06:01:32.693327Z"
    }
   },
   "outputs": [
    {
     "name": "stdout",
     "output_type": "stream",
     "text": [
      "Hello from test1\n"
     ]
    }
   ],
   "source": [
    "print('Hello from test1')\n",
    "time.sleep(0.1)"
   ]
  },
  {
   "cell_type": "code",
   "execution_count": 3,
   "metadata": {
    "execution": {
     "iopub.execute_input": "2023-12-20T06:01:32.737955Z",
     "iopub.status.busy": "2023-12-20T06:01:32.737679Z",
     "iopub.status.idle": "2023-12-20T06:01:32.741244Z",
     "shell.execute_reply": "2023-12-20T06:01:32.740662Z"
    }
   },
   "outputs": [
    {
     "name": "stdout",
     "output_type": "stream",
     "text": [
      "1.1\n"
     ]
    }
   ],
   "source": [
    "print(1+0.1)"
   ]
  },
  {
   "cell_type": "code",
   "execution_count": 4,
   "metadata": {
    "execution": {
     "iopub.execute_input": "2023-12-20T06:01:32.744546Z",
     "iopub.status.busy": "2023-12-20T06:01:32.744270Z",
     "iopub.status.idle": "2023-12-20T06:01:32.748068Z",
     "shell.execute_reply": "2023-12-20T06:01:32.747367Z"
    }
   },
   "outputs": [
    {
     "name": "stdout",
     "output_type": "stream",
     "text": [
      "28\n"
     ]
    }
   ],
   "source": [
    "print(2*14)"
   ]
  }
 ],
 "metadata": {
  "kernelspec": {
   "display_name": ".venv",
   "language": "python",
   "name": "python3"
  },
  "language_info": {
   "codemirror_mode": {
    "name": "ipython",
    "version": 3
   },
   "file_extension": ".py",
   "mimetype": "text/x-python",
   "name": "python",
   "nbconvert_exporter": "python",
   "pygments_lexer": "ipython3",
   "version": "3.11.4"
  }
 },
 "nbformat": 4,
 "nbformat_minor": 2
}
