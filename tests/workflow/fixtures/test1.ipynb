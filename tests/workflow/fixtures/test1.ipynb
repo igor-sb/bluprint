{
 "cells": [
  {
   "cell_type": "code",
   "execution_count": 1,
   "metadata": {
    "execution": {
     "iopub.execute_input": "2023-11-24T18:44:21.990683Z",
     "iopub.status.busy": "2023-11-24T18:44:21.990400Z",
     "iopub.status.idle": "2023-11-24T18:44:21.999269Z",
     "shell.execute_reply": "2023-11-24T18:44:21.998186Z"
    }
   },
   "outputs": [],
   "source": [
    "import time"
   ]
  },
  {
   "cell_type": "code",
   "execution_count": 2,
   "metadata": {
    "execution": {
     "iopub.execute_input": "2023-11-24T18:44:22.003200Z",
     "iopub.status.busy": "2023-11-24T18:44:22.002743Z",
     "iopub.status.idle": "2023-11-24T18:44:23.007830Z",
     "shell.execute_reply": "2023-11-24T18:44:23.006721Z"
    }
   },
   "outputs": [
    {
     "name": "stdout",
     "output_type": "stream",
     "text": [
      "Hello from test1\n"
     ]
    }
   ],
   "source": [
    "time.sleep(1)\n",
    "print('Hello from test1')"
   ]
  },
  {
   "cell_type": "code",
   "execution_count": 3,
   "metadata": {
    "execution": {
     "iopub.execute_input": "2023-11-24T18:44:23.077050Z",
     "iopub.status.busy": "2023-11-24T18:44:23.076728Z",
     "iopub.status.idle": "2023-11-24T18:44:23.081583Z",
     "shell.execute_reply": "2023-11-24T18:44:23.080653Z"
    }
   },
   "outputs": [
    {
     "name": "stdout",
     "output_type": "stream",
     "text": [
      "1.1\n"
     ]
    }
   ],
   "source": [
    "print(1+0.1)"
   ]
  },
  {
   "cell_type": "code",
   "execution_count": 4,
   "metadata": {
    "execution": {
     "iopub.execute_input": "2023-11-24T18:44:23.085461Z",
     "iopub.status.busy": "2023-11-24T18:44:23.085176Z",
     "iopub.status.idle": "2023-11-24T18:44:23.089703Z",
     "shell.execute_reply": "2023-11-24T18:44:23.088773Z"
    }
   },
   "outputs": [
    {
     "name": "stdout",
     "output_type": "stream",
     "text": [
      "28\n"
     ]
    }
   ],
   "source": [
    "print(2*14)"
   ]
  }
 ],
 "metadata": {
  "kernelspec": {
   "display_name": ".venv",
   "language": "python",
   "name": "python3"
  },
  "language_info": {
   "codemirror_mode": {
    "name": "ipython",
    "version": 3
   },
   "file_extension": ".py",
   "mimetype": "text/x-python",
   "name": "python",
   "nbconvert_exporter": "python",
   "pygments_lexer": "ipython3",
   "version": "3.11.2"
  }
 },
 "nbformat": 4,
 "nbformat_minor": 2
}
