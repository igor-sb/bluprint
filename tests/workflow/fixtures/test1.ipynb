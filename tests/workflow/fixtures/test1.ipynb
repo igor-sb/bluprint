{
 "cells": [
  {
   "cell_type": "code",
   "execution_count": 1,
   "metadata": {
    "execution": {
     "iopub.execute_input": "2024-05-06T03:51:00.717247Z",
     "iopub.status.busy": "2024-05-06T03:51:00.716561Z",
     "iopub.status.idle": "2024-05-06T03:51:00.726646Z",
     "shell.execute_reply": "2024-05-06T03:51:00.725927Z"
    }
   },
   "outputs": [],
   "source": [
    "import time"
   ]
  },
  {
   "cell_type": "code",
   "execution_count": 2,
   "metadata": {
    "execution": {
     "iopub.execute_input": "2024-05-06T03:51:00.731681Z",
     "iopub.status.busy": "2024-05-06T03:51:00.731246Z",
     "iopub.status.idle": "2024-05-06T03:51:00.838198Z",
     "shell.execute_reply": "2024-05-06T03:51:00.837191Z"
    }
   },
   "outputs": [
    {
     "name": "stdout",
     "output_type": "stream",
     "text": [
      "Hello from test1\n"
     ]
    }
   ],
   "source": [
    "print('Hello from test1')\n",
    "time.sleep(0.1)"
   ]
  },
  {
   "cell_type": "code",
   "execution_count": 3,
   "metadata": {
    "execution": {
     "iopub.execute_input": "2024-05-06T03:51:00.901815Z",
     "iopub.status.busy": "2024-05-06T03:51:00.901536Z",
     "iopub.status.idle": "2024-05-06T03:51:00.905031Z",
     "shell.execute_reply": "2024-05-06T03:51:00.904356Z"
    }
   },
   "outputs": [
    {
     "name": "stdout",
     "output_type": "stream",
     "text": [
      "1.1\n"
     ]
    }
   ],
   "source": [
    "print(1+0.1)"
   ]
  },
  {
   "cell_type": "code",
   "execution_count": 4,
   "metadata": {
    "execution": {
     "iopub.execute_input": "2024-05-06T03:51:00.910765Z",
     "iopub.status.busy": "2024-05-06T03:51:00.910350Z",
     "iopub.status.idle": "2024-05-06T03:51:00.913638Z",
     "shell.execute_reply": "2024-05-06T03:51:00.913061Z"
    }
   },
   "outputs": [
    {
     "name": "stdout",
     "output_type": "stream",
     "text": [
      "28\n"
     ]
    }
   ],
   "source": [
    "print(2*14)"
   ]
  }
 ],
 "metadata": {
  "kernelspec": {
   "display_name": ".venv",
   "language": "python",
   "name": "python3"
  },
  "language_info": {
   "codemirror_mode": {
    "name": "ipython",
    "version": 3
   },
   "file_extension": ".py",
   "mimetype": "text/x-python",
   "name": "python",
   "nbconvert_exporter": "python",
   "pygments_lexer": "ipython3",
   "version": "3.11.4"
  }
 },
 "nbformat": 4,
 "nbformat_minor": 2
}
