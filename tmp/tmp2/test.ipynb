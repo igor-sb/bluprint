{
 "cells": [
  {
   "cell_type": "markdown",
   "metadata": {},
   "source": [
    "Example notebook"
   ]
  },
  {
   "cell_type": "code",
   "execution_count": 1,
   "metadata": {},
   "outputs": [],
   "source": [
    "import pandas as pd"
   ]
  },
  {
   "cell_type": "code",
   "execution_count": 6,
   "metadata": {},
   "outputs": [],
   "source": [
    "from sklearn.model_selection import train_test_split"
   ]
  },
  {
   "cell_type": "code",
   "execution_count": 4,
   "metadata": {},
   "outputs": [
    {
     "data": {
      "text/html": [
       "<div>\n",
       "<style scoped>\n",
       "    .dataframe tbody tr th:only-of-type {\n",
       "        vertical-align: middle;\n",
       "    }\n",
       "\n",
       "    .dataframe tbody tr th {\n",
       "        vertical-align: top;\n",
       "    }\n",
       "\n",
       "    .dataframe thead th {\n",
       "        text-align: right;\n",
       "    }\n",
       "</style>\n",
       "<table border=\"1\" class=\"dataframe\">\n",
       "  <thead>\n",
       "    <tr style=\"text-align: right;\">\n",
       "      <th></th>\n",
       "      <th>housing/</th>\n",
       "      <th>latitude</th>\n",
       "      <th>housing_median_age</th>\n",
       "      <th>total_rooms</th>\n",
       "      <th>total_bedrooms</th>\n",
       "      <th>population</th>\n",
       "      <th>households</th>\n",
       "      <th>median_income</th>\n",
       "      <th>median_house_value</th>\n",
       "      <th>ocean_proximity</th>\n",
       "    </tr>\n",
       "  </thead>\n",
       "  <tbody>\n",
       "    <tr>\n",
       "      <th>0</th>\n",
       "      <td>-122.23</td>\n",
       "      <td>37.88</td>\n",
       "      <td>41.0</td>\n",
       "      <td>880.0</td>\n",
       "      <td>129.0</td>\n",
       "      <td>322.0</td>\n",
       "      <td>126.0</td>\n",
       "      <td>8.3252</td>\n",
       "      <td>452600.0</td>\n",
       "      <td>NEAR BAY</td>\n",
       "    </tr>\n",
       "    <tr>\n",
       "      <th>1</th>\n",
       "      <td>-122.22</td>\n",
       "      <td>37.86</td>\n",
       "      <td>21.0</td>\n",
       "      <td>7099.0</td>\n",
       "      <td>1106.0</td>\n",
       "      <td>2401.0</td>\n",
       "      <td>1138.0</td>\n",
       "      <td>8.3014</td>\n",
       "      <td>358500.0</td>\n",
       "      <td>NEAR BAY</td>\n",
       "    </tr>\n",
       "    <tr>\n",
       "      <th>2</th>\n",
       "      <td>-122.24</td>\n",
       "      <td>37.85</td>\n",
       "      <td>52.0</td>\n",
       "      <td>1467.0</td>\n",
       "      <td>190.0</td>\n",
       "      <td>496.0</td>\n",
       "      <td>177.0</td>\n",
       "      <td>7.2574</td>\n",
       "      <td>352100.0</td>\n",
       "      <td>NEAR BAY</td>\n",
       "    </tr>\n",
       "    <tr>\n",
       "      <th>3</th>\n",
       "      <td>-122.25</td>\n",
       "      <td>37.85</td>\n",
       "      <td>52.0</td>\n",
       "      <td>1274.0</td>\n",
       "      <td>235.0</td>\n",
       "      <td>558.0</td>\n",
       "      <td>219.0</td>\n",
       "      <td>5.6431</td>\n",
       "      <td>341300.0</td>\n",
       "      <td>NEAR BAY</td>\n",
       "    </tr>\n",
       "    <tr>\n",
       "      <th>4</th>\n",
       "      <td>-122.25</td>\n",
       "      <td>37.85</td>\n",
       "      <td>52.0</td>\n",
       "      <td>1627.0</td>\n",
       "      <td>280.0</td>\n",
       "      <td>565.0</td>\n",
       "      <td>259.0</td>\n",
       "      <td>3.8462</td>\n",
       "      <td>342200.0</td>\n",
       "      <td>NEAR BAY</td>\n",
       "    </tr>\n",
       "    <tr>\n",
       "      <th>...</th>\n",
       "      <td>...</td>\n",
       "      <td>...</td>\n",
       "      <td>...</td>\n",
       "      <td>...</td>\n",
       "      <td>...</td>\n",
       "      <td>...</td>\n",
       "      <td>...</td>\n",
       "      <td>...</td>\n",
       "      <td>...</td>\n",
       "      <td>...</td>\n",
       "    </tr>\n",
       "    <tr>\n",
       "      <th>20636</th>\n",
       "      <td>-121.21</td>\n",
       "      <td>39.49</td>\n",
       "      <td>18.0</td>\n",
       "      <td>697.0</td>\n",
       "      <td>150.0</td>\n",
       "      <td>356.0</td>\n",
       "      <td>114.0</td>\n",
       "      <td>2.5568</td>\n",
       "      <td>77100.0</td>\n",
       "      <td>INLAND</td>\n",
       "    </tr>\n",
       "    <tr>\n",
       "      <th>20637</th>\n",
       "      <td>-121.22</td>\n",
       "      <td>39.43</td>\n",
       "      <td>17.0</td>\n",
       "      <td>2254.0</td>\n",
       "      <td>485.0</td>\n",
       "      <td>1007.0</td>\n",
       "      <td>433.0</td>\n",
       "      <td>1.7000</td>\n",
       "      <td>92300.0</td>\n",
       "      <td>INLAND</td>\n",
       "    </tr>\n",
       "    <tr>\n",
       "      <th>20638</th>\n",
       "      <td>-121.32</td>\n",
       "      <td>39.43</td>\n",
       "      <td>18.0</td>\n",
       "      <td>1860.0</td>\n",
       "      <td>409.0</td>\n",
       "      <td>741.0</td>\n",
       "      <td>349.0</td>\n",
       "      <td>1.8672</td>\n",
       "      <td>84700.0</td>\n",
       "      <td>INLAND</td>\n",
       "    </tr>\n",
       "    <tr>\n",
       "      <th>20639</th>\n",
       "      <td>-121.24</td>\n",
       "      <td>39.37</td>\n",
       "      <td>16.0</td>\n",
       "      <td>2785.0</td>\n",
       "      <td>616.0</td>\n",
       "      <td>1387.0</td>\n",
       "      <td>530.0</td>\n",
       "      <td>2.3886</td>\n",
       "      <td>89400.0</td>\n",
       "      <td>INLAND</td>\n",
       "    </tr>\n",
       "    <tr>\n",
       "      <th>20640</th>\n",
       "      <td>NaN</td>\n",
       "      <td>NaN</td>\n",
       "      <td>NaN</td>\n",
       "      <td>NaN</td>\n",
       "      <td>NaN</td>\n",
       "      <td>NaN</td>\n",
       "      <td>NaN</td>\n",
       "      <td>NaN</td>\n",
       "      <td>NaN</td>\n",
       "      <td>NaN</td>\n",
       "    </tr>\n",
       "  </tbody>\n",
       "</table>\n",
       "<p>20641 rows × 10 columns</p>\n",
       "</div>"
      ],
      "text/plain": [
       "       housing/  latitude  housing_median_age  total_rooms  total_bedrooms  \\\n",
       "0       -122.23     37.88                41.0        880.0           129.0   \n",
       "1       -122.22     37.86                21.0       7099.0          1106.0   \n",
       "2       -122.24     37.85                52.0       1467.0           190.0   \n",
       "3       -122.25     37.85                52.0       1274.0           235.0   \n",
       "4       -122.25     37.85                52.0       1627.0           280.0   \n",
       "...         ...       ...                 ...          ...             ...   \n",
       "20636   -121.21     39.49                18.0        697.0           150.0   \n",
       "20637   -121.22     39.43                17.0       2254.0           485.0   \n",
       "20638   -121.32     39.43                18.0       1860.0           409.0   \n",
       "20639   -121.24     39.37                16.0       2785.0           616.0   \n",
       "20640       NaN       NaN                 NaN          NaN             NaN   \n",
       "\n",
       "       population  households  median_income  median_house_value  \\\n",
       "0           322.0       126.0         8.3252            452600.0   \n",
       "1          2401.0      1138.0         8.3014            358500.0   \n",
       "2           496.0       177.0         7.2574            352100.0   \n",
       "3           558.0       219.0         5.6431            341300.0   \n",
       "4           565.0       259.0         3.8462            342200.0   \n",
       "...           ...         ...            ...                 ...   \n",
       "20636       356.0       114.0         2.5568             77100.0   \n",
       "20637      1007.0       433.0         1.7000             92300.0   \n",
       "20638       741.0       349.0         1.8672             84700.0   \n",
       "20639      1387.0       530.0         2.3886             89400.0   \n",
       "20640         NaN         NaN            NaN                 NaN   \n",
       "\n",
       "      ocean_proximity  \n",
       "0            NEAR BAY  \n",
       "1            NEAR BAY  \n",
       "2            NEAR BAY  \n",
       "3            NEAR BAY  \n",
       "4            NEAR BAY  \n",
       "...               ...  \n",
       "20636          INLAND  \n",
       "20637          INLAND  \n",
       "20638          INLAND  \n",
       "20639          INLAND  \n",
       "20640             NaN  \n",
       "\n",
       "[20641 rows x 10 columns]"
      ]
     },
     "execution_count": 4,
     "metadata": {},
     "output_type": "execute_result"
    }
   ],
   "source": [
    "housing_raw_df = pd.read_csv('https://github.com/ageron/data/raw/main/housing.tgz', compression='gzip')\n",
    "housing_raw_df"
   ]
  },
  {
   "cell_type": "code",
   "execution_count": null,
   "metadata": {},
   "outputs": [],
   "source": []
  },
  {
   "cell_type": "code",
   "execution_count": 6,
   "metadata": {
    "execution": {
     "iopub.execute_input": "2023-11-04T20:37:58.961452Z",
     "iopub.status.busy": "2023-11-04T20:37:58.961137Z",
     "iopub.status.idle": "2023-11-04T20:37:59.215188Z",
     "shell.execute_reply": "2023-11-04T20:37:59.214169Z"
    }
   },
   "outputs": [],
   "source": [
    "import importlib\n",
    "import os\n",
    "\n",
    "import pandas as pd\n",
    "\n",
    "import bluprint as bp"
   ]
  },
  {
   "cell_type": "code",
   "execution_count": 7,
   "metadata": {
    "execution": {
     "iopub.execute_input": "2023-11-04T20:37:59.218450Z",
     "iopub.status.busy": "2023-11-04T20:37:59.217929Z",
     "iopub.status.idle": "2023-11-04T20:37:59.225733Z",
     "shell.execute_reply": "2023-11-04T20:37:59.224767Z"
    }
   },
   "outputs": [
    {
     "name": "stdout",
     "output_type": "stream",
     "text": [
      "   index  name\n",
      "0      0  Igor\n",
      "1      1  Egor\n"
     ]
    }
   ],
   "source": [
    "df = pd.DataFrame({'index': [0, 1], 'name': ['Igor', 'Egor']})\n",
    "\n",
    "print(df)"
   ]
  },
  {
   "cell_type": "code",
   "execution_count": 8,
   "metadata": {},
   "outputs": [],
   "source": [
    "%%bash\n",
    "\n",
    "# samtools"
   ]
  },
  {
   "cell_type": "code",
   "execution_count": 10,
   "metadata": {},
   "outputs": [
    {
     "data": {
      "text/plain": [
       "MultiplexedPath('/Users/igor/repos/bluprint/data')"
      ]
     },
     "execution_count": 10,
     "metadata": {},
     "output_type": "execute_result"
    }
   ],
   "source": [
    "data_files = importlib.resources.files('data')\n",
    "\n",
    "data_files"
   ]
  },
  {
   "cell_type": "code",
   "execution_count": 11,
   "metadata": {},
   "outputs": [
    {
     "name": "stdout",
     "output_type": "stream",
     "text": [
      "*\n",
      "/Users/igor/repos/bluprint/data/a_and_b/a_and_b_transformed.csv\n",
      " dirs: []\n",
      " filename: a_and_b_transformed.csv\n",
      "/Users/igor/repos/bluprint/data/a_and_b/a_and_b_raw.csv\n",
      " dirs: []\n",
      " filename: a_and_b_raw.csv\n",
      "/Users/igor/repos/bluprint/data/a_and_b/a_and_b_summarized.csv\n",
      " dirs: []\n",
      " filename: a_and_b_summarized.csv\n",
      "*\n",
      "/Users/igor/repos/bluprint/data/transformed/table2.csv\n",
      " dirs: []\n",
      " filename: table2.csv\n",
      "*\n",
      "/Users/igor/repos/bluprint/data/raw/table1.csv\n",
      " dirs: []\n",
      " filename: table1.csv\n"
     ]
    }
   ],
   "source": [
    "\n",
    "for root, dirs, files in os.walk(data_files.joinpath('')):\n",
    "    if files:\n",
    "        print('*')\n",
    "        for filename in files:\n",
    "            print(os.path.join(root, filename))\n",
    "            print(f' dirs: {dirs}')\n",
    "            print(f' filename: {filename}')"
   ]
  },
  {
   "cell_type": "code",
   "execution_count": null,
   "metadata": {},
   "outputs": [
    {
     "data": {
      "text/plain": [
       "MultiplexedPath('/home/igor/repos/bluprint/data')"
      ]
     },
     "execution_count": 15,
     "metadata": {},
     "output_type": "execute_result"
    }
   ],
   "source": [
    "data_files"
   ]
  },
  {
   "cell_type": "markdown",
   "metadata": {},
   "source": [
    "```\n",
    "# importlib.resources.files('data')for x in .iterdir():\n",
    "# \tprint(x)\n",
    "# \tprint(type(x))\n",
    "# if files:\n",
    "# \tprint('*')\n",
    "# \tprint(root)\n",
    "# \tprint(dirs)\n",
    "# \tprint(files)\n",
    "```"
   ]
  },
  {
   "cell_type": "code",
   "execution_count": null,
   "metadata": {},
   "outputs": [],
   "source": [
    "import shutil"
   ]
  },
  {
   "cell_type": "code",
   "execution_count": null,
   "metadata": {},
   "outputs": [],
   "source": [
    "\"\"\"Wrapper for .\"\"\"\n",
    "\n",
    "from dataclasses import dataclass\n",
    "import subprocess  # noqa: S404\n",
    "\n",
    "@dataclass\n",
    "class Executable:\n",
    "\targs: list[str]\n",
    "\n",
    "\tdef run(self) -> str:\n",
    "\t\tcheck_if_executable_is_installed(self.args[0])\n",
    "\t\tout = subprocess.run(self.args, capture_output=True)\n",
    "\t\tif out.stderr != b'':\n",
    "\t\t\traise RuntimeError(out.stderr.decode('UTF-8'))\n",
    "\t\treturn out.stdout.decode('UTF-8')\n",
    "\n",
    "def check_if_executable_is_installed(executable: str) -> None:\n",
    "\tif not shutil.which(executable):\n",
    "\t\traise ValueError(f'Executable not found: {executable}')\n",
    "\t"
   ]
  },
  {
   "cell_type": "code",
   "execution_count": null,
   "metadata": {},
   "outputs": [
    {
     "name": "stdout",
     "output_type": "stream",
     "text": [
      "Poetry (version 1.5.1)\n",
      "\n"
     ]
    }
   ],
   "source": [
    "print(Executable(['poetry', '-V']).run())"
   ]
  },
  {
   "cell_type": "code",
   "execution_count": null,
   "metadata": {},
   "outputs": [],
   "source": [
    "import logging\n",
    "\n",
    "logging.basicConfig(format='%(levelname)s: %(message)s', level=logging.INFO)"
   ]
  },
  {
   "cell_type": "code",
   "execution_count": null,
   "metadata": {},
   "outputs": [
    {
     "name": "stderr",
     "output_type": "stream",
     "text": [
      "INFO: Found \"poetry\" executable.\n",
      "INFO: Found \"gh\" executable.\n",
      "INFO: Found \"git\" executable.\n"
     ]
    }
   ],
   "source": [
    "for exec in ['poetry', 'gh', 'git']:\n",
    "\tcheck_if_executable_is_installed(exec)\n",
    "\tlogging.info(f'Found \"{exec}\" executable.')"
   ]
  },
  {
   "cell_type": "code",
   "execution_count": null,
   "metadata": {},
   "outputs": [],
   "source": [
    "os.makedirs('tmp3/tmp4')"
   ]
  },
  {
   "cell_type": "code",
   "execution_count": null,
   "metadata": {},
   "outputs": [],
   "source": [
    "import yaml"
   ]
  },
  {
   "cell_type": "code",
   "execution_count": null,
   "metadata": {},
   "outputs": [
    {
     "data": {
      "text/plain": [
       "{'a_and_b': ['preprocess',\n",
       "  'preprocess -> summarize -> plot',\n",
       "  'preprocess -> plot']}"
      ]
     },
     "execution_count": 13,
     "metadata": {},
     "output_type": "execute_result"
    }
   ],
   "source": [
    "with open('workflow.yaml') as yaml_file:\n",
    "\td = yaml.safe_load(yaml_file)\n",
    "d"
   ]
  },
  {
   "cell_type": "code",
   "execution_count": 2,
   "metadata": {},
   "outputs": [],
   "source": [
    "import importlib\n",
    "from pathlib import PosixPath\n",
    "from omegaconf import DictConfig, OmegaConf\n",
    "from functools import reduce\n",
    "\n",
    "\n",
    "def add_prefix_to_nested_values(conf: DictConfig, prefix: str) -> None:\n",
    "    for key, value in conf.items():\n",
    "        if isinstance(value, DictConfig):\n",
    "            add_prefix_to_nested_values(value, prefix)\n",
    "        else:\n",
    "            conf[key] = f'{prefix}{value}'\n",
    "\n",
    "\n",
    "def load_data_yaml(config_file: str = 'data.yaml') -> DictConfig:\n",
    "    conf_dir: PosixPath = importlib.resources.files('conf')\n",
    "    conf = OmegaConf.load(str(conf_dir.joinpath(config_file)))\n",
    "    add_prefix_to_nested_values(\n",
    "        conf,\n",
    "        str(importlib.resources.files('data').joinpath('')),\n",
    "    )\n",
    "    return conf\n",
    "\n",
    "\n",
    "def load_config_yaml(config_file: str = 'config.yaml') -> DictConfig:\n",
    "    conf_dir: PosixPath = importlib.resources.files('conf')\n",
    "    return OmegaConf.load(str(conf_dir.joinpath(config_file)))\n"
   ]
  },
  {
   "cell_type": "code",
   "execution_count": 9,
   "metadata": {},
   "outputs": [
    {
     "name": "stdout",
     "output_type": "stream",
     "text": [
      "{'a_and_b': {'raw': 'a_and_b/raw.csv', 'summarized': 'a_and_b/summarized.csv', 'transformed': 'a_and_b/transformed.csv'}}\n"
     ]
    }
   ],
   "source": [
    "import importlib\n",
    "from pathlib import PosixPath\n",
    "from omegaconf import OmegaConf, DictConfig\n",
    "from copy import deepcopy\n",
    "\n",
    "conf_dir: PosixPath = importlib.resources.files('conf')\n",
    "\n",
    "cfg = OmegaConf.load(conf_dir.joinpath('data.yaml'))\n",
    "print(cfg)"
   ]
  },
  {
   "cell_type": "code",
   "execution_count": 52,
   "metadata": {},
   "outputs": [],
   "source": [
    "import shutil\n",
    "\n",
    "def check_if_executable_is_installed(executable: str) -> None:\n",
    "    if not shutil.which(executable):\n",
    "        raise ValueError(f'Executable not found: {executable}')\n",
    "\n",
    "\n",
    "def latest_python_version() -> str:\n",
    "    check_if_executable_is_installed('pyenv')\n",
    "    python_version = subprocess.run(\n",
    "        '{pyenv} | {grep} | {tail}'.format(\n",
    "            pyenv='pyenv install -l',\n",
    "            grep=r'grep -E \"\\s[0-9]+\\.[0-9]+\\.[0-9]+$\"',\n",
    "            tail='tail -n 1',\n",
    "        ),\n",
    "        capture_output=True,\n",
    "        shell=True,  # noqa: S602\n",
    "    )\n",
    "    return python_version.stdout.decode('UTF-8').strip()"
   ]
  },
  {
   "cell_type": "code",
   "execution_count": 53,
   "metadata": {},
   "outputs": [
    {
     "data": {
      "text/plain": [
       "'3.11.2'"
      ]
     },
     "execution_count": 53,
     "metadata": {},
     "output_type": "execute_result"
    }
   ],
   "source": [
    "latest_python_version()"
   ]
  },
  {
   "cell_type": "code",
   "execution_count": 25,
   "metadata": {},
   "outputs": [
    {
     "data": {
      "text/plain": [
       "{'groups': {'g1': {'opt11': 1, 'opt12': 'a'}, 'opt2': 'b'}}"
      ]
     },
     "execution_count": 25,
     "metadata": {},
     "output_type": "execute_result"
    }
   ],
   "source": [
    "true_yaml"
   ]
  },
  {
   "cell_type": "code",
   "execution_count": 34,
   "metadata": {},
   "outputs": [
    {
     "data": {
      "text/plain": [
       "PosixPath('/home/igor/repos/bluprint/tests/test.yaml')"
      ]
     },
     "execution_count": 34,
     "metadata": {},
     "output_type": "execute_result"
    }
   ],
   "source": [
    "importlib.resources.files('tests').joinpath('') / 'test.yaml'"
   ]
  },
  {
   "cell_type": "code",
   "execution_count": 18,
   "metadata": {},
   "outputs": [],
   "source": [
    "def add_prefix_to_nested_config(conf: DictConfig, prefix: str) -> None:\n",
    "    config = deepcopy(conf)\n",
    "    for key, sub_config in conf.items():\n",
    "        if isinstance(sub_config, DictConfig):\n",
    "            config[key] = add_prefix_to_nested_config(sub_config, prefix)\n",
    "        else:\n",
    "            config[key] = f'{prefix}{sub_config}'\n",
    "    return config"
   ]
  },
  {
   "cell_type": "code",
   "execution_count": 58,
   "metadata": {},
   "outputs": [],
   "source": [
    "import inspect"
   ]
  },
  {
   "cell_type": "code",
   "execution_count": 66,
   "metadata": {},
   "outputs": [
    {
     "data": {
      "text/plain": [
       "PosixPath('/home/igor/repos/bluprint/demo/example_notebook.ipynb')"
      ]
     },
     "execution_count": 66,
     "metadata": {},
     "output_type": "execute_result"
    }
   ],
   "source": [
    "importlib.resources.files('demo').joinpath('example_notebook.ipynb')"
   ]
  },
  {
   "cell_type": "code",
   "execution_count": 60,
   "metadata": {},
   "outputs": [
    {
     "name": "stdout",
     "output_type": "stream",
     "text": [
      "def load_data_yaml(\n",
      "        config_file: str = 'data.yaml',\n",
      "        conf_dir: str = 'conf',\n",
      "        data_dir: str = 'data',\n",
      ") -> DictConfig:\n",
      "    conf_dir: PosixPath = importlib.resources.files(conf_dir)\n",
      "    conf = OmegaConf.load(conf_dir.joinpath(config_file))\n",
      "    data_path = str(importlib.resources.files(data_dir).joinpath(''))\n",
      "    return add_prefix_to_nested_config(conf, prefix=data_path)\n",
      "\n"
     ]
    }
   ],
   "source": [
    "print(inspect.getsource(load_data_yaml))"
   ]
  },
  {
   "cell_type": "code",
   "execution_count": 37,
   "metadata": {},
   "outputs": [],
   "source": [
    "def load_data_yaml(\n",
    "        config_file: str = 'data.yaml',\n",
    "        conf_dir: str = 'conf',\n",
    "        data_dir: str = 'data',\n",
    ") -> DictConfig:\n",
    "    conf_dir: PosixPath = importlib.resources.files(conf_dir)\n",
    "    conf = OmegaConf.load(conf_dir.joinpath(config_file))\n",
    "    data_path = str(importlib.resources.files(data_dir).joinpath(''))\n",
    "    return add_prefix_to_nested_config(conf, prefix=data_path)"
   ]
  },
  {
   "cell_type": "code",
   "execution_count": 57,
   "metadata": {},
   "outputs": [
    {
     "data": {
      "text/plain": [
       "<code object load_data_yaml at 0x7fd72f2b1a30, file \"/tmp/ipykernel_1280/2051320417.py\", line 1>"
      ]
     },
     "execution_count": 57,
     "metadata": {},
     "output_type": "execute_result"
    }
   ],
   "source": [
    "load_data_yaml.__code__"
   ]
  },
  {
   "cell_type": "code",
   "execution_count": 38,
   "metadata": {},
   "outputs": [
    {
     "data": {
      "text/plain": [
       "{'groups': {'g1': {'opt11': '/home/igor/repos/bluprint/data1', 'opt12': '/home/igor/repos/bluprint/dataa'}, 'opt2': '/home/igor/repos/bluprint/datab'}}"
      ]
     },
     "execution_count": 38,
     "metadata": {},
     "output_type": "execute_result"
    }
   ],
   "source": [
    "load_data_yaml('test.yaml', 'tests')"
   ]
  },
  {
   "cell_type": "code",
   "execution_count": 26,
   "metadata": {},
   "outputs": [
    {
     "data": {
      "text/plain": [
       "{'groups': {'g1': {'opt11': '///1', 'opt12': '///a'}, 'opt2': '///b'}}"
      ]
     },
     "execution_count": 26,
     "metadata": {},
     "output_type": "execute_result"
    }
   ],
   "source": [
    "add_prefix_to_nested_config(true_yaml, '///')"
   ]
  },
  {
   "cell_type": "code",
   "execution_count": 39,
   "metadata": {},
   "outputs": [],
   "source": [
    "import subprocess"
   ]
  },
  {
   "cell_type": "code",
   "execution_count": 44,
   "metadata": {},
   "outputs": [
    {
     "ename": "ModuleNotFoundError",
     "evalue": "No module named 'sh'",
     "output_type": "error",
     "traceback": [
      "\u001b[0;31m---------------------------------------------------------------------------\u001b[0m",
      "\u001b[0;31mModuleNotFoundError\u001b[0m                       Traceback (most recent call last)",
      "\u001b[1;32m/home/igor/repos/bluprint/tmp/tmp2/test.ipynb Cell 31\u001b[0m line \u001b[0;36m1\n\u001b[0;32m----> <a href='vscode-notebook-cell://wsl%2Bubuntu-20.04/home/igor/repos/bluprint/tmp/tmp2/test.ipynb#Y103sdnNjb2RlLXJlbW90ZQ%3D%3D?line=0'>1</a>\u001b[0m \u001b[39mimport\u001b[39;00m \u001b[39msh\u001b[39;00m\n",
      "\u001b[0;31mModuleNotFoundError\u001b[0m: No module named 'sh'"
     ]
    }
   ],
   "source": [
    "import sh"
   ]
  },
  {
   "cell_type": "code",
   "execution_count": 42,
   "metadata": {},
   "outputs": [],
   "source": [
    "out = subprocess.run(['pyenv', 'latest', '3'], capture_output=True)"
   ]
  },
  {
   "cell_type": "code",
   "execution_count": 43,
   "metadata": {},
   "outputs": [
    {
     "data": {
      "text/plain": [
       "CompletedProcess(args=['pyenv', 'latest', '3'], returncode=0, stdout=b'3.11.2\\n', stderr=b'')"
      ]
     },
     "execution_count": 43,
     "metadata": {},
     "output_type": "execute_result"
    }
   ],
   "source": [
    "out"
   ]
  },
  {
   "cell_type": "code",
   "execution_count": 20,
   "metadata": {},
   "outputs": [
    {
     "data": {
      "text/plain": [
       "{'a_and_b': {'raw': 'a_and_b/raw.csv', 'summarized': 'a_and_b/summarized.csv', 'transformed': 'a_and_b/transformed.csv'}}"
      ]
     },
     "execution_count": 20,
     "metadata": {},
     "output_type": "execute_result"
    }
   ],
   "source": [
    "cfg"
   ]
  },
  {
   "cell_type": "code",
   "execution_count": 5,
   "metadata": {},
   "outputs": [],
   "source": [
    "tmp = load_config_yaml()"
   ]
  }
 ],
 "metadata": {
  "kernelspec": {
   "display_name": "bluprint-YlnStUWz-py3.11",
   "language": "python",
   "name": "python3"
  },
  "language_info": {
   "codemirror_mode": {
    "name": "ipython",
    "version": 3
   },
   "file_extension": ".py",
   "mimetype": "text/x-python",
   "name": "python",
   "nbconvert_exporter": "python",
   "pygments_lexer": "ipython3",
   "version": "3.11.2"
  }
 },
 "nbformat": 4,
 "nbformat_minor": 2
}
