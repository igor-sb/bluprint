{
 "cells": [
  {
   "cell_type": "markdown",
   "metadata": {},
   "source": [
    "Example notebook"
   ]
  },
  {
   "cell_type": "code",
   "execution_count": 1,
   "metadata": {},
   "outputs": [
    {
     "data": {
      "text/plain": [
       "{'groups': {'g1': {'opt11': 1, 'opt12': 'a'}, 'opt2': '/b/', 'opt3': ['c', 'd']}, 'list': ['1', '2', {'3': ['/a/3a', '3b/3b2', '3c', 's3://example-bucket/path/to/object']}]}"
      ]
     },
     "execution_count": 1,
     "metadata": {},
     "output_type": "execute_result"
    }
   ],
   "source": [
    "from omegaconf import OmegaConf\n",
    "from bluprint.config import add_prefix_to_nested_config, load_config_yaml, load_data_yaml\n",
    "from pprint import PrettyPrinter\n",
    "from importlib import resources\n",
    "from pathlib import Path, PurePath\n",
    "\n",
    "pp = PrettyPrinter(indent=4)\n",
    "\n",
    "test_conf = load_config_yaml('test.yaml', config_dir='tests/yaml/fixtures')\n",
    "test_conf"
   ]
  },
  {
   "cell_type": "code",
   "execution_count": 2,
   "metadata": {},
   "outputs": [],
   "source": [
    "def contains_uri_advanced(input_string):\n",
    "    # Use urlparse to check if the string contains a valid URI\n",
    "    try:\n",
    "        result = urlparse(input_string)\n",
    "        return all([result.scheme, result.netloc])\n",
    "    except ValueError:\n",
    "        return False"
   ]
  },
  {
   "cell_type": "code",
   "execution_count": 3,
   "metadata": {},
   "outputs": [
    {
     "ename": "AttributeError",
     "evalue": "'int' object has no attribute 'decode'",
     "output_type": "error",
     "traceback": [
      "\u001b[0;31m---------------------------------------------------------------------------\u001b[0m",
      "\u001b[0;31mAttributeError\u001b[0m                            Traceback (most recent call last)",
      "\u001b[1;32m/home/igor/repos/bluprint/tmp/tmp2/test.ipynb Cell 4\u001b[0m line \u001b[0;36m1\n\u001b[0;32m----> <a href='vscode-notebook-cell://wsl%2Bubuntu-20.04/home/igor/repos/bluprint/tmp/tmp2/test.ipynb#X46sdnNjb2RlLXJlbW90ZQ%3D%3D?line=0'>1</a>\u001b[0m x \u001b[39m=\u001b[39m add_prefix_to_nested_config(test_conf, \u001b[39m'\u001b[39;49m\u001b[39m/xyz/\u001b[39;49m\u001b[39m'\u001b[39;49m)\n\u001b[1;32m      <a href='vscode-notebook-cell://wsl%2Bubuntu-20.04/home/igor/repos/bluprint/tmp/tmp2/test.ipynb#X46sdnNjb2RlLXJlbW90ZQ%3D%3D?line=1'>2</a>\u001b[0m x\n",
      "File \u001b[0;32m~/repos/bluprint/bluprint/config.py:25\u001b[0m, in \u001b[0;36madd_prefix_to_nested_config\u001b[0;34m(conf, prefix)\u001b[0m\n\u001b[1;32m     23\u001b[0m     \u001b[39mreturn\u001b[39;00m [recurse_or_add_suffix(conf_value) \u001b[39mfor\u001b[39;00m conf_value \u001b[39min\u001b[39;00m conf]\n\u001b[1;32m     24\u001b[0m \u001b[39melif\u001b[39;00m \u001b[39misinstance\u001b[39m(conf, DictConfig):\n\u001b[0;32m---> 25\u001b[0m     \u001b[39mreturn\u001b[39;00m OmegaConf\u001b[39m.\u001b[39mcreate({\n\u001b[1;32m     26\u001b[0m         conf_key: recurse_or_add_suffix(conf_values)\n\u001b[1;32m     27\u001b[0m         \u001b[39mfor\u001b[39;49;00m conf_key, conf_values \u001b[39min\u001b[39;49;00m conf\u001b[39m.\u001b[39;49mitems()\n\u001b[1;32m     28\u001b[0m     })\n",
      "File \u001b[0;32m~/repos/bluprint/bluprint/config.py:26\u001b[0m, in \u001b[0;36m<dictcomp>\u001b[0;34m(.0)\u001b[0m\n\u001b[1;32m     23\u001b[0m     \u001b[39mreturn\u001b[39;00m [recurse_or_add_suffix(conf_value) \u001b[39mfor\u001b[39;00m conf_value \u001b[39min\u001b[39;00m conf]\n\u001b[1;32m     24\u001b[0m \u001b[39melif\u001b[39;00m \u001b[39misinstance\u001b[39m(conf, DictConfig):\n\u001b[1;32m     25\u001b[0m     \u001b[39mreturn\u001b[39;00m OmegaConf\u001b[39m.\u001b[39mcreate({\n\u001b[0;32m---> 26\u001b[0m         conf_key: recurse_or_add_suffix(conf_values)\n\u001b[1;32m     27\u001b[0m         \u001b[39mfor\u001b[39;00m conf_key, conf_values \u001b[39min\u001b[39;00m conf\u001b[39m.\u001b[39mitems()\n\u001b[1;32m     28\u001b[0m     })\n",
      "File \u001b[0;32m~/repos/bluprint/bluprint/config.py:17\u001b[0m, in \u001b[0;36madd_prefix_to_nested_config.<locals>.recurse_or_add_suffix\u001b[0;34m(conf_value)\u001b[0m\n\u001b[1;32m     15\u001b[0m \u001b[39mdef\u001b[39;00m \u001b[39mrecurse_or_add_suffix\u001b[39m(conf_value: Any) \u001b[39m-\u001b[39m\u001b[39m>\u001b[39m Any:\n\u001b[1;32m     16\u001b[0m     \u001b[39mif\u001b[39;00m \u001b[39misinstance\u001b[39m(conf_value, DictConfig \u001b[39m|\u001b[39m ListConfig):\n\u001b[0;32m---> 17\u001b[0m         \u001b[39mreturn\u001b[39;00m add_prefix_to_nested_config(conf_value, prefix)\n\u001b[1;32m     18\u001b[0m     \u001b[39mif\u001b[39;00m _is_abs_path(conf_value) \u001b[39mor\u001b[39;00m _is_uri(conf_value):\n\u001b[1;32m     19\u001b[0m         \u001b[39mreturn\u001b[39;00m conf_value\n",
      "File \u001b[0;32m~/repos/bluprint/bluprint/config.py:25\u001b[0m, in \u001b[0;36madd_prefix_to_nested_config\u001b[0;34m(conf, prefix)\u001b[0m\n\u001b[1;32m     23\u001b[0m     \u001b[39mreturn\u001b[39;00m [recurse_or_add_suffix(conf_value) \u001b[39mfor\u001b[39;00m conf_value \u001b[39min\u001b[39;00m conf]\n\u001b[1;32m     24\u001b[0m \u001b[39melif\u001b[39;00m \u001b[39misinstance\u001b[39m(conf, DictConfig):\n\u001b[0;32m---> 25\u001b[0m     \u001b[39mreturn\u001b[39;00m OmegaConf\u001b[39m.\u001b[39mcreate({\n\u001b[1;32m     26\u001b[0m         conf_key: recurse_or_add_suffix(conf_values)\n\u001b[1;32m     27\u001b[0m         \u001b[39mfor\u001b[39;49;00m conf_key, conf_values \u001b[39min\u001b[39;49;00m conf\u001b[39m.\u001b[39;49mitems()\n\u001b[1;32m     28\u001b[0m     })\n",
      "File \u001b[0;32m~/repos/bluprint/bluprint/config.py:26\u001b[0m, in \u001b[0;36m<dictcomp>\u001b[0;34m(.0)\u001b[0m\n\u001b[1;32m     23\u001b[0m     \u001b[39mreturn\u001b[39;00m [recurse_or_add_suffix(conf_value) \u001b[39mfor\u001b[39;00m conf_value \u001b[39min\u001b[39;00m conf]\n\u001b[1;32m     24\u001b[0m \u001b[39melif\u001b[39;00m \u001b[39misinstance\u001b[39m(conf, DictConfig):\n\u001b[1;32m     25\u001b[0m     \u001b[39mreturn\u001b[39;00m OmegaConf\u001b[39m.\u001b[39mcreate({\n\u001b[0;32m---> 26\u001b[0m         conf_key: recurse_or_add_suffix(conf_values)\n\u001b[1;32m     27\u001b[0m         \u001b[39mfor\u001b[39;00m conf_key, conf_values \u001b[39min\u001b[39;00m conf\u001b[39m.\u001b[39mitems()\n\u001b[1;32m     28\u001b[0m     })\n",
      "File \u001b[0;32m~/repos/bluprint/bluprint/config.py:17\u001b[0m, in \u001b[0;36madd_prefix_to_nested_config.<locals>.recurse_or_add_suffix\u001b[0;34m(conf_value)\u001b[0m\n\u001b[1;32m     15\u001b[0m \u001b[39mdef\u001b[39;00m \u001b[39mrecurse_or_add_suffix\u001b[39m(conf_value: Any) \u001b[39m-\u001b[39m\u001b[39m>\u001b[39m Any:\n\u001b[1;32m     16\u001b[0m     \u001b[39mif\u001b[39;00m \u001b[39misinstance\u001b[39m(conf_value, DictConfig \u001b[39m|\u001b[39m ListConfig):\n\u001b[0;32m---> 17\u001b[0m         \u001b[39mreturn\u001b[39;00m add_prefix_to_nested_config(conf_value, prefix)\n\u001b[1;32m     18\u001b[0m     \u001b[39mif\u001b[39;00m _is_abs_path(conf_value) \u001b[39mor\u001b[39;00m _is_uri(conf_value):\n\u001b[1;32m     19\u001b[0m         \u001b[39mreturn\u001b[39;00m conf_value\n",
      "File \u001b[0;32m~/repos/bluprint/bluprint/config.py:25\u001b[0m, in \u001b[0;36madd_prefix_to_nested_config\u001b[0;34m(conf, prefix)\u001b[0m\n\u001b[1;32m     23\u001b[0m     \u001b[39mreturn\u001b[39;00m [recurse_or_add_suffix(conf_value) \u001b[39mfor\u001b[39;00m conf_value \u001b[39min\u001b[39;00m conf]\n\u001b[1;32m     24\u001b[0m \u001b[39melif\u001b[39;00m \u001b[39misinstance\u001b[39m(conf, DictConfig):\n\u001b[0;32m---> 25\u001b[0m     \u001b[39mreturn\u001b[39;00m OmegaConf\u001b[39m.\u001b[39mcreate({\n\u001b[1;32m     26\u001b[0m         conf_key: recurse_or_add_suffix(conf_values)\n\u001b[1;32m     27\u001b[0m         \u001b[39mfor\u001b[39;49;00m conf_key, conf_values \u001b[39min\u001b[39;49;00m conf\u001b[39m.\u001b[39;49mitems()\n\u001b[1;32m     28\u001b[0m     })\n",
      "File \u001b[0;32m~/repos/bluprint/bluprint/config.py:26\u001b[0m, in \u001b[0;36m<dictcomp>\u001b[0;34m(.0)\u001b[0m\n\u001b[1;32m     23\u001b[0m     \u001b[39mreturn\u001b[39;00m [recurse_or_add_suffix(conf_value) \u001b[39mfor\u001b[39;00m conf_value \u001b[39min\u001b[39;00m conf]\n\u001b[1;32m     24\u001b[0m \u001b[39melif\u001b[39;00m \u001b[39misinstance\u001b[39m(conf, DictConfig):\n\u001b[1;32m     25\u001b[0m     \u001b[39mreturn\u001b[39;00m OmegaConf\u001b[39m.\u001b[39mcreate({\n\u001b[0;32m---> 26\u001b[0m         conf_key: recurse_or_add_suffix(conf_values)\n\u001b[1;32m     27\u001b[0m         \u001b[39mfor\u001b[39;00m conf_key, conf_values \u001b[39min\u001b[39;00m conf\u001b[39m.\u001b[39mitems()\n\u001b[1;32m     28\u001b[0m     })\n",
      "File \u001b[0;32m~/repos/bluprint/bluprint/config.py:18\u001b[0m, in \u001b[0;36madd_prefix_to_nested_config.<locals>.recurse_or_add_suffix\u001b[0;34m(conf_value)\u001b[0m\n\u001b[1;32m     16\u001b[0m \u001b[39mif\u001b[39;00m \u001b[39misinstance\u001b[39m(conf_value, DictConfig \u001b[39m|\u001b[39m ListConfig):\n\u001b[1;32m     17\u001b[0m     \u001b[39mreturn\u001b[39;00m add_prefix_to_nested_config(conf_value, prefix)\n\u001b[0;32m---> 18\u001b[0m \u001b[39mif\u001b[39;00m _is_abs_path(conf_value) \u001b[39mor\u001b[39;00m _is_uri(conf_value):\n\u001b[1;32m     19\u001b[0m     \u001b[39mreturn\u001b[39;00m conf_value\n\u001b[1;32m     20\u001b[0m \u001b[39mreturn\u001b[39;00m \u001b[39mstr\u001b[39m(Path(prefix) \u001b[39m/\u001b[39m \u001b[39mstr\u001b[39m(conf_value))\n",
      "File \u001b[0;32m~/repos/bluprint/bluprint/config.py:36\u001b[0m, in \u001b[0;36m_is_uri\u001b[0;34m(value)\u001b[0m\n\u001b[1;32m     35\u001b[0m \u001b[39mdef\u001b[39;00m \u001b[39m_is_uri\u001b[39m(value: Any) \u001b[39m-\u001b[39m\u001b[39m>\u001b[39m \u001b[39mbool\u001b[39m:\n\u001b[0;32m---> 36\u001b[0m     result \u001b[39m=\u001b[39m urlparse(value)\n\u001b[1;32m     37\u001b[0m     \u001b[39mreturn\u001b[39;00m \u001b[39mall\u001b[39m([result\u001b[39m.\u001b[39mscheme, result\u001b[39m.\u001b[39mnetloc])\n",
      "File \u001b[0;32m~/.pyenv/versions/3.11.2/lib/python3.11/urllib/parse.py:385\u001b[0m, in \u001b[0;36murlparse\u001b[0;34m(url, scheme, allow_fragments)\u001b[0m\n\u001b[1;32m    365\u001b[0m \u001b[39mdef\u001b[39;00m \u001b[39murlparse\u001b[39m(url, scheme\u001b[39m=\u001b[39m\u001b[39m'\u001b[39m\u001b[39m'\u001b[39m, allow_fragments\u001b[39m=\u001b[39m\u001b[39mTrue\u001b[39;00m):\n\u001b[1;32m    366\u001b[0m \u001b[39m    \u001b[39m\u001b[39m\"\"\"Parse a URL into 6 components:\u001b[39;00m\n\u001b[1;32m    367\u001b[0m \u001b[39m    <scheme>://<netloc>/<path>;<params>?<query>#<fragment>\u001b[39;00m\n\u001b[1;32m    368\u001b[0m \n\u001b[0;32m   (...)\u001b[0m\n\u001b[1;32m    383\u001b[0m \u001b[39m    Note that % escapes are not expanded.\u001b[39;00m\n\u001b[1;32m    384\u001b[0m \u001b[39m    \"\"\"\u001b[39;00m\n\u001b[0;32m--> 385\u001b[0m     url, scheme, _coerce_result \u001b[39m=\u001b[39m _coerce_args(url, scheme)\n\u001b[1;32m    386\u001b[0m     splitresult \u001b[39m=\u001b[39m urlsplit(url, scheme, allow_fragments)\n\u001b[1;32m    387\u001b[0m     scheme, netloc, url, query, fragment \u001b[39m=\u001b[39m splitresult\n",
      "File \u001b[0;32m~/.pyenv/versions/3.11.2/lib/python3.11/urllib/parse.py:124\u001b[0m, in \u001b[0;36m_coerce_args\u001b[0;34m(*args)\u001b[0m\n\u001b[1;32m    122\u001b[0m \u001b[39mif\u001b[39;00m str_input:\n\u001b[1;32m    123\u001b[0m     \u001b[39mreturn\u001b[39;00m args \u001b[39m+\u001b[39m (_noop,)\n\u001b[0;32m--> 124\u001b[0m \u001b[39mreturn\u001b[39;00m _decode_args(args) \u001b[39m+\u001b[39m (_encode_result,)\n",
      "File \u001b[0;32m~/.pyenv/versions/3.11.2/lib/python3.11/urllib/parse.py:108\u001b[0m, in \u001b[0;36m_decode_args\u001b[0;34m(args, encoding, errors)\u001b[0m\n\u001b[1;32m    106\u001b[0m \u001b[39mdef\u001b[39;00m \u001b[39m_decode_args\u001b[39m(args, encoding\u001b[39m=\u001b[39m_implicit_encoding,\n\u001b[1;32m    107\u001b[0m                        errors\u001b[39m=\u001b[39m_implicit_errors):\n\u001b[0;32m--> 108\u001b[0m     \u001b[39mreturn\u001b[39;00m \u001b[39mtuple\u001b[39;49m(x\u001b[39m.\u001b[39;49mdecode(encoding, errors) \u001b[39mif\u001b[39;49;00m x \u001b[39melse\u001b[39;49;00m \u001b[39m'\u001b[39;49m\u001b[39m'\u001b[39;49m \u001b[39mfor\u001b[39;49;00m x \u001b[39min\u001b[39;49;00m args)\n",
      "File \u001b[0;32m~/.pyenv/versions/3.11.2/lib/python3.11/urllib/parse.py:108\u001b[0m, in \u001b[0;36m<genexpr>\u001b[0;34m(.0)\u001b[0m\n\u001b[1;32m    106\u001b[0m \u001b[39mdef\u001b[39;00m \u001b[39m_decode_args\u001b[39m(args, encoding\u001b[39m=\u001b[39m_implicit_encoding,\n\u001b[1;32m    107\u001b[0m                        errors\u001b[39m=\u001b[39m_implicit_errors):\n\u001b[0;32m--> 108\u001b[0m     \u001b[39mreturn\u001b[39;00m \u001b[39mtuple\u001b[39m(x\u001b[39m.\u001b[39;49mdecode(encoding, errors) \u001b[39mif\u001b[39;00m x \u001b[39melse\u001b[39;00m \u001b[39m'\u001b[39m\u001b[39m'\u001b[39m \u001b[39mfor\u001b[39;00m x \u001b[39min\u001b[39;00m args)\n",
      "\u001b[0;31mAttributeError\u001b[0m: 'int' object has no attribute 'decode'"
     ]
    }
   ],
   "source": [
    "x = add_prefix_to_nested_config(test_conf, '/xyz/')\n",
    "x"
   ]
  },
  {
   "cell_type": "code",
   "execution_count": null,
   "metadata": {},
   "outputs": [
    {
     "name": "stdout",
     "output_type": "stream",
     "text": [
      "{   'groups': {'g1': {'opt11': '/xyz/1', 'opt12': '/xyz/a'}, 'opt2': '/b/', 'opt3': ['/xyz/c', '/xyz/d']},\n",
      "    'list': ['/xyz/1', '/xyz/2', {'3': ['/a/3a', '/xyz/3b/3b2', '/xyz/3c', '/xyz/s3:/example-bucket/path/to/object']}]}\n"
     ]
    }
   ],
   "source": [
    "pp.pprint(dict(x))"
   ]
  },
  {
   "cell_type": "code",
   "execution_count": null,
   "metadata": {},
   "outputs": [
    {
     "data": {
      "text/plain": [
       "ParseResult(scheme='https', netloc='example.com', path='', params='', query='', fragment='')"
      ]
     },
     "execution_count": 10,
     "metadata": {},
     "output_type": "execute_result"
    }
   ],
   "source": [
    "from urllib.parse import urlparse\n",
    "\n",
    "urlparse('https://example.com')"
   ]
  },
  {
   "cell_type": "code",
   "execution_count": null,
   "metadata": {},
   "outputs": [
    {
     "data": {
      "text/plain": [
       "ParseResult(scheme='file', netloc='example.com', path='', params='', query='', fragment='')"
      ]
     },
     "execution_count": 14,
     "metadata": {},
     "output_type": "execute_result"
    }
   ],
   "source": [
    "urlparse('file://example.com')"
   ]
  },
  {
   "cell_type": "code",
   "execution_count": null,
   "metadata": {},
   "outputs": [
    {
     "data": {
      "text/plain": [
       "'/home/igor/repos/bluprint/tests'"
      ]
     },
     "execution_count": 4,
     "metadata": {},
     "output_type": "execute_result"
    }
   ],
   "source": [
    "str(resources.files('tests').joinpath(''))"
   ]
  },
  {
   "cell_type": "code",
   "execution_count": null,
   "metadata": {},
   "outputs": [
    {
     "data": {
      "text/plain": [
       "PosixPath('tests/yaml/fixtures')"
      ]
     },
     "execution_count": 5,
     "metadata": {},
     "output_type": "execute_result"
    }
   ],
   "source": [
    "Path('tests') / 'yaml' / 'fixtures'"
   ]
  },
  {
   "cell_type": "code",
   "execution_count": null,
   "metadata": {},
   "outputs": [
    {
     "data": {
      "text/plain": [
       "{'groups': {'g1': {'opt11': '/home/igor/repos/bluprint/tests/1', 'opt12': '/home/igor/repos/bluprint/tests/a'}, 'opt2': '/b/', 'opt3': ['/home/igor/repos/bluprint/tests/c', '/home/igor/repos/bluprint/tests/d']}, 'list': ['/home/igor/repos/bluprint/tests/1', '/home/igor/repos/bluprint/tests/2', {'3': ['/a/3a', '/home/igor/repos/bluprint/tests/3b/3b2', '/home/igor/repos/bluprint/tests/3c', '/home/igor/repos/bluprint/tests/s3:/example-bucket/path/to/object']}]}"
      ]
     },
     "execution_count": 6,
     "metadata": {},
     "output_type": "execute_result"
    }
   ],
   "source": [
    "load_data_yaml(\n",
    "        'test.yaml',\n",
    "        config_dir=Path('tests') / 'yaml' / 'fixtures',\n",
    "        data_dir='tests',\n",
    "    )"
   ]
  },
  {
   "cell_type": "code",
   "execution_count": null,
   "metadata": {},
   "outputs": [],
   "source": [
    " x = load_config_yaml(\n",
    "        'prefixed_test.yaml',\n",
    "        config_dir=Path('tests') / 'yaml' / 'snapshots',\n",
    "    )"
   ]
  },
  {
   "cell_type": "code",
   "execution_count": null,
   "metadata": {},
   "outputs": [
    {
     "data": {
      "text/plain": [
       "dict"
      ]
     },
     "execution_count": 8,
     "metadata": {},
     "output_type": "execute_result"
    }
   ],
   "source": [
    "type(dict(x))\n"
   ]
  }
 ],
 "metadata": {
  "kernelspec": {
   "display_name": "bluprint-YlnStUWz-py3.11",
   "language": "python",
   "name": "python3"
  },
  "language_info": {
   "codemirror_mode": {
    "name": "ipython",
    "version": 3
   },
   "file_extension": ".py",
   "mimetype": "text/x-python",
   "name": "python",
   "nbconvert_exporter": "python",
   "pygments_lexer": "ipython3",
   "version": "3.11.2"
  }
 },
 "nbformat": 4,
 "nbformat_minor": 2
}
