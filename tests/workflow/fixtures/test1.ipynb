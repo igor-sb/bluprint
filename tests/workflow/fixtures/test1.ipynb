{
 "cells": [
  {
   "cell_type": "code",
   "execution_count": 1,
   "metadata": {
    "execution": {
     "iopub.execute_input": "2023-12-20T07:27:25.523347Z",
     "iopub.status.busy": "2023-12-20T07:27:25.522691Z",
     "iopub.status.idle": "2023-12-20T07:27:25.533184Z",
     "shell.execute_reply": "2023-12-20T07:27:25.532003Z"
    }
   },
   "outputs": [],
   "source": [
    "import time"
   ]
  },
  {
   "cell_type": "code",
   "execution_count": 2,
   "metadata": {
    "execution": {
     "iopub.execute_input": "2023-12-20T07:27:25.538568Z",
     "iopub.status.busy": "2023-12-20T07:27:25.538258Z",
     "iopub.status.idle": "2023-12-20T07:27:25.645802Z",
     "shell.execute_reply": "2023-12-20T07:27:25.645111Z"
    }
   },
   "outputs": [
    {
     "name": "stdout",
     "output_type": "stream",
     "text": [
      "Hello from test1\n"
     ]
    }
   ],
   "source": [
    "print('Hello from test1')\n",
    "time.sleep(0.1)"
   ]
  },
  {
   "cell_type": "code",
   "execution_count": 3,
   "metadata": {
    "execution": {
     "iopub.execute_input": "2023-12-20T07:27:25.704009Z",
     "iopub.status.busy": "2023-12-20T07:27:25.703727Z",
     "iopub.status.idle": "2023-12-20T07:27:25.707366Z",
     "shell.execute_reply": "2023-12-20T07:27:25.706632Z"
    }
   },
   "outputs": [
    {
     "name": "stdout",
     "output_type": "stream",
     "text": [
      "1.1\n"
     ]
    }
   ],
   "source": [
    "print(1+0.1)"
   ]
  },
  {
   "cell_type": "code",
   "execution_count": 4,
   "metadata": {
    "execution": {
     "iopub.execute_input": "2023-12-20T07:27:25.713089Z",
     "iopub.status.busy": "2023-12-20T07:27:25.712779Z",
     "iopub.status.idle": "2023-12-20T07:27:25.717063Z",
     "shell.execute_reply": "2023-12-20T07:27:25.715996Z"
    }
   },
   "outputs": [
    {
     "name": "stdout",
     "output_type": "stream",
     "text": [
      "28\n"
     ]
    }
   ],
   "source": [
    "print(2*14)"
   ]
  }
 ],
 "metadata": {
  "kernelspec": {
   "display_name": ".venv",
   "language": "python",
   "name": "python3"
  },
  "language_info": {
   "codemirror_mode": {
    "name": "ipython",
    "version": 3
   },
   "file_extension": ".py",
   "mimetype": "text/x-python",
   "name": "python",
   "nbconvert_exporter": "python",
   "pygments_lexer": "ipython3",
   "version": "3.11.4"
  }
 },
 "nbformat": 4,
 "nbformat_minor": 2
}
