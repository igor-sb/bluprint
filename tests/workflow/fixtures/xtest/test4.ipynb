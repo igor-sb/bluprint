{
 "cells": [
  {
   "cell_type": "code",
   "execution_count": 1,
   "metadata": {
    "execution": {
     "iopub.execute_input": "2023-12-07T04:17:42.017109Z",
     "iopub.status.busy": "2023-12-07T04:17:42.016210Z",
     "iopub.status.idle": "2023-12-07T04:17:42.026585Z",
     "shell.execute_reply": "2023-12-07T04:17:42.025584Z"
    }
   },
   "outputs": [
    {
     "name": "stdout",
     "output_type": "stream",
     "text": [
      "Hello from test4!\n"
     ]
    }
   ],
   "source": [
    "print('Hello from test4!')"
   ]
  }
 ],
 "metadata": {
  "kernelspec": {
   "display_name": ".venv",
   "language": "python",
   "name": "python3"
  },
  "language_info": {
   "codemirror_mode": {
    "name": "ipython",
    "version": 3
   },
   "file_extension": ".py",
   "mimetype": "text/x-python",
   "name": "python",
   "nbconvert_exporter": "python",
   "pygments_lexer": "ipython3",
   "version": "3.11.2"
  }
 },
 "nbformat": 4,
 "nbformat_minor": 2
}
