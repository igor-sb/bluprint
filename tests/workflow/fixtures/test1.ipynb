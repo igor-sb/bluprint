{
 "cells": [
  {
   "cell_type": "code",
   "execution_count": 1,
   "metadata": {
    "execution": {
     "iopub.execute_input": "2023-12-07T04:17:33.522640Z",
     "iopub.status.busy": "2023-12-07T04:17:33.522207Z",
     "iopub.status.idle": "2023-12-07T04:17:33.532156Z",
     "shell.execute_reply": "2023-12-07T04:17:33.531182Z"
    }
   },
   "outputs": [],
   "source": [
    "import time"
   ]
  },
  {
   "cell_type": "code",
   "execution_count": 2,
   "metadata": {
    "execution": {
     "iopub.execute_input": "2023-12-07T04:17:33.536536Z",
     "iopub.status.busy": "2023-12-07T04:17:33.536001Z",
     "iopub.status.idle": "2023-12-07T04:17:33.641437Z",
     "shell.execute_reply": "2023-12-07T04:17:33.639997Z"
    }
   },
   "outputs": [
    {
     "name": "stdout",
     "output_type": "stream",
     "text": [
      "Hello from test1\n"
     ]
    }
   ],
   "source": [
    "print('Hello from test1')\n",
    "time.sleep(0.1)"
   ]
  },
  {
   "cell_type": "code",
   "execution_count": 3,
   "metadata": {
    "execution": {
     "iopub.execute_input": "2023-12-07T04:17:33.703815Z",
     "iopub.status.busy": "2023-12-07T04:17:33.702912Z",
     "iopub.status.idle": "2023-12-07T04:17:33.707856Z",
     "shell.execute_reply": "2023-12-07T04:17:33.706909Z"
    }
   },
   "outputs": [
    {
     "name": "stdout",
     "output_type": "stream",
     "text": [
      "1.1\n"
     ]
    }
   ],
   "source": [
    "print(1+0.1)"
   ]
  },
  {
   "cell_type": "code",
   "execution_count": 4,
   "metadata": {
    "execution": {
     "iopub.execute_input": "2023-12-07T04:17:33.711811Z",
     "iopub.status.busy": "2023-12-07T04:17:33.711360Z",
     "iopub.status.idle": "2023-12-07T04:17:33.716568Z",
     "shell.execute_reply": "2023-12-07T04:17:33.715288Z"
    }
   },
   "outputs": [
    {
     "name": "stdout",
     "output_type": "stream",
     "text": [
      "28\n"
     ]
    }
   ],
   "source": [
    "print(2*14)"
   ]
  }
 ],
 "metadata": {
  "kernelspec": {
   "display_name": ".venv",
   "language": "python",
   "name": "python3"
  },
  "language_info": {
   "codemirror_mode": {
    "name": "ipython",
    "version": 3
   },
   "file_extension": ".py",
   "mimetype": "text/x-python",
   "name": "python",
   "nbconvert_exporter": "python",
   "pygments_lexer": "ipython3",
   "version": "3.11.2"
  }
 },
 "nbformat": 4,
 "nbformat_minor": 2
}
