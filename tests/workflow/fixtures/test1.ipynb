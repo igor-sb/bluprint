{
 "cells": [
  {
   "cell_type": "code",
   "execution_count": 1,
   "metadata": {
    "execution": {
     "iopub.execute_input": "2023-11-24T05:58:25.362592Z",
     "iopub.status.busy": "2023-11-24T05:58:25.361990Z",
     "iopub.status.idle": "2023-11-24T05:58:25.371635Z",
     "shell.execute_reply": "2023-11-24T05:58:25.370616Z"
    }
   },
   "outputs": [],
   "source": [
    "import time"
   ]
  },
  {
   "cell_type": "code",
   "execution_count": 2,
   "metadata": {
    "execution": {
     "iopub.execute_input": "2023-11-24T05:58:25.376123Z",
     "iopub.status.busy": "2023-11-24T05:58:25.375563Z",
     "iopub.status.idle": "2023-11-24T05:58:26.380528Z",
     "shell.execute_reply": "2023-11-24T05:58:26.379559Z"
    }
   },
   "outputs": [
    {
     "name": "stdout",
     "output_type": "stream",
     "text": [
      "Hello from test1\n"
     ]
    }
   ],
   "source": [
    "time.sleep(1)\n",
    "print('Hello from test1')"
   ]
  },
  {
   "cell_type": "code",
   "execution_count": 3,
   "metadata": {
    "execution": {
     "iopub.execute_input": "2023-11-24T05:58:26.437582Z",
     "iopub.status.busy": "2023-11-24T05:58:26.436999Z",
     "iopub.status.idle": "2023-11-24T05:58:26.442009Z",
     "shell.execute_reply": "2023-11-24T05:58:26.441035Z"
    }
   },
   "outputs": [
    {
     "name": "stdout",
     "output_type": "stream",
     "text": [
      "1.1\n"
     ]
    }
   ],
   "source": [
    "print(1+0.1)"
   ]
  },
  {
   "cell_type": "code",
   "execution_count": 4,
   "metadata": {
    "execution": {
     "iopub.execute_input": "2023-11-24T05:58:26.446495Z",
     "iopub.status.busy": "2023-11-24T05:58:26.446008Z",
     "iopub.status.idle": "2023-11-24T05:58:26.451027Z",
     "shell.execute_reply": "2023-11-24T05:58:26.450079Z"
    }
   },
   "outputs": [
    {
     "name": "stdout",
     "output_type": "stream",
     "text": [
      "28\n"
     ]
    }
   ],
   "source": [
    "print(2*14)"
   ]
  }
 ],
 "metadata": {
  "kernelspec": {
   "display_name": ".venv",
   "language": "python",
   "name": "python3"
  },
  "language_info": {
   "codemirror_mode": {
    "name": "ipython",
    "version": 3
   },
   "file_extension": ".py",
   "mimetype": "text/x-python",
   "name": "python",
   "nbconvert_exporter": "python",
   "pygments_lexer": "ipython3",
   "version": "3.11.2"
  }
 },
 "nbformat": 4,
 "nbformat_minor": 2
}
