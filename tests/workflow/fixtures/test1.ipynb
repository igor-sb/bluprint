{
 "cells": [
  {
   "cell_type": "code",
   "execution_count": 1,
   "metadata": {
    "execution": {
     "iopub.execute_input": "2024-08-25T18:35:35.721445Z",
     "iopub.status.busy": "2024-08-25T18:35:35.720900Z",
     "iopub.status.idle": "2024-08-25T18:35:35.729343Z",
     "shell.execute_reply": "2024-08-25T18:35:35.728294Z"
    }
   },
   "outputs": [],
   "source": [
    "import time"
   ]
  },
  {
   "cell_type": "code",
   "execution_count": 2,
   "metadata": {
    "execution": {
     "iopub.execute_input": "2024-08-25T18:35:35.733967Z",
     "iopub.status.busy": "2024-08-25T18:35:35.733354Z",
     "iopub.status.idle": "2024-08-25T18:35:35.838392Z",
     "shell.execute_reply": "2024-08-25T18:35:35.837354Z"
    }
   },
   "outputs": [
    {
     "name": "stdout",
     "output_type": "stream",
     "text": [
      "Hello from test1\n"
     ]
    }
   ],
   "source": [
    "print('Hello from test1')\n",
    "time.sleep(0.1)"
   ]
  },
  {
   "cell_type": "code",
   "execution_count": 3,
   "metadata": {
    "execution": {
     "iopub.execute_input": "2024-08-25T18:35:35.897449Z",
     "iopub.status.busy": "2024-08-25T18:35:35.896846Z",
     "iopub.status.idle": "2024-08-25T18:35:35.901944Z",
     "shell.execute_reply": "2024-08-25T18:35:35.900997Z"
    }
   },
   "outputs": [
    {
     "name": "stdout",
     "output_type": "stream",
     "text": [
      "1.1\n"
     ]
    }
   ],
   "source": [
    "print(1+0.1)"
   ]
  },
  {
   "cell_type": "code",
   "execution_count": 4,
   "metadata": {
    "execution": {
     "iopub.execute_input": "2024-08-25T18:35:35.906248Z",
     "iopub.status.busy": "2024-08-25T18:35:35.905753Z",
     "iopub.status.idle": "2024-08-25T18:35:35.910480Z",
     "shell.execute_reply": "2024-08-25T18:35:35.909536Z"
    }
   },
   "outputs": [
    {
     "name": "stdout",
     "output_type": "stream",
     "text": [
      "28\n"
     ]
    }
   ],
   "source": [
    "print(2*14)"
   ]
  }
 ],
 "metadata": {
  "kernelspec": {
   "display_name": ".venv",
   "language": "python",
   "name": "python3"
  },
  "language_info": {
   "codemirror_mode": {
    "name": "ipython",
    "version": 3
   },
   "file_extension": ".py",
   "mimetype": "text/x-python",
   "name": "python",
   "nbconvert_exporter": "python",
   "pygments_lexer": "ipython3",
   "version": "3.11.9"
  }
 },
 "nbformat": 4,
 "nbformat_minor": 2
}
