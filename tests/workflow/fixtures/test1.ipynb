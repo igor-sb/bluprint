{
 "cells": [
  {
   "cell_type": "code",
   "execution_count": 1,
   "metadata": {
    "execution": {
     "iopub.execute_input": "2023-12-02T06:00:37.693270Z",
     "iopub.status.busy": "2023-12-02T06:00:37.692996Z",
     "iopub.status.idle": "2023-12-02T06:00:37.701983Z",
     "shell.execute_reply": "2023-12-02T06:00:37.701301Z"
    }
   },
   "outputs": [],
   "source": [
    "import time"
   ]
  },
  {
   "cell_type": "code",
   "execution_count": 2,
   "metadata": {
    "execution": {
     "iopub.execute_input": "2023-12-02T06:00:37.706520Z",
     "iopub.status.busy": "2023-12-02T06:00:37.705940Z",
     "iopub.status.idle": "2023-12-02T06:00:37.811235Z",
     "shell.execute_reply": "2023-12-02T06:00:37.810247Z"
    }
   },
   "outputs": [
    {
     "name": "stdout",
     "output_type": "stream",
     "text": [
      "Hello from test1\n"
     ]
    }
   ],
   "source": [
    "print('Hello from test1')\n",
    "time.sleep(0.1)"
   ]
  },
  {
   "cell_type": "code",
   "execution_count": 3,
   "metadata": {
    "execution": {
     "iopub.execute_input": "2023-12-02T06:00:37.880882Z",
     "iopub.status.busy": "2023-12-02T06:00:37.880599Z",
     "iopub.status.idle": "2023-12-02T06:00:37.885527Z",
     "shell.execute_reply": "2023-12-02T06:00:37.884336Z"
    }
   },
   "outputs": [
    {
     "name": "stdout",
     "output_type": "stream",
     "text": [
      "1.1\n"
     ]
    }
   ],
   "source": [
    "print(1+0.1)"
   ]
  },
  {
   "cell_type": "code",
   "execution_count": 4,
   "metadata": {
    "execution": {
     "iopub.execute_input": "2023-12-02T06:00:37.891886Z",
     "iopub.status.busy": "2023-12-02T06:00:37.891463Z",
     "iopub.status.idle": "2023-12-02T06:00:37.895882Z",
     "shell.execute_reply": "2023-12-02T06:00:37.895297Z"
    }
   },
   "outputs": [
    {
     "name": "stdout",
     "output_type": "stream",
     "text": [
      "28\n"
     ]
    }
   ],
   "source": [
    "print(2*14)"
   ]
  }
 ],
 "metadata": {
  "kernelspec": {
   "display_name": ".venv",
   "language": "python",
   "name": "python3"
  },
  "language_info": {
   "codemirror_mode": {
    "name": "ipython",
    "version": 3
   },
   "file_extension": ".py",
   "mimetype": "text/x-python",
   "name": "python",
   "nbconvert_exporter": "python",
   "pygments_lexer": "ipython3",
   "version": "3.11.2"
  }
 },
 "nbformat": 4,
 "nbformat_minor": 2
}
