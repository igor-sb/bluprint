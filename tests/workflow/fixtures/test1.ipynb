{
 "cells": [
  {
   "cell_type": "code",
   "execution_count": 1,
   "metadata": {
    "execution": {
     "iopub.execute_input": "2024-05-06T01:33:51.769232Z",
     "iopub.status.busy": "2024-05-06T01:33:51.768911Z",
     "iopub.status.idle": "2024-05-06T01:33:51.778755Z",
     "shell.execute_reply": "2024-05-06T01:33:51.777929Z"
    }
   },
   "outputs": [],
   "source": [
    "import time"
   ]
  },
  {
   "cell_type": "code",
   "execution_count": 2,
   "metadata": {
    "execution": {
     "iopub.execute_input": "2024-05-06T01:33:51.783817Z",
     "iopub.status.busy": "2024-05-06T01:33:51.783508Z",
     "iopub.status.idle": "2024-05-06T01:33:51.891784Z",
     "shell.execute_reply": "2024-05-06T01:33:51.890743Z"
    }
   },
   "outputs": [
    {
     "name": "stdout",
     "output_type": "stream",
     "text": [
      "Hello from test1\n"
     ]
    }
   ],
   "source": [
    "print('Hello from test1')\n",
    "time.sleep(0.1)"
   ]
  },
  {
   "cell_type": "code",
   "execution_count": 3,
   "metadata": {
    "execution": {
     "iopub.execute_input": "2024-05-06T01:33:51.956490Z",
     "iopub.status.busy": "2024-05-06T01:33:51.956128Z",
     "iopub.status.idle": "2024-05-06T01:33:51.960045Z",
     "shell.execute_reply": "2024-05-06T01:33:51.959331Z"
    }
   },
   "outputs": [
    {
     "name": "stdout",
     "output_type": "stream",
     "text": [
      "1.1\n"
     ]
    }
   ],
   "source": [
    "print(1+0.1)"
   ]
  },
  {
   "cell_type": "code",
   "execution_count": 4,
   "metadata": {
    "execution": {
     "iopub.execute_input": "2024-05-06T01:33:51.966225Z",
     "iopub.status.busy": "2024-05-06T01:33:51.965930Z",
     "iopub.status.idle": "2024-05-06T01:33:51.969676Z",
     "shell.execute_reply": "2024-05-06T01:33:51.969042Z"
    }
   },
   "outputs": [
    {
     "name": "stdout",
     "output_type": "stream",
     "text": [
      "28\n"
     ]
    }
   ],
   "source": [
    "print(2*14)"
   ]
  }
 ],
 "metadata": {
  "kernelspec": {
   "display_name": ".venv",
   "language": "python",
   "name": "python3"
  },
  "language_info": {
   "codemirror_mode": {
    "name": "ipython",
    "version": 3
   },
   "file_extension": ".py",
   "mimetype": "text/x-python",
   "name": "python",
   "nbconvert_exporter": "python",
   "pygments_lexer": "ipython3",
   "version": "3.11.4"
  }
 },
 "nbformat": 4,
 "nbformat_minor": 2
}
